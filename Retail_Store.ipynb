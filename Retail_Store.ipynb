{
 "cells": [
  {
   "cell_type": "markdown",
   "metadata": {
    "id": "3b_gw9MxL1mw"
   },
   "source": [
    "To predict the sales of retail stores based on features like state, category of outlet, product identifier etc.,"
   ]
  },
  {
   "cell_type": "code",
   "execution_count": 1,
   "metadata": {
    "id": "P7piFXdi0xwA"
   },
   "outputs": [],
   "source": [
    "# importing the neccessary libraries\n",
    "import os\n",
    "import pandas as pd\n",
    "import numpy as np\n",
    "import seaborn as sns \n",
    "import matplotlib.pyplot as plt\n",
    "from scipy import stats\n",
    "from scipy.stats import skew,norm\n",
    "\n",
    "import warnings\n",
    "warnings.filterwarnings(\"ignore\")"
   ]
  },
  {
   "cell_type": "code",
   "execution_count": 2,
   "metadata": {
    "id": "_21v1IVs1erw"
   },
   "outputs": [],
   "source": [
    "# reading the  data\n",
    "train=pd.read_csv(\"train_data.csv\")\n",
    "date=pd.read_csv(\"date_to_week_id_map.csv\")\n",
    "product=pd.read_csv(\"product_prices.csv\")\n",
    "test=pd.read_csv(\"test_data.csv\")"
   ]
  },
  {
   "cell_type": "code",
   "execution_count": 3,
   "metadata": {
    "colab": {
     "base_uri": "https://localhost:8080/"
    },
    "id": "sS8VNfKp1eoQ",
    "outputId": "cdc88a95-a1c0-4810-8149-1fbfae38a66e"
   },
   "outputs": [
    {
     "data": {
      "text/plain": [
       "Index(['date', 'product_identifier', 'department_identifier',\n",
       "       'category_of_product', 'outlet', 'state', 'sales'],\n",
       "      dtype='object')"
      ]
     },
     "execution_count": 3,
     "metadata": {},
     "output_type": "execute_result"
    }
   ],
   "source": [
    "train.columns"
   ]
  },
  {
   "cell_type": "code",
   "execution_count": 4,
   "metadata": {
    "colab": {
     "base_uri": "https://localhost:8080/"
    },
    "id": "9avxl2IK1elL",
    "outputId": "1e2c9bb5-0c5d-4942-a828-ebbbf4005bd0"
   },
   "outputs": [
    {
     "data": {
      "text/plain": [
       "Index(['date', 'week_id'], dtype='object')"
      ]
     },
     "execution_count": 4,
     "metadata": {},
     "output_type": "execute_result"
    }
   ],
   "source": [
    "date.columns"
   ]
  },
  {
   "cell_type": "code",
   "execution_count": 5,
   "metadata": {
    "colab": {
     "base_uri": "https://localhost:8080/"
    },
    "id": "C3JuyEdD1eh_",
    "outputId": "fd9beb72-84e1-45e8-83e2-675cea82f5da"
   },
   "outputs": [
    {
     "data": {
      "text/plain": [
       "Index(['outlet', 'product_identifier', 'week_id', 'sell_price'], dtype='object')"
      ]
     },
     "execution_count": 5,
     "metadata": {},
     "output_type": "execute_result"
    }
   ],
   "source": [
    "product.columns"
   ]
  },
  {
   "cell_type": "code",
   "execution_count": 6,
   "metadata": {
    "colab": {
     "base_uri": "https://localhost:8080/"
    },
    "id": "EZTa7-Zl1ee6",
    "outputId": "a4731781-4888-4de7-9274-1c6b3f5460ca"
   },
   "outputs": [
    {
     "data": {
      "text/plain": [
       "Index(['id', 'date', 'product_identifier', 'department_identifier',\n",
       "       'category_of_product', 'outlet', 'state'],\n",
       "      dtype='object')"
      ]
     },
     "execution_count": 6,
     "metadata": {},
     "output_type": "execute_result"
    }
   ],
   "source": [
    "test.columns"
   ]
  },
  {
   "cell_type": "markdown",
   "metadata": {
    "id": "rD5oWLcK2sgu"
   },
   "source": [
    "EXPLORATORY DATA ANALYSIS"
   ]
  },
  {
   "cell_type": "code",
   "execution_count": 7,
   "metadata": {
    "colab": {
     "base_uri": "https://localhost:8080/"
    },
    "id": "kWvp17rN1eb4",
    "outputId": "d8601bb8-5795-41a2-dc2e-424a34e55273"
   },
   "outputs": [
    {
     "data": {
      "text/plain": [
       "(395000, 7)"
      ]
     },
     "execution_count": 7,
     "metadata": {},
     "output_type": "execute_result"
    }
   ],
   "source": [
    "train.shape"
   ]
  },
  {
   "cell_type": "code",
   "execution_count": 8,
   "metadata": {
    "colab": {
     "base_uri": "https://localhost:8080/"
    },
    "id": "dhasoSfS1eYt",
    "outputId": "7d69303e-7a79-4b60-cd50-af4512fb7619"
   },
   "outputs": [
    {
     "data": {
      "text/plain": [
       "(821, 2)"
      ]
     },
     "execution_count": 8,
     "metadata": {},
     "output_type": "execute_result"
    }
   ],
   "source": [
    "date.shape"
   ]
  },
  {
   "cell_type": "code",
   "execution_count": 9,
   "metadata": {
    "colab": {
     "base_uri": "https://localhost:8080/"
    },
    "id": "5K_c_llOGl8O",
    "outputId": "c4aa3b81-6703-4688-a001-3f4ea7822d06"
   },
   "outputs": [
    {
     "data": {
      "text/plain": [
       "(59000, 4)"
      ]
     },
     "execution_count": 9,
     "metadata": {},
     "output_type": "execute_result"
    }
   ],
   "source": [
    "product.shape"
   ]
  },
  {
   "cell_type": "code",
   "execution_count": 10,
   "metadata": {
    "colab": {
     "base_uri": "https://localhost:8080/"
    },
    "id": "AdRXR2BdGpCQ",
    "outputId": "c93eff44-6d24-40da-b84b-7bcf8ad76948"
   },
   "outputs": [
    {
     "data": {
      "text/plain": [
       "date                     790\n",
       "product_identifier        50\n",
       "department_identifier      6\n",
       "category_of_product        3\n",
       "outlet                    10\n",
       "state                      3\n",
       "sales                    126\n",
       "dtype: int64"
      ]
     },
     "execution_count": 10,
     "metadata": {},
     "output_type": "execute_result"
    }
   ],
   "source": [
    "train.nunique()"
   ]
  },
  {
   "cell_type": "code",
   "execution_count": 11,
   "metadata": {
    "colab": {
     "base_uri": "https://localhost:8080/"
    },
    "id": "Ws58peu2G4_R",
    "outputId": "19e4d6e7-8cf5-48d2-a2d5-da4143cc5c27"
   },
   "outputs": [
    {
     "data": {
      "text/plain": [
       "date       821\n",
       "week_id    118\n",
       "dtype: int64"
      ]
     },
     "execution_count": 11,
     "metadata": {},
     "output_type": "execute_result"
    }
   ],
   "source": [
    "date.nunique()"
   ]
  },
  {
   "cell_type": "code",
   "execution_count": 12,
   "metadata": {
    "colab": {
     "base_uri": "https://localhost:8080/"
    },
    "id": "wCVufSxYG9Sx",
    "outputId": "a984e950-d1fd-4e7d-8043-e122e820b696"
   },
   "outputs": [
    {
     "data": {
      "text/plain": [
       "outlet                 10\n",
       "product_identifier     50\n",
       "week_id               118\n",
       "sell_price            112\n",
       "dtype: int64"
      ]
     },
     "execution_count": 12,
     "metadata": {},
     "output_type": "execute_result"
    }
   ],
   "source": [
    "product.nunique()"
   ]
  },
  {
   "cell_type": "code",
   "execution_count": 13,
   "metadata": {
    "colab": {
     "base_uri": "https://localhost:8080/"
    },
    "id": "0xFcWxHNHBAn",
    "outputId": "9f68b1ed-3d4c-4f2b-9a26-3f5ab166e553"
   },
   "outputs": [
    {
     "name": "stdout",
     "output_type": "stream",
     "text": [
      "<class 'pandas.core.frame.DataFrame'>\n",
      "RangeIndex: 395000 entries, 0 to 394999\n",
      "Data columns (total 7 columns):\n",
      " #   Column                 Non-Null Count   Dtype \n",
      "---  ------                 --------------   ----- \n",
      " 0   date                   395000 non-null  object\n",
      " 1   product_identifier     395000 non-null  int64 \n",
      " 2   department_identifier  395000 non-null  int64 \n",
      " 3   category_of_product    395000 non-null  object\n",
      " 4   outlet                 395000 non-null  int64 \n",
      " 5   state                  395000 non-null  object\n",
      " 6   sales                  395000 non-null  int64 \n",
      "dtypes: int64(4), object(3)\n",
      "memory usage: 21.1+ MB\n"
     ]
    }
   ],
   "source": [
    "train.info()"
   ]
  },
  {
   "cell_type": "code",
   "execution_count": 14,
   "metadata": {
    "colab": {
     "base_uri": "https://localhost:8080/"
    },
    "id": "n2okujVWHK0r",
    "outputId": "692d967a-6d49-47a5-cd06-2372efdbf85a"
   },
   "outputs": [
    {
     "name": "stdout",
     "output_type": "stream",
     "text": [
      "<class 'pandas.core.frame.DataFrame'>\n",
      "RangeIndex: 821 entries, 0 to 820\n",
      "Data columns (total 2 columns):\n",
      " #   Column   Non-Null Count  Dtype \n",
      "---  ------   --------------  ----- \n",
      " 0   date     821 non-null    object\n",
      " 1   week_id  821 non-null    int64 \n",
      "dtypes: int64(1), object(1)\n",
      "memory usage: 13.0+ KB\n"
     ]
    }
   ],
   "source": [
    "date.info()"
   ]
  },
  {
   "cell_type": "code",
   "execution_count": 15,
   "metadata": {
    "colab": {
     "base_uri": "https://localhost:8080/"
    },
    "id": "eqqSaidnHMT8",
    "outputId": "ba4ffc54-56cb-4e1c-9955-c5ce8977bce4"
   },
   "outputs": [
    {
     "name": "stdout",
     "output_type": "stream",
     "text": [
      "<class 'pandas.core.frame.DataFrame'>\n",
      "RangeIndex: 59000 entries, 0 to 58999\n",
      "Data columns (total 4 columns):\n",
      " #   Column              Non-Null Count  Dtype  \n",
      "---  ------              --------------  -----  \n",
      " 0   outlet              59000 non-null  int64  \n",
      " 1   product_identifier  59000 non-null  int64  \n",
      " 2   week_id             59000 non-null  int64  \n",
      " 3   sell_price          59000 non-null  float64\n",
      "dtypes: float64(1), int64(3)\n",
      "memory usage: 1.8 MB\n"
     ]
    }
   ],
   "source": [
    "product.info()"
   ]
  },
  {
   "cell_type": "markdown",
   "metadata": {
    "id": "71ZMY3wcj_Uc"
   },
   "source": [
    "Converting the dtype of date"
   ]
  },
  {
   "cell_type": "code",
   "execution_count": 16,
   "metadata": {
    "id": "qM1ZI464HOZn"
   },
   "outputs": [],
   "source": [
    "# converting dtype of Date from object to Datetime\n",
    "date['date'] = pd.to_datetime(date['date'])\n",
    "train['date'] = pd.to_datetime(train['date'])"
   ]
  },
  {
   "cell_type": "markdown",
   "metadata": {
    "id": "YNSkh3i8kUsF"
   },
   "source": [
    "Checking null values"
   ]
  },
  {
   "cell_type": "code",
   "execution_count": 17,
   "metadata": {
    "colab": {
     "base_uri": "https://localhost:8080/"
    },
    "id": "yS5WkJsiHcdb",
    "outputId": "de9fe897-0b1d-48a0-c146-4e0263fe81e1"
   },
   "outputs": [
    {
     "data": {
      "text/plain": [
       "date                     0\n",
       "product_identifier       0\n",
       "department_identifier    0\n",
       "category_of_product      0\n",
       "outlet                   0\n",
       "state                    0\n",
       "sales                    0\n",
       "dtype: int64"
      ]
     },
     "execution_count": 17,
     "metadata": {},
     "output_type": "execute_result"
    }
   ],
   "source": [
    "train.isnull().sum()"
   ]
  },
  {
   "cell_type": "code",
   "execution_count": 18,
   "metadata": {
    "colab": {
     "base_uri": "https://localhost:8080/"
    },
    "id": "vhvBeTETH6GP",
    "outputId": "f564fb1d-2e15-48fd-b780-637583519d84"
   },
   "outputs": [
    {
     "data": {
      "text/plain": [
       "date       0\n",
       "week_id    0\n",
       "dtype: int64"
      ]
     },
     "execution_count": 18,
     "metadata": {},
     "output_type": "execute_result"
    }
   ],
   "source": [
    "date.isnull().sum()"
   ]
  },
  {
   "cell_type": "code",
   "execution_count": 19,
   "metadata": {
    "colab": {
     "base_uri": "https://localhost:8080/"
    },
    "id": "aAfOh_9nIANf",
    "outputId": "fbeb6e00-bb4a-46d2-ebbc-d4a0b7ae1c62"
   },
   "outputs": [
    {
     "data": {
      "text/plain": [
       "outlet                0\n",
       "product_identifier    0\n",
       "week_id               0\n",
       "sell_price            0\n",
       "dtype: int64"
      ]
     },
     "execution_count": 19,
     "metadata": {},
     "output_type": "execute_result"
    }
   ],
   "source": [
    "product.isnull().sum()"
   ]
  },
  {
   "cell_type": "markdown",
   "metadata": {
    "id": "clj7tbcZkZpp"
   },
   "source": [
    "Checking and dropping duplicate values"
   ]
  },
  {
   "cell_type": "code",
   "execution_count": 20,
   "metadata": {
    "colab": {
     "base_uri": "https://localhost:8080/",
     "height": 661
    },
    "id": "5cseh0F0IB4K",
    "outputId": "1896cc47-4839-47e3-9623-6edf5843b376"
   },
   "outputs": [
    {
     "data": {
      "text/html": [
       "<div>\n",
       "<style scoped>\n",
       "    .dataframe tbody tr th:only-of-type {\n",
       "        vertical-align: middle;\n",
       "    }\n",
       "\n",
       "    .dataframe tbody tr th {\n",
       "        vertical-align: top;\n",
       "    }\n",
       "\n",
       "    .dataframe thead th {\n",
       "        text-align: right;\n",
       "    }\n",
       "</style>\n",
       "<table border=\"1\" class=\"dataframe\">\n",
       "  <thead>\n",
       "    <tr style=\"text-align: right;\">\n",
       "      <th></th>\n",
       "      <th>date</th>\n",
       "      <th>product_identifier</th>\n",
       "      <th>department_identifier</th>\n",
       "      <th>category_of_product</th>\n",
       "      <th>outlet</th>\n",
       "      <th>state</th>\n",
       "      <th>sales</th>\n",
       "    </tr>\n",
       "  </thead>\n",
       "  <tbody>\n",
       "    <tr>\n",
       "      <th>0</th>\n",
       "      <td>2012-01-01</td>\n",
       "      <td>74</td>\n",
       "      <td>11</td>\n",
       "      <td>others</td>\n",
       "      <td>111</td>\n",
       "      <td>Maharashtra</td>\n",
       "      <td>0</td>\n",
       "    </tr>\n",
       "    <tr>\n",
       "      <th>1</th>\n",
       "      <td>2012-01-01</td>\n",
       "      <td>337</td>\n",
       "      <td>11</td>\n",
       "      <td>others</td>\n",
       "      <td>111</td>\n",
       "      <td>Maharashtra</td>\n",
       "      <td>1</td>\n",
       "    </tr>\n",
       "    <tr>\n",
       "      <th>2</th>\n",
       "      <td>2012-01-01</td>\n",
       "      <td>423</td>\n",
       "      <td>12</td>\n",
       "      <td>others</td>\n",
       "      <td>111</td>\n",
       "      <td>Maharashtra</td>\n",
       "      <td>0</td>\n",
       "    </tr>\n",
       "    <tr>\n",
       "      <th>3</th>\n",
       "      <td>2012-01-01</td>\n",
       "      <td>432</td>\n",
       "      <td>12</td>\n",
       "      <td>others</td>\n",
       "      <td>111</td>\n",
       "      <td>Maharashtra</td>\n",
       "      <td>0</td>\n",
       "    </tr>\n",
       "    <tr>\n",
       "      <th>4</th>\n",
       "      <td>2012-01-01</td>\n",
       "      <td>581</td>\n",
       "      <td>21</td>\n",
       "      <td>fast_moving_consumer_goods</td>\n",
       "      <td>111</td>\n",
       "      <td>Maharashtra</td>\n",
       "      <td>0</td>\n",
       "    </tr>\n",
       "    <tr>\n",
       "      <th>...</th>\n",
       "      <td>...</td>\n",
       "      <td>...</td>\n",
       "      <td>...</td>\n",
       "      <td>...</td>\n",
       "      <td>...</td>\n",
       "      <td>...</td>\n",
       "      <td>...</td>\n",
       "    </tr>\n",
       "    <tr>\n",
       "      <th>394995</th>\n",
       "      <td>2014-02-28</td>\n",
       "      <td>2932</td>\n",
       "      <td>33</td>\n",
       "      <td>drinks_and_food</td>\n",
       "      <td>333</td>\n",
       "      <td>Kerala</td>\n",
       "      <td>2</td>\n",
       "    </tr>\n",
       "    <tr>\n",
       "      <th>394996</th>\n",
       "      <td>2014-02-28</td>\n",
       "      <td>2935</td>\n",
       "      <td>33</td>\n",
       "      <td>drinks_and_food</td>\n",
       "      <td>333</td>\n",
       "      <td>Kerala</td>\n",
       "      <td>8</td>\n",
       "    </tr>\n",
       "    <tr>\n",
       "      <th>394997</th>\n",
       "      <td>2014-02-28</td>\n",
       "      <td>3004</td>\n",
       "      <td>33</td>\n",
       "      <td>drinks_and_food</td>\n",
       "      <td>333</td>\n",
       "      <td>Kerala</td>\n",
       "      <td>0</td>\n",
       "    </tr>\n",
       "    <tr>\n",
       "      <th>394998</th>\n",
       "      <td>2014-02-28</td>\n",
       "      <td>3008</td>\n",
       "      <td>33</td>\n",
       "      <td>drinks_and_food</td>\n",
       "      <td>333</td>\n",
       "      <td>Kerala</td>\n",
       "      <td>0</td>\n",
       "    </tr>\n",
       "    <tr>\n",
       "      <th>394999</th>\n",
       "      <td>2014-02-28</td>\n",
       "      <td>3021</td>\n",
       "      <td>33</td>\n",
       "      <td>drinks_and_food</td>\n",
       "      <td>333</td>\n",
       "      <td>Kerala</td>\n",
       "      <td>0</td>\n",
       "    </tr>\n",
       "  </tbody>\n",
       "</table>\n",
       "<p>395000 rows × 7 columns</p>\n",
       "</div>"
      ],
      "text/plain": [
       "             date  product_identifier  department_identifier  \\\n",
       "0      2012-01-01                  74                     11   \n",
       "1      2012-01-01                 337                     11   \n",
       "2      2012-01-01                 423                     12   \n",
       "3      2012-01-01                 432                     12   \n",
       "4      2012-01-01                 581                     21   \n",
       "...           ...                 ...                    ...   \n",
       "394995 2014-02-28                2932                     33   \n",
       "394996 2014-02-28                2935                     33   \n",
       "394997 2014-02-28                3004                     33   \n",
       "394998 2014-02-28                3008                     33   \n",
       "394999 2014-02-28                3021                     33   \n",
       "\n",
       "               category_of_product  outlet        state  sales  \n",
       "0                           others     111  Maharashtra      0  \n",
       "1                           others     111  Maharashtra      1  \n",
       "2                           others     111  Maharashtra      0  \n",
       "3                           others     111  Maharashtra      0  \n",
       "4       fast_moving_consumer_goods     111  Maharashtra      0  \n",
       "...                            ...     ...          ...    ...  \n",
       "394995             drinks_and_food     333       Kerala      2  \n",
       "394996             drinks_and_food     333       Kerala      8  \n",
       "394997             drinks_and_food     333       Kerala      0  \n",
       "394998             drinks_and_food     333       Kerala      0  \n",
       "394999             drinks_and_food     333       Kerala      0  \n",
       "\n",
       "[395000 rows x 7 columns]"
      ]
     },
     "execution_count": 20,
     "metadata": {},
     "output_type": "execute_result"
    }
   ],
   "source": [
    "# Checking and removing any duplicates from the data\n",
    "train[train.duplicated()]\n",
    "train.drop_duplicates(inplace=True)\n",
    "train"
   ]
  },
  {
   "cell_type": "code",
   "execution_count": 21,
   "metadata": {
    "colab": {
     "base_uri": "https://localhost:8080/",
     "height": 423
    },
    "id": "ZHKhRUFnIIxA",
    "outputId": "eae53fe3-c3be-43f5-96e2-413f70ba9f8a"
   },
   "outputs": [
    {
     "data": {
      "text/html": [
       "<div>\n",
       "<style scoped>\n",
       "    .dataframe tbody tr th:only-of-type {\n",
       "        vertical-align: middle;\n",
       "    }\n",
       "\n",
       "    .dataframe tbody tr th {\n",
       "        vertical-align: top;\n",
       "    }\n",
       "\n",
       "    .dataframe thead th {\n",
       "        text-align: right;\n",
       "    }\n",
       "</style>\n",
       "<table border=\"1\" class=\"dataframe\">\n",
       "  <thead>\n",
       "    <tr style=\"text-align: right;\">\n",
       "      <th></th>\n",
       "      <th>date</th>\n",
       "      <th>week_id</th>\n",
       "    </tr>\n",
       "  </thead>\n",
       "  <tbody>\n",
       "    <tr>\n",
       "      <th>0</th>\n",
       "      <td>2012-01-01</td>\n",
       "      <td>49</td>\n",
       "    </tr>\n",
       "    <tr>\n",
       "      <th>1</th>\n",
       "      <td>2012-01-02</td>\n",
       "      <td>49</td>\n",
       "    </tr>\n",
       "    <tr>\n",
       "      <th>2</th>\n",
       "      <td>2012-01-03</td>\n",
       "      <td>49</td>\n",
       "    </tr>\n",
       "    <tr>\n",
       "      <th>3</th>\n",
       "      <td>2012-01-04</td>\n",
       "      <td>49</td>\n",
       "    </tr>\n",
       "    <tr>\n",
       "      <th>4</th>\n",
       "      <td>2012-01-05</td>\n",
       "      <td>49</td>\n",
       "    </tr>\n",
       "    <tr>\n",
       "      <th>...</th>\n",
       "      <td>...</td>\n",
       "      <td>...</td>\n",
       "    </tr>\n",
       "    <tr>\n",
       "      <th>816</th>\n",
       "      <td>2014-03-27</td>\n",
       "      <td>165</td>\n",
       "    </tr>\n",
       "    <tr>\n",
       "      <th>817</th>\n",
       "      <td>2014-03-28</td>\n",
       "      <td>165</td>\n",
       "    </tr>\n",
       "    <tr>\n",
       "      <th>818</th>\n",
       "      <td>2014-03-29</td>\n",
       "      <td>166</td>\n",
       "    </tr>\n",
       "    <tr>\n",
       "      <th>819</th>\n",
       "      <td>2014-03-30</td>\n",
       "      <td>166</td>\n",
       "    </tr>\n",
       "    <tr>\n",
       "      <th>820</th>\n",
       "      <td>2014-03-31</td>\n",
       "      <td>166</td>\n",
       "    </tr>\n",
       "  </tbody>\n",
       "</table>\n",
       "<p>821 rows × 2 columns</p>\n",
       "</div>"
      ],
      "text/plain": [
       "          date  week_id\n",
       "0   2012-01-01       49\n",
       "1   2012-01-02       49\n",
       "2   2012-01-03       49\n",
       "3   2012-01-04       49\n",
       "4   2012-01-05       49\n",
       "..         ...      ...\n",
       "816 2014-03-27      165\n",
       "817 2014-03-28      165\n",
       "818 2014-03-29      166\n",
       "819 2014-03-30      166\n",
       "820 2014-03-31      166\n",
       "\n",
       "[821 rows x 2 columns]"
      ]
     },
     "execution_count": 21,
     "metadata": {},
     "output_type": "execute_result"
    }
   ],
   "source": [
    "# Checking and removing any duplicates from the data\n",
    "date[date.duplicated()]\n",
    "date.drop_duplicates(inplace=True)\n",
    "date"
   ]
  },
  {
   "cell_type": "code",
   "execution_count": 22,
   "metadata": {
    "colab": {
     "base_uri": "https://localhost:8080/",
     "height": 423
    },
    "id": "IlptQRKeIPRt",
    "outputId": "81193c30-a3ab-4eef-fe5c-7b35e8da61dc"
   },
   "outputs": [
    {
     "data": {
      "text/html": [
       "<div>\n",
       "<style scoped>\n",
       "    .dataframe tbody tr th:only-of-type {\n",
       "        vertical-align: middle;\n",
       "    }\n",
       "\n",
       "    .dataframe tbody tr th {\n",
       "        vertical-align: top;\n",
       "    }\n",
       "\n",
       "    .dataframe thead th {\n",
       "        text-align: right;\n",
       "    }\n",
       "</style>\n",
       "<table border=\"1\" class=\"dataframe\">\n",
       "  <thead>\n",
       "    <tr style=\"text-align: right;\">\n",
       "      <th></th>\n",
       "      <th>outlet</th>\n",
       "      <th>product_identifier</th>\n",
       "      <th>week_id</th>\n",
       "      <th>sell_price</th>\n",
       "    </tr>\n",
       "  </thead>\n",
       "  <tbody>\n",
       "    <tr>\n",
       "      <th>0</th>\n",
       "      <td>111</td>\n",
       "      <td>74</td>\n",
       "      <td>49</td>\n",
       "      <td>2.94</td>\n",
       "    </tr>\n",
       "    <tr>\n",
       "      <th>1</th>\n",
       "      <td>111</td>\n",
       "      <td>74</td>\n",
       "      <td>50</td>\n",
       "      <td>2.94</td>\n",
       "    </tr>\n",
       "    <tr>\n",
       "      <th>2</th>\n",
       "      <td>111</td>\n",
       "      <td>74</td>\n",
       "      <td>51</td>\n",
       "      <td>2.94</td>\n",
       "    </tr>\n",
       "    <tr>\n",
       "      <th>3</th>\n",
       "      <td>111</td>\n",
       "      <td>74</td>\n",
       "      <td>52</td>\n",
       "      <td>2.94</td>\n",
       "    </tr>\n",
       "    <tr>\n",
       "      <th>4</th>\n",
       "      <td>111</td>\n",
       "      <td>74</td>\n",
       "      <td>53</td>\n",
       "      <td>2.94</td>\n",
       "    </tr>\n",
       "    <tr>\n",
       "      <th>...</th>\n",
       "      <td>...</td>\n",
       "      <td>...</td>\n",
       "      <td>...</td>\n",
       "      <td>...</td>\n",
       "    </tr>\n",
       "    <tr>\n",
       "      <th>58995</th>\n",
       "      <td>333</td>\n",
       "      <td>3021</td>\n",
       "      <td>162</td>\n",
       "      <td>2.08</td>\n",
       "    </tr>\n",
       "    <tr>\n",
       "      <th>58996</th>\n",
       "      <td>333</td>\n",
       "      <td>3021</td>\n",
       "      <td>163</td>\n",
       "      <td>2.08</td>\n",
       "    </tr>\n",
       "    <tr>\n",
       "      <th>58997</th>\n",
       "      <td>333</td>\n",
       "      <td>3021</td>\n",
       "      <td>164</td>\n",
       "      <td>2.08</td>\n",
       "    </tr>\n",
       "    <tr>\n",
       "      <th>58998</th>\n",
       "      <td>333</td>\n",
       "      <td>3021</td>\n",
       "      <td>165</td>\n",
       "      <td>2.08</td>\n",
       "    </tr>\n",
       "    <tr>\n",
       "      <th>58999</th>\n",
       "      <td>333</td>\n",
       "      <td>3021</td>\n",
       "      <td>166</td>\n",
       "      <td>2.08</td>\n",
       "    </tr>\n",
       "  </tbody>\n",
       "</table>\n",
       "<p>59000 rows × 4 columns</p>\n",
       "</div>"
      ],
      "text/plain": [
       "       outlet  product_identifier  week_id  sell_price\n",
       "0         111                  74       49        2.94\n",
       "1         111                  74       50        2.94\n",
       "2         111                  74       51        2.94\n",
       "3         111                  74       52        2.94\n",
       "4         111                  74       53        2.94\n",
       "...       ...                 ...      ...         ...\n",
       "58995     333                3021      162        2.08\n",
       "58996     333                3021      163        2.08\n",
       "58997     333                3021      164        2.08\n",
       "58998     333                3021      165        2.08\n",
       "58999     333                3021      166        2.08\n",
       "\n",
       "[59000 rows x 4 columns]"
      ]
     },
     "execution_count": 22,
     "metadata": {},
     "output_type": "execute_result"
    }
   ],
   "source": [
    "# Checking and removing any duplicates from the data\n",
    "product[product.duplicated()]\n",
    "product.drop_duplicates(inplace=True)\n",
    "product"
   ]
  },
  {
   "cell_type": "markdown",
   "metadata": {
    "id": "2I8jXZEUk0Ce"
   },
   "source": [
    "Merging datasets"
   ]
  },
  {
   "cell_type": "code",
   "execution_count": 23,
   "metadata": {
    "id": "2aIZ56syIWsg"
   },
   "outputs": [],
   "source": [
    "# merging date and product data with same feature name week_id\n",
    "data_merge = pd.merge(date,product,on=['week_id'])"
   ]
  },
  {
   "cell_type": "code",
   "execution_count": 24,
   "metadata": {
    "colab": {
     "base_uri": "https://localhost:8080/",
     "height": 206
    },
    "id": "bU8C4PUuImoF",
    "outputId": "a2e034b9-495e-4237-a4e0-f3a757dd6a18"
   },
   "outputs": [
    {
     "data": {
      "text/html": [
       "<div>\n",
       "<style scoped>\n",
       "    .dataframe tbody tr th:only-of-type {\n",
       "        vertical-align: middle;\n",
       "    }\n",
       "\n",
       "    .dataframe tbody tr th {\n",
       "        vertical-align: top;\n",
       "    }\n",
       "\n",
       "    .dataframe thead th {\n",
       "        text-align: right;\n",
       "    }\n",
       "</style>\n",
       "<table border=\"1\" class=\"dataframe\">\n",
       "  <thead>\n",
       "    <tr style=\"text-align: right;\">\n",
       "      <th></th>\n",
       "      <th>date</th>\n",
       "      <th>week_id</th>\n",
       "      <th>outlet</th>\n",
       "      <th>product_identifier</th>\n",
       "      <th>sell_price</th>\n",
       "    </tr>\n",
       "  </thead>\n",
       "  <tbody>\n",
       "    <tr>\n",
       "      <th>0</th>\n",
       "      <td>2012-01-01</td>\n",
       "      <td>49</td>\n",
       "      <td>111</td>\n",
       "      <td>74</td>\n",
       "      <td>2.94</td>\n",
       "    </tr>\n",
       "    <tr>\n",
       "      <th>1</th>\n",
       "      <td>2012-01-01</td>\n",
       "      <td>49</td>\n",
       "      <td>111</td>\n",
       "      <td>337</td>\n",
       "      <td>7.44</td>\n",
       "    </tr>\n",
       "    <tr>\n",
       "      <th>2</th>\n",
       "      <td>2012-01-01</td>\n",
       "      <td>49</td>\n",
       "      <td>111</td>\n",
       "      <td>423</td>\n",
       "      <td>0.97</td>\n",
       "    </tr>\n",
       "    <tr>\n",
       "      <th>3</th>\n",
       "      <td>2012-01-01</td>\n",
       "      <td>49</td>\n",
       "      <td>111</td>\n",
       "      <td>432</td>\n",
       "      <td>4.97</td>\n",
       "    </tr>\n",
       "    <tr>\n",
       "      <th>4</th>\n",
       "      <td>2012-01-01</td>\n",
       "      <td>49</td>\n",
       "      <td>111</td>\n",
       "      <td>581</td>\n",
       "      <td>4.88</td>\n",
       "    </tr>\n",
       "  </tbody>\n",
       "</table>\n",
       "</div>"
      ],
      "text/plain": [
       "        date  week_id  outlet  product_identifier  sell_price\n",
       "0 2012-01-01       49     111                  74        2.94\n",
       "1 2012-01-01       49     111                 337        7.44\n",
       "2 2012-01-01       49     111                 423        0.97\n",
       "3 2012-01-01       49     111                 432        4.97\n",
       "4 2012-01-01       49     111                 581        4.88"
      ]
     },
     "execution_count": 24,
     "metadata": {},
     "output_type": "execute_result"
    }
   ],
   "source": [
    "data_merge.head()"
   ]
  },
  {
   "cell_type": "code",
   "execution_count": 25,
   "metadata": {
    "colab": {
     "base_uri": "https://localhost:8080/"
    },
    "id": "H5Cjmaj2IpCG",
    "outputId": "9806c90f-8b4d-4ad9-ff4a-9ae4f2930ea3"
   },
   "outputs": [
    {
     "data": {
      "text/plain": [
       "date                  0\n",
       "week_id               0\n",
       "outlet                0\n",
       "product_identifier    0\n",
       "sell_price            0\n",
       "dtype: int64"
      ]
     },
     "execution_count": 25,
     "metadata": {},
     "output_type": "execute_result"
    }
   ],
   "source": [
    "data_merge.isnull().sum()"
   ]
  },
  {
   "cell_type": "code",
   "execution_count": 26,
   "metadata": {
    "colab": {
     "base_uri": "https://localhost:8080/"
    },
    "id": "Ppwbhyv7ItuR",
    "outputId": "b2abde1f-4d31-4ea5-8aa3-337b2a3b4ca8"
   },
   "outputs": [
    {
     "data": {
      "text/plain": [
       "2013-11-26    500\n",
       "2013-07-08    500\n",
       "2013-07-27    500\n",
       "2012-05-23    500\n",
       "2014-02-01    500\n",
       "             ... \n",
       "2014-01-02    500\n",
       "2012-03-28    500\n",
       "2013-04-10    500\n",
       "2012-09-07    500\n",
       "2012-04-12    500\n",
       "Name: date, Length: 821, dtype: int64"
      ]
     },
     "execution_count": 26,
     "metadata": {},
     "output_type": "execute_result"
    }
   ],
   "source": [
    "data_merge[\"date\"].value_counts()"
   ]
  },
  {
   "cell_type": "code",
   "execution_count": 27,
   "metadata": {
    "colab": {
     "base_uri": "https://localhost:8080/"
    },
    "id": "pyyCiPkSJOVo",
    "outputId": "683f6ee7-9193-4d53-92e5-f45092737e03"
   },
   "outputs": [
    {
     "data": {
      "text/plain": [
       "2013-11-26    500\n",
       "2012-04-20    500\n",
       "2012-09-04    500\n",
       "2013-03-12    500\n",
       "2012-01-07    500\n",
       "             ... \n",
       "2013-07-23    500\n",
       "2012-12-20    500\n",
       "2014-01-02    500\n",
       "2012-03-28    500\n",
       "2012-04-12    500\n",
       "Name: date, Length: 790, dtype: int64"
      ]
     },
     "execution_count": 27,
     "metadata": {},
     "output_type": "execute_result"
    }
   ],
   "source": [
    "train[\"date\"].value_counts()"
   ]
  },
  {
   "cell_type": "code",
   "execution_count": 28,
   "metadata": {
    "colab": {
     "base_uri": "https://localhost:8080/"
    },
    "id": "3EFVxkuuJUtL",
    "outputId": "dcbdea50-d245-4658-a046-d39a2b59722d"
   },
   "outputs": [
    {
     "data": {
      "text/plain": [
       "Index(['date', 'week_id', 'outlet', 'product_identifier', 'sell_price'], dtype='object')"
      ]
     },
     "execution_count": 28,
     "metadata": {},
     "output_type": "execute_result"
    }
   ],
   "source": [
    "data_merge.columns"
   ]
  },
  {
   "cell_type": "code",
   "execution_count": 29,
   "metadata": {
    "colab": {
     "base_uri": "https://localhost:8080/"
    },
    "id": "lV5sYIU1Jbq0",
    "outputId": "6c999e65-1b65-4904-c007-bde65314962c"
   },
   "outputs": [
    {
     "data": {
      "text/plain": [
       "Index(['date', 'product_identifier', 'department_identifier',\n",
       "       'category_of_product', 'outlet', 'state', 'sales'],\n",
       "      dtype='object')"
      ]
     },
     "execution_count": 29,
     "metadata": {},
     "output_type": "execute_result"
    }
   ],
   "source": [
    "train.columns"
   ]
  },
  {
   "cell_type": "code",
   "execution_count": 30,
   "metadata": {
    "id": "-voLvLl9Jcy0"
   },
   "outputs": [],
   "source": [
    "# merging train and data_merge \n",
    "data=pd.merge(data_merge,train,on=['date','product_identifier','outlet'])"
   ]
  },
  {
   "cell_type": "code",
   "execution_count": 31,
   "metadata": {
    "colab": {
     "base_uri": "https://localhost:8080/",
     "height": 357
    },
    "id": "X7fakBQwJpWI",
    "outputId": "da6c057b-53f3-478a-d358-27b6998a292f"
   },
   "outputs": [
    {
     "data": {
      "text/html": [
       "<div>\n",
       "<style scoped>\n",
       "    .dataframe tbody tr th:only-of-type {\n",
       "        vertical-align: middle;\n",
       "    }\n",
       "\n",
       "    .dataframe tbody tr th {\n",
       "        vertical-align: top;\n",
       "    }\n",
       "\n",
       "    .dataframe thead th {\n",
       "        text-align: right;\n",
       "    }\n",
       "</style>\n",
       "<table border=\"1\" class=\"dataframe\">\n",
       "  <thead>\n",
       "    <tr style=\"text-align: right;\">\n",
       "      <th></th>\n",
       "      <th>date</th>\n",
       "      <th>week_id</th>\n",
       "      <th>outlet</th>\n",
       "      <th>product_identifier</th>\n",
       "      <th>sell_price</th>\n",
       "      <th>department_identifier</th>\n",
       "      <th>category_of_product</th>\n",
       "      <th>state</th>\n",
       "      <th>sales</th>\n",
       "    </tr>\n",
       "  </thead>\n",
       "  <tbody>\n",
       "    <tr>\n",
       "      <th>0</th>\n",
       "      <td>2012-01-01</td>\n",
       "      <td>49</td>\n",
       "      <td>111</td>\n",
       "      <td>74</td>\n",
       "      <td>2.94</td>\n",
       "      <td>11</td>\n",
       "      <td>others</td>\n",
       "      <td>Maharashtra</td>\n",
       "      <td>0</td>\n",
       "    </tr>\n",
       "    <tr>\n",
       "      <th>1</th>\n",
       "      <td>2012-01-01</td>\n",
       "      <td>49</td>\n",
       "      <td>111</td>\n",
       "      <td>337</td>\n",
       "      <td>7.44</td>\n",
       "      <td>11</td>\n",
       "      <td>others</td>\n",
       "      <td>Maharashtra</td>\n",
       "      <td>1</td>\n",
       "    </tr>\n",
       "    <tr>\n",
       "      <th>2</th>\n",
       "      <td>2012-01-01</td>\n",
       "      <td>49</td>\n",
       "      <td>111</td>\n",
       "      <td>423</td>\n",
       "      <td>0.97</td>\n",
       "      <td>12</td>\n",
       "      <td>others</td>\n",
       "      <td>Maharashtra</td>\n",
       "      <td>0</td>\n",
       "    </tr>\n",
       "    <tr>\n",
       "      <th>3</th>\n",
       "      <td>2012-01-01</td>\n",
       "      <td>49</td>\n",
       "      <td>111</td>\n",
       "      <td>432</td>\n",
       "      <td>4.97</td>\n",
       "      <td>12</td>\n",
       "      <td>others</td>\n",
       "      <td>Maharashtra</td>\n",
       "      <td>0</td>\n",
       "    </tr>\n",
       "    <tr>\n",
       "      <th>4</th>\n",
       "      <td>2012-01-01</td>\n",
       "      <td>49</td>\n",
       "      <td>111</td>\n",
       "      <td>581</td>\n",
       "      <td>4.88</td>\n",
       "      <td>21</td>\n",
       "      <td>fast_moving_consumer_goods</td>\n",
       "      <td>Maharashtra</td>\n",
       "      <td>0</td>\n",
       "    </tr>\n",
       "  </tbody>\n",
       "</table>\n",
       "</div>"
      ],
      "text/plain": [
       "        date  week_id  outlet  product_identifier  sell_price  \\\n",
       "0 2012-01-01       49     111                  74        2.94   \n",
       "1 2012-01-01       49     111                 337        7.44   \n",
       "2 2012-01-01       49     111                 423        0.97   \n",
       "3 2012-01-01       49     111                 432        4.97   \n",
       "4 2012-01-01       49     111                 581        4.88   \n",
       "\n",
       "   department_identifier         category_of_product        state  sales  \n",
       "0                     11                      others  Maharashtra      0  \n",
       "1                     11                      others  Maharashtra      1  \n",
       "2                     12                      others  Maharashtra      0  \n",
       "3                     12                      others  Maharashtra      0  \n",
       "4                     21  fast_moving_consumer_goods  Maharashtra      0  "
      ]
     },
     "execution_count": 31,
     "metadata": {},
     "output_type": "execute_result"
    }
   ],
   "source": [
    "data.head()"
   ]
  },
  {
   "cell_type": "code",
   "execution_count": 32,
   "metadata": {
    "colab": {
     "base_uri": "https://localhost:8080/"
    },
    "id": "nMRaGB8UJswW",
    "outputId": "01808123-ecad-4b3a-b95f-ade5ba672402"
   },
   "outputs": [
    {
     "data": {
      "text/plain": [
       "(395000, 9)"
      ]
     },
     "execution_count": 32,
     "metadata": {},
     "output_type": "execute_result"
    }
   ],
   "source": [
    "data.shape"
   ]
  },
  {
   "cell_type": "code",
   "execution_count": 33,
   "metadata": {
    "colab": {
     "base_uri": "https://localhost:8080/"
    },
    "id": "g5_f-AkyLfwS",
    "outputId": "bf6a515f-e52c-44e9-ff7b-dbf0e31eb4a0"
   },
   "outputs": [
    {
     "data": {
      "text/plain": [
       "Index(['date', 'week_id', 'outlet', 'product_identifier', 'sell_price',\n",
       "       'department_identifier', 'category_of_product', 'state', 'sales'],\n",
       "      dtype='object')"
      ]
     },
     "execution_count": 33,
     "metadata": {},
     "output_type": "execute_result"
    }
   ],
   "source": [
    "data.columns"
   ]
  },
  {
   "cell_type": "code",
   "execution_count": 34,
   "metadata": {
    "colab": {
     "base_uri": "https://localhost:8080/"
    },
    "id": "tj4WwQ5kJ8Qi",
    "outputId": "bcc8cf3a-3ad7-4bc3-91b5-e4850fd999a6"
   },
   "outputs": [
    {
     "data": {
      "text/plain": [
       "date                     790\n",
       "week_id                  113\n",
       "outlet                    10\n",
       "product_identifier        50\n",
       "sell_price               107\n",
       "department_identifier      6\n",
       "category_of_product        3\n",
       "state                      3\n",
       "sales                    126\n",
       "dtype: int64"
      ]
     },
     "execution_count": 34,
     "metadata": {},
     "output_type": "execute_result"
    }
   ],
   "source": [
    "data.nunique()"
   ]
  },
  {
   "cell_type": "code",
   "execution_count": 35,
   "metadata": {
    "colab": {
     "base_uri": "https://localhost:8080/"
    },
    "id": "C3h-LnkgKWG-",
    "outputId": "862e040b-c97c-42b4-f60b-27b53ea58357"
   },
   "outputs": [
    {
     "name": "stdout",
     "output_type": "stream",
     "text": [
      "<class 'pandas.core.frame.DataFrame'>\n",
      "Int64Index: 395000 entries, 0 to 394999\n",
      "Data columns (total 9 columns):\n",
      " #   Column                 Non-Null Count   Dtype         \n",
      "---  ------                 --------------   -----         \n",
      " 0   date                   395000 non-null  datetime64[ns]\n",
      " 1   week_id                395000 non-null  int64         \n",
      " 2   outlet                 395000 non-null  int64         \n",
      " 3   product_identifier     395000 non-null  int64         \n",
      " 4   sell_price             395000 non-null  float64       \n",
      " 5   department_identifier  395000 non-null  int64         \n",
      " 6   category_of_product    395000 non-null  object        \n",
      " 7   state                  395000 non-null  object        \n",
      " 8   sales                  395000 non-null  int64         \n",
      "dtypes: datetime64[ns](1), float64(1), int64(5), object(2)\n",
      "memory usage: 30.1+ MB\n"
     ]
    }
   ],
   "source": [
    "data.info()"
   ]
  },
  {
   "cell_type": "code",
   "execution_count": 36,
   "metadata": {
    "colab": {
     "base_uri": "https://localhost:8080/"
    },
    "id": "yj1oV9rRKY0K",
    "outputId": "0eb3418a-5601-4deb-ad00-ba18cc670c26"
   },
   "outputs": [
    {
     "data": {
      "text/plain": [
       "date                     0\n",
       "week_id                  0\n",
       "outlet                   0\n",
       "product_identifier       0\n",
       "sell_price               0\n",
       "department_identifier    0\n",
       "category_of_product      0\n",
       "state                    0\n",
       "sales                    0\n",
       "dtype: int64"
      ]
     },
     "execution_count": 36,
     "metadata": {},
     "output_type": "execute_result"
    }
   ],
   "source": [
    "data.isnull().sum()"
   ]
  },
  {
   "cell_type": "code",
   "execution_count": 37,
   "metadata": {
    "colab": {
     "base_uri": "https://localhost:8080/",
     "height": 237
    },
    "id": "_6lFrDnBKj_0",
    "outputId": "0ecad897-ca36-4889-d52e-d83fe379412c"
   },
   "outputs": [
    {
     "data": {
      "text/html": [
       "<div>\n",
       "<style scoped>\n",
       "    .dataframe tbody tr th:only-of-type {\n",
       "        vertical-align: middle;\n",
       "    }\n",
       "\n",
       "    .dataframe tbody tr th {\n",
       "        vertical-align: top;\n",
       "    }\n",
       "\n",
       "    .dataframe thead th {\n",
       "        text-align: right;\n",
       "    }\n",
       "</style>\n",
       "<table border=\"1\" class=\"dataframe\">\n",
       "  <thead>\n",
       "    <tr style=\"text-align: right;\">\n",
       "      <th></th>\n",
       "      <th>count</th>\n",
       "      <th>mean</th>\n",
       "      <th>std</th>\n",
       "      <th>min</th>\n",
       "      <th>25%</th>\n",
       "      <th>50%</th>\n",
       "      <th>75%</th>\n",
       "      <th>max</th>\n",
       "    </tr>\n",
       "  </thead>\n",
       "  <tbody>\n",
       "    <tr>\n",
       "      <th>week_id</th>\n",
       "      <td>395000.0</td>\n",
       "      <td>105.070886</td>\n",
       "      <td>32.578749</td>\n",
       "      <td>49.00</td>\n",
       "      <td>77.00</td>\n",
       "      <td>105.00</td>\n",
       "      <td>133.00</td>\n",
       "      <td>161.00</td>\n",
       "    </tr>\n",
       "    <tr>\n",
       "      <th>outlet</th>\n",
       "      <td>395000.0</td>\n",
       "      <td>211.200000</td>\n",
       "      <td>91.161291</td>\n",
       "      <td>111.00</td>\n",
       "      <td>113.00</td>\n",
       "      <td>221.50</td>\n",
       "      <td>331.00</td>\n",
       "      <td>333.00</td>\n",
       "    </tr>\n",
       "    <tr>\n",
       "      <th>product_identifier</th>\n",
       "      <td>395000.0</td>\n",
       "      <td>1509.960000</td>\n",
       "      <td>809.799518</td>\n",
       "      <td>74.00</td>\n",
       "      <td>926.00</td>\n",
       "      <td>1325.00</td>\n",
       "      <td>1753.00</td>\n",
       "      <td>3021.00</td>\n",
       "    </tr>\n",
       "    <tr>\n",
       "      <th>sell_price</th>\n",
       "      <td>395000.0</td>\n",
       "      <td>4.987644</td>\n",
       "      <td>3.874444</td>\n",
       "      <td>0.05</td>\n",
       "      <td>2.68</td>\n",
       "      <td>3.98</td>\n",
       "      <td>6.48</td>\n",
       "      <td>44.36</td>\n",
       "    </tr>\n",
       "    <tr>\n",
       "      <th>department_identifier</th>\n",
       "      <td>395000.0</td>\n",
       "      <td>24.460000</td>\n",
       "      <td>6.337863</td>\n",
       "      <td>11.00</td>\n",
       "      <td>21.00</td>\n",
       "      <td>22.00</td>\n",
       "      <td>31.00</td>\n",
       "      <td>33.00</td>\n",
       "    </tr>\n",
       "    <tr>\n",
       "      <th>sales</th>\n",
       "      <td>395000.0</td>\n",
       "      <td>1.228919</td>\n",
       "      <td>3.595266</td>\n",
       "      <td>0.00</td>\n",
       "      <td>0.00</td>\n",
       "      <td>0.00</td>\n",
       "      <td>1.00</td>\n",
       "      <td>293.00</td>\n",
       "    </tr>\n",
       "  </tbody>\n",
       "</table>\n",
       "</div>"
      ],
      "text/plain": [
       "                          count         mean         std     min     25%  \\\n",
       "week_id                395000.0   105.070886   32.578749   49.00   77.00   \n",
       "outlet                 395000.0   211.200000   91.161291  111.00  113.00   \n",
       "product_identifier     395000.0  1509.960000  809.799518   74.00  926.00   \n",
       "sell_price             395000.0     4.987644    3.874444    0.05    2.68   \n",
       "department_identifier  395000.0    24.460000    6.337863   11.00   21.00   \n",
       "sales                  395000.0     1.228919    3.595266    0.00    0.00   \n",
       "\n",
       "                           50%      75%      max  \n",
       "week_id                 105.00   133.00   161.00  \n",
       "outlet                  221.50   331.00   333.00  \n",
       "product_identifier     1325.00  1753.00  3021.00  \n",
       "sell_price                3.98     6.48    44.36  \n",
       "department_identifier    22.00    31.00    33.00  \n",
       "sales                     0.00     1.00   293.00  "
      ]
     },
     "execution_count": 37,
     "metadata": {},
     "output_type": "execute_result"
    }
   ],
   "source": [
    "data.describe().T"
   ]
  },
  {
   "cell_type": "markdown",
   "metadata": {
    "id": "ogeISb3gNoag"
   },
   "source": [
    "DATA VISUALIZATION"
   ]
  },
  {
   "cell_type": "code",
   "execution_count": 38,
   "metadata": {
    "id": "1Xg4rBC6KqQf"
   },
   "outputs": [],
   "source": [
    "data['Year'] = data['date'].dt.year\n",
    "data['Month'] = data['date'].dt.month\n",
    "data['Day'] = data['date'].dt.day\n",
    "data['Week'] = data['date'].dt.week"
   ]
  },
  {
   "cell_type": "code",
   "execution_count": 39,
   "metadata": {
    "colab": {
     "base_uri": "https://localhost:8080/"
    },
    "id": "xXM9H2EIPWhn",
    "outputId": "00970326-3b49-461a-95d7-91cee0b65935"
   },
   "outputs": [
    {
     "data": {
      "text/plain": [
       "fast_moving_consumer_goods    229100\n",
       "drinks_and_food               134300\n",
       "others                         31600\n",
       "Name: category_of_product, dtype: int64"
      ]
     },
     "execution_count": 39,
     "metadata": {},
     "output_type": "execute_result"
    }
   ],
   "source": [
    "data[\"category_of_product\"].value_counts()"
   ]
  },
  {
   "cell_type": "code",
   "execution_count": 40,
   "metadata": {
    "colab": {
     "base_uri": "https://localhost:8080/",
     "height": 437
    },
    "id": "Ly0VFuLxOfS5",
    "outputId": "d51ac8dd-2122-40da-ad3e-23d261268649"
   },
   "outputs": [
    {
     "data": {
      "image/png": "[encoded data removed]",
      "text/plain": [
       "<Figure size 432x288 with 1 Axes>"
      ]
     },
     "metadata": {
      "needs_background": "light"
     },
     "output_type": "display_data"
    }
   ],
   "source": [
    "#Visualizing the category_of_product Data\n",
    "data[\"category_of_product\"].value_counts().plot(kind=\"bar\")\n",
    "plt.title(\"Types of category_of_product\")\n",
    "plt.xlabel(\"category_of_product\")\n",
    "plt.ylabel(\"Count\")\n",
    "plt.show()\n"
   ]
  },
  {
   "cell_type": "code",
   "execution_count": 41,
   "metadata": {
    "colab": {
     "base_uri": "https://localhost:8080/",
     "height": 264
    },
    "id": "ylFgwO64OOP3",
    "outputId": "8cddffc2-dc40-4a04-d690-163e4d37b9ea"
   },
   "outputs": [
    {
     "data": {
      "image/png": "[encoded data removed]",
      "text/plain": [
       "<Figure size 432x288 with 1 Axes>"
      ]
     },
     "metadata": {},
     "output_type": "display_data"
    }
   ],
   "source": [
    "# Count the frequency of each value in the category_of_product column\n",
    "value_counts = data['category_of_product'].value_counts()\n",
    "\n",
    "# Create a pie chart\n",
    "plt.pie(value_counts.values, labels=value_counts.index, autopct='%1.1f%%')\n",
    "plt.title('Types of category_of_product')\n",
    "plt.show()\n"
   ]
  },
  {
   "cell_type": "code",
   "execution_count": 42,
   "metadata": {
    "colab": {
     "base_uri": "https://localhost:8080/"
    },
    "id": "sUNS692bOfPf",
    "outputId": "25da6914-6070-42b4-8578-8347580680cb"
   },
   "outputs": [
    {
     "data": {
      "text/plain": [
       "Maharashtra    158000\n",
       "Kerala         118500\n",
       "Telangana      118500\n",
       "Name: state, dtype: int64"
      ]
     },
     "execution_count": 42,
     "metadata": {},
     "output_type": "execute_result"
    }
   ],
   "source": [
    "data[\"state\"].value_counts()"
   ]
  },
  {
   "cell_type": "code",
   "execution_count": 43,
   "metadata": {
    "colab": {
     "base_uri": "https://localhost:8080/",
     "height": 349
    },
    "id": "-igr6UezO3G5",
    "outputId": "e6558031-fc02-4d34-8f46-11b339175d47"
   },
   "outputs": [
    {
     "data": {
      "image/png": "[encoded data removed]",
      "text/plain": [
       "<Figure size 432x288 with 1 Axes>"
      ]
     },
     "metadata": {
      "needs_background": "light"
     },
     "output_type": "display_data"
    }
   ],
   "source": [
    "#Visualizing the state Data\n",
    "data[\"state\"].value_counts().plot(kind=\"bar\")\n",
    "plt.title(\"Count of different states\")\n",
    "plt.xlabel(\"state\")\n",
    "plt.ylabel(\"Count\")\n",
    "plt.show()\n"
   ]
  },
  {
   "cell_type": "code",
   "execution_count": 44,
   "metadata": {
    "colab": {
     "base_uri": "https://localhost:8080/",
     "height": 264
    },
    "id": "i3h4t3FfPj2l",
    "outputId": "d2eafc55-fafb-466e-fc7d-9845a8da0728"
   },
   "outputs": [
    {
     "data": {
      "image/png": "[encoded data removed]",
      "text/plain": [
       "<Figure size 432x288 with 1 Axes>"
      ]
     },
     "metadata": {},
     "output_type": "display_data"
    }
   ],
   "source": [
    "# Count the frequency of each value in the state column\n",
    "value_counts = data['state'].value_counts()\n",
    "\n",
    "# Create a pie chart\n",
    "plt.pie(value_counts.values, labels=value_counts.index, autopct='%1.1f%%')\n",
    "plt.title('\"Count of different states')\n",
    "plt.show()\n"
   ]
  },
  {
   "cell_type": "markdown",
   "metadata": {
    "id": "_or84PoPPzbB"
   },
   "source": [
    "plotting the graph for average weekly sales for the years 2012,2013,2014 based on week"
   ]
  },
  {
   "cell_type": "code",
   "execution_count": 45,
   "metadata": {
    "colab": {
     "base_uri": "https://localhost:8080/"
    },
    "id": "YM7fcM67N4Vv",
    "outputId": "4a9bf791-9d52-4f46-fe9e-4a045c9ab73a"
   },
   "outputs": [
    {
     "data": {
      "text/plain": [
       "2012    183000\n",
       "2013    182500\n",
       "2014     29500\n",
       "Name: Year, dtype: int64"
      ]
     },
     "execution_count": 45,
     "metadata": {},
     "output_type": "execute_result"
    }
   ],
   "source": [
    "data[\"Year\"].value_counts()"
   ]
  },
  {
   "cell_type": "code",
   "execution_count": 46,
   "metadata": {
    "colab": {
     "base_uri": "https://localhost:8080/",
     "height": 297
    },
    "id": "rMG6TQPGPuAU",
    "outputId": "fac35a07-2d28-4073-a7e7-3ef172c0c81b"
   },
   "outputs": [
    {
     "data": {
      "text/plain": [
       "<matplotlib.axes._subplots.AxesSubplot at 0x7f83db3aa690>"
      ]
     },
     "execution_count": 46,
     "metadata": {},
     "output_type": "execute_result"
    },
    {
     "data": {
      "image/png": "[encoded data removed]",
      "text/plain": [
       "<Figure size 432x288 with 1 Axes>"
      ]
     },
     "metadata": {
      "needs_background": "light"
     },
     "output_type": "display_data"
    }
   ],
   "source": [
    "# Average Sales for the year 2012\n",
    "sales_2012 = data[data['Year']==2012]['sales'].groupby(data['Week']).mean()\n",
    "\n",
    "sns.lineplot(x=sales_2012.index, y=sales_2012.values)\n"
   ]
  },
  {
   "cell_type": "code",
   "execution_count": 47,
   "metadata": {
    "colab": {
     "base_uri": "https://localhost:8080/",
     "height": 297
    },
    "id": "PfiWk9JaQOkf",
    "outputId": "b57695d6-538c-4efd-e48f-0d5900599bf6"
   },
   "outputs": [
    {
     "data": {
      "text/plain": [
       "<matplotlib.axes._subplots.AxesSubplot at 0x7f83dab2c250>"
      ]
     },
     "execution_count": 47,
     "metadata": {},
     "output_type": "execute_result"
    },
    {
     "data": {
      "image/png": "[encoded data removed]",
      "text/plain": [
       "<Figure size 432x288 with 1 Axes>"
      ]
     },
     "metadata": {
      "needs_background": "light"
     },
     "output_type": "display_data"
    }
   ],
   "source": [
    "# Average Sales for the year 2013\n",
    "sales_2013 = data[data['Year']==2013]['sales'].groupby(data['Week']).mean()\n",
    "\n",
    "sns.lineplot(x=sales_2013.index, y=sales_2013.values)\n"
   ]
  },
  {
   "cell_type": "code",
   "execution_count": 48,
   "metadata": {
    "colab": {
     "base_uri": "https://localhost:8080/",
     "height": 297
    },
    "id": "h3CLAWmzQYAT",
    "outputId": "5466a525-9435-4e32-d534-682bf39d7a3d"
   },
   "outputs": [
    {
     "data": {
      "text/plain": [
       "<matplotlib.axes._subplots.AxesSubplot at 0x7f83dab1c910>"
      ]
     },
     "execution_count": 48,
     "metadata": {},
     "output_type": "execute_result"
    },
    {
     "data": {
      "image/png": "[encoded data removed]",
      "text/plain": [
       "<Figure size 432x288 with 1 Axes>"
      ]
     },
     "metadata": {
      "needs_background": "light"
     },
     "output_type": "display_data"
    }
   ],
   "source": [
    "# Average Sales for the year 2014\n",
    "sales_2014 = data[data['Year']==2014]['sales'].groupby(data['Week']).mean()\n",
    "\n",
    "sns.lineplot(x=sales_2014.index, y=sales_2014.values)\n"
   ]
  },
  {
   "cell_type": "code",
   "execution_count": 49,
   "metadata": {
    "colab": {
     "base_uri": "https://localhost:8080/",
     "height": 369
    },
    "id": "a5nkvnDBQiKM",
    "outputId": "e1cedf40-97d3-43c9-ca43-6eef375e47ba"
   },
   "outputs": [
    {
     "data": {
      "image/png": "[encoded data removed]",
      "text/plain": [
       "<Figure size 1440x576 with 1 Axes>"
      ]
     },
     "metadata": {
      "needs_background": "light"
     },
     "output_type": "display_data"
    }
   ],
   "source": [
    "# Plotting the above three plot together \n",
    "plt.figure(figsize=(20,8))\n",
    "sns.lineplot(x=sales_2012.index, y=sales_2012.values)\n",
    "sns.lineplot(x=sales_2013.index, y=sales_2013.values)\n",
    "sns.lineplot(x=sales_2014.index, y=sales_2014.values)\n",
    "plt.grid()\n",
    "plt.xticks(np.arange(1,60, step=1))\n",
    "plt.legend(['2012', '2013', '2014'], loc='best', fontsize=16)\n",
    "plt.title('Average Sales Per Year', fontsize=20)\n",
    "plt.ylabel('Sales', fontsize=16)\n",
    "plt.xlabel('Weeks', fontsize=16)\n",
    "plt.show()"
   ]
  },
  {
   "cell_type": "markdown",
   "metadata": {
    "id": "X_PabBHymf0q"
   },
   "source": [
    "plotting the graph for average weekly sales for the years 2012,2013,2014 based on day"
   ]
  },
  {
   "cell_type": "code",
   "execution_count": 50,
   "metadata": {
    "colab": {
     "base_uri": "https://localhost:8080/",
     "height": 297
    },
    "id": "--oD_KkqQ8TG",
    "outputId": "747f1ef0-d4af-42db-bb77-daa5b1ec5cc8"
   },
   "outputs": [
    {
     "data": {
      "text/plain": [
       "<matplotlib.axes._subplots.AxesSubplot at 0x7f83dbb56690>"
      ]
     },
     "execution_count": 50,
     "metadata": {},
     "output_type": "execute_result"
    },
    {
     "data": {
      "image/png": "[encoded data removed]",
      "text/plain": [
       "<Figure size 432x288 with 1 Axes>"
      ]
     },
     "metadata": {
      "needs_background": "light"
     },
     "output_type": "display_data"
    }
   ],
   "source": [
    "# Average Sales for the year 2012\n",
    "sales_2012 = data[data['Year']==2012]['sales'].groupby(data['Day']).mean()\n",
    "\n",
    "sns.lineplot(x=sales_2012.index, y=sales_2012.values)\n"
   ]
  },
  {
   "cell_type": "code",
   "execution_count": 51,
   "metadata": {
    "colab": {
     "base_uri": "https://localhost:8080/",
     "height": 297
    },
    "id": "-M7TJN7IRUrm",
    "outputId": "b4f9eb1e-bd0f-4c71-a2ea-8aabd44ca2a8"
   },
   "outputs": [
    {
     "data": {
      "text/plain": [
       "<matplotlib.axes._subplots.AxesSubplot at 0x7f83dbc253d0>"
      ]
     },
     "execution_count": 51,
     "metadata": {},
     "output_type": "execute_result"
    },
    {
     "data": {
      "image/png": "[encoded data removed]",
      "text/plain": [
       "<Figure size 432x288 with 1 Axes>"
      ]
     },
     "metadata": {
      "needs_background": "light"
     },
     "output_type": "display_data"
    }
   ],
   "source": [
    "# Average Sales for the year 2013\n",
    "sales_2013 = data[data['Year']==2013]['sales'].groupby(data['Day']).mean()\n",
    "\n",
    "sns.lineplot(x=sales_2013.index, y=sales_2013.values)\n"
   ]
  },
  {
   "cell_type": "code",
   "execution_count": 52,
   "metadata": {
    "colab": {
     "base_uri": "https://localhost:8080/",
     "height": 297
    },
    "id": "4qtvf7YzRXx7",
    "outputId": "fd86964f-e3a3-4612-edcb-cfcc61515ff5"
   },
   "outputs": [
    {
     "data": {
      "text/plain": [
       "<matplotlib.axes._subplots.AxesSubplot at 0x7f83dc39d850>"
      ]
     },
     "execution_count": 52,
     "metadata": {},
     "output_type": "execute_result"
    },
    {
     "data": {
      "image/png": "[encoded data removed]",
      "text/plain": [
       "<Figure size 432x288 with 1 Axes>"
      ]
     },
     "metadata": {
      "needs_background": "light"
     },
     "output_type": "display_data"
    }
   ],
   "source": [
    "# Average Sales for the year 2014\n",
    "sales_2014 = data[data['Year']==2014]['sales'].groupby(data['Day']).mean()\n",
    "\n",
    "sns.lineplot(x=sales_2014.index, y=sales_2014.values)\n"
   ]
  },
  {
   "cell_type": "code",
   "execution_count": 53,
   "metadata": {
    "colab": {
     "base_uri": "https://localhost:8080/",
     "height": 371
    },
    "id": "jZ6m3F9mRvNM",
    "outputId": "31cea204-7f45-4199-f751-9c94dc01d8ec"
   },
   "outputs": [
    {
     "data": {
      "image/png": "[encoded data removed]",
      "text/plain": [
       "<Figure size 1440x576 with 1 Axes>"
      ]
     },
     "metadata": {
      "needs_background": "light"
     },
     "output_type": "display_data"
    }
   ],
   "source": [
    "# Plotting the above three plot together \n",
    "plt.figure(figsize=(20,8))\n",
    "sns.lineplot(x=sales_2012.index, y=sales_2012.values)\n",
    "sns.lineplot(x=sales_2013.index, y=sales_2013.values)\n",
    "sns.lineplot(x=sales_2014.index, y=sales_2014.values)\n",
    "plt.grid()\n",
    "plt.xticks(np.arange(1,32, step=1))\n",
    "plt.legend(['2012', '2013', '2014'], loc='best', fontsize=16)\n",
    "plt.title('Average Sales Per Year', fontsize=20)\n",
    "plt.ylabel('Sales', fontsize=16)\n",
    "plt.xlabel('Days', fontsize=16)\n",
    "plt.show()"
   ]
  },
  {
   "cell_type": "markdown",
   "metadata": {
    "id": "nQB9OySOmxrk"
   },
   "source": [
    "plotting the graph for average sales for the category_of_product "
   ]
  },
  {
   "cell_type": "code",
   "execution_count": 54,
   "metadata": {
    "colab": {
     "base_uri": "https://localhost:8080/",
     "height": 297
    },
    "id": "9CN69_YsR1R9",
    "outputId": "3ddb9589-6a3e-4204-ce38-77e218da8c6a"
   },
   "outputs": [
    {
     "data": {
      "image/png": "[encoded data removed]",
      "text/plain": [
       "<Figure size 432x288 with 1 Axes>"
      ]
     },
     "metadata": {
      "needs_background": "light"
     },
     "output_type": "display_data"
    }
   ],
   "source": [
    "# Average Sales per Category of product\n",
    "sales = data['sales'].groupby(data['category_of_product']).mean()\n",
    "sns.barplot(x=sales.index, y=sales.values, palette='dark')\n",
    "plt.grid()\n",
    "plt.title('Average Sales per Category of product')\n",
    "plt.xlabel('category_of_product')\n",
    "plt.ylabel('Sales')\n",
    "plt.show()"
   ]
  },
  {
   "cell_type": "markdown",
   "metadata": {
    "id": "t5HwgG3QnIPR"
   },
   "source": [
    "plotting the graph for average sales for the state"
   ]
  },
  {
   "cell_type": "code",
   "execution_count": 55,
   "metadata": {
    "colab": {
     "base_uri": "https://localhost:8080/",
     "height": 295
    },
    "id": "FWDohWCtSiJN",
    "outputId": "4b268e99-687d-4758-87fc-3a8a1c78ceda"
   },
   "outputs": [
    {
     "data": {
      "image/png": "[encoded data removed]",
      "text/plain": [
       "<Figure size 432x288 with 1 Axes>"
      ]
     },
     "metadata": {
      "needs_background": "light"
     },
     "output_type": "display_data"
    }
   ],
   "source": [
    "# Average Sales per state\n",
    "sales = data['sales'].groupby(data['state']).mean()\n",
    "sns.barplot(x=sales.index, y=sales.values, palette='dark')\n",
    "plt.grid()\n",
    "plt.title('Average Sales per State')\n",
    "plt.xlabel('State')\n",
    "plt.ylabel('Sales')\n",
    "plt.show()"
   ]
  },
  {
   "cell_type": "markdown",
   "metadata": {
    "id": "GMnAKAxtnVE3"
   },
   "source": [
    "plotting scatter plot for all columns w.r.to target"
   ]
  },
  {
   "cell_type": "code",
   "execution_count": 56,
   "metadata": {
    "id": "MJTOCvIAT6Kq"
   },
   "outputs": [],
   "source": [
    "def scatter(data, column):\n",
    "    plt.figure()\n",
    "    plt.scatter(data[column], data['sales'])\n",
    "    plt.ylabel('sales')\n",
    "    plt.xlabel(column)\n",
    "    plt.grid(True)\n"
   ]
  },
  {
   "cell_type": "code",
   "execution_count": 57,
   "metadata": {
    "colab": {
     "base_uri": "https://localhost:8080/",
     "height": 1000
    },
    "id": "-K7rCX2FUMK2",
    "outputId": "8d3ee170-4bd3-46bd-9685-f5b30ff01968"
   },
   "outputs": [
    {
     "data": {
      "image/png": "[encoded data removed]",
      "text/plain": [
       "<Figure size 432x288 with 1 Axes>"
      ]
     },
     "metadata": {
      "needs_background": "light"
     },
     "output_type": "display_data"
    },
    {
     "data": {
      "image/png": "[encoded data removed]",
      "text/plain": [
       "<Figure size 432x288 with 1 Axes>"
      ]
     },
     "metadata": {
      "needs_background": "light"
     },
     "output_type": "display_data"
    },
    {
     "data": {
      "image/png": "[encoded data removed]",
      "text/plain": [
       "<Figure size 432x288 with 1 Axes>"
      ]
     },
     "metadata": {
      "needs_background": "light"
     },
     "output_type": "display_data"
    },
    {
     "data": {
      "image/png": "[encoded data removed]",
      "text/plain": [
       "<Figure size 432x288 with 1 Axes>"
      ]
     },
     "metadata": {
      "needs_background": "light"
     },
     "output_type": "display_data"
    },
    {
     "data": {
      "image/png": "[encoded data removed]",
      "text/plain": [
       "<Figure size 432x288 with 1 Axes>"
      ]
     },
     "metadata": {
      "needs_background": "light"
     },
     "output_type": "display_data"
    }
   ],
   "source": [
    "scatter(data, 'week_id')\n",
    "scatter(data, 'outlet')\n",
    "scatter(data, 'product_identifier')\n",
    "scatter(data, 'sell_price')\n",
    "scatter(data, 'department_identifier')"
   ]
  },
  {
   "cell_type": "markdown",
   "metadata": {
    "id": "LJOwI-8Znnb5"
   },
   "source": [
    "plotting Boxplot to observe the outliers"
   ]
  },
  {
   "cell_type": "code",
   "execution_count": 58,
   "metadata": {
    "colab": {
     "base_uri": "https://localhost:8080/",
     "height": 295
    },
    "id": "i3DJIjI3VQMk",
    "outputId": "d061bef0-9c35-4e48-882b-fe2a5a269c60"
   },
   "outputs": [
    {
     "data": {
      "image/png": "[encoded data removed]",
      "text/plain": [
       "<Figure size 432x288 with 1 Axes>"
      ]
     },
     "metadata": {
      "needs_background": "light"
     },
     "output_type": "display_data"
    }
   ],
   "source": [
    "# plot boxplot\n",
    "sns.boxplot(x=\"state\", y=\"sales\", data=data)\n",
    "\n",
    "# add title and labels\n",
    "plt.title(\"Sales by state\")\n",
    "plt.xlabel(\"state\")\n",
    "plt.ylabel(\"sales\")\n",
    "\n",
    "# show the plot\n",
    "plt.show()\n"
   ]
  },
  {
   "cell_type": "code",
   "execution_count": 59,
   "metadata": {
    "colab": {
     "base_uri": "https://localhost:8080/",
     "height": 297
    },
    "id": "sinBkfi5Vhs5",
    "outputId": "6f3887c4-4234-485c-a858-df35898c529f"
   },
   "outputs": [
    {
     "data": {
      "image/png": "[encoded data removed]",
      "text/plain": [
       "<Figure size 432x288 with 1 Axes>"
      ]
     },
     "metadata": {
      "needs_background": "light"
     },
     "output_type": "display_data"
    }
   ],
   "source": [
    "# plot boxplot\n",
    "sns.boxplot(x=\"category_of_product\", y=\"sales\", data=data)\n",
    "\n",
    "# add title and labels\n",
    "plt.title(\"Sales by category_of_product\")\n",
    "plt.xlabel(\"category_of_product\")\n",
    "plt.ylabel(\"sales\")\n",
    "\n",
    "# show the plot\n",
    "plt.show()\n"
   ]
  },
  {
   "cell_type": "code",
   "execution_count": 60,
   "metadata": {
    "colab": {
     "base_uri": "https://localhost:8080/",
     "height": 312
    },
    "id": "UeJsieqEVzAN",
    "outputId": "73eebdd0-2393-4956-90d6-60bdda67ccca"
   },
   "outputs": [
    {
     "data": {
      "image/png": "[encoded data removed]",
      "text/plain": [
       "<Figure size 1728x288 with 3 Axes>"
      ]
     },
     "metadata": {
      "needs_background": "light"
     },
     "output_type": "display_data"
    },
    {
     "data": {
      "image/png": "[encoded data removed]",
      "text/plain": [
       "<Figure size 1728x288 with 3 Axes>"
      ]
     },
     "metadata": {
      "needs_background": "light"
     },
     "output_type": "display_data"
    }
   ],
   "source": [
    "plt.figure(figsize = (24,4))\n",
    "plt.subplot(1,3,1)\n",
    "sns.boxplot(data['week_id'])\n",
    "plt.subplot(1,3,2)\n",
    "sns.boxplot(data['outlet'])\n",
    "plt.subplot(1,3,3)\n",
    "sns.boxplot(data['product_identifier'])\n",
    "plt.show()\n",
    "plt.figure(figsize = (24,4))\n",
    "plt.subplot(1,3,1)\n",
    "sns.boxplot(data['sell_price'])\n",
    "plt.subplot(1,3,2)\n",
    "sns.boxplot(data['department_identifier'])\n",
    "plt.subplot(1,3,3)\n",
    "sns.boxplot(data['sales'])\n",
    "plt.show()"
   ]
  },
  {
   "cell_type": "code",
   "execution_count": 61,
   "metadata": {
    "colab": {
     "base_uri": "https://localhost:8080/",
     "height": 526
    },
    "id": "vTAKnzm3Wbt3",
    "outputId": "b0f3f87d-ac3f-4579-cbfd-3582048f3737"
   },
   "outputs": [
    {
     "data": {
      "image/png": "[encoded data removed]",
      "text/plain": [
       "<Figure size 1152x576 with 2 Axes>"
      ]
     },
     "metadata": {
      "needs_background": "light"
     },
     "output_type": "display_data"
    }
   ],
   "source": [
    "#correlation matrix\n",
    "plt.figure(figsize=(16,8))\n",
    "sns.heatmap(data.corr(),annot=True, cmap=\"RdBu\")\n",
    "plt.title(\"Correlations Between Variables\", size=18)\n",
    "plt.show() #'RdBu' says take red to blue and having white in the middle , Red is negatively correlated and Blue is positively correlated"
   ]
  },
  {
   "cell_type": "code",
   "execution_count": 62,
   "metadata": {
    "colab": {
     "base_uri": "https://localhost:8080/"
    },
    "id": "M1wSGR7aXELP",
    "outputId": "f2f555fd-c923-4af6-a2c3-f358a57f35b3"
   },
   "outputs": [
    {
     "data": {
      "text/plain": [
       "Index(['date', 'week_id', 'outlet', 'product_identifier', 'sell_price',\n",
       "       'department_identifier', 'category_of_product', 'state', 'sales',\n",
       "       'Year', 'Month', 'Day', 'Week'],\n",
       "      dtype='object')"
      ]
     },
     "execution_count": 62,
     "metadata": {},
     "output_type": "execute_result"
    }
   ],
   "source": [
    "data.columns"
   ]
  },
  {
   "cell_type": "markdown",
   "metadata": {
    "id": "3CBpEOaHn2Lu"
   },
   "source": [
    "Retriving the numerical columns"
   ]
  },
  {
   "cell_type": "code",
   "execution_count": 63,
   "metadata": {
    "colab": {
     "base_uri": "https://localhost:8080/",
     "height": 206
    },
    "id": "WKFMHhJGXa6P",
    "outputId": "bc06f437-1688-480d-9cb7-c9c461753dd7"
   },
   "outputs": [
    {
     "data": {
      "text/html": [
       "<div>\n",
       "<style scoped>\n",
       "    .dataframe tbody tr th:only-of-type {\n",
       "        vertical-align: middle;\n",
       "    }\n",
       "\n",
       "    .dataframe tbody tr th {\n",
       "        vertical-align: top;\n",
       "    }\n",
       "\n",
       "    .dataframe thead th {\n",
       "        text-align: right;\n",
       "    }\n",
       "</style>\n",
       "<table border=\"1\" class=\"dataframe\">\n",
       "  <thead>\n",
       "    <tr style=\"text-align: right;\">\n",
       "      <th></th>\n",
       "      <th>week_id</th>\n",
       "      <th>outlet</th>\n",
       "      <th>product_identifier</th>\n",
       "      <th>sell_price</th>\n",
       "      <th>department_identifier</th>\n",
       "      <th>sales</th>\n",
       "    </tr>\n",
       "  </thead>\n",
       "  <tbody>\n",
       "    <tr>\n",
       "      <th>0</th>\n",
       "      <td>49</td>\n",
       "      <td>111</td>\n",
       "      <td>74</td>\n",
       "      <td>2.94</td>\n",
       "      <td>11</td>\n",
       "      <td>0</td>\n",
       "    </tr>\n",
       "    <tr>\n",
       "      <th>1</th>\n",
       "      <td>49</td>\n",
       "      <td>111</td>\n",
       "      <td>337</td>\n",
       "      <td>7.44</td>\n",
       "      <td>11</td>\n",
       "      <td>1</td>\n",
       "    </tr>\n",
       "    <tr>\n",
       "      <th>2</th>\n",
       "      <td>49</td>\n",
       "      <td>111</td>\n",
       "      <td>423</td>\n",
       "      <td>0.97</td>\n",
       "      <td>12</td>\n",
       "      <td>0</td>\n",
       "    </tr>\n",
       "    <tr>\n",
       "      <th>3</th>\n",
       "      <td>49</td>\n",
       "      <td>111</td>\n",
       "      <td>432</td>\n",
       "      <td>4.97</td>\n",
       "      <td>12</td>\n",
       "      <td>0</td>\n",
       "    </tr>\n",
       "    <tr>\n",
       "      <th>4</th>\n",
       "      <td>49</td>\n",
       "      <td>111</td>\n",
       "      <td>581</td>\n",
       "      <td>4.88</td>\n",
       "      <td>21</td>\n",
       "      <td>0</td>\n",
       "    </tr>\n",
       "  </tbody>\n",
       "</table>\n",
       "</div>"
      ],
      "text/plain": [
       "   week_id  outlet  product_identifier  sell_price  department_identifier  \\\n",
       "0       49     111                  74        2.94                     11   \n",
       "1       49     111                 337        7.44                     11   \n",
       "2       49     111                 423        0.97                     12   \n",
       "3       49     111                 432        4.97                     12   \n",
       "4       49     111                 581        4.88                     21   \n",
       "\n",
       "   sales  \n",
       "0      0  \n",
       "1      1  \n",
       "2      0  \n",
       "3      0  \n",
       "4      0  "
      ]
     },
     "execution_count": 63,
     "metadata": {},
     "output_type": "execute_result"
    }
   ],
   "source": [
    "data_num=data[['week_id','outlet','product_identifier','sell_price','department_identifier','sales']]\n",
    "data_num.head()"
   ]
  },
  {
   "cell_type": "markdown",
   "metadata": {
    "id": "MkRNipl1oVHK"
   },
   "source": [
    "As the data was slightly right skewed we have to do normalization for numerical columns"
   ]
  },
  {
   "cell_type": "code",
   "execution_count": 64,
   "metadata": {
    "colab": {
     "base_uri": "https://localhost:8080/",
     "height": 423
    },
    "id": "O1PRM_ryXrjf",
    "outputId": "9ae59069-5103-4a55-a1e3-f55171870c1f"
   },
   "outputs": [
    {
     "data": {
      "text/html": [
       "<div>\n",
       "<style scoped>\n",
       "    .dataframe tbody tr th:only-of-type {\n",
       "        vertical-align: middle;\n",
       "    }\n",
       "\n",
       "    .dataframe tbody tr th {\n",
       "        vertical-align: top;\n",
       "    }\n",
       "\n",
       "    .dataframe thead th {\n",
       "        text-align: right;\n",
       "    }\n",
       "</style>\n",
       "<table border=\"1\" class=\"dataframe\">\n",
       "  <thead>\n",
       "    <tr style=\"text-align: right;\">\n",
       "      <th></th>\n",
       "      <th>week_id</th>\n",
       "      <th>outlet</th>\n",
       "      <th>product_identifier</th>\n",
       "      <th>sell_price</th>\n",
       "      <th>department_identifier</th>\n",
       "      <th>sales</th>\n",
       "    </tr>\n",
       "  </thead>\n",
       "  <tbody>\n",
       "    <tr>\n",
       "      <th>0</th>\n",
       "      <td>0.0</td>\n",
       "      <td>0.0</td>\n",
       "      <td>0.000000</td>\n",
       "      <td>0.065222</td>\n",
       "      <td>0.000000</td>\n",
       "      <td>0.000000</td>\n",
       "    </tr>\n",
       "    <tr>\n",
       "      <th>1</th>\n",
       "      <td>0.0</td>\n",
       "      <td>0.0</td>\n",
       "      <td>0.089243</td>\n",
       "      <td>0.166780</td>\n",
       "      <td>0.000000</td>\n",
       "      <td>0.003413</td>\n",
       "    </tr>\n",
       "    <tr>\n",
       "      <th>2</th>\n",
       "      <td>0.0</td>\n",
       "      <td>0.0</td>\n",
       "      <td>0.118426</td>\n",
       "      <td>0.020763</td>\n",
       "      <td>0.045455</td>\n",
       "      <td>0.000000</td>\n",
       "    </tr>\n",
       "    <tr>\n",
       "      <th>3</th>\n",
       "      <td>0.0</td>\n",
       "      <td>0.0</td>\n",
       "      <td>0.121479</td>\n",
       "      <td>0.111036</td>\n",
       "      <td>0.045455</td>\n",
       "      <td>0.000000</td>\n",
       "    </tr>\n",
       "    <tr>\n",
       "      <th>4</th>\n",
       "      <td>0.0</td>\n",
       "      <td>0.0</td>\n",
       "      <td>0.172039</td>\n",
       "      <td>0.109005</td>\n",
       "      <td>0.454545</td>\n",
       "      <td>0.000000</td>\n",
       "    </tr>\n",
       "    <tr>\n",
       "      <th>...</th>\n",
       "      <td>...</td>\n",
       "      <td>...</td>\n",
       "      <td>...</td>\n",
       "      <td>...</td>\n",
       "      <td>...</td>\n",
       "      <td>...</td>\n",
       "    </tr>\n",
       "    <tr>\n",
       "      <th>394995</th>\n",
       "      <td>1.0</td>\n",
       "      <td>1.0</td>\n",
       "      <td>0.969800</td>\n",
       "      <td>0.061611</td>\n",
       "      <td>1.000000</td>\n",
       "      <td>0.006826</td>\n",
       "    </tr>\n",
       "    <tr>\n",
       "      <th>394996</th>\n",
       "      <td>1.0</td>\n",
       "      <td>1.0</td>\n",
       "      <td>0.970818</td>\n",
       "      <td>0.003385</td>\n",
       "      <td>1.000000</td>\n",
       "      <td>0.027304</td>\n",
       "    </tr>\n",
       "    <tr>\n",
       "      <th>394997</th>\n",
       "      <td>1.0</td>\n",
       "      <td>1.0</td>\n",
       "      <td>0.994231</td>\n",
       "      <td>0.055292</td>\n",
       "      <td>1.000000</td>\n",
       "      <td>0.000000</td>\n",
       "    </tr>\n",
       "    <tr>\n",
       "      <th>394998</th>\n",
       "      <td>1.0</td>\n",
       "      <td>1.0</td>\n",
       "      <td>0.995589</td>\n",
       "      <td>0.043557</td>\n",
       "      <td>1.000000</td>\n",
       "      <td>0.000000</td>\n",
       "    </tr>\n",
       "    <tr>\n",
       "      <th>394999</th>\n",
       "      <td>1.0</td>\n",
       "      <td>1.0</td>\n",
       "      <td>1.000000</td>\n",
       "      <td>0.045814</td>\n",
       "      <td>1.000000</td>\n",
       "      <td>0.000000</td>\n",
       "    </tr>\n",
       "  </tbody>\n",
       "</table>\n",
       "<p>395000 rows × 6 columns</p>\n",
       "</div>"
      ],
      "text/plain": [
       "        week_id  outlet  product_identifier  sell_price  \\\n",
       "0           0.0     0.0            0.000000    0.065222   \n",
       "1           0.0     0.0            0.089243    0.166780   \n",
       "2           0.0     0.0            0.118426    0.020763   \n",
       "3           0.0     0.0            0.121479    0.111036   \n",
       "4           0.0     0.0            0.172039    0.109005   \n",
       "...         ...     ...                 ...         ...   \n",
       "394995      1.0     1.0            0.969800    0.061611   \n",
       "394996      1.0     1.0            0.970818    0.003385   \n",
       "394997      1.0     1.0            0.994231    0.055292   \n",
       "394998      1.0     1.0            0.995589    0.043557   \n",
       "394999      1.0     1.0            1.000000    0.045814   \n",
       "\n",
       "        department_identifier     sales  \n",
       "0                    0.000000  0.000000  \n",
       "1                    0.000000  0.003413  \n",
       "2                    0.045455  0.000000  \n",
       "3                    0.045455  0.000000  \n",
       "4                    0.454545  0.000000  \n",
       "...                       ...       ...  \n",
       "394995               1.000000  0.006826  \n",
       "394996               1.000000  0.027304  \n",
       "394997               1.000000  0.000000  \n",
       "394998               1.000000  0.000000  \n",
       "394999               1.000000  0.000000  \n",
       "\n",
       "[395000 rows x 6 columns]"
      ]
     },
     "execution_count": 64,
     "metadata": {},
     "output_type": "execute_result"
    }
   ],
   "source": [
    "# normalizing the numerical columns\n",
    "data_num = (data_num - data_num.min()) / (data_num.max() - data_num.min())\n",
    "data_num"
   ]
  },
  {
   "cell_type": "code",
   "execution_count": 65,
   "metadata": {
    "colab": {
     "base_uri": "https://localhost:8080/"
    },
    "id": "q9uIjnXnYAyz",
    "outputId": "1513acfd-3786-416f-9e9b-fcd6ceb37353"
   },
   "outputs": [
    {
     "data": {
      "text/plain": [
       "fast_moving_consumer_goods    229100\n",
       "drinks_and_food               134300\n",
       "others                         31600\n",
       "Name: category_of_product, dtype: int64"
      ]
     },
     "execution_count": 65,
     "metadata": {},
     "output_type": "execute_result"
    }
   ],
   "source": [
    "data[\"category_of_product\"].value_counts()"
   ]
  },
  {
   "cell_type": "code",
   "execution_count": 66,
   "metadata": {
    "colab": {
     "base_uri": "https://localhost:8080/"
    },
    "id": "ceBwcYJNYRJY",
    "outputId": "86f0fdbd-3ea2-42a0-aae8-00153356b17a"
   },
   "outputs": [
    {
     "data": {
      "text/plain": [
       "Maharashtra    158000\n",
       "Kerala         118500\n",
       "Telangana      118500\n",
       "Name: state, dtype: int64"
      ]
     },
     "execution_count": 66,
     "metadata": {},
     "output_type": "execute_result"
    }
   ],
   "source": [
    "data[\"state\"].value_counts()"
   ]
  },
  {
   "cell_type": "markdown",
   "metadata": {
    "id": "QZttNcyGou0D"
   },
   "source": [
    "Converting categorical to numerical columns"
   ]
  },
  {
   "cell_type": "code",
   "execution_count": 67,
   "metadata": {
    "id": "b4hjpsrwYTTC"
   },
   "outputs": [],
   "source": [
    "# Converting 'category_of_product' column to numerical\n",
    "cop_mapping = {'fast_moving_consumer_goods': 1, 'drinks_and_food': 2, 'others': 3}\n",
    "data['category_of_product'] = data['category_of_product'].map(cop_mapping)\n",
    "\n",
    "# Converting 'state' column to numerical\n",
    "state_mapping = {'Kerala': 1, 'Maharashtra': 2, 'Telangana': 3}\n",
    "data['state'] = data['state'].map(state_mapping)"
   ]
  },
  {
   "cell_type": "code",
   "execution_count": 68,
   "metadata": {
    "colab": {
     "base_uri": "https://localhost:8080/",
     "height": 487
    },
    "id": "CCD8vYjhZspt",
    "outputId": "9a64915b-a4db-4f4f-a2ff-1c8774eea07f"
   },
   "outputs": [
    {
     "data": {
      "text/html": [
       "<div>\n",
       "<style scoped>\n",
       "    .dataframe tbody tr th:only-of-type {\n",
       "        vertical-align: middle;\n",
       "    }\n",
       "\n",
       "    .dataframe tbody tr th {\n",
       "        vertical-align: top;\n",
       "    }\n",
       "\n",
       "    .dataframe thead th {\n",
       "        text-align: right;\n",
       "    }\n",
       "</style>\n",
       "<table border=\"1\" class=\"dataframe\">\n",
       "  <thead>\n",
       "    <tr style=\"text-align: right;\">\n",
       "      <th></th>\n",
       "      <th>week_id</th>\n",
       "      <th>outlet</th>\n",
       "      <th>product_identifier</th>\n",
       "      <th>sell_price</th>\n",
       "      <th>department_identifier</th>\n",
       "      <th>sales</th>\n",
       "      <th>category_of_product</th>\n",
       "    </tr>\n",
       "  </thead>\n",
       "  <tbody>\n",
       "    <tr>\n",
       "      <th>0</th>\n",
       "      <td>0.0</td>\n",
       "      <td>0.0</td>\n",
       "      <td>0.000000</td>\n",
       "      <td>0.065222</td>\n",
       "      <td>0.000000</td>\n",
       "      <td>0.000000</td>\n",
       "      <td>3</td>\n",
       "    </tr>\n",
       "    <tr>\n",
       "      <th>1</th>\n",
       "      <td>0.0</td>\n",
       "      <td>0.0</td>\n",
       "      <td>0.089243</td>\n",
       "      <td>0.166780</td>\n",
       "      <td>0.000000</td>\n",
       "      <td>0.003413</td>\n",
       "      <td>3</td>\n",
       "    </tr>\n",
       "    <tr>\n",
       "      <th>2</th>\n",
       "      <td>0.0</td>\n",
       "      <td>0.0</td>\n",
       "      <td>0.118426</td>\n",
       "      <td>0.020763</td>\n",
       "      <td>0.045455</td>\n",
       "      <td>0.000000</td>\n",
       "      <td>3</td>\n",
       "    </tr>\n",
       "    <tr>\n",
       "      <th>3</th>\n",
       "      <td>0.0</td>\n",
       "      <td>0.0</td>\n",
       "      <td>0.121479</td>\n",
       "      <td>0.111036</td>\n",
       "      <td>0.045455</td>\n",
       "      <td>0.000000</td>\n",
       "      <td>3</td>\n",
       "    </tr>\n",
       "    <tr>\n",
       "      <th>4</th>\n",
       "      <td>0.0</td>\n",
       "      <td>0.0</td>\n",
       "      <td>0.172039</td>\n",
       "      <td>0.109005</td>\n",
       "      <td>0.454545</td>\n",
       "      <td>0.000000</td>\n",
       "      <td>1</td>\n",
       "    </tr>\n",
       "    <tr>\n",
       "      <th>...</th>\n",
       "      <td>...</td>\n",
       "      <td>...</td>\n",
       "      <td>...</td>\n",
       "      <td>...</td>\n",
       "      <td>...</td>\n",
       "      <td>...</td>\n",
       "      <td>...</td>\n",
       "    </tr>\n",
       "    <tr>\n",
       "      <th>394995</th>\n",
       "      <td>1.0</td>\n",
       "      <td>1.0</td>\n",
       "      <td>0.969800</td>\n",
       "      <td>0.061611</td>\n",
       "      <td>1.000000</td>\n",
       "      <td>0.006826</td>\n",
       "      <td>2</td>\n",
       "    </tr>\n",
       "    <tr>\n",
       "      <th>394996</th>\n",
       "      <td>1.0</td>\n",
       "      <td>1.0</td>\n",
       "      <td>0.970818</td>\n",
       "      <td>0.003385</td>\n",
       "      <td>1.000000</td>\n",
       "      <td>0.027304</td>\n",
       "      <td>2</td>\n",
       "    </tr>\n",
       "    <tr>\n",
       "      <th>394997</th>\n",
       "      <td>1.0</td>\n",
       "      <td>1.0</td>\n",
       "      <td>0.994231</td>\n",
       "      <td>0.055292</td>\n",
       "      <td>1.000000</td>\n",
       "      <td>0.000000</td>\n",
       "      <td>2</td>\n",
       "    </tr>\n",
       "    <tr>\n",
       "      <th>394998</th>\n",
       "      <td>1.0</td>\n",
       "      <td>1.0</td>\n",
       "      <td>0.995589</td>\n",
       "      <td>0.043557</td>\n",
       "      <td>1.000000</td>\n",
       "      <td>0.000000</td>\n",
       "      <td>2</td>\n",
       "    </tr>\n",
       "    <tr>\n",
       "      <th>394999</th>\n",
       "      <td>1.0</td>\n",
       "      <td>1.0</td>\n",
       "      <td>1.000000</td>\n",
       "      <td>0.045814</td>\n",
       "      <td>1.000000</td>\n",
       "      <td>0.000000</td>\n",
       "      <td>2</td>\n",
       "    </tr>\n",
       "  </tbody>\n",
       "</table>\n",
       "<p>395000 rows × 7 columns</p>\n",
       "</div>"
      ],
      "text/plain": [
       "        week_id  outlet  product_identifier  sell_price  \\\n",
       "0           0.0     0.0            0.000000    0.065222   \n",
       "1           0.0     0.0            0.089243    0.166780   \n",
       "2           0.0     0.0            0.118426    0.020763   \n",
       "3           0.0     0.0            0.121479    0.111036   \n",
       "4           0.0     0.0            0.172039    0.109005   \n",
       "...         ...     ...                 ...         ...   \n",
       "394995      1.0     1.0            0.969800    0.061611   \n",
       "394996      1.0     1.0            0.970818    0.003385   \n",
       "394997      1.0     1.0            0.994231    0.055292   \n",
       "394998      1.0     1.0            0.995589    0.043557   \n",
       "394999      1.0     1.0            1.000000    0.045814   \n",
       "\n",
       "        department_identifier     sales  category_of_product  \n",
       "0                    0.000000  0.000000                    3  \n",
       "1                    0.000000  0.003413                    3  \n",
       "2                    0.045455  0.000000                    3  \n",
       "3                    0.045455  0.000000                    3  \n",
       "4                    0.454545  0.000000                    1  \n",
       "...                       ...       ...                  ...  \n",
       "394995               1.000000  0.006826                    2  \n",
       "394996               1.000000  0.027304                    2  \n",
       "394997               1.000000  0.000000                    2  \n",
       "394998               1.000000  0.000000                    2  \n",
       "394999               1.000000  0.000000                    2  \n",
       "\n",
       "[395000 rows x 7 columns]"
      ]
     },
     "execution_count": 68,
     "metadata": {},
     "output_type": "execute_result"
    }
   ],
   "source": [
    "data1 = pd.concat([data_num,data['category_of_product']],axis=1)\n",
    "data1"
   ]
  },
  {
   "cell_type": "code",
   "execution_count": 69,
   "metadata": {
    "colab": {
     "base_uri": "https://localhost:8080/",
     "height": 270
    },
    "id": "TTmYoyA1Z1Jm",
    "outputId": "3389e4a7-8550-4e24-a5f4-dbefc6abd641"
   },
   "outputs": [
    {
     "data": {
      "text/html": [
       "<div>\n",
       "<style scoped>\n",
       "    .dataframe tbody tr th:only-of-type {\n",
       "        vertical-align: middle;\n",
       "    }\n",
       "\n",
       "    .dataframe tbody tr th {\n",
       "        vertical-align: top;\n",
       "    }\n",
       "\n",
       "    .dataframe thead th {\n",
       "        text-align: right;\n",
       "    }\n",
       "</style>\n",
       "<table border=\"1\" class=\"dataframe\">\n",
       "  <thead>\n",
       "    <tr style=\"text-align: right;\">\n",
       "      <th></th>\n",
       "      <th>week_id</th>\n",
       "      <th>outlet</th>\n",
       "      <th>product_identifier</th>\n",
       "      <th>sell_price</th>\n",
       "      <th>department_identifier</th>\n",
       "      <th>sales</th>\n",
       "      <th>category_of_product</th>\n",
       "      <th>state</th>\n",
       "    </tr>\n",
       "  </thead>\n",
       "  <tbody>\n",
       "    <tr>\n",
       "      <th>0</th>\n",
       "      <td>0.0</td>\n",
       "      <td>0.0</td>\n",
       "      <td>0.000000</td>\n",
       "      <td>0.065222</td>\n",
       "      <td>0.000000</td>\n",
       "      <td>0.000000</td>\n",
       "      <td>3</td>\n",
       "      <td>2</td>\n",
       "    </tr>\n",
       "    <tr>\n",
       "      <th>1</th>\n",
       "      <td>0.0</td>\n",
       "      <td>0.0</td>\n",
       "      <td>0.089243</td>\n",
       "      <td>0.166780</td>\n",
       "      <td>0.000000</td>\n",
       "      <td>0.003413</td>\n",
       "      <td>3</td>\n",
       "      <td>2</td>\n",
       "    </tr>\n",
       "    <tr>\n",
       "      <th>2</th>\n",
       "      <td>0.0</td>\n",
       "      <td>0.0</td>\n",
       "      <td>0.118426</td>\n",
       "      <td>0.020763</td>\n",
       "      <td>0.045455</td>\n",
       "      <td>0.000000</td>\n",
       "      <td>3</td>\n",
       "      <td>2</td>\n",
       "    </tr>\n",
       "    <tr>\n",
       "      <th>3</th>\n",
       "      <td>0.0</td>\n",
       "      <td>0.0</td>\n",
       "      <td>0.121479</td>\n",
       "      <td>0.111036</td>\n",
       "      <td>0.045455</td>\n",
       "      <td>0.000000</td>\n",
       "      <td>3</td>\n",
       "      <td>2</td>\n",
       "    </tr>\n",
       "    <tr>\n",
       "      <th>4</th>\n",
       "      <td>0.0</td>\n",
       "      <td>0.0</td>\n",
       "      <td>0.172039</td>\n",
       "      <td>0.109005</td>\n",
       "      <td>0.454545</td>\n",
       "      <td>0.000000</td>\n",
       "      <td>1</td>\n",
       "      <td>2</td>\n",
       "    </tr>\n",
       "  </tbody>\n",
       "</table>\n",
       "</div>"
      ],
      "text/plain": [
       "   week_id  outlet  product_identifier  sell_price  department_identifier  \\\n",
       "0      0.0     0.0            0.000000    0.065222               0.000000   \n",
       "1      0.0     0.0            0.089243    0.166780               0.000000   \n",
       "2      0.0     0.0            0.118426    0.020763               0.045455   \n",
       "3      0.0     0.0            0.121479    0.111036               0.045455   \n",
       "4      0.0     0.0            0.172039    0.109005               0.454545   \n",
       "\n",
       "      sales  category_of_product  state  \n",
       "0  0.000000                    3      2  \n",
       "1  0.003413                    3      2  \n",
       "2  0.000000                    3      2  \n",
       "3  0.000000                    3      2  \n",
       "4  0.000000                    1      2  "
      ]
     },
     "execution_count": 69,
     "metadata": {},
     "output_type": "execute_result"
    }
   ],
   "source": [
    "data_final= pd.concat([data1,data['state']],axis=1)\n",
    "data_final.head()"
   ]
  },
  {
   "cell_type": "code",
   "execution_count": 70,
   "metadata": {
    "colab": {
     "base_uri": "https://localhost:8080/"
    },
    "id": "UUZ7RMo0Z8qU",
    "outputId": "1814a911-bc4f-4456-ce7a-08e9a4e58562"
   },
   "outputs": [
    {
     "data": {
      "text/plain": [
       "(395000, 8)"
      ]
     },
     "execution_count": 70,
     "metadata": {},
     "output_type": "execute_result"
    }
   ],
   "source": [
    "data_final.shape"
   ]
  },
  {
   "cell_type": "code",
   "execution_count": 71,
   "metadata": {
    "colab": {
     "base_uri": "https://localhost:8080/"
    },
    "id": "bSJeQ8IWaCq5",
    "outputId": "aaeb85d6-f563-4de7-b232-2da620ee029e"
   },
   "outputs": [
    {
     "data": {
      "text/plain": [
       "0"
      ]
     },
     "execution_count": 71,
     "metadata": {},
     "output_type": "execute_result"
    }
   ],
   "source": [
    "data_final.isnull().sum().sum()"
   ]
  },
  {
   "cell_type": "markdown",
   "metadata": {
    "id": "qtDKa09Co7AS"
   },
   "source": [
    "Train and Test split"
   ]
  },
  {
   "cell_type": "code",
   "execution_count": 72,
   "metadata": {
    "id": "oX71OrM8aFHO"
   },
   "outputs": [],
   "source": [
    "# importing neccessary libraries\n",
    "from sklearn.model_selection import train_test_split\n",
    "\n",
    "# splitting of data\n",
    "X = data_final.drop(['sales'],axis=1)\n",
    "y = data_final['sales']"
   ]
  },
  {
   "cell_type": "code",
   "execution_count": 73,
   "metadata": {
    "id": "rSc-6BmJaOiY"
   },
   "outputs": [],
   "source": [
    "# Split data into training and testing sets\n",
    "X_train, X_test, y_train, y_test = train_test_split(X,y, test_size=0.3, random_state=42)"
   ]
  },
  {
   "cell_type": "markdown",
   "metadata": {
    "id": "npF-kZPkpNvZ"
   },
   "source": [
    "MODEL BUILDING WITH SKLEARN "
   ]
  },
  {
   "cell_type": "markdown",
   "metadata": {
    "id": "5sCT8YtspZC8"
   },
   "source": [
    "Random Forest Algorithm"
   ]
  },
  {
   "cell_type": "code",
   "execution_count": 74,
   "metadata": {
    "colab": {
     "base_uri": "https://localhost:8080/",
     "height": 74
    },
    "id": "4PVyde05aR69",
    "outputId": "ee244e06-6f64-4ce7-b19b-1687bd1d0ed0"
   },
   "outputs": [
    {
     "data": {
      "text/plain": [
       "RandomForestRegressor(random_state=42)"
      ]
     },
     "execution_count": 74,
     "metadata": {},
     "output_type": "execute_result"
    }
   ],
   "source": [
    "from sklearn.ensemble import RandomForestRegressor\n",
    "rf = RandomForestRegressor(n_estimators=100, random_state=42)\n",
    "rf.fit(X_train, y_train)"
   ]
  },
  {
   "cell_type": "code",
   "execution_count": 75,
   "metadata": {
    "id": "1Frtot5vaVGh"
   },
   "outputs": [],
   "source": [
    "y_pred=rf.predict(X_train)"
   ]
  },
  {
   "cell_type": "code",
   "execution_count": 76,
   "metadata": {
    "colab": {
     "base_uri": "https://localhost:8080/"
    },
    "id": "nHvQU8RFaXfS",
    "outputId": "f8789382-bd66-4b7f-e169-2b5329f6da92"
   },
   "outputs": [
    {
     "name": "stdout",
     "output_type": "stream",
     "text": [
      "Mean Absolute Error: 0.0027228240997448218\n",
      "Mean Squared Error: 5.803174556947977e-05\n",
      "Root Mean Squared Error: 0.007617857019495691\n",
      "R-squared: 0.6095584374748408\n"
     ]
    }
   ],
   "source": [
    "# Error Metrics\n",
    "from sklearn.metrics import mean_squared_error,mean_absolute_error,r2_score\n",
    "mae = mean_absolute_error(y_train, y_pred)\n",
    "mse = mean_squared_error(y_train, y_pred)\n",
    "rmse = np.sqrt(mse)\n",
    "r2 = r2_score(y_train, y_pred)\n",
    "print(\"Mean Absolute Error:\",mae)\n",
    "print(\"Mean Squared Error:\", mse)\n",
    "print(\"Root Mean Squared Error:\", rmse)\n",
    "print(\"R-squared:\", r2)"
   ]
  },
  {
   "cell_type": "code",
   "execution_count": 77,
   "metadata": {
    "colab": {
     "base_uri": "https://localhost:8080/",
     "height": 74
    },
    "id": "82NxCDsqaaBk",
    "outputId": "1053ecd0-314f-4e7b-f671-732c18b60f03"
   },
   "outputs": [
    {
     "data": {
      "text/plain": [
       "RandomForestRegressor(random_state=42)"
      ]
     },
     "execution_count": 77,
     "metadata": {},
     "output_type": "execute_result"
    }
   ],
   "source": [
    "rf.fit(X_test,y_test)"
   ]
  },
  {
   "cell_type": "code",
   "execution_count": 78,
   "metadata": {
    "id": "4eYfgFjXad3t"
   },
   "outputs": [],
   "source": [
    "y_preds=rf.predict(X_test)"
   ]
  },
  {
   "cell_type": "code",
   "execution_count": 79,
   "metadata": {
    "colab": {
     "base_uri": "https://localhost:8080/"
    },
    "id": "igKMhCwdahBZ",
    "outputId": "8dc80df0-7a4b-481a-8de8-07f11c1db617"
   },
   "outputs": [
    {
     "name": "stdout",
     "output_type": "stream",
     "text": [
      "Mean Absolute Error: 0.002290587583343725\n",
      "Mean Squared Error: 4.5900726508267673e-05\n",
      "Root Mean Squared Error: 0.006775007491380927\n",
      "R-squared: 0.7040175862040279\n"
     ]
    }
   ],
   "source": [
    "# Error Metrics\n",
    "from sklearn.metrics import mean_squared_error,mean_absolute_error,r2_score\n",
    "mae = mean_absolute_error(y_test, y_preds)\n",
    "mse = mean_squared_error(y_test, y_preds)\n",
    "rmse = np.sqrt(mse)\n",
    "r2 = r2_score(y_test, y_preds)\n",
    "print(\"Mean Absolute Error:\",mae)\n",
    "print(\"Mean Squared Error:\", mse)\n",
    "print(\"Root Mean Squared Error:\", rmse)\n",
    "print(\"R-squared:\", r2)"
   ]
  },
  {
   "cell_type": "markdown",
   "metadata": {
    "id": "SobgmeICph3X"
   },
   "source": [
    "MODEL BUILDING WITHOUT IMPORTING FROM SCIKIT-LEARN"
   ]
  },
  {
   "cell_type": "code",
   "execution_count": 80,
   "metadata": {
    "id": "USdXFiNXbuNl"
   },
   "outputs": [],
   "source": [
    "import numpy as np\n",
    "import pandas as pd\n",
    "\n",
    "class DecisionTreeRegressor: #which implements a decision tree regression algorithm\n",
    "    def __init__(self, max_depth=2): # initialize the object's attributes\n",
    "        self.max_depth = max_depth\n",
    "    \n",
    "    def fit(self, X, y): #X and y, which represent the input features and target values\n",
    "        self.tree = self.build_tree(X, y, depth=0) # build_tree method to construct the decision tree using the input data and the specified max_depth\n",
    "        \n",
    "    def build_tree(self, X, y, depth):\n",
    "        n_samples, n_features = X.shape # assigns samples and features to rows and columns \n",
    "        \n",
    "        if depth == self.max_depth or n_samples == 5: #whether the maximum depth of the tree has been reached \n",
    "            return np.mean(y) #the method returns the mean of the target values, which will be used as the prediction for the leaf node.\n",
    "        \n",
    "        feature_idxs = np.random.choice(n_features, size=2, replace=False) #selects two random features from the input data without replacement and calls\n",
    "        best_feature, best_threshold = self.find_best_split(X, y, feature_idxs) #find_best_split method to determine the best feature and threshold to split the data on\n",
    "        \n",
    "        if best_threshold is None: #it means that if no good split was found then return mean of target column\n",
    "            return np.mean(y)\n",
    "        \n",
    "        left_idxs = X[:, best_feature] < best_threshold #indicate which samples in the input data should go to the left or right child node\n",
    "        right_idxs = X[:, best_feature] >= best_threshold #based on whether their values for the best feature are less than or greater than or equal to the best threshold.\n",
    "        \n",
    "        left_tree = self.build_tree(X[left_idxs], y[left_idxs], depth+1) # recursively calls the build_tree method on the left and right subsets of the input data\n",
    "        right_tree = self.build_tree(X[right_idxs], y[right_idxs], depth+1) #passing in the corresponding input and target values and increasing the depth by 1.\n",
    "        \n",
    "        return (best_feature, best_threshold, left_tree, right_tree)\n",
    "        # the method returns a tuple containing the best feature, best threshold, and the left and right child nodes as subtrees\n",
    "    \n",
    "    def find_best_split(self, X, y, feature_idxs):\n",
    "        best_score = float('inf') #creates a floating-point value that represents positive infinity\n",
    "        best_feature = None #because it is used to keep track of the best found so far to split the data on\n",
    "        best_threshold = None\n",
    "        \n",
    "        for feature in feature_idxs: # code loops over each feature in feature_idxs\n",
    "            thresholds = np.unique(X[:, feature]) # loops over each unique threshold value for that feature\n",
    "            \n",
    "            for threshold in thresholds: # boolean index arrays are created to indicate which samples in the input data should go to which side\n",
    "                left_idxs = X[:, feature] < threshold\n",
    "                right_idxs = X[:, feature] >= threshold\n",
    "                \n",
    "                if np.sum(left_idxs) == 0 or np.sum(right_idxs) == 0: #checks whether there are any samples in either the left or right child node\n",
    "                    continue\n",
    "                \n",
    "                score = self.split_score(y, y[left_idxs], y[right_idxs])\n",
    "                \n",
    "                if score < best_score: # if split_score is better than best score,feature,.. found, then it is updated otherwise previous best is kept\n",
    "                    best_score = score\n",
    "                    best_feature = feature\n",
    "                    best_threshold = threshold\n",
    "                    \n",
    "        return best_feature, best_threshold # returns best values\n",
    "    \n",
    "    def split_score(self, y, y_left, y_right): # calculates the score for splitting the y target variable into two subgroups y_left and y_right\n",
    "        p_left = len(y_left) / len(y) # calculates the proportion of instances in y_left compared to the total number of instances in y\n",
    "        p_right = len(y_right) / len(y)\n",
    "        \n",
    "        score = p_left * np.var(y_left) + p_right * np.var(y_right) # calculates the score for splitting y into y_left and y_right\n",
    "        # np.var() function calculates the variance of an array\n",
    "        return score\n",
    "    \n",
    "    def predict(self, X):\n",
    "        return np.array([self.traverse_tree(x, self.tree) for x in X])\n",
    "    \n",
    "    def traverse_tree(self, x, node):\n",
    "        if isinstance(node, float):\n",
    "            return node\n",
    "        \n",
    "        feature, threshold, left_tree, right_tree = node\n",
    "        \n",
    "        if x[feature] < threshold:\n",
    "            if isinstance(left_tree,float):\n",
    "                return left_tree\n",
    "            else:\n",
    "                return self.traverse_tree(x, right_tree)\n",
    "        else:\n",
    "            if isinstance(right_tree,float):\n",
    "                return right_tree\n",
    "            else:\n",
    "                return self.traverse_tree(x,right_tree)\n",
    "        \n",
    "class RandomForestRegressor:\n",
    "    def __init__(self, n_trees=15, max_depth=2, subsample_size=0.5):\n",
    "        self.n_trees = n_trees\n",
    "        self.max_depth = max_depth\n",
    "        self.subsample_size = subsample_size\n",
    "        self.trees = []\n",
    "        \n",
    "    def fit(self, X, y):\n",
    "        for i in range(self.n_trees):\n",
    "            tree = DecisionTreeRegressor(max_depth=self.max_depth)\n",
    "            n_samples = len(X)\n",
    "            subsample_size = int(self.subsample_size * n_samples)\n",
    "            subsample_idxs = np.random.choice(range(n_samples), size=subsample_size, replace=True)\n",
    "            X_sub = X.iloc[subsample_idxs]\n",
    "            y_sub = y.iloc[subsample_idxs]\n",
    "            tree.fit(X_sub.values, y_sub.values)\n",
    "            #tree.fit(X[subsample_idxs], y[subsample_idxs])\n",
    "            self.trees.append(tree)\n",
    "            \n",
    "    def predict(self, X):\n",
    "        if isinstance(X, (int, float)):\n",
    "            X = np.array([[X]])\n",
    "        elif isinstance(X, pd.Series):\n",
    "            X = X.values.reshape(1, n_features)\n",
    "        else:\n",
    "            X = X.values\n",
    "        predictions = np.array([tree.predict(X) for tree in self.trees])\n",
    "        return np.mean(predictions, axis=0)"
   ]
  },
  {
   "cell_type": "code",
   "execution_count": 81,
   "metadata": {
    "id": "pS4-6IwWbuJ0"
   },
   "outputs": [],
   "source": [
    "rfr = RandomForestRegressor(n_trees=15, max_depth=2, subsample_size=0.5)"
   ]
  },
  {
   "cell_type": "code",
   "execution_count": 82,
   "metadata": {},
   "outputs": [],
   "source": [
    "rfr.fit(X_train, y_train)\n",
    "y_pred_train = rfr.predict(X_train)"
   ]
  },
  {
   "cell_type": "code",
   "execution_count": 83,
   "metadata": {},
   "outputs": [
    {
     "name": "stdout",
     "output_type": "stream",
     "text": [
      "Mean Absolute Error: 0.006473787730749975\n",
      "Mean Squared Error: 0.00014496558830469266\n",
      "Root Mean Squared Error: 0.012040165626132087\n",
      "R-squared: 0.024661583850982383\n"
     ]
    }
   ],
   "source": [
    "import numpy as np\n",
    "\n",
    "def mean_absolute_error(y_train, y_pred_train):\n",
    "    return np.mean(np.abs(y_train - y_pred_train))\n",
    "\n",
    "def mean_squared_error(y_train, y_pred_train):\n",
    "    return np.mean((y_train - y_pred_train)**2)\n",
    "\n",
    "def root_mean_squared_error(y_train, y_pred_train):\n",
    "    return np.sqrt(mean_squared_error(y_train, y_pred_train))\n",
    "\n",
    "def r2_score(y_train, y_pred_train):\n",
    "    ssr = np.sum((y_train - y_pred_train)**2)\n",
    "    sst = np.sum((y_train - np.mean(y_train))**2)\n",
    "    return 1 - (ssr / sst)\n",
    "\n",
    "# Assuming y_true and y_pred are NumPy arrays or Pandas Series\n",
    "mae = mean_absolute_error(y_train, y_pred_train)\n",
    "mse = mean_squared_error(y_train, y_pred_train)\n",
    "rmse = root_mean_squared_error(y_train, y_pred_train)\n",
    "r2 = r2_score(y_train, y_pred_train)\n",
    "\n",
    "print(\"Mean Absolute Error:\",mae)\n",
    "print(\"Mean Squared Error:\", mse)\n",
    "print(\"Root Mean Squared Error:\", rmse)\n",
    "print(\"R-squared:\", r2)"
   ]
  },
  {
   "cell_type": "code",
   "execution_count": 88,
   "metadata": {},
   "outputs": [],
   "source": [
    "rfr.fit(X_test, y_test)\n",
    "y_pred_test = rfr.predict(X_test)"
   ]
  },
  {
   "cell_type": "code",
   "execution_count": 90,
   "metadata": {},
   "outputs": [
    {
     "name": "stdout",
     "output_type": "stream",
     "text": [
      "Mean Absolute Error: 0.007253512756080651\n",
      "Mean Squared Error: 0.00016155747138048968\n",
      "Root Mean Squared Error: 0.012710526007230766\n",
      "R-squared: -0.04177371435193278\n"
     ]
    }
   ],
   "source": [
    "import numpy as np\n",
    "\n",
    "def mean_absolute_error(y_test, y_pred_test):\n",
    "    return np.mean(np.abs(y_test - y_pred_test))\n",
    "\n",
    "def mean_squared_error(y_test, y_pred_test):\n",
    "    return np.mean((y_test - y_pred_test)**2)\n",
    "\n",
    "def root_mean_squared_error(y_test, y_pred_test):\n",
    "    return np.sqrt(mean_squared_error(y_test, y_pred_test))\n",
    "\n",
    "def r2_score(y_test, y_pred_test):\n",
    "    ssr = np.sum((y_test - y_pred_test)**2)\n",
    "    sst = np.sum((y_test - np.mean(y_test))**2)\n",
    "    return 1 - (ssr / sst)\n",
    "\n",
    "\n",
    "# Assuming y_true and y_pred are NumPy arrays or Pandas Series\n",
    "mae = mean_absolute_error(y_test, y_pred_test)\n",
    "mse = mean_squared_error(y_test, y_pred_test)\n",
    "rmse = root_mean_squared_error(y_test, y_pred_test)\n",
    "r2 = r2_score(y_test, y_pred_test)\n",
    "\n",
    "print(\"Mean Absolute Error:\",mae)\n",
    "print(\"Mean Squared Error:\", mse)\n",
    "print(\"Root Mean Squared Error:\", rmse)\n",
    "print(\"R-squared:\", r2)"
   ]
  },
  {
   "cell_type": "code",
   "execution_count": null,
   "metadata": {},
   "outputs": [],
   "source": []
  }
 ],
 "metadata": {
  "colab": {
   "provenance": []
  },
  "kernelspec": {
   "display_name": "Python 3",
   "language": "python",
   "name": "python3"
  },
  "language_info": {
   "codemirror_mode": {
    "name": "ipython",
    "version": 3
   },
   "file_extension": ".py",
   "mimetype": "text/x-python",
   "name": "python",
   "nbconvert_exporter": "python",
   "pygments_lexer": "ipython3",
   "version": "3.7.6"
  }
 },
 "nbformat": 4,
 "nbformat_minor": 4
}
