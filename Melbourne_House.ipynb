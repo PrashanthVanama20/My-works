{
 "cells": [
  {
   "cell_type": "markdown",
   "metadata": {
    "id": "32VejcT152BN"
   },
   "source": [
    "ABOUT:\n",
    "\n",
    "This data was scraped from publicly available results posted every week from Domain.com.au, I've cleaned it as best I can, now it's up to you to make data analysis magic. The dataset includes Address, Type of Real estate, Suburb, Method of Selling, Rooms, Price, Real Estate Agent, Date of Sale and distance from C.B.D."
   ]
  },
  {
   "cell_type": "code",
   "execution_count": 1,
   "metadata": {
    "id": "XyoiZwLC5Bfp"
   },
   "outputs": [],
   "source": [
    "# importing the neccessary libraries\n",
    "import os\n",
    "import pandas as pd\n",
    "import numpy as np\n",
    "import seaborn as sns \n",
    "import matplotlib.pyplot as plt\n",
    "from scipy import stats\n",
    "from scipy.stats import skew,norm\n",
    "\n",
    "import warnings\n",
    "warnings.filterwarnings(\"ignore\")"
   ]
  },
  {
   "cell_type": "code",
   "execution_count": 2,
   "metadata": {},
   "outputs": [
    {
     "data": {
      "text/plain": [
       "'/home/4670b115/Melbourne'"
      ]
     },
     "execution_count": 2,
     "metadata": {},
     "output_type": "execute_result"
    }
   ],
   "source": [
    "pwd"
   ]
  },
  {
   "cell_type": "code",
   "execution_count": 3,
   "metadata": {
    "id": "Y8fqrffX5-hT"
   },
   "outputs": [],
   "source": [
    "# reading the  data\n",
    "df=pd.read_csv(\"/home/4680b115/Melbourne Housing/MELBOURNE_HOUSE_PRICES_LESS.csv\")\n",
    "df1=pd.read_csv(\"/home/4680b115/Melbourne Housing/Melbourne_housing_FULL.csv\")"
   ]
  },
  {
   "cell_type": "code",
   "execution_count": 4,
   "metadata": {
    "colab": {
     "base_uri": "https://localhost:8080/"
    },
    "id": "lh2Xx4uM7yKt",
    "outputId": "ec38d999-0414-4ade-d3eb-9de4af98cedc"
   },
   "outputs": [
    {
     "data": {
      "text/plain": [
       "Index(['Suburb', 'Address', 'Rooms', 'Type', 'Price', 'Method', 'SellerG',\n",
       "       'Date', 'Postcode', 'Regionname', 'Propertycount', 'Distance',\n",
       "       'CouncilArea'],\n",
       "      dtype='object')"
      ]
     },
     "execution_count": 4,
     "metadata": {},
     "output_type": "execute_result"
    }
   ],
   "source": [
    "df.columns"
   ]
  },
  {
   "cell_type": "code",
   "execution_count": 5,
   "metadata": {
    "colab": {
     "base_uri": "https://localhost:8080/"
    },
    "id": "yTThdcT771P1",
    "outputId": "9fd5dff5-aa0d-4aeb-cbcc-9cce3f1ad694"
   },
   "outputs": [
    {
     "data": {
      "text/plain": [
       "Index(['Suburb', 'Address', 'Rooms', 'Type', 'Price', 'Method', 'SellerG',\n",
       "       'Date', 'Distance', 'Postcode', 'Bedroom2', 'Bathroom', 'Car',\n",
       "       'Landsize', 'BuildingArea', 'YearBuilt', 'CouncilArea', 'Lattitude',\n",
       "       'Longtitude', 'Regionname', 'Propertycount'],\n",
       "      dtype='object')"
      ]
     },
     "execution_count": 5,
     "metadata": {},
     "output_type": "execute_result"
    }
   ],
   "source": [
    "df1.columns"
   ]
  },
  {
   "cell_type": "markdown",
   "metadata": {
    "id": "ZGPm5jZs-frO"
   },
   "source": [
    "EXPLORATORY DATA ANALYSIS"
   ]
  },
  {
   "cell_type": "code",
   "execution_count": 6,
   "metadata": {
    "id": "HJRLrHIw72v1"
   },
   "outputs": [
    {
     "data": {
      "text/plain": [
       "(63023, 13)"
      ]
     },
     "execution_count": 6,
     "metadata": {},
     "output_type": "execute_result"
    }
   ],
   "source": [
    "df.shape"
   ]
  },
  {
   "cell_type": "code",
   "execution_count": 7,
   "metadata": {},
   "outputs": [
    {
     "data": {
      "text/plain": [
       "(34857, 21)"
      ]
     },
     "execution_count": 7,
     "metadata": {},
     "output_type": "execute_result"
    }
   ],
   "source": [
    "df1.shape"
   ]
  },
  {
   "cell_type": "code",
   "execution_count": 8,
   "metadata": {},
   "outputs": [
    {
     "data": {
      "text/plain": [
       "Suburb             380\n",
       "Address          57754\n",
       "Rooms               14\n",
       "Type                 3\n",
       "Price             3417\n",
       "Method               9\n",
       "SellerG            476\n",
       "Date               112\n",
       "Postcode           225\n",
       "Regionname           8\n",
       "Propertycount      368\n",
       "Distance           180\n",
       "CouncilArea         34\n",
       "dtype: int64"
      ]
     },
     "execution_count": 8,
     "metadata": {},
     "output_type": "execute_result"
    }
   ],
   "source": [
    "df.nunique()"
   ]
  },
  {
   "cell_type": "code",
   "execution_count": 9,
   "metadata": {},
   "outputs": [
    {
     "data": {
      "text/plain": [
       "Suburb             351\n",
       "Address          34009\n",
       "Rooms               12\n",
       "Type                 3\n",
       "Price             2871\n",
       "Method               9\n",
       "SellerG            388\n",
       "Date                78\n",
       "Distance           215\n",
       "Postcode           211\n",
       "Bedroom2            15\n",
       "Bathroom            11\n",
       "Car                 15\n",
       "Landsize          1684\n",
       "BuildingArea       740\n",
       "YearBuilt          160\n",
       "CouncilArea         33\n",
       "Lattitude        13402\n",
       "Longtitude       14524\n",
       "Regionname           8\n",
       "Propertycount      342\n",
       "dtype: int64"
      ]
     },
     "execution_count": 9,
     "metadata": {},
     "output_type": "execute_result"
    }
   ],
   "source": [
    "df1.nunique()"
   ]
  },
  {
   "cell_type": "code",
   "execution_count": 10,
   "metadata": {},
   "outputs": [
    {
     "name": "stdout",
     "output_type": "stream",
     "text": [
      "<class 'pandas.core.frame.DataFrame'>\n",
      "RangeIndex: 63023 entries, 0 to 63022\n",
      "Data columns (total 13 columns):\n",
      " #   Column         Non-Null Count  Dtype  \n",
      "---  ------         --------------  -----  \n",
      " 0   Suburb         63023 non-null  object \n",
      " 1   Address        63023 non-null  object \n",
      " 2   Rooms          63023 non-null  int64  \n",
      " 3   Type           63023 non-null  object \n",
      " 4   Price          48433 non-null  float64\n",
      " 5   Method         63023 non-null  object \n",
      " 6   SellerG        63023 non-null  object \n",
      " 7   Date           63023 non-null  object \n",
      " 8   Postcode       63023 non-null  int64  \n",
      " 9   Regionname     63023 non-null  object \n",
      " 10  Propertycount  63023 non-null  int64  \n",
      " 11  Distance       63023 non-null  float64\n",
      " 12  CouncilArea    63023 non-null  object \n",
      "dtypes: float64(2), int64(3), object(8)\n",
      "memory usage: 6.3+ MB\n"
     ]
    }
   ],
   "source": [
    "df.info()"
   ]
  },
  {
   "cell_type": "code",
   "execution_count": 11,
   "metadata": {},
   "outputs": [
    {
     "name": "stdout",
     "output_type": "stream",
     "text": [
      "<class 'pandas.core.frame.DataFrame'>\n",
      "RangeIndex: 34857 entries, 0 to 34856\n",
      "Data columns (total 21 columns):\n",
      " #   Column         Non-Null Count  Dtype  \n",
      "---  ------         --------------  -----  \n",
      " 0   Suburb         34857 non-null  object \n",
      " 1   Address        34857 non-null  object \n",
      " 2   Rooms          34857 non-null  int64  \n",
      " 3   Type           34857 non-null  object \n",
      " 4   Price          27247 non-null  float64\n",
      " 5   Method         34857 non-null  object \n",
      " 6   SellerG        34857 non-null  object \n",
      " 7   Date           34857 non-null  object \n",
      " 8   Distance       34856 non-null  float64\n",
      " 9   Postcode       34856 non-null  float64\n",
      " 10  Bedroom2       26640 non-null  float64\n",
      " 11  Bathroom       26631 non-null  float64\n",
      " 12  Car            26129 non-null  float64\n",
      " 13  Landsize       23047 non-null  float64\n",
      " 14  BuildingArea   13742 non-null  float64\n",
      " 15  YearBuilt      15551 non-null  float64\n",
      " 16  CouncilArea    34854 non-null  object \n",
      " 17  Lattitude      26881 non-null  float64\n",
      " 18  Longtitude     26881 non-null  float64\n",
      " 19  Regionname     34854 non-null  object \n",
      " 20  Propertycount  34854 non-null  float64\n",
      "dtypes: float64(12), int64(1), object(8)\n",
      "memory usage: 5.6+ MB\n"
     ]
    }
   ],
   "source": [
    "df1.info()"
   ]
  },
  {
   "cell_type": "code",
   "execution_count": 12,
   "metadata": {},
   "outputs": [],
   "source": [
    "# converting dtype of Date from object to Datetime\n",
    "df['Date'] = pd.to_datetime(df['Date'])\n",
    "df1['Date'] = pd.to_datetime(df1['Date'])"
   ]
  },
  {
   "cell_type": "code",
   "execution_count": 13,
   "metadata": {},
   "outputs": [
    {
     "data": {
      "text/html": [
       "<div>\n",
       "<style scoped>\n",
       "    .dataframe tbody tr th:only-of-type {\n",
       "        vertical-align: middle;\n",
       "    }\n",
       "\n",
       "    .dataframe tbody tr th {\n",
       "        vertical-align: top;\n",
       "    }\n",
       "\n",
       "    .dataframe thead th {\n",
       "        text-align: right;\n",
       "    }\n",
       "</style>\n",
       "<table border=\"1\" class=\"dataframe\">\n",
       "  <thead>\n",
       "    <tr style=\"text-align: right;\">\n",
       "      <th></th>\n",
       "      <th>Suburb</th>\n",
       "      <th>Address</th>\n",
       "      <th>Rooms</th>\n",
       "      <th>Type</th>\n",
       "      <th>Price</th>\n",
       "      <th>Method</th>\n",
       "      <th>SellerG</th>\n",
       "      <th>Date</th>\n",
       "      <th>Postcode</th>\n",
       "      <th>Regionname</th>\n",
       "      <th>Propertycount</th>\n",
       "      <th>Distance</th>\n",
       "      <th>CouncilArea</th>\n",
       "    </tr>\n",
       "  </thead>\n",
       "  <tbody>\n",
       "    <tr>\n",
       "      <th>0</th>\n",
       "      <td>Abbotsford</td>\n",
       "      <td>49 Lithgow St</td>\n",
       "      <td>3</td>\n",
       "      <td>h</td>\n",
       "      <td>1490000.0</td>\n",
       "      <td>S</td>\n",
       "      <td>Jellis</td>\n",
       "      <td>2017-01-04</td>\n",
       "      <td>3067</td>\n",
       "      <td>Northern Metropolitan</td>\n",
       "      <td>4019</td>\n",
       "      <td>3.0</td>\n",
       "      <td>Yarra City Council</td>\n",
       "    </tr>\n",
       "    <tr>\n",
       "      <th>1</th>\n",
       "      <td>Abbotsford</td>\n",
       "      <td>59A Turner St</td>\n",
       "      <td>3</td>\n",
       "      <td>h</td>\n",
       "      <td>1220000.0</td>\n",
       "      <td>S</td>\n",
       "      <td>Marshall</td>\n",
       "      <td>2017-01-04</td>\n",
       "      <td>3067</td>\n",
       "      <td>Northern Metropolitan</td>\n",
       "      <td>4019</td>\n",
       "      <td>3.0</td>\n",
       "      <td>Yarra City Council</td>\n",
       "    </tr>\n",
       "    <tr>\n",
       "      <th>2</th>\n",
       "      <td>Abbotsford</td>\n",
       "      <td>119B Yarra St</td>\n",
       "      <td>3</td>\n",
       "      <td>h</td>\n",
       "      <td>1420000.0</td>\n",
       "      <td>S</td>\n",
       "      <td>Nelson</td>\n",
       "      <td>2017-01-04</td>\n",
       "      <td>3067</td>\n",
       "      <td>Northern Metropolitan</td>\n",
       "      <td>4019</td>\n",
       "      <td>3.0</td>\n",
       "      <td>Yarra City Council</td>\n",
       "    </tr>\n",
       "    <tr>\n",
       "      <th>3</th>\n",
       "      <td>Aberfeldie</td>\n",
       "      <td>68 Vida St</td>\n",
       "      <td>3</td>\n",
       "      <td>h</td>\n",
       "      <td>1515000.0</td>\n",
       "      <td>S</td>\n",
       "      <td>Barry</td>\n",
       "      <td>2017-01-04</td>\n",
       "      <td>3040</td>\n",
       "      <td>Western Metropolitan</td>\n",
       "      <td>1543</td>\n",
       "      <td>7.5</td>\n",
       "      <td>Moonee Valley City Council</td>\n",
       "    </tr>\n",
       "    <tr>\n",
       "      <th>4</th>\n",
       "      <td>Airport West</td>\n",
       "      <td>92 Clydesdale Rd</td>\n",
       "      <td>2</td>\n",
       "      <td>h</td>\n",
       "      <td>670000.0</td>\n",
       "      <td>S</td>\n",
       "      <td>Nelson</td>\n",
       "      <td>2017-01-04</td>\n",
       "      <td>3042</td>\n",
       "      <td>Western Metropolitan</td>\n",
       "      <td>3464</td>\n",
       "      <td>10.4</td>\n",
       "      <td>Moonee Valley City Council</td>\n",
       "    </tr>\n",
       "    <tr>\n",
       "      <th>...</th>\n",
       "      <td>...</td>\n",
       "      <td>...</td>\n",
       "      <td>...</td>\n",
       "      <td>...</td>\n",
       "      <td>...</td>\n",
       "      <td>...</td>\n",
       "      <td>...</td>\n",
       "      <td>...</td>\n",
       "      <td>...</td>\n",
       "      <td>...</td>\n",
       "      <td>...</td>\n",
       "      <td>...</td>\n",
       "      <td>...</td>\n",
       "    </tr>\n",
       "    <tr>\n",
       "      <th>63018</th>\n",
       "      <td>Roxburgh Park</td>\n",
       "      <td>3 Carr Pl</td>\n",
       "      <td>3</td>\n",
       "      <td>h</td>\n",
       "      <td>566000.0</td>\n",
       "      <td>S</td>\n",
       "      <td>Raine</td>\n",
       "      <td>2018-03-31</td>\n",
       "      <td>3064</td>\n",
       "      <td>Northern Metropolitan</td>\n",
       "      <td>5833</td>\n",
       "      <td>20.6</td>\n",
       "      <td>Hume City Council</td>\n",
       "    </tr>\n",
       "    <tr>\n",
       "      <th>63019</th>\n",
       "      <td>Roxburgh Park</td>\n",
       "      <td>9 Parker Ct</td>\n",
       "      <td>3</td>\n",
       "      <td>h</td>\n",
       "      <td>500000.0</td>\n",
       "      <td>S</td>\n",
       "      <td>Raine</td>\n",
       "      <td>2018-03-31</td>\n",
       "      <td>3064</td>\n",
       "      <td>Northern Metropolitan</td>\n",
       "      <td>5833</td>\n",
       "      <td>20.6</td>\n",
       "      <td>Hume City Council</td>\n",
       "    </tr>\n",
       "    <tr>\n",
       "      <th>63020</th>\n",
       "      <td>Roxburgh Park</td>\n",
       "      <td>5 Parkinson Wy</td>\n",
       "      <td>3</td>\n",
       "      <td>h</td>\n",
       "      <td>545000.0</td>\n",
       "      <td>S</td>\n",
       "      <td>Raine</td>\n",
       "      <td>2018-03-31</td>\n",
       "      <td>3064</td>\n",
       "      <td>Northern Metropolitan</td>\n",
       "      <td>5833</td>\n",
       "      <td>20.6</td>\n",
       "      <td>Hume City Council</td>\n",
       "    </tr>\n",
       "    <tr>\n",
       "      <th>63021</th>\n",
       "      <td>Thomastown</td>\n",
       "      <td>3/1 Travers St</td>\n",
       "      <td>3</td>\n",
       "      <td>u</td>\n",
       "      <td>NaN</td>\n",
       "      <td>PI</td>\n",
       "      <td>Barry</td>\n",
       "      <td>2018-03-31</td>\n",
       "      <td>3074</td>\n",
       "      <td>Northern Metropolitan</td>\n",
       "      <td>7955</td>\n",
       "      <td>15.3</td>\n",
       "      <td>Whittlesea City Council</td>\n",
       "    </tr>\n",
       "    <tr>\n",
       "      <th>63022</th>\n",
       "      <td>Williams Landing</td>\n",
       "      <td>1 Diadem Wy</td>\n",
       "      <td>4</td>\n",
       "      <td>h</td>\n",
       "      <td>NaN</td>\n",
       "      <td>SP</td>\n",
       "      <td>Aussie</td>\n",
       "      <td>2018-03-31</td>\n",
       "      <td>3027</td>\n",
       "      <td>Western Metropolitan</td>\n",
       "      <td>1999</td>\n",
       "      <td>17.6</td>\n",
       "      <td>Wyndham City Council</td>\n",
       "    </tr>\n",
       "  </tbody>\n",
       "</table>\n",
       "<p>63021 rows × 13 columns</p>\n",
       "</div>"
      ],
      "text/plain": [
       "                 Suburb           Address  Rooms Type      Price Method  \\\n",
       "0            Abbotsford     49 Lithgow St      3    h  1490000.0      S   \n",
       "1            Abbotsford     59A Turner St      3    h  1220000.0      S   \n",
       "2            Abbotsford     119B Yarra St      3    h  1420000.0      S   \n",
       "3            Aberfeldie        68 Vida St      3    h  1515000.0      S   \n",
       "4          Airport West  92 Clydesdale Rd      2    h   670000.0      S   \n",
       "...                 ...               ...    ...  ...        ...    ...   \n",
       "63018     Roxburgh Park         3 Carr Pl      3    h   566000.0      S   \n",
       "63019     Roxburgh Park       9 Parker Ct      3    h   500000.0      S   \n",
       "63020     Roxburgh Park    5 Parkinson Wy      3    h   545000.0      S   \n",
       "63021        Thomastown    3/1 Travers St      3    u        NaN     PI   \n",
       "63022  Williams Landing       1 Diadem Wy      4    h        NaN     SP   \n",
       "\n",
       "        SellerG       Date  Postcode             Regionname  Propertycount  \\\n",
       "0        Jellis 2017-01-04      3067  Northern Metropolitan           4019   \n",
       "1      Marshall 2017-01-04      3067  Northern Metropolitan           4019   \n",
       "2        Nelson 2017-01-04      3067  Northern Metropolitan           4019   \n",
       "3         Barry 2017-01-04      3040   Western Metropolitan           1543   \n",
       "4        Nelson 2017-01-04      3042   Western Metropolitan           3464   \n",
       "...         ...        ...       ...                    ...            ...   \n",
       "63018     Raine 2018-03-31      3064  Northern Metropolitan           5833   \n",
       "63019     Raine 2018-03-31      3064  Northern Metropolitan           5833   \n",
       "63020     Raine 2018-03-31      3064  Northern Metropolitan           5833   \n",
       "63021     Barry 2018-03-31      3074  Northern Metropolitan           7955   \n",
       "63022    Aussie 2018-03-31      3027   Western Metropolitan           1999   \n",
       "\n",
       "       Distance                 CouncilArea  \n",
       "0           3.0          Yarra City Council  \n",
       "1           3.0          Yarra City Council  \n",
       "2           3.0          Yarra City Council  \n",
       "3           7.5  Moonee Valley City Council  \n",
       "4          10.4  Moonee Valley City Council  \n",
       "...         ...                         ...  \n",
       "63018      20.6           Hume City Council  \n",
       "63019      20.6           Hume City Council  \n",
       "63020      20.6           Hume City Council  \n",
       "63021      15.3     Whittlesea City Council  \n",
       "63022      17.6        Wyndham City Council  \n",
       "\n",
       "[63021 rows x 13 columns]"
      ]
     },
     "execution_count": 13,
     "metadata": {},
     "output_type": "execute_result"
    }
   ],
   "source": [
    "# Checking and removing any duplicates from the data\n",
    "df[df.duplicated()]\n",
    "df.drop_duplicates(inplace=True)\n",
    "df"
   ]
  },
  {
   "cell_type": "code",
   "execution_count": 14,
   "metadata": {},
   "outputs": [
    {
     "data": {
      "text/html": [
       "<div>\n",
       "<style scoped>\n",
       "    .dataframe tbody tr th:only-of-type {\n",
       "        vertical-align: middle;\n",
       "    }\n",
       "\n",
       "    .dataframe tbody tr th {\n",
       "        vertical-align: top;\n",
       "    }\n",
       "\n",
       "    .dataframe thead th {\n",
       "        text-align: right;\n",
       "    }\n",
       "</style>\n",
       "<table border=\"1\" class=\"dataframe\">\n",
       "  <thead>\n",
       "    <tr style=\"text-align: right;\">\n",
       "      <th></th>\n",
       "      <th>Suburb</th>\n",
       "      <th>Address</th>\n",
       "      <th>Rooms</th>\n",
       "      <th>Type</th>\n",
       "      <th>Price</th>\n",
       "      <th>Method</th>\n",
       "      <th>SellerG</th>\n",
       "      <th>Date</th>\n",
       "      <th>Distance</th>\n",
       "      <th>Postcode</th>\n",
       "      <th>...</th>\n",
       "      <th>Bathroom</th>\n",
       "      <th>Car</th>\n",
       "      <th>Landsize</th>\n",
       "      <th>BuildingArea</th>\n",
       "      <th>YearBuilt</th>\n",
       "      <th>CouncilArea</th>\n",
       "      <th>Lattitude</th>\n",
       "      <th>Longtitude</th>\n",
       "      <th>Regionname</th>\n",
       "      <th>Propertycount</th>\n",
       "    </tr>\n",
       "  </thead>\n",
       "  <tbody>\n",
       "    <tr>\n",
       "      <th>0</th>\n",
       "      <td>Abbotsford</td>\n",
       "      <td>68 Studley St</td>\n",
       "      <td>2</td>\n",
       "      <td>h</td>\n",
       "      <td>NaN</td>\n",
       "      <td>SS</td>\n",
       "      <td>Jellis</td>\n",
       "      <td>2016-03-09</td>\n",
       "      <td>2.5</td>\n",
       "      <td>3067.0</td>\n",
       "      <td>...</td>\n",
       "      <td>1.0</td>\n",
       "      <td>1.0</td>\n",
       "      <td>126.0</td>\n",
       "      <td>NaN</td>\n",
       "      <td>NaN</td>\n",
       "      <td>Yarra City Council</td>\n",
       "      <td>-37.80140</td>\n",
       "      <td>144.99580</td>\n",
       "      <td>Northern Metropolitan</td>\n",
       "      <td>4019.0</td>\n",
       "    </tr>\n",
       "    <tr>\n",
       "      <th>1</th>\n",
       "      <td>Abbotsford</td>\n",
       "      <td>85 Turner St</td>\n",
       "      <td>2</td>\n",
       "      <td>h</td>\n",
       "      <td>1480000.0</td>\n",
       "      <td>S</td>\n",
       "      <td>Biggin</td>\n",
       "      <td>2016-03-12</td>\n",
       "      <td>2.5</td>\n",
       "      <td>3067.0</td>\n",
       "      <td>...</td>\n",
       "      <td>1.0</td>\n",
       "      <td>1.0</td>\n",
       "      <td>202.0</td>\n",
       "      <td>NaN</td>\n",
       "      <td>NaN</td>\n",
       "      <td>Yarra City Council</td>\n",
       "      <td>-37.79960</td>\n",
       "      <td>144.99840</td>\n",
       "      <td>Northern Metropolitan</td>\n",
       "      <td>4019.0</td>\n",
       "    </tr>\n",
       "    <tr>\n",
       "      <th>2</th>\n",
       "      <td>Abbotsford</td>\n",
       "      <td>25 Bloomburg St</td>\n",
       "      <td>2</td>\n",
       "      <td>h</td>\n",
       "      <td>1035000.0</td>\n",
       "      <td>S</td>\n",
       "      <td>Biggin</td>\n",
       "      <td>2016-04-02</td>\n",
       "      <td>2.5</td>\n",
       "      <td>3067.0</td>\n",
       "      <td>...</td>\n",
       "      <td>1.0</td>\n",
       "      <td>0.0</td>\n",
       "      <td>156.0</td>\n",
       "      <td>79.0</td>\n",
       "      <td>1900.0</td>\n",
       "      <td>Yarra City Council</td>\n",
       "      <td>-37.80790</td>\n",
       "      <td>144.99340</td>\n",
       "      <td>Northern Metropolitan</td>\n",
       "      <td>4019.0</td>\n",
       "    </tr>\n",
       "    <tr>\n",
       "      <th>3</th>\n",
       "      <td>Abbotsford</td>\n",
       "      <td>18/659 Victoria St</td>\n",
       "      <td>3</td>\n",
       "      <td>u</td>\n",
       "      <td>NaN</td>\n",
       "      <td>VB</td>\n",
       "      <td>Rounds</td>\n",
       "      <td>2016-04-02</td>\n",
       "      <td>2.5</td>\n",
       "      <td>3067.0</td>\n",
       "      <td>...</td>\n",
       "      <td>2.0</td>\n",
       "      <td>1.0</td>\n",
       "      <td>0.0</td>\n",
       "      <td>NaN</td>\n",
       "      <td>NaN</td>\n",
       "      <td>Yarra City Council</td>\n",
       "      <td>-37.81140</td>\n",
       "      <td>145.01160</td>\n",
       "      <td>Northern Metropolitan</td>\n",
       "      <td>4019.0</td>\n",
       "    </tr>\n",
       "    <tr>\n",
       "      <th>4</th>\n",
       "      <td>Abbotsford</td>\n",
       "      <td>5 Charles St</td>\n",
       "      <td>3</td>\n",
       "      <td>h</td>\n",
       "      <td>1465000.0</td>\n",
       "      <td>SP</td>\n",
       "      <td>Biggin</td>\n",
       "      <td>2017-04-03</td>\n",
       "      <td>2.5</td>\n",
       "      <td>3067.0</td>\n",
       "      <td>...</td>\n",
       "      <td>2.0</td>\n",
       "      <td>0.0</td>\n",
       "      <td>134.0</td>\n",
       "      <td>150.0</td>\n",
       "      <td>1900.0</td>\n",
       "      <td>Yarra City Council</td>\n",
       "      <td>-37.80930</td>\n",
       "      <td>144.99440</td>\n",
       "      <td>Northern Metropolitan</td>\n",
       "      <td>4019.0</td>\n",
       "    </tr>\n",
       "    <tr>\n",
       "      <th>...</th>\n",
       "      <td>...</td>\n",
       "      <td>...</td>\n",
       "      <td>...</td>\n",
       "      <td>...</td>\n",
       "      <td>...</td>\n",
       "      <td>...</td>\n",
       "      <td>...</td>\n",
       "      <td>...</td>\n",
       "      <td>...</td>\n",
       "      <td>...</td>\n",
       "      <td>...</td>\n",
       "      <td>...</td>\n",
       "      <td>...</td>\n",
       "      <td>...</td>\n",
       "      <td>...</td>\n",
       "      <td>...</td>\n",
       "      <td>...</td>\n",
       "      <td>...</td>\n",
       "      <td>...</td>\n",
       "      <td>...</td>\n",
       "      <td>...</td>\n",
       "    </tr>\n",
       "    <tr>\n",
       "      <th>34852</th>\n",
       "      <td>Yarraville</td>\n",
       "      <td>13 Burns St</td>\n",
       "      <td>4</td>\n",
       "      <td>h</td>\n",
       "      <td>1480000.0</td>\n",
       "      <td>PI</td>\n",
       "      <td>Jas</td>\n",
       "      <td>2018-02-24</td>\n",
       "      <td>6.3</td>\n",
       "      <td>3013.0</td>\n",
       "      <td>...</td>\n",
       "      <td>1.0</td>\n",
       "      <td>3.0</td>\n",
       "      <td>593.0</td>\n",
       "      <td>NaN</td>\n",
       "      <td>NaN</td>\n",
       "      <td>Maribyrnong City Council</td>\n",
       "      <td>-37.81053</td>\n",
       "      <td>144.88467</td>\n",
       "      <td>Western Metropolitan</td>\n",
       "      <td>6543.0</td>\n",
       "    </tr>\n",
       "    <tr>\n",
       "      <th>34853</th>\n",
       "      <td>Yarraville</td>\n",
       "      <td>29A Murray St</td>\n",
       "      <td>2</td>\n",
       "      <td>h</td>\n",
       "      <td>888000.0</td>\n",
       "      <td>SP</td>\n",
       "      <td>Sweeney</td>\n",
       "      <td>2018-02-24</td>\n",
       "      <td>6.3</td>\n",
       "      <td>3013.0</td>\n",
       "      <td>...</td>\n",
       "      <td>2.0</td>\n",
       "      <td>1.0</td>\n",
       "      <td>98.0</td>\n",
       "      <td>104.0</td>\n",
       "      <td>2018.0</td>\n",
       "      <td>Maribyrnong City Council</td>\n",
       "      <td>-37.81551</td>\n",
       "      <td>144.88826</td>\n",
       "      <td>Western Metropolitan</td>\n",
       "      <td>6543.0</td>\n",
       "    </tr>\n",
       "    <tr>\n",
       "      <th>34854</th>\n",
       "      <td>Yarraville</td>\n",
       "      <td>147A Severn St</td>\n",
       "      <td>2</td>\n",
       "      <td>t</td>\n",
       "      <td>705000.0</td>\n",
       "      <td>S</td>\n",
       "      <td>Jas</td>\n",
       "      <td>2018-02-24</td>\n",
       "      <td>6.3</td>\n",
       "      <td>3013.0</td>\n",
       "      <td>...</td>\n",
       "      <td>1.0</td>\n",
       "      <td>2.0</td>\n",
       "      <td>220.0</td>\n",
       "      <td>120.0</td>\n",
       "      <td>2000.0</td>\n",
       "      <td>Maribyrnong City Council</td>\n",
       "      <td>-37.82286</td>\n",
       "      <td>144.87856</td>\n",
       "      <td>Western Metropolitan</td>\n",
       "      <td>6543.0</td>\n",
       "    </tr>\n",
       "    <tr>\n",
       "      <th>34855</th>\n",
       "      <td>Yarraville</td>\n",
       "      <td>12/37 Stephen St</td>\n",
       "      <td>3</td>\n",
       "      <td>h</td>\n",
       "      <td>1140000.0</td>\n",
       "      <td>SP</td>\n",
       "      <td>hockingstuart</td>\n",
       "      <td>2018-02-24</td>\n",
       "      <td>6.3</td>\n",
       "      <td>3013.0</td>\n",
       "      <td>...</td>\n",
       "      <td>NaN</td>\n",
       "      <td>NaN</td>\n",
       "      <td>NaN</td>\n",
       "      <td>NaN</td>\n",
       "      <td>NaN</td>\n",
       "      <td>Maribyrnong City Council</td>\n",
       "      <td>NaN</td>\n",
       "      <td>NaN</td>\n",
       "      <td>Western Metropolitan</td>\n",
       "      <td>6543.0</td>\n",
       "    </tr>\n",
       "    <tr>\n",
       "      <th>34856</th>\n",
       "      <td>Yarraville</td>\n",
       "      <td>3 Tarrengower St</td>\n",
       "      <td>2</td>\n",
       "      <td>h</td>\n",
       "      <td>1020000.0</td>\n",
       "      <td>PI</td>\n",
       "      <td>RW</td>\n",
       "      <td>2018-02-24</td>\n",
       "      <td>6.3</td>\n",
       "      <td>3013.0</td>\n",
       "      <td>...</td>\n",
       "      <td>1.0</td>\n",
       "      <td>0.0</td>\n",
       "      <td>250.0</td>\n",
       "      <td>103.0</td>\n",
       "      <td>1930.0</td>\n",
       "      <td>Maribyrnong City Council</td>\n",
       "      <td>-37.81810</td>\n",
       "      <td>144.89351</td>\n",
       "      <td>Western Metropolitan</td>\n",
       "      <td>6543.0</td>\n",
       "    </tr>\n",
       "  </tbody>\n",
       "</table>\n",
       "<p>34856 rows × 21 columns</p>\n",
       "</div>"
      ],
      "text/plain": [
       "           Suburb             Address  Rooms Type      Price Method  \\\n",
       "0      Abbotsford       68 Studley St      2    h        NaN     SS   \n",
       "1      Abbotsford        85 Turner St      2    h  1480000.0      S   \n",
       "2      Abbotsford     25 Bloomburg St      2    h  1035000.0      S   \n",
       "3      Abbotsford  18/659 Victoria St      3    u        NaN     VB   \n",
       "4      Abbotsford        5 Charles St      3    h  1465000.0     SP   \n",
       "...           ...                 ...    ...  ...        ...    ...   \n",
       "34852  Yarraville         13 Burns St      4    h  1480000.0     PI   \n",
       "34853  Yarraville       29A Murray St      2    h   888000.0     SP   \n",
       "34854  Yarraville      147A Severn St      2    t   705000.0      S   \n",
       "34855  Yarraville    12/37 Stephen St      3    h  1140000.0     SP   \n",
       "34856  Yarraville    3 Tarrengower St      2    h  1020000.0     PI   \n",
       "\n",
       "             SellerG       Date  Distance  Postcode  ...  Bathroom  Car  \\\n",
       "0             Jellis 2016-03-09       2.5    3067.0  ...       1.0  1.0   \n",
       "1             Biggin 2016-03-12       2.5    3067.0  ...       1.0  1.0   \n",
       "2             Biggin 2016-04-02       2.5    3067.0  ...       1.0  0.0   \n",
       "3             Rounds 2016-04-02       2.5    3067.0  ...       2.0  1.0   \n",
       "4             Biggin 2017-04-03       2.5    3067.0  ...       2.0  0.0   \n",
       "...              ...        ...       ...       ...  ...       ...  ...   \n",
       "34852            Jas 2018-02-24       6.3    3013.0  ...       1.0  3.0   \n",
       "34853        Sweeney 2018-02-24       6.3    3013.0  ...       2.0  1.0   \n",
       "34854            Jas 2018-02-24       6.3    3013.0  ...       1.0  2.0   \n",
       "34855  hockingstuart 2018-02-24       6.3    3013.0  ...       NaN  NaN   \n",
       "34856             RW 2018-02-24       6.3    3013.0  ...       1.0  0.0   \n",
       "\n",
       "       Landsize  BuildingArea  YearBuilt               CouncilArea Lattitude  \\\n",
       "0         126.0           NaN        NaN        Yarra City Council -37.80140   \n",
       "1         202.0           NaN        NaN        Yarra City Council -37.79960   \n",
       "2         156.0          79.0     1900.0        Yarra City Council -37.80790   \n",
       "3           0.0           NaN        NaN        Yarra City Council -37.81140   \n",
       "4         134.0         150.0     1900.0        Yarra City Council -37.80930   \n",
       "...         ...           ...        ...                       ...       ...   \n",
       "34852     593.0           NaN        NaN  Maribyrnong City Council -37.81053   \n",
       "34853      98.0         104.0     2018.0  Maribyrnong City Council -37.81551   \n",
       "34854     220.0         120.0     2000.0  Maribyrnong City Council -37.82286   \n",
       "34855       NaN           NaN        NaN  Maribyrnong City Council       NaN   \n",
       "34856     250.0         103.0     1930.0  Maribyrnong City Council -37.81810   \n",
       "\n",
       "       Longtitude             Regionname Propertycount  \n",
       "0       144.99580  Northern Metropolitan        4019.0  \n",
       "1       144.99840  Northern Metropolitan        4019.0  \n",
       "2       144.99340  Northern Metropolitan        4019.0  \n",
       "3       145.01160  Northern Metropolitan        4019.0  \n",
       "4       144.99440  Northern Metropolitan        4019.0  \n",
       "...           ...                    ...           ...  \n",
       "34852   144.88467   Western Metropolitan        6543.0  \n",
       "34853   144.88826   Western Metropolitan        6543.0  \n",
       "34854   144.87856   Western Metropolitan        6543.0  \n",
       "34855         NaN   Western Metropolitan        6543.0  \n",
       "34856   144.89351   Western Metropolitan        6543.0  \n",
       "\n",
       "[34856 rows x 21 columns]"
      ]
     },
     "execution_count": 14,
     "metadata": {},
     "output_type": "execute_result"
    }
   ],
   "source": [
    "# Checking and removing any duplicates from the data\n",
    "df1[df1.duplicated()]\n",
    "df1.drop_duplicates(inplace=True)\n",
    "df1"
   ]
  },
  {
   "cell_type": "code",
   "execution_count": 15,
   "metadata": {},
   "outputs": [
    {
     "data": {
      "text/plain": [
       "Suburb               0\n",
       "Address              0\n",
       "Rooms                0\n",
       "Type                 0\n",
       "Price            14589\n",
       "Method               0\n",
       "SellerG              0\n",
       "Date                 0\n",
       "Postcode             0\n",
       "Regionname           0\n",
       "Propertycount        0\n",
       "Distance             0\n",
       "CouncilArea          0\n",
       "dtype: int64"
      ]
     },
     "execution_count": 15,
     "metadata": {},
     "output_type": "execute_result"
    }
   ],
   "source": [
    "df.isnull().sum()"
   ]
  },
  {
   "cell_type": "code",
   "execution_count": 16,
   "metadata": {},
   "outputs": [
    {
     "data": {
      "text/html": [
       "<div>\n",
       "<style scoped>\n",
       "    .dataframe tbody tr th:only-of-type {\n",
       "        vertical-align: middle;\n",
       "    }\n",
       "\n",
       "    .dataframe tbody tr th {\n",
       "        vertical-align: top;\n",
       "    }\n",
       "\n",
       "    .dataframe thead th {\n",
       "        text-align: right;\n",
       "    }\n",
       "</style>\n",
       "<table border=\"1\" class=\"dataframe\">\n",
       "  <thead>\n",
       "    <tr style=\"text-align: right;\">\n",
       "      <th></th>\n",
       "      <th>Rooms</th>\n",
       "      <th>Price</th>\n",
       "      <th>Postcode</th>\n",
       "      <th>Propertycount</th>\n",
       "      <th>Distance</th>\n",
       "    </tr>\n",
       "  </thead>\n",
       "  <tbody>\n",
       "    <tr>\n",
       "      <th>count</th>\n",
       "      <td>63021.000000</td>\n",
       "      <td>4.843200e+04</td>\n",
       "      <td>63021.000000</td>\n",
       "      <td>63021.000000</td>\n",
       "      <td>63021.000000</td>\n",
       "    </tr>\n",
       "    <tr>\n",
       "      <th>mean</th>\n",
       "      <td>3.110614</td>\n",
       "      <td>9.978980e+05</td>\n",
       "      <td>3125.674727</td>\n",
       "      <td>7617.791895</td>\n",
       "      <td>12.684930</td>\n",
       "    </tr>\n",
       "    <tr>\n",
       "      <th>std</th>\n",
       "      <td>0.957556</td>\n",
       "      <td>5.935050e+05</td>\n",
       "      <td>125.628659</td>\n",
       "      <td>4424.477446</td>\n",
       "      <td>7.592042</td>\n",
       "    </tr>\n",
       "    <tr>\n",
       "      <th>min</th>\n",
       "      <td>1.000000</td>\n",
       "      <td>8.500000e+04</td>\n",
       "      <td>3000.000000</td>\n",
       "      <td>39.000000</td>\n",
       "      <td>0.000000</td>\n",
       "    </tr>\n",
       "    <tr>\n",
       "      <th>25%</th>\n",
       "      <td>3.000000</td>\n",
       "      <td>6.200000e+05</td>\n",
       "      <td>3056.000000</td>\n",
       "      <td>4380.000000</td>\n",
       "      <td>7.000000</td>\n",
       "    </tr>\n",
       "    <tr>\n",
       "      <th>50%</th>\n",
       "      <td>3.000000</td>\n",
       "      <td>8.300000e+05</td>\n",
       "      <td>3107.000000</td>\n",
       "      <td>6795.000000</td>\n",
       "      <td>11.400000</td>\n",
       "    </tr>\n",
       "    <tr>\n",
       "      <th>75%</th>\n",
       "      <td>4.000000</td>\n",
       "      <td>1.220000e+06</td>\n",
       "      <td>3163.000000</td>\n",
       "      <td>10412.000000</td>\n",
       "      <td>16.700000</td>\n",
       "    </tr>\n",
       "    <tr>\n",
       "      <th>max</th>\n",
       "      <td>31.000000</td>\n",
       "      <td>1.120000e+07</td>\n",
       "      <td>3980.000000</td>\n",
       "      <td>21650.000000</td>\n",
       "      <td>64.100000</td>\n",
       "    </tr>\n",
       "  </tbody>\n",
       "</table>\n",
       "</div>"
      ],
      "text/plain": [
       "              Rooms         Price      Postcode  Propertycount      Distance\n",
       "count  63021.000000  4.843200e+04  63021.000000   63021.000000  63021.000000\n",
       "mean       3.110614  9.978980e+05   3125.674727    7617.791895     12.684930\n",
       "std        0.957556  5.935050e+05    125.628659    4424.477446      7.592042\n",
       "min        1.000000  8.500000e+04   3000.000000      39.000000      0.000000\n",
       "25%        3.000000  6.200000e+05   3056.000000    4380.000000      7.000000\n",
       "50%        3.000000  8.300000e+05   3107.000000    6795.000000     11.400000\n",
       "75%        4.000000  1.220000e+06   3163.000000   10412.000000     16.700000\n",
       "max       31.000000  1.120000e+07   3980.000000   21650.000000     64.100000"
      ]
     },
     "execution_count": 16,
     "metadata": {},
     "output_type": "execute_result"
    }
   ],
   "source": [
    "df.describe()"
   ]
  },
  {
   "cell_type": "markdown",
   "metadata": {},
   "source": [
    "the data is slightly right skewed "
   ]
  },
  {
   "cell_type": "code",
   "execution_count": 17,
   "metadata": {},
   "outputs": [
    {
     "data": {
      "text/plain": [
       "0"
      ]
     },
     "execution_count": 17,
     "metadata": {},
     "output_type": "execute_result"
    }
   ],
   "source": [
    "from sklearn.impute import SimpleImputer\n",
    "imputer = SimpleImputer(strategy='median')\n",
    "df[['Price']] = imputer.fit_transform(df[['Price']])\n",
    "df.isnull().sum().sum()"
   ]
  },
  {
   "cell_type": "code",
   "execution_count": 18,
   "metadata": {},
   "outputs": [
    {
     "data": {
      "text/plain": [
       "Suburb               0\n",
       "Address              0\n",
       "Rooms                0\n",
       "Type                 0\n",
       "Price             7609\n",
       "Method               0\n",
       "SellerG              0\n",
       "Date                 0\n",
       "Distance             1\n",
       "Postcode             1\n",
       "Bedroom2          8217\n",
       "Bathroom          8226\n",
       "Car               8728\n",
       "Landsize         11810\n",
       "BuildingArea     21115\n",
       "YearBuilt        19306\n",
       "CouncilArea          3\n",
       "Lattitude         7976\n",
       "Longtitude        7976\n",
       "Regionname           3\n",
       "Propertycount        3\n",
       "dtype: int64"
      ]
     },
     "execution_count": 18,
     "metadata": {},
     "output_type": "execute_result"
    }
   ],
   "source": [
    "df1.isnull().sum()"
   ]
  },
  {
   "cell_type": "code",
   "execution_count": 19,
   "metadata": {},
   "outputs": [
    {
     "data": {
      "text/html": [
       "<div>\n",
       "<style scoped>\n",
       "    .dataframe tbody tr th:only-of-type {\n",
       "        vertical-align: middle;\n",
       "    }\n",
       "\n",
       "    .dataframe tbody tr th {\n",
       "        vertical-align: top;\n",
       "    }\n",
       "\n",
       "    .dataframe thead th {\n",
       "        text-align: right;\n",
       "    }\n",
       "</style>\n",
       "<table border=\"1\" class=\"dataframe\">\n",
       "  <thead>\n",
       "    <tr style=\"text-align: right;\">\n",
       "      <th></th>\n",
       "      <th>Rooms</th>\n",
       "      <th>Price</th>\n",
       "      <th>Distance</th>\n",
       "      <th>Postcode</th>\n",
       "      <th>Bedroom2</th>\n",
       "      <th>Bathroom</th>\n",
       "      <th>Car</th>\n",
       "      <th>Landsize</th>\n",
       "      <th>BuildingArea</th>\n",
       "      <th>YearBuilt</th>\n",
       "      <th>Lattitude</th>\n",
       "      <th>Longtitude</th>\n",
       "      <th>Propertycount</th>\n",
       "    </tr>\n",
       "  </thead>\n",
       "  <tbody>\n",
       "    <tr>\n",
       "      <th>count</th>\n",
       "      <td>34856.000000</td>\n",
       "      <td>2.724700e+04</td>\n",
       "      <td>34855.000000</td>\n",
       "      <td>34855.000000</td>\n",
       "      <td>26639.000000</td>\n",
       "      <td>26630.000000</td>\n",
       "      <td>26128.000000</td>\n",
       "      <td>23046.000000</td>\n",
       "      <td>13741.000000</td>\n",
       "      <td>15550.000000</td>\n",
       "      <td>26880.000000</td>\n",
       "      <td>26880.000000</td>\n",
       "      <td>34853.000000</td>\n",
       "    </tr>\n",
       "    <tr>\n",
       "      <th>mean</th>\n",
       "      <td>3.031013</td>\n",
       "      <td>1.050173e+06</td>\n",
       "      <td>11.184808</td>\n",
       "      <td>3116.062430</td>\n",
       "      <td>3.084650</td>\n",
       "      <td>1.624747</td>\n",
       "      <td>1.728835</td>\n",
       "      <td>593.607177</td>\n",
       "      <td>160.251616</td>\n",
       "      <td>1965.287653</td>\n",
       "      <td>-37.810634</td>\n",
       "      <td>145.001845</td>\n",
       "      <td>7572.962901</td>\n",
       "    </tr>\n",
       "    <tr>\n",
       "      <th>std</th>\n",
       "      <td>0.969947</td>\n",
       "      <td>6.414671e+05</td>\n",
       "      <td>6.788952</td>\n",
       "      <td>109.025437</td>\n",
       "      <td>0.980708</td>\n",
       "      <td>0.724177</td>\n",
       "      <td>1.010789</td>\n",
       "      <td>3398.915462</td>\n",
       "      <td>401.281270</td>\n",
       "      <td>37.328340</td>\n",
       "      <td>0.090281</td>\n",
       "      <td>0.120167</td>\n",
       "      <td>4428.131940</td>\n",
       "    </tr>\n",
       "    <tr>\n",
       "      <th>min</th>\n",
       "      <td>1.000000</td>\n",
       "      <td>8.500000e+04</td>\n",
       "      <td>0.000000</td>\n",
       "      <td>3000.000000</td>\n",
       "      <td>0.000000</td>\n",
       "      <td>0.000000</td>\n",
       "      <td>0.000000</td>\n",
       "      <td>0.000000</td>\n",
       "      <td>0.000000</td>\n",
       "      <td>1196.000000</td>\n",
       "      <td>-38.190430</td>\n",
       "      <td>144.423790</td>\n",
       "      <td>83.000000</td>\n",
       "    </tr>\n",
       "    <tr>\n",
       "      <th>25%</th>\n",
       "      <td>2.000000</td>\n",
       "      <td>6.350000e+05</td>\n",
       "      <td>6.400000</td>\n",
       "      <td>3051.000000</td>\n",
       "      <td>2.000000</td>\n",
       "      <td>1.000000</td>\n",
       "      <td>1.000000</td>\n",
       "      <td>224.000000</td>\n",
       "      <td>102.000000</td>\n",
       "      <td>1940.000000</td>\n",
       "      <td>-37.862950</td>\n",
       "      <td>144.933500</td>\n",
       "      <td>4385.000000</td>\n",
       "    </tr>\n",
       "    <tr>\n",
       "      <th>50%</th>\n",
       "      <td>3.000000</td>\n",
       "      <td>8.700000e+05</td>\n",
       "      <td>10.300000</td>\n",
       "      <td>3103.000000</td>\n",
       "      <td>3.000000</td>\n",
       "      <td>2.000000</td>\n",
       "      <td>2.000000</td>\n",
       "      <td>521.000000</td>\n",
       "      <td>136.000000</td>\n",
       "      <td>1970.000000</td>\n",
       "      <td>-37.807600</td>\n",
       "      <td>145.007800</td>\n",
       "      <td>6763.000000</td>\n",
       "    </tr>\n",
       "    <tr>\n",
       "      <th>75%</th>\n",
       "      <td>4.000000</td>\n",
       "      <td>1.295000e+06</td>\n",
       "      <td>14.000000</td>\n",
       "      <td>3156.000000</td>\n",
       "      <td>4.000000</td>\n",
       "      <td>2.000000</td>\n",
       "      <td>2.000000</td>\n",
       "      <td>670.000000</td>\n",
       "      <td>188.000000</td>\n",
       "      <td>2000.000000</td>\n",
       "      <td>-37.754092</td>\n",
       "      <td>145.071900</td>\n",
       "      <td>10412.000000</td>\n",
       "    </tr>\n",
       "    <tr>\n",
       "      <th>max</th>\n",
       "      <td>16.000000</td>\n",
       "      <td>1.120000e+07</td>\n",
       "      <td>48.100000</td>\n",
       "      <td>3978.000000</td>\n",
       "      <td>30.000000</td>\n",
       "      <td>12.000000</td>\n",
       "      <td>26.000000</td>\n",
       "      <td>433014.000000</td>\n",
       "      <td>44515.000000</td>\n",
       "      <td>2106.000000</td>\n",
       "      <td>-37.390200</td>\n",
       "      <td>145.526350</td>\n",
       "      <td>21650.000000</td>\n",
       "    </tr>\n",
       "  </tbody>\n",
       "</table>\n",
       "</div>"
      ],
      "text/plain": [
       "              Rooms         Price      Distance      Postcode      Bedroom2  \\\n",
       "count  34856.000000  2.724700e+04  34855.000000  34855.000000  26639.000000   \n",
       "mean       3.031013  1.050173e+06     11.184808   3116.062430      3.084650   \n",
       "std        0.969947  6.414671e+05      6.788952    109.025437      0.980708   \n",
       "min        1.000000  8.500000e+04      0.000000   3000.000000      0.000000   \n",
       "25%        2.000000  6.350000e+05      6.400000   3051.000000      2.000000   \n",
       "50%        3.000000  8.700000e+05     10.300000   3103.000000      3.000000   \n",
       "75%        4.000000  1.295000e+06     14.000000   3156.000000      4.000000   \n",
       "max       16.000000  1.120000e+07     48.100000   3978.000000     30.000000   \n",
       "\n",
       "           Bathroom           Car       Landsize  BuildingArea     YearBuilt  \\\n",
       "count  26630.000000  26128.000000   23046.000000  13741.000000  15550.000000   \n",
       "mean       1.624747      1.728835     593.607177    160.251616   1965.287653   \n",
       "std        0.724177      1.010789    3398.915462    401.281270     37.328340   \n",
       "min        0.000000      0.000000       0.000000      0.000000   1196.000000   \n",
       "25%        1.000000      1.000000     224.000000    102.000000   1940.000000   \n",
       "50%        2.000000      2.000000     521.000000    136.000000   1970.000000   \n",
       "75%        2.000000      2.000000     670.000000    188.000000   2000.000000   \n",
       "max       12.000000     26.000000  433014.000000  44515.000000   2106.000000   \n",
       "\n",
       "          Lattitude    Longtitude  Propertycount  \n",
       "count  26880.000000  26880.000000   34853.000000  \n",
       "mean     -37.810634    145.001845    7572.962901  \n",
       "std        0.090281      0.120167    4428.131940  \n",
       "min      -38.190430    144.423790      83.000000  \n",
       "25%      -37.862950    144.933500    4385.000000  \n",
       "50%      -37.807600    145.007800    6763.000000  \n",
       "75%      -37.754092    145.071900   10412.000000  \n",
       "max      -37.390200    145.526350   21650.000000  "
      ]
     },
     "execution_count": 19,
     "metadata": {},
     "output_type": "execute_result"
    }
   ],
   "source": [
    "df1.describe()"
   ]
  },
  {
   "cell_type": "markdown",
   "metadata": {},
   "source": [
    "the data is slightly right skewed for few columns"
   ]
  },
  {
   "cell_type": "code",
   "execution_count": 20,
   "metadata": {},
   "outputs": [],
   "source": [
    "#dropping columns\n",
    "df1 = df1.drop(columns=['BuildingArea', 'YearBuilt'])"
   ]
  },
  {
   "cell_type": "markdown",
   "metadata": {},
   "source": [
    "Dropping the above features because they have more missing values and filling them will lead to miscalculation of data"
   ]
  },
  {
   "cell_type": "code",
   "execution_count": 21,
   "metadata": {},
   "outputs": [],
   "source": [
    "imputercat = SimpleImputer(strategy='most_frequent')\n",
    "df1[['CouncilArea', 'Regionname']] = imputercat.fit_transform(df1[['CouncilArea', 'Regionname']] )"
   ]
  },
  {
   "cell_type": "markdown",
   "metadata": {},
   "source": [
    "The above 2 features are categorical so we fill with most frequent by simple imputer"
   ]
  },
  {
   "cell_type": "code",
   "execution_count": 22,
   "metadata": {},
   "outputs": [],
   "source": [
    "from sklearn.impute import SimpleImputer\n",
    "imputer = SimpleImputer(strategy='median')\n",
    "df1[['Price','Bathroom','Car','Lattitude','Bedroom2','Postcode','Propertycount','Distance','Longtitude','Landsize']] = imputer.fit_transform(df1[['Price','Bathroom','Car','Lattitude','Bedroom2','Postcode','Propertycount','Distance','Longtitude','Landsize']])"
   ]
  },
  {
   "cell_type": "code",
   "execution_count": 23,
   "metadata": {},
   "outputs": [
    {
     "data": {
      "text/plain": [
       "0"
      ]
     },
     "execution_count": 23,
     "metadata": {},
     "output_type": "execute_result"
    }
   ],
   "source": [
    "df1.isnull().sum().sum()"
   ]
  },
  {
   "cell_type": "code",
   "execution_count": 24,
   "metadata": {},
   "outputs": [
    {
     "data": {
      "text/plain": [
       "Index(['Suburb', 'Address', 'Rooms', 'Type', 'Price', 'Method', 'SellerG',\n",
       "       'Date', 'Postcode', 'Regionname', 'Propertycount', 'Distance',\n",
       "       'CouncilArea'],\n",
       "      dtype='object')"
      ]
     },
     "execution_count": 24,
     "metadata": {},
     "output_type": "execute_result"
    }
   ],
   "source": [
    "df.columns"
   ]
  },
  {
   "cell_type": "code",
   "execution_count": 25,
   "metadata": {},
   "outputs": [
    {
     "data": {
      "text/plain": [
       "Index(['Suburb', 'Address', 'Rooms', 'Type', 'Price', 'Method', 'SellerG',\n",
       "       'Date', 'Distance', 'Postcode', 'Bedroom2', 'Bathroom', 'Car',\n",
       "       'Landsize', 'CouncilArea', 'Lattitude', 'Longtitude', 'Regionname',\n",
       "       'Propertycount'],\n",
       "      dtype='object')"
      ]
     },
     "execution_count": 25,
     "metadata": {},
     "output_type": "execute_result"
    }
   ],
   "source": [
    "df1.columns"
   ]
  },
  {
   "cell_type": "code",
   "execution_count": 26,
   "metadata": {},
   "outputs": [],
   "source": [
    "data = pd.merge(df,df1,how = 'inner',on=['Suburb', 'Address', 'Rooms', 'Type', 'Price', 'Method', 'SellerG','Date', 'Postcode', 'Regionname', 'Propertycount', 'Distance','CouncilArea'])"
   ]
  },
  {
   "cell_type": "code",
   "execution_count": 27,
   "metadata": {},
   "outputs": [
    {
     "data": {
      "text/plain": [
       "(16454, 19)"
      ]
     },
     "execution_count": 27,
     "metadata": {},
     "output_type": "execute_result"
    }
   ],
   "source": [
    "data.shape"
   ]
  },
  {
   "cell_type": "code",
   "execution_count": 28,
   "metadata": {},
   "outputs": [
    {
     "data": {
      "text/plain": [
       "Suburb           0\n",
       "Address          0\n",
       "Rooms            0\n",
       "Type             0\n",
       "Price            0\n",
       "Method           0\n",
       "SellerG          0\n",
       "Date             0\n",
       "Postcode         0\n",
       "Regionname       0\n",
       "Propertycount    0\n",
       "Distance         0\n",
       "CouncilArea      0\n",
       "Bedroom2         0\n",
       "Bathroom         0\n",
       "Car              0\n",
       "Landsize         0\n",
       "Lattitude        0\n",
       "Longtitude       0\n",
       "dtype: int64"
      ]
     },
     "execution_count": 28,
     "metadata": {},
     "output_type": "execute_result"
    }
   ],
   "source": [
    "data.isnull().sum()"
   ]
  },
  {
   "cell_type": "code",
   "execution_count": 29,
   "metadata": {},
   "outputs": [
    {
     "data": {
      "text/html": [
       "<div>\n",
       "<style scoped>\n",
       "    .dataframe tbody tr th:only-of-type {\n",
       "        vertical-align: middle;\n",
       "    }\n",
       "\n",
       "    .dataframe tbody tr th {\n",
       "        vertical-align: top;\n",
       "    }\n",
       "\n",
       "    .dataframe thead th {\n",
       "        text-align: right;\n",
       "    }\n",
       "</style>\n",
       "<table border=\"1\" class=\"dataframe\">\n",
       "  <thead>\n",
       "    <tr style=\"text-align: right;\">\n",
       "      <th></th>\n",
       "      <th>Suburb</th>\n",
       "      <th>Address</th>\n",
       "      <th>Rooms</th>\n",
       "      <th>Type</th>\n",
       "      <th>Price</th>\n",
       "      <th>Method</th>\n",
       "      <th>SellerG</th>\n",
       "      <th>Date</th>\n",
       "      <th>Postcode</th>\n",
       "      <th>Regionname</th>\n",
       "      <th>Propertycount</th>\n",
       "      <th>Distance</th>\n",
       "      <th>CouncilArea</th>\n",
       "      <th>Bedroom2</th>\n",
       "      <th>Bathroom</th>\n",
       "      <th>Car</th>\n",
       "      <th>Landsize</th>\n",
       "      <th>Lattitude</th>\n",
       "      <th>Longtitude</th>\n",
       "    </tr>\n",
       "  </thead>\n",
       "  <tbody>\n",
       "    <tr>\n",
       "      <th>0</th>\n",
       "      <td>Abbotsford</td>\n",
       "      <td>256 Langridge St</td>\n",
       "      <td>3</td>\n",
       "      <td>h</td>\n",
       "      <td>1350000.0</td>\n",
       "      <td>S</td>\n",
       "      <td>Biggin</td>\n",
       "      <td>2017-01-07</td>\n",
       "      <td>3067</td>\n",
       "      <td>Northern Metropolitan</td>\n",
       "      <td>4019</td>\n",
       "      <td>3.0</td>\n",
       "      <td>Yarra City Council</td>\n",
       "      <td>3.0</td>\n",
       "      <td>2.0</td>\n",
       "      <td>2.0</td>\n",
       "      <td>521.0</td>\n",
       "      <td>-37.80760</td>\n",
       "      <td>145.00780</td>\n",
       "    </tr>\n",
       "    <tr>\n",
       "      <th>1</th>\n",
       "      <td>Airport West</td>\n",
       "      <td>16 Glenys Av</td>\n",
       "      <td>3</td>\n",
       "      <td>h</td>\n",
       "      <td>858000.0</td>\n",
       "      <td>SP</td>\n",
       "      <td>Raine</td>\n",
       "      <td>2017-01-07</td>\n",
       "      <td>3042</td>\n",
       "      <td>Western Metropolitan</td>\n",
       "      <td>3464</td>\n",
       "      <td>10.4</td>\n",
       "      <td>Moonee Valley City Council</td>\n",
       "      <td>3.0</td>\n",
       "      <td>2.0</td>\n",
       "      <td>2.0</td>\n",
       "      <td>521.0</td>\n",
       "      <td>-37.80760</td>\n",
       "      <td>145.00780</td>\n",
       "    </tr>\n",
       "    <tr>\n",
       "      <th>2</th>\n",
       "      <td>Airport West</td>\n",
       "      <td>1/9 Kitson Cr</td>\n",
       "      <td>2</td>\n",
       "      <td>u</td>\n",
       "      <td>593000.0</td>\n",
       "      <td>S</td>\n",
       "      <td>Nelson</td>\n",
       "      <td>2017-01-07</td>\n",
       "      <td>3042</td>\n",
       "      <td>Western Metropolitan</td>\n",
       "      <td>3464</td>\n",
       "      <td>10.4</td>\n",
       "      <td>Moonee Valley City Council</td>\n",
       "      <td>3.0</td>\n",
       "      <td>2.0</td>\n",
       "      <td>2.0</td>\n",
       "      <td>521.0</td>\n",
       "      <td>-37.80760</td>\n",
       "      <td>145.00780</td>\n",
       "    </tr>\n",
       "    <tr>\n",
       "      <th>3</th>\n",
       "      <td>Airport West</td>\n",
       "      <td>118 Marshall Rd</td>\n",
       "      <td>3</td>\n",
       "      <td>h</td>\n",
       "      <td>640000.0</td>\n",
       "      <td>S</td>\n",
       "      <td>Nelson</td>\n",
       "      <td>2017-01-07</td>\n",
       "      <td>3042</td>\n",
       "      <td>Western Metropolitan</td>\n",
       "      <td>3464</td>\n",
       "      <td>10.4</td>\n",
       "      <td>Moonee Valley City Council</td>\n",
       "      <td>3.0</td>\n",
       "      <td>1.0</td>\n",
       "      <td>2.0</td>\n",
       "      <td>219.0</td>\n",
       "      <td>-37.71655</td>\n",
       "      <td>144.88155</td>\n",
       "    </tr>\n",
       "    <tr>\n",
       "      <th>4</th>\n",
       "      <td>Airport West</td>\n",
       "      <td>9 South Rd</td>\n",
       "      <td>3</td>\n",
       "      <td>h</td>\n",
       "      <td>961000.0</td>\n",
       "      <td>S</td>\n",
       "      <td>Nelson</td>\n",
       "      <td>2017-01-07</td>\n",
       "      <td>3042</td>\n",
       "      <td>Western Metropolitan</td>\n",
       "      <td>3464</td>\n",
       "      <td>10.4</td>\n",
       "      <td>Moonee Valley City Council</td>\n",
       "      <td>3.0</td>\n",
       "      <td>1.0</td>\n",
       "      <td>2.0</td>\n",
       "      <td>717.0</td>\n",
       "      <td>-37.72274</td>\n",
       "      <td>144.88002</td>\n",
       "    </tr>\n",
       "  </tbody>\n",
       "</table>\n",
       "</div>"
      ],
      "text/plain": [
       "         Suburb           Address  Rooms Type      Price Method SellerG  \\\n",
       "0    Abbotsford  256 Langridge St      3    h  1350000.0      S  Biggin   \n",
       "1  Airport West      16 Glenys Av      3    h   858000.0     SP   Raine   \n",
       "2  Airport West     1/9 Kitson Cr      2    u   593000.0      S  Nelson   \n",
       "3  Airport West   118 Marshall Rd      3    h   640000.0      S  Nelson   \n",
       "4  Airport West        9 South Rd      3    h   961000.0      S  Nelson   \n",
       "\n",
       "        Date  Postcode             Regionname  Propertycount  Distance  \\\n",
       "0 2017-01-07      3067  Northern Metropolitan           4019       3.0   \n",
       "1 2017-01-07      3042   Western Metropolitan           3464      10.4   \n",
       "2 2017-01-07      3042   Western Metropolitan           3464      10.4   \n",
       "3 2017-01-07      3042   Western Metropolitan           3464      10.4   \n",
       "4 2017-01-07      3042   Western Metropolitan           3464      10.4   \n",
       "\n",
       "                  CouncilArea  Bedroom2  Bathroom  Car  Landsize  Lattitude  \\\n",
       "0          Yarra City Council       3.0       2.0  2.0     521.0  -37.80760   \n",
       "1  Moonee Valley City Council       3.0       2.0  2.0     521.0  -37.80760   \n",
       "2  Moonee Valley City Council       3.0       2.0  2.0     521.0  -37.80760   \n",
       "3  Moonee Valley City Council       3.0       1.0  2.0     219.0  -37.71655   \n",
       "4  Moonee Valley City Council       3.0       1.0  2.0     717.0  -37.72274   \n",
       "\n",
       "   Longtitude  \n",
       "0   145.00780  \n",
       "1   145.00780  \n",
       "2   145.00780  \n",
       "3   144.88155  \n",
       "4   144.88002  "
      ]
     },
     "execution_count": 29,
     "metadata": {},
     "output_type": "execute_result"
    }
   ],
   "source": [
    "data.head()"
   ]
  },
  {
   "cell_type": "code",
   "execution_count": 30,
   "metadata": {},
   "outputs": [
    {
     "data": {
      "text/plain": [
       "Suburb             344\n",
       "Address          16266\n",
       "Rooms               11\n",
       "Type                 3\n",
       "Price             2352\n",
       "Method               5\n",
       "SellerG            290\n",
       "Date                75\n",
       "Postcode           209\n",
       "Regionname           8\n",
       "Propertycount      336\n",
       "Distance           168\n",
       "CouncilArea         33\n",
       "Bedroom2            12\n",
       "Bathroom             9\n",
       "Car                 13\n",
       "Landsize          1335\n",
       "Lattitude        10210\n",
       "Longtitude       10623\n",
       "dtype: int64"
      ]
     },
     "execution_count": 30,
     "metadata": {},
     "output_type": "execute_result"
    }
   ],
   "source": [
    "data.nunique()"
   ]
  },
  {
   "cell_type": "code",
   "execution_count": 31,
   "metadata": {},
   "outputs": [
    {
     "name": "stdout",
     "output_type": "stream",
     "text": [
      "<class 'pandas.core.frame.DataFrame'>\n",
      "Int64Index: 16454 entries, 0 to 16453\n",
      "Data columns (total 19 columns):\n",
      " #   Column         Non-Null Count  Dtype         \n",
      "---  ------         --------------  -----         \n",
      " 0   Suburb         16454 non-null  object        \n",
      " 1   Address        16454 non-null  object        \n",
      " 2   Rooms          16454 non-null  int64         \n",
      " 3   Type           16454 non-null  object        \n",
      " 4   Price          16454 non-null  float64       \n",
      " 5   Method         16454 non-null  object        \n",
      " 6   SellerG        16454 non-null  object        \n",
      " 7   Date           16454 non-null  datetime64[ns]\n",
      " 8   Postcode       16454 non-null  int64         \n",
      " 9   Regionname     16454 non-null  object        \n",
      " 10  Propertycount  16454 non-null  int64         \n",
      " 11  Distance       16454 non-null  float64       \n",
      " 12  CouncilArea    16454 non-null  object        \n",
      " 13  Bedroom2       16454 non-null  float64       \n",
      " 14  Bathroom       16454 non-null  float64       \n",
      " 15  Car            16454 non-null  float64       \n",
      " 16  Landsize       16454 non-null  float64       \n",
      " 17  Lattitude      16454 non-null  float64       \n",
      " 18  Longtitude     16454 non-null  float64       \n",
      "dtypes: datetime64[ns](1), float64(8), int64(3), object(7)\n",
      "memory usage: 2.5+ MB\n"
     ]
    }
   ],
   "source": [
    "data.info()"
   ]
  },
  {
   "cell_type": "code",
   "execution_count": 32,
   "metadata": {},
   "outputs": [
    {
     "data": {
      "text/html": [
       "<div>\n",
       "<style scoped>\n",
       "    .dataframe tbody tr th:only-of-type {\n",
       "        vertical-align: middle;\n",
       "    }\n",
       "\n",
       "    .dataframe tbody tr th {\n",
       "        vertical-align: top;\n",
       "    }\n",
       "\n",
       "    .dataframe thead th {\n",
       "        text-align: right;\n",
       "    }\n",
       "</style>\n",
       "<table border=\"1\" class=\"dataframe\">\n",
       "  <thead>\n",
       "    <tr style=\"text-align: right;\">\n",
       "      <th></th>\n",
       "      <th>Rooms</th>\n",
       "      <th>Price</th>\n",
       "      <th>Postcode</th>\n",
       "      <th>Propertycount</th>\n",
       "      <th>Distance</th>\n",
       "      <th>Bedroom2</th>\n",
       "      <th>Bathroom</th>\n",
       "      <th>Car</th>\n",
       "      <th>Landsize</th>\n",
       "      <th>Lattitude</th>\n",
       "      <th>Longtitude</th>\n",
       "    </tr>\n",
       "  </thead>\n",
       "  <tbody>\n",
       "    <tr>\n",
       "      <th>count</th>\n",
       "      <td>16454.000000</td>\n",
       "      <td>1.645400e+04</td>\n",
       "      <td>16454.000000</td>\n",
       "      <td>16454.000000</td>\n",
       "      <td>16454.000000</td>\n",
       "      <td>16454.000000</td>\n",
       "      <td>16454.000000</td>\n",
       "      <td>16454.000000</td>\n",
       "      <td>16454.000000</td>\n",
       "      <td>16454.000000</td>\n",
       "      <td>16454.000000</td>\n",
       "    </tr>\n",
       "    <tr>\n",
       "      <th>mean</th>\n",
       "      <td>3.082776</td>\n",
       "      <td>1.033030e+06</td>\n",
       "      <td>3126.023034</td>\n",
       "      <td>7659.401604</td>\n",
       "      <td>12.899167</td>\n",
       "      <td>3.160447</td>\n",
       "      <td>1.743224</td>\n",
       "      <td>1.889510</td>\n",
       "      <td>627.352072</td>\n",
       "      <td>-37.805929</td>\n",
       "      <td>145.004973</td>\n",
       "    </tr>\n",
       "    <tr>\n",
       "      <th>std</th>\n",
       "      <td>0.937520</td>\n",
       "      <td>6.291752e+05</td>\n",
       "      <td>133.015818</td>\n",
       "      <td>4459.253551</td>\n",
       "      <td>7.819730</td>\n",
       "      <td>0.793458</td>\n",
       "      <td>0.622230</td>\n",
       "      <td>0.869576</td>\n",
       "      <td>3818.931798</td>\n",
       "      <td>0.093425</td>\n",
       "      <td>0.124562</td>\n",
       "    </tr>\n",
       "    <tr>\n",
       "      <th>min</th>\n",
       "      <td>1.000000</td>\n",
       "      <td>1.120000e+05</td>\n",
       "      <td>3000.000000</td>\n",
       "      <td>83.000000</td>\n",
       "      <td>0.000000</td>\n",
       "      <td>0.000000</td>\n",
       "      <td>0.000000</td>\n",
       "      <td>0.000000</td>\n",
       "      <td>0.000000</td>\n",
       "      <td>-38.190430</td>\n",
       "      <td>144.423790</td>\n",
       "    </tr>\n",
       "    <tr>\n",
       "      <th>25%</th>\n",
       "      <td>3.000000</td>\n",
       "      <td>6.350000e+05</td>\n",
       "      <td>3051.000000</td>\n",
       "      <td>4385.000000</td>\n",
       "      <td>6.800000</td>\n",
       "      <td>3.000000</td>\n",
       "      <td>1.000000</td>\n",
       "      <td>1.000000</td>\n",
       "      <td>521.000000</td>\n",
       "      <td>-37.846888</td>\n",
       "      <td>144.958827</td>\n",
       "    </tr>\n",
       "    <tr>\n",
       "      <th>50%</th>\n",
       "      <td>3.000000</td>\n",
       "      <td>8.550000e+05</td>\n",
       "      <td>3101.000000</td>\n",
       "      <td>6795.000000</td>\n",
       "      <td>11.700000</td>\n",
       "      <td>3.000000</td>\n",
       "      <td>2.000000</td>\n",
       "      <td>2.000000</td>\n",
       "      <td>521.000000</td>\n",
       "      <td>-37.807600</td>\n",
       "      <td>145.007800</td>\n",
       "    </tr>\n",
       "    <tr>\n",
       "      <th>75%</th>\n",
       "      <td>4.000000</td>\n",
       "      <td>1.255000e+06</td>\n",
       "      <td>3163.000000</td>\n",
       "      <td>10529.000000</td>\n",
       "      <td>17.200000</td>\n",
       "      <td>4.000000</td>\n",
       "      <td>2.000000</td>\n",
       "      <td>2.000000</td>\n",
       "      <td>601.000000</td>\n",
       "      <td>-37.759460</td>\n",
       "      <td>145.064820</td>\n",
       "    </tr>\n",
       "    <tr>\n",
       "      <th>max</th>\n",
       "      <td>16.000000</td>\n",
       "      <td>1.120000e+07</td>\n",
       "      <td>3978.000000</td>\n",
       "      <td>21650.000000</td>\n",
       "      <td>48.100000</td>\n",
       "      <td>16.000000</td>\n",
       "      <td>9.000000</td>\n",
       "      <td>18.000000</td>\n",
       "      <td>433014.000000</td>\n",
       "      <td>-37.397800</td>\n",
       "      <td>145.526350</td>\n",
       "    </tr>\n",
       "  </tbody>\n",
       "</table>\n",
       "</div>"
      ],
      "text/plain": [
       "              Rooms         Price      Postcode  Propertycount      Distance  \\\n",
       "count  16454.000000  1.645400e+04  16454.000000   16454.000000  16454.000000   \n",
       "mean       3.082776  1.033030e+06   3126.023034    7659.401604     12.899167   \n",
       "std        0.937520  6.291752e+05    133.015818    4459.253551      7.819730   \n",
       "min        1.000000  1.120000e+05   3000.000000      83.000000      0.000000   \n",
       "25%        3.000000  6.350000e+05   3051.000000    4385.000000      6.800000   \n",
       "50%        3.000000  8.550000e+05   3101.000000    6795.000000     11.700000   \n",
       "75%        4.000000  1.255000e+06   3163.000000   10529.000000     17.200000   \n",
       "max       16.000000  1.120000e+07   3978.000000   21650.000000     48.100000   \n",
       "\n",
       "           Bedroom2      Bathroom           Car       Landsize     Lattitude  \\\n",
       "count  16454.000000  16454.000000  16454.000000   16454.000000  16454.000000   \n",
       "mean       3.160447      1.743224      1.889510     627.352072    -37.805929   \n",
       "std        0.793458      0.622230      0.869576    3818.931798      0.093425   \n",
       "min        0.000000      0.000000      0.000000       0.000000    -38.190430   \n",
       "25%        3.000000      1.000000      1.000000     521.000000    -37.846888   \n",
       "50%        3.000000      2.000000      2.000000     521.000000    -37.807600   \n",
       "75%        4.000000      2.000000      2.000000     601.000000    -37.759460   \n",
       "max       16.000000      9.000000     18.000000  433014.000000    -37.397800   \n",
       "\n",
       "         Longtitude  \n",
       "count  16454.000000  \n",
       "mean     145.004973  \n",
       "std        0.124562  \n",
       "min      144.423790  \n",
       "25%      144.958827  \n",
       "50%      145.007800  \n",
       "75%      145.064820  \n",
       "max      145.526350  "
      ]
     },
     "execution_count": 32,
     "metadata": {},
     "output_type": "execute_result"
    }
   ],
   "source": [
    "data.describe()"
   ]
  },
  {
   "cell_type": "markdown",
   "metadata": {},
   "source": [
    "the data is slightly right skewed"
   ]
  },
  {
   "cell_type": "code",
   "execution_count": 33,
   "metadata": {},
   "outputs": [
    {
     "data": {
      "image/png": "[encoded data removed]",
      "text/plain": [
       "<Figure size 1296x720 with 2 Axes>"
      ]
     },
     "metadata": {
      "needs_background": "light"
     },
     "output_type": "display_data"
    }
   ],
   "source": [
    "#correlation matrix\n",
    "plt.figure(figsize=(18,10))\n",
    "sns.heatmap(data.corr(),annot=True, cmap=\"RdBu\")\n",
    "plt.show() #'RdBu' says take red to blue and having white in the middle , Red is negatively correlated and Blue is positively correlated"
   ]
  },
  {
   "cell_type": "markdown",
   "metadata": {},
   "source": [
    "DATA VISUALIZATION"
   ]
  },
  {
   "cell_type": "code",
   "execution_count": 34,
   "metadata": {},
   "outputs": [],
   "source": [
    "data['Year'] = data['Date'].dt.year\n",
    "data['Month'] = data['Date'].dt.month\n",
    "data['Day'] = data['Date'].dt.day\n",
    "data['Week'] = data['Date'].dt.week"
   ]
  },
  {
   "cell_type": "code",
   "execution_count": 35,
   "metadata": {},
   "outputs": [
    {
     "data": {
      "text/plain": [
       "h    11705\n",
       "u     3107\n",
       "t     1642\n",
       "Name: Type, dtype: int64"
      ]
     },
     "execution_count": 35,
     "metadata": {},
     "output_type": "execute_result"
    }
   ],
   "source": [
    "data[\"Type\"].value_counts()"
   ]
  },
  {
   "cell_type": "code",
   "execution_count": 36,
   "metadata": {},
   "outputs": [
    {
     "data": {
      "image/png": "[encoded data removed]",
      "text/plain": [
       "<Figure size 432x288 with 1 Axes>"
      ]
     },
     "metadata": {
      "needs_background": "light"
     },
     "output_type": "display_data"
    }
   ],
   "source": [
    "#Visualizing the Type Data\n",
    "data[\"Type\"].value_counts().plot(kind=\"bar\")\n",
    "plt.title(\"Distribution of Types\")\n",
    "plt.xlabel(\"Type\")\n",
    "plt.ylabel(\"Count\")\n",
    "plt.show()"
   ]
  },
  {
   "cell_type": "code",
   "execution_count": 37,
   "metadata": {},
   "outputs": [
    {
     "data": {
      "image/png": "[encoded data removed]",
      "text/plain": [
       "<Figure size 432x288 with 1 Axes>"
      ]
     },
     "metadata": {},
     "output_type": "display_data"
    }
   ],
   "source": [
    "# Count the frequency of each value in the Type column\n",
    "value_counts = data['Type'].value_counts()\n",
    "\n",
    "# Create a pie chart\n",
    "plt.pie(value_counts.values, labels=value_counts.index, autopct='%1.1f%%')\n",
    "plt.title('Distribution of Types')\n",
    "plt.show()"
   ]
  },
  {
   "cell_type": "code",
   "execution_count": 38,
   "metadata": {},
   "outputs": [
    {
     "data": {
      "text/plain": [
       "S     10485\n",
       "SP     2269\n",
       "PI     1878\n",
       "VB     1676\n",
       "SA      146\n",
       "Name: Method, dtype: int64"
      ]
     },
     "execution_count": 38,
     "metadata": {},
     "output_type": "execute_result"
    }
   ],
   "source": [
    "data[\"Method\"].value_counts()"
   ]
  },
  {
   "cell_type": "code",
   "execution_count": 39,
   "metadata": {},
   "outputs": [
    {
     "data": {
      "image/png": "[encoded data removed]",
      "text/plain": [
       "<Figure size 432x288 with 1 Axes>"
      ]
     },
     "metadata": {
      "needs_background": "light"
     },
     "output_type": "display_data"
    }
   ],
   "source": [
    "#Visualizing the Method Data\n",
    "data[\"Method\"].value_counts().plot(kind=\"bar\")\n",
    "plt.title(\"Distribution of Methods\")\n",
    "plt.xlabel(\"Method\")\n",
    "plt.ylabel(\"Count\")\n",
    "plt.show()"
   ]
  },
  {
   "cell_type": "code",
   "execution_count": 40,
   "metadata": {},
   "outputs": [
    {
     "data": {
      "image/png": "[encoded data removed]",
      "text/plain": [
       "<Figure size 432x288 with 1 Axes>"
      ]
     },
     "metadata": {},
     "output_type": "display_data"
    }
   ],
   "source": [
    "# Count the frequency of each value in the Method column\n",
    "value_counts = data['Method'].value_counts()\n",
    "\n",
    "# Create a pie chart\n",
    "plt.pie(value_counts.values, labels=value_counts.index, autopct='%1.1f%%')\n",
    "plt.title('Distribution of Methods')\n",
    "plt.show()"
   ]
  },
  {
   "cell_type": "code",
   "execution_count": 41,
   "metadata": {},
   "outputs": [
    {
     "data": {
      "text/plain": [
       "Northern Metropolitan         4736\n",
       "Southern Metropolitan         4204\n",
       "Western Metropolitan          3375\n",
       "Eastern Metropolitan          2434\n",
       "South-Eastern Metropolitan    1277\n",
       "Eastern Victoria               166\n",
       "Northern Victoria              166\n",
       "Western Victoria                96\n",
       "Name: Regionname, dtype: int64"
      ]
     },
     "execution_count": 41,
     "metadata": {},
     "output_type": "execute_result"
    }
   ],
   "source": [
    "data[\"Regionname\"].value_counts()"
   ]
  },
  {
   "cell_type": "code",
   "execution_count": 42,
   "metadata": {},
   "outputs": [
    {
     "data": {
      "image/png": "[encoded data removed]",
      "text/plain": [
       "<Figure size 432x288 with 1 Axes>"
      ]
     },
     "metadata": {
      "needs_background": "light"
     },
     "output_type": "display_data"
    }
   ],
   "source": [
    "#Visualizing the Regionname Data\n",
    "data[\"Regionname\"].value_counts().plot(kind=\"bar\")\n",
    "plt.title(\"Distribution of Regionname\")\n",
    "plt.xlabel(\"Regionname\")\n",
    "plt.ylabel(\"Count\")\n",
    "plt.show()"
   ]
  },
  {
   "cell_type": "code",
   "execution_count": 43,
   "metadata": {},
   "outputs": [
    {
     "data": {
      "image/png": "[encoded data removed]",
      "text/plain": [
       "<Figure size 432x288 with 1 Axes>"
      ]
     },
     "metadata": {
      "needs_background": "light"
     },
     "output_type": "display_data"
    }
   ],
   "source": [
    "#Visualizing the CouncilArea Data\n",
    "data[\"CouncilArea\"].value_counts().plot(kind=\"bar\")\n",
    "plt.title(\"Distribution of CouncilArea\")\n",
    "plt.xlabel(\"CouncilArea\")\n",
    "plt.ylabel(\"Count\")\n",
    "plt.show()"
   ]
  },
  {
   "cell_type": "markdown",
   "metadata": {},
   "source": [
    "plotting the graph for average weekly sales for the years 2016,2017,2018 based on week"
   ]
  },
  {
   "cell_type": "code",
   "execution_count": 44,
   "metadata": {},
   "outputs": [
    {
     "data": {
      "text/plain": [
       "2017    12585\n",
       "2018     3673\n",
       "2016      196\n",
       "Name: Year, dtype: int64"
      ]
     },
     "execution_count": 44,
     "metadata": {},
     "output_type": "execute_result"
    }
   ],
   "source": [
    "data[\"Year\"].value_counts()"
   ]
  },
  {
   "cell_type": "code",
   "execution_count": 45,
   "metadata": {},
   "outputs": [
    {
     "data": {
      "text/plain": [
       "<matplotlib.axes._subplots.AxesSubplot at 0x7fe09af40910>"
      ]
     },
     "execution_count": 45,
     "metadata": {},
     "output_type": "execute_result"
    },
    {
     "data": {
      "image/png": "[encoded data removed]",
      "text/plain": [
       "<Figure size 432x288 with 1 Axes>"
      ]
     },
     "metadata": {
      "needs_background": "light"
     },
     "output_type": "display_data"
    }
   ],
   "source": [
    "# Average Sales for the year 2017\n",
    "price_2017 = data[data['Year']==2017]['Price'].groupby(data['Week']).mean()\n",
    "sns.lineplot(x=price_2017.index, y=price_2017.values)"
   ]
  },
  {
   "cell_type": "code",
   "execution_count": 46,
   "metadata": {},
   "outputs": [
    {
     "data": {
      "text/plain": [
       "<matplotlib.axes._subplots.AxesSubplot at 0x7fe09a584fd0>"
      ]
     },
     "execution_count": 46,
     "metadata": {},
     "output_type": "execute_result"
    },
    {
     "data": {
      "image/png": "[encoded data removed]",
      "text/plain": [
       "<Figure size 432x288 with 1 Axes>"
      ]
     },
     "metadata": {
      "needs_background": "light"
     },
     "output_type": "display_data"
    }
   ],
   "source": [
    "# Average Sales for the year 2018\n",
    "price_2018 = data[data['Year']==2018]['Price'].groupby(data['Week']).mean()\n",
    "sns.lineplot(x=price_2018.index, y=price_2018.values)"
   ]
  },
  {
   "cell_type": "code",
   "execution_count": 47,
   "metadata": {},
   "outputs": [
    {
     "data": {
      "text/plain": [
       "<matplotlib.axes._subplots.AxesSubplot at 0x7fe0901ce7d0>"
      ]
     },
     "execution_count": 47,
     "metadata": {},
     "output_type": "execute_result"
    },
    {
     "data": {
      "image/png": "[encoded data removed]",
      "text/plain": [
       "<Figure size 432x288 with 1 Axes>"
      ]
     },
     "metadata": {
      "needs_background": "light"
     },
     "output_type": "display_data"
    }
   ],
   "source": [
    "# Average Sales for the year 2016\n",
    "price_2016 = data[data['Year']==2016]['Price'].groupby(data['Week']).mean()\n",
    "sns.lineplot(x=price_2016.index, y=price_2016.values)"
   ]
  },
  {
   "cell_type": "code",
   "execution_count": 48,
   "metadata": {},
   "outputs": [
    {
     "data": {
      "image/png": "[encoded data removed]",
      "text/plain": [
       "<Figure size 1440x576 with 1 Axes>"
      ]
     },
     "metadata": {
      "needs_background": "light"
     },
     "output_type": "display_data"
    }
   ],
   "source": [
    "# Plotting the above three plot together \n",
    "plt.figure(figsize=(20,8))\n",
    "sns.lineplot(x=price_2016.index, y=price_2016.values)\n",
    "sns.lineplot(x=price_2017.index, y=price_2017.values)\n",
    "sns.lineplot(x=price_2018.index, y=price_2018.values)\n",
    "plt.grid()\n",
    "plt.xticks(np.arange(1,60, step=1))\n",
    "plt.legend(['2016', '2017', '2018'], loc='best', fontsize=16)\n",
    "plt.title('Average Prices Per Year', fontsize=20)\n",
    "plt.ylabel('Price', fontsize=16)\n",
    "plt.xlabel('Weeks', fontsize=16)\n",
    "plt.show()"
   ]
  },
  {
   "cell_type": "markdown",
   "metadata": {},
   "source": [
    "plotting the graph for average price for the Regionname"
   ]
  },
  {
   "cell_type": "code",
   "execution_count": 49,
   "metadata": {},
   "outputs": [
    {
     "data": {
      "image/png": "[encoded data removed]",
      "text/plain": [
       "<Figure size 1152x576 with 1 Axes>"
      ]
     },
     "metadata": {
      "needs_background": "light"
     },
     "output_type": "display_data"
    }
   ],
   "source": [
    "# Average Sales per Regionname\n",
    "plt.figure(figsize=(16,8))\n",
    "price = data['Price'].groupby(data['Regionname']).mean()\n",
    "sns.barplot(x=price.index, y=price.values, palette='dark')\n",
    "plt.grid()\n",
    "plt.title('Average Price for Regionname')\n",
    "plt.xlabel('Regionname')\n",
    "plt.ylabel('Price')\n",
    "plt.show()"
   ]
  },
  {
   "cell_type": "markdown",
   "metadata": {},
   "source": [
    "plotting the graph for average price for the CouncilArea"
   ]
  },
  {
   "cell_type": "code",
   "execution_count": 50,
   "metadata": {},
   "outputs": [
    {
     "data": {
      "image/png": "[encoded data removed]",
      "text/plain": [
       "<Figure size 1152x576 with 1 Axes>"
      ]
     },
     "metadata": {
      "needs_background": "light"
     },
     "output_type": "display_data"
    }
   ],
   "source": [
    "# Average Sales per CouncilArea\n",
    "plt.figure(figsize=(16,8))\n",
    "price = data['Price'].groupby(data['CouncilArea']).mean()\n",
    "sns.barplot(x=price.index, y=price.values, palette='dark')\n",
    "plt.grid()\n",
    "plt.title('Average Price for CouncilArea')\n",
    "plt.xlabel('CouncilArea')\n",
    "plt.ylabel('Price')\n",
    "plt.show()"
   ]
  },
  {
   "cell_type": "markdown",
   "metadata": {},
   "source": [
    "plotting scatter plot for all columns w.r.to target"
   ]
  },
  {
   "cell_type": "code",
   "execution_count": 51,
   "metadata": {},
   "outputs": [],
   "source": [
    "def scatter(data, column):\n",
    "    plt.figure()\n",
    "    plt.scatter(data[column], data['Price'])\n",
    "    plt.ylabel('Price')\n",
    "    plt.xlabel(column)\n",
    "    plt.grid(True)\n"
   ]
  },
  {
   "cell_type": "code",
   "execution_count": 52,
   "metadata": {},
   "outputs": [
    {
     "data": {
      "image/png": "[encoded data removed]",
      "text/plain": [
       "<Figure size 432x288 with 1 Axes>"
      ]
     },
     "metadata": {
      "needs_background": "light"
     },
     "output_type": "display_data"
    },
    {
     "data": {
      "image/png": "[encoded data removed]",
      "text/plain": [
       "<Figure size 432x288 with 1 Axes>"
      ]
     },
     "metadata": {
      "needs_background": "light"
     },
     "output_type": "display_data"
    },
    {
     "data": {
      "image/png": "[encoded data removed]",
      "text/plain": [
       "<Figure size 432x288 with 1 Axes>"
      ]
     },
     "metadata": {
      "needs_background": "light"
     },
     "output_type": "display_data"
    },
    {
     "data": {
      "image/png": "[encoded data removed]",
      "text/plain": [
       "<Figure size 432x288 with 1 Axes>"
      ]
     },
     "metadata": {
      "needs_background": "light"
     },
     "output_type": "display_data"
    },
    {
     "data": {
      "image/png": "[encoded data removed]",
      "text/plain": [
       "<Figure size 432x288 with 1 Axes>"
      ]
     },
     "metadata": {
      "needs_background": "light"
     },
     "output_type": "display_data"
    },
    {
     "data": {
      "image/png": "[encoded data removed]",
      "text/plain": [
       "<Figure size 432x288 with 1 Axes>"
      ]
     },
     "metadata": {
      "needs_background": "light"
     },
     "output_type": "display_data"
    },
    {
     "data": {
      "image/png": "[encoded data removed]",
      "text/plain": [
       "<Figure size 432x288 with 1 Axes>"
      ]
     },
     "metadata": {
      "needs_background": "light"
     },
     "output_type": "display_data"
    },
    {
     "data": {
      "image/png": "[encoded data removed]",
      "text/plain": [
       "<Figure size 432x288 with 1 Axes>"
      ]
     },
     "metadata": {
      "needs_background": "light"
     },
     "output_type": "display_data"
    },
    {
     "data": {
      "image/png": "[encoded data removed]",
      "text/plain": [
       "<Figure size 432x288 with 1 Axes>"
      ]
     },
     "metadata": {
      "needs_background": "light"
     },
     "output_type": "display_data"
    },
    {
     "data": {
      "image/png": "[encoded data removed]",
      "text/plain": [
       "<Figure size 432x288 with 1 Axes>"
      ]
     },
     "metadata": {
      "needs_background": "light"
     },
     "output_type": "display_data"
    }
   ],
   "source": [
    "scatter(data, 'Rooms')\n",
    "scatter(data, 'Distance')\n",
    "scatter(data, 'Postcode')\n",
    "scatter(data, 'Bedroom2')\n",
    "scatter(data, 'Bathroom')\n",
    "scatter(data, 'Car')\n",
    "scatter(data, 'Landsize')\n",
    "scatter(data, 'Lattitude')\n",
    "scatter(data, 'Longtitude')\n",
    "scatter(data, 'Propertycount')"
   ]
  },
  {
   "cell_type": "markdown",
   "metadata": {},
   "source": [
    "plotting Boxplot to observe the outliers"
   ]
  },
  {
   "cell_type": "code",
   "execution_count": 53,
   "metadata": {},
   "outputs": [
    {
     "data": {
      "image/png": "[encoded data removed]",
      "text/plain": [
       "<Figure size 1728x288 with 5 Axes>"
      ]
     },
     "metadata": {
      "needs_background": "light"
     },
     "output_type": "display_data"
    },
    {
     "data": {
      "image/png": "[encoded data removed]",
      "text/plain": [
       "<Figure size 1728x288 with 5 Axes>"
      ]
     },
     "metadata": {
      "needs_background": "light"
     },
     "output_type": "display_data"
    }
   ],
   "source": [
    "plt.figure(figsize = (24,4))\n",
    "plt.subplot(1,5,1)\n",
    "sns.boxplot(data['Rooms'])\n",
    "plt.subplot(1,5,2)\n",
    "sns.boxplot(data['Distance'])\n",
    "plt.subplot(1,5,3)\n",
    "sns.boxplot(data['Postcode'])\n",
    "plt.subplot(1,5,4)\n",
    "sns.boxplot(data['Bedroom2'])\n",
    "plt.subplot(1,5,5)\n",
    "sns.boxplot(data['Bathroom'])\n",
    "plt.show()\n",
    "plt.figure(figsize = (24,4))\n",
    "plt.subplot(1,5,1)\n",
    "sns.boxplot(data['Car'])\n",
    "plt.subplot(1,5,2)\n",
    "sns.boxplot(data['Lattitude'])\n",
    "plt.subplot(1,5,3)\n",
    "sns.boxplot(data['Longtitude'])\n",
    "plt.subplot(1,5,4)\n",
    "sns.boxplot(data['Landsize'])\n",
    "plt.subplot(1,5,5)\n",
    "sns.boxplot(data['Propertycount'])\n",
    "plt.show()"
   ]
  },
  {
   "cell_type": "code",
   "execution_count": 54,
   "metadata": {},
   "outputs": [
    {
     "data": {
      "text/plain": [
       "Index(['Suburb', 'Address', 'Rooms', 'Type', 'Price', 'Method', 'SellerG',\n",
       "       'Date', 'Postcode', 'Regionname', 'Propertycount', 'Distance',\n",
       "       'CouncilArea', 'Bedroom2', 'Bathroom', 'Car', 'Landsize', 'Lattitude',\n",
       "       'Longtitude', 'Year', 'Month', 'Day', 'Week'],\n",
       "      dtype='object')"
      ]
     },
     "execution_count": 54,
     "metadata": {},
     "output_type": "execute_result"
    }
   ],
   "source": [
    "data.columns"
   ]
  },
  {
   "cell_type": "code",
   "execution_count": 55,
   "metadata": {},
   "outputs": [
    {
     "data": {
      "text/plain": [
       "Suburb             344\n",
       "Address          16266\n",
       "Rooms               11\n",
       "Type                 3\n",
       "Price             2352\n",
       "Method               5\n",
       "SellerG            290\n",
       "Date                75\n",
       "Postcode           209\n",
       "Regionname           8\n",
       "Propertycount      336\n",
       "Distance           168\n",
       "CouncilArea         33\n",
       "Bedroom2            12\n",
       "Bathroom             9\n",
       "Car                 13\n",
       "Landsize          1335\n",
       "Lattitude        10210\n",
       "Longtitude       10623\n",
       "Year                 3\n",
       "Month               12\n",
       "Day                 30\n",
       "Week                41\n",
       "dtype: int64"
      ]
     },
     "execution_count": 55,
     "metadata": {},
     "output_type": "execute_result"
    }
   ],
   "source": [
    "data.nunique()"
   ]
  },
  {
   "cell_type": "code",
   "execution_count": 56,
   "metadata": {},
   "outputs": [],
   "source": [
    "data = data.drop(['Address','SellerG'],axis=1)"
   ]
  },
  {
   "cell_type": "markdown",
   "metadata": {},
   "source": [
    "Retriving the numerical columns"
   ]
  },
  {
   "cell_type": "code",
   "execution_count": 57,
   "metadata": {},
   "outputs": [
    {
     "data": {
      "text/html": [
       "<div>\n",
       "<style scoped>\n",
       "    .dataframe tbody tr th:only-of-type {\n",
       "        vertical-align: middle;\n",
       "    }\n",
       "\n",
       "    .dataframe tbody tr th {\n",
       "        vertical-align: top;\n",
       "    }\n",
       "\n",
       "    .dataframe thead th {\n",
       "        text-align: right;\n",
       "    }\n",
       "</style>\n",
       "<table border=\"1\" class=\"dataframe\">\n",
       "  <thead>\n",
       "    <tr style=\"text-align: right;\">\n",
       "      <th></th>\n",
       "      <th>Rooms</th>\n",
       "      <th>Price</th>\n",
       "      <th>Postcode</th>\n",
       "      <th>Propertycount</th>\n",
       "      <th>Distance</th>\n",
       "      <th>Bedroom2</th>\n",
       "      <th>Bathroom</th>\n",
       "      <th>Car</th>\n",
       "      <th>Landsize</th>\n",
       "      <th>Lattitude</th>\n",
       "      <th>Longtitude</th>\n",
       "    </tr>\n",
       "  </thead>\n",
       "  <tbody>\n",
       "    <tr>\n",
       "      <th>0</th>\n",
       "      <td>3</td>\n",
       "      <td>1350000.0</td>\n",
       "      <td>3067</td>\n",
       "      <td>4019</td>\n",
       "      <td>3.0</td>\n",
       "      <td>3.0</td>\n",
       "      <td>2.0</td>\n",
       "      <td>2.0</td>\n",
       "      <td>521.0</td>\n",
       "      <td>-37.80760</td>\n",
       "      <td>145.00780</td>\n",
       "    </tr>\n",
       "    <tr>\n",
       "      <th>1</th>\n",
       "      <td>3</td>\n",
       "      <td>858000.0</td>\n",
       "      <td>3042</td>\n",
       "      <td>3464</td>\n",
       "      <td>10.4</td>\n",
       "      <td>3.0</td>\n",
       "      <td>2.0</td>\n",
       "      <td>2.0</td>\n",
       "      <td>521.0</td>\n",
       "      <td>-37.80760</td>\n",
       "      <td>145.00780</td>\n",
       "    </tr>\n",
       "    <tr>\n",
       "      <th>2</th>\n",
       "      <td>2</td>\n",
       "      <td>593000.0</td>\n",
       "      <td>3042</td>\n",
       "      <td>3464</td>\n",
       "      <td>10.4</td>\n",
       "      <td>3.0</td>\n",
       "      <td>2.0</td>\n",
       "      <td>2.0</td>\n",
       "      <td>521.0</td>\n",
       "      <td>-37.80760</td>\n",
       "      <td>145.00780</td>\n",
       "    </tr>\n",
       "    <tr>\n",
       "      <th>3</th>\n",
       "      <td>3</td>\n",
       "      <td>640000.0</td>\n",
       "      <td>3042</td>\n",
       "      <td>3464</td>\n",
       "      <td>10.4</td>\n",
       "      <td>3.0</td>\n",
       "      <td>1.0</td>\n",
       "      <td>2.0</td>\n",
       "      <td>219.0</td>\n",
       "      <td>-37.71655</td>\n",
       "      <td>144.88155</td>\n",
       "    </tr>\n",
       "    <tr>\n",
       "      <th>4</th>\n",
       "      <td>3</td>\n",
       "      <td>961000.0</td>\n",
       "      <td>3042</td>\n",
       "      <td>3464</td>\n",
       "      <td>10.4</td>\n",
       "      <td>3.0</td>\n",
       "      <td>1.0</td>\n",
       "      <td>2.0</td>\n",
       "      <td>717.0</td>\n",
       "      <td>-37.72274</td>\n",
       "      <td>144.88002</td>\n",
       "    </tr>\n",
       "  </tbody>\n",
       "</table>\n",
       "</div>"
      ],
      "text/plain": [
       "   Rooms      Price  Postcode  Propertycount  Distance  Bedroom2  Bathroom  \\\n",
       "0      3  1350000.0      3067           4019       3.0       3.0       2.0   \n",
       "1      3   858000.0      3042           3464      10.4       3.0       2.0   \n",
       "2      2   593000.0      3042           3464      10.4       3.0       2.0   \n",
       "3      3   640000.0      3042           3464      10.4       3.0       1.0   \n",
       "4      3   961000.0      3042           3464      10.4       3.0       1.0   \n",
       "\n",
       "   Car  Landsize  Lattitude  Longtitude  \n",
       "0  2.0     521.0  -37.80760   145.00780  \n",
       "1  2.0     521.0  -37.80760   145.00780  \n",
       "2  2.0     521.0  -37.80760   145.00780  \n",
       "3  2.0     219.0  -37.71655   144.88155  \n",
       "4  2.0     717.0  -37.72274   144.88002  "
      ]
     },
     "execution_count": 57,
     "metadata": {},
     "output_type": "execute_result"
    }
   ],
   "source": [
    "data_num=data[['Rooms','Price','Postcode','Propertycount','Distance','Bedroom2','Bathroom','Car','Landsize','Lattitude','Longtitude']]\n",
    "data_num.head()"
   ]
  },
  {
   "cell_type": "code",
   "execution_count": 58,
   "metadata": {},
   "outputs": [
    {
     "data": {
      "text/plain": [
       "(16454, 11)"
      ]
     },
     "execution_count": 58,
     "metadata": {},
     "output_type": "execute_result"
    }
   ],
   "source": [
    "data_num.shape"
   ]
  },
  {
   "cell_type": "markdown",
   "metadata": {},
   "source": [
    "As the data was slightly right skewed we have to do normalization for numerical columns"
   ]
  },
  {
   "cell_type": "code",
   "execution_count": 59,
   "metadata": {},
   "outputs": [
    {
     "data": {
      "text/html": [
       "<div>\n",
       "<style scoped>\n",
       "    .dataframe tbody tr th:only-of-type {\n",
       "        vertical-align: middle;\n",
       "    }\n",
       "\n",
       "    .dataframe tbody tr th {\n",
       "        vertical-align: top;\n",
       "    }\n",
       "\n",
       "    .dataframe thead th {\n",
       "        text-align: right;\n",
       "    }\n",
       "</style>\n",
       "<table border=\"1\" class=\"dataframe\">\n",
       "  <thead>\n",
       "    <tr style=\"text-align: right;\">\n",
       "      <th></th>\n",
       "      <th>Rooms</th>\n",
       "      <th>Price</th>\n",
       "      <th>Postcode</th>\n",
       "      <th>Propertycount</th>\n",
       "      <th>Distance</th>\n",
       "      <th>Bedroom2</th>\n",
       "      <th>Bathroom</th>\n",
       "      <th>Car</th>\n",
       "      <th>Landsize</th>\n",
       "      <th>Lattitude</th>\n",
       "      <th>Longtitude</th>\n",
       "    </tr>\n",
       "  </thead>\n",
       "  <tbody>\n",
       "    <tr>\n",
       "      <th>0</th>\n",
       "      <td>0.133333</td>\n",
       "      <td>0.111652</td>\n",
       "      <td>0.068507</td>\n",
       "      <td>0.182501</td>\n",
       "      <td>0.062370</td>\n",
       "      <td>0.1875</td>\n",
       "      <td>0.222222</td>\n",
       "      <td>0.111111</td>\n",
       "      <td>0.001203</td>\n",
       "      <td>0.482987</td>\n",
       "      <td>0.529685</td>\n",
       "    </tr>\n",
       "    <tr>\n",
       "      <th>1</th>\n",
       "      <td>0.133333</td>\n",
       "      <td>0.067280</td>\n",
       "      <td>0.042945</td>\n",
       "      <td>0.156767</td>\n",
       "      <td>0.216216</td>\n",
       "      <td>0.1875</td>\n",
       "      <td>0.222222</td>\n",
       "      <td>0.111111</td>\n",
       "      <td>0.001203</td>\n",
       "      <td>0.482987</td>\n",
       "      <td>0.529685</td>\n",
       "    </tr>\n",
       "    <tr>\n",
       "      <th>2</th>\n",
       "      <td>0.066667</td>\n",
       "      <td>0.043380</td>\n",
       "      <td>0.042945</td>\n",
       "      <td>0.156767</td>\n",
       "      <td>0.216216</td>\n",
       "      <td>0.1875</td>\n",
       "      <td>0.222222</td>\n",
       "      <td>0.111111</td>\n",
       "      <td>0.001203</td>\n",
       "      <td>0.482987</td>\n",
       "      <td>0.529685</td>\n",
       "    </tr>\n",
       "    <tr>\n",
       "      <th>3</th>\n",
       "      <td>0.133333</td>\n",
       "      <td>0.047619</td>\n",
       "      <td>0.042945</td>\n",
       "      <td>0.156767</td>\n",
       "      <td>0.216216</td>\n",
       "      <td>0.1875</td>\n",
       "      <td>0.111111</td>\n",
       "      <td>0.111111</td>\n",
       "      <td>0.000506</td>\n",
       "      <td>0.597858</td>\n",
       "      <td>0.415179</td>\n",
       "    </tr>\n",
       "    <tr>\n",
       "      <th>4</th>\n",
       "      <td>0.133333</td>\n",
       "      <td>0.076569</td>\n",
       "      <td>0.042945</td>\n",
       "      <td>0.156767</td>\n",
       "      <td>0.216216</td>\n",
       "      <td>0.1875</td>\n",
       "      <td>0.111111</td>\n",
       "      <td>0.111111</td>\n",
       "      <td>0.001656</td>\n",
       "      <td>0.590048</td>\n",
       "      <td>0.413792</td>\n",
       "    </tr>\n",
       "    <tr>\n",
       "      <th>...</th>\n",
       "      <td>...</td>\n",
       "      <td>...</td>\n",
       "      <td>...</td>\n",
       "      <td>...</td>\n",
       "      <td>...</td>\n",
       "      <td>...</td>\n",
       "      <td>...</td>\n",
       "      <td>...</td>\n",
       "      <td>...</td>\n",
       "      <td>...</td>\n",
       "      <td>...</td>\n",
       "    </tr>\n",
       "    <tr>\n",
       "      <th>16449</th>\n",
       "      <td>0.133333</td>\n",
       "      <td>0.046492</td>\n",
       "      <td>0.177914</td>\n",
       "      <td>0.543562</td>\n",
       "      <td>0.471933</td>\n",
       "      <td>0.1875</td>\n",
       "      <td>0.111111</td>\n",
       "      <td>0.333333</td>\n",
       "      <td>0.001314</td>\n",
       "      <td>0.279361</td>\n",
       "      <td>0.687917</td>\n",
       "    </tr>\n",
       "    <tr>\n",
       "      <th>16450</th>\n",
       "      <td>0.133333</td>\n",
       "      <td>0.032738</td>\n",
       "      <td>0.074642</td>\n",
       "      <td>1.000000</td>\n",
       "      <td>0.249480</td>\n",
       "      <td>0.1875</td>\n",
       "      <td>0.111111</td>\n",
       "      <td>0.055556</td>\n",
       "      <td>0.001203</td>\n",
       "      <td>0.621652</td>\n",
       "      <td>0.543762</td>\n",
       "    </tr>\n",
       "    <tr>\n",
       "      <th>16451</th>\n",
       "      <td>0.200000</td>\n",
       "      <td>0.043200</td>\n",
       "      <td>0.065440</td>\n",
       "      <td>0.266611</td>\n",
       "      <td>0.428274</td>\n",
       "      <td>0.2500</td>\n",
       "      <td>0.222222</td>\n",
       "      <td>0.111111</td>\n",
       "      <td>0.001203</td>\n",
       "      <td>0.698661</td>\n",
       "      <td>0.458905</td>\n",
       "    </tr>\n",
       "    <tr>\n",
       "      <th>16452</th>\n",
       "      <td>0.133333</td>\n",
       "      <td>0.060290</td>\n",
       "      <td>0.175869</td>\n",
       "      <td>0.184124</td>\n",
       "      <td>0.461538</td>\n",
       "      <td>0.1875</td>\n",
       "      <td>0.222222</td>\n",
       "      <td>0.055556</td>\n",
       "      <td>0.001256</td>\n",
       "      <td>0.268625</td>\n",
       "      <td>0.656962</td>\n",
       "    </tr>\n",
       "    <tr>\n",
       "      <th>16453</th>\n",
       "      <td>0.200000</td>\n",
       "      <td>0.061237</td>\n",
       "      <td>0.050102</td>\n",
       "      <td>0.110864</td>\n",
       "      <td>0.343035</td>\n",
       "      <td>0.2500</td>\n",
       "      <td>0.222222</td>\n",
       "      <td>0.333333</td>\n",
       "      <td>0.001878</td>\n",
       "      <td>0.648625</td>\n",
       "      <td>0.426553</td>\n",
       "    </tr>\n",
       "  </tbody>\n",
       "</table>\n",
       "<p>16454 rows × 11 columns</p>\n",
       "</div>"
      ],
      "text/plain": [
       "          Rooms     Price  Postcode  Propertycount  Distance  Bedroom2  \\\n",
       "0      0.133333  0.111652  0.068507       0.182501  0.062370    0.1875   \n",
       "1      0.133333  0.067280  0.042945       0.156767  0.216216    0.1875   \n",
       "2      0.066667  0.043380  0.042945       0.156767  0.216216    0.1875   \n",
       "3      0.133333  0.047619  0.042945       0.156767  0.216216    0.1875   \n",
       "4      0.133333  0.076569  0.042945       0.156767  0.216216    0.1875   \n",
       "...         ...       ...       ...            ...       ...       ...   \n",
       "16449  0.133333  0.046492  0.177914       0.543562  0.471933    0.1875   \n",
       "16450  0.133333  0.032738  0.074642       1.000000  0.249480    0.1875   \n",
       "16451  0.200000  0.043200  0.065440       0.266611  0.428274    0.2500   \n",
       "16452  0.133333  0.060290  0.175869       0.184124  0.461538    0.1875   \n",
       "16453  0.200000  0.061237  0.050102       0.110864  0.343035    0.2500   \n",
       "\n",
       "       Bathroom       Car  Landsize  Lattitude  Longtitude  \n",
       "0      0.222222  0.111111  0.001203   0.482987    0.529685  \n",
       "1      0.222222  0.111111  0.001203   0.482987    0.529685  \n",
       "2      0.222222  0.111111  0.001203   0.482987    0.529685  \n",
       "3      0.111111  0.111111  0.000506   0.597858    0.415179  \n",
       "4      0.111111  0.111111  0.001656   0.590048    0.413792  \n",
       "...         ...       ...       ...        ...         ...  \n",
       "16449  0.111111  0.333333  0.001314   0.279361    0.687917  \n",
       "16450  0.111111  0.055556  0.001203   0.621652    0.543762  \n",
       "16451  0.222222  0.111111  0.001203   0.698661    0.458905  \n",
       "16452  0.222222  0.055556  0.001256   0.268625    0.656962  \n",
       "16453  0.222222  0.333333  0.001878   0.648625    0.426553  \n",
       "\n",
       "[16454 rows x 11 columns]"
      ]
     },
     "execution_count": 59,
     "metadata": {},
     "output_type": "execute_result"
    }
   ],
   "source": [
    "# normalizing the numerical columns\n",
    "data_num = (data_num - data_num.min()) / (data_num.max() - data_num.min())\n",
    "data_num"
   ]
  },
  {
   "cell_type": "code",
   "execution_count": 60,
   "metadata": {},
   "outputs": [
    {
     "data": {
      "text/plain": [
       "Brunswick         387\n",
       "Reservoir         342\n",
       "Bentleigh East    219\n",
       "Craigieburn       211\n",
       "Richmond          194\n",
       "                 ... \n",
       "Darley              1\n",
       "croydon             1\n",
       "Botanic Ridge       1\n",
       "Coldstream          1\n",
       "Wandin North        1\n",
       "Name: Suburb, Length: 344, dtype: int64"
      ]
     },
     "execution_count": 60,
     "metadata": {},
     "output_type": "execute_result"
    }
   ],
   "source": [
    "data[\"Suburb\"].value_counts()"
   ]
  },
  {
   "cell_type": "code",
   "execution_count": 61,
   "metadata": {},
   "outputs": [
    {
     "data": {
      "text/plain": [
       "h    11705\n",
       "u     3107\n",
       "t     1642\n",
       "Name: Type, dtype: int64"
      ]
     },
     "execution_count": 61,
     "metadata": {},
     "output_type": "execute_result"
    }
   ],
   "source": [
    "data[\"Type\"].value_counts()"
   ]
  },
  {
   "cell_type": "code",
   "execution_count": 62,
   "metadata": {},
   "outputs": [
    {
     "data": {
      "text/plain": [
       "S     10485\n",
       "SP     2269\n",
       "PI     1878\n",
       "VB     1676\n",
       "SA      146\n",
       "Name: Method, dtype: int64"
      ]
     },
     "execution_count": 62,
     "metadata": {},
     "output_type": "execute_result"
    }
   ],
   "source": [
    "data[\"Method\"].value_counts()"
   ]
  },
  {
   "cell_type": "code",
   "execution_count": 63,
   "metadata": {},
   "outputs": [
    {
     "data": {
      "text/plain": [
       "Northern Metropolitan         4736\n",
       "Southern Metropolitan         4204\n",
       "Western Metropolitan          3375\n",
       "Eastern Metropolitan          2434\n",
       "South-Eastern Metropolitan    1277\n",
       "Eastern Victoria               166\n",
       "Northern Victoria              166\n",
       "Western Victoria                96\n",
       "Name: Regionname, dtype: int64"
      ]
     },
     "execution_count": 63,
     "metadata": {},
     "output_type": "execute_result"
    }
   ],
   "source": [
    "data[\"Regionname\"].value_counts()"
   ]
  },
  {
   "cell_type": "code",
   "execution_count": 64,
   "metadata": {},
   "outputs": [
    {
     "data": {
      "text/plain": [
       "Boroondara City Council           1206\n",
       "Darebin City Council              1116\n",
       "Moreland City Council             1042\n",
       "Banyule City Council               942\n",
       "Hume City Council                  918\n",
       "Brimbank City Council              888\n",
       "Bayside City Council               816\n",
       "Moonee Valley City Council         750\n",
       "Glen Eira City Council             738\n",
       "Monash City Council                737\n",
       "Whittlesea City Council            709\n",
       "Melbourne City Council             649\n",
       "Kingston City Council              608\n",
       "Maribyrnong City Council           560\n",
       "Manningham City Council            542\n",
       "Wyndham City Council               492\n",
       "Stonnington City Council           473\n",
       "Yarra City Council                 419\n",
       "Port Phillip City Council          417\n",
       "Whitehorse City Council            383\n",
       "Hobsons Bay City Council           357\n",
       "Maroondah City Council             356\n",
       "Knox City Council                  287\n",
       "Melton City Council                243\n",
       "Frankston City Council             229\n",
       "Greater Dandenong City Council     209\n",
       "Casey City Council                 138\n",
       "Nillumbik Shire Council             78\n",
       "Yarra Ranges Shire Council          71\n",
       "Macedon Ranges Shire Council        39\n",
       "Cardinia Shire Council              26\n",
       "Mitchell Shire Council              11\n",
       "Moorabool Shire Council              5\n",
       "Name: CouncilArea, dtype: int64"
      ]
     },
     "execution_count": 64,
     "metadata": {},
     "output_type": "execute_result"
    }
   ],
   "source": [
    "data[\"CouncilArea\"].value_counts()"
   ]
  },
  {
   "cell_type": "code",
   "execution_count": 65,
   "metadata": {},
   "outputs": [
    {
     "data": {
      "text/plain": [
       "(16454, 5)"
      ]
     },
     "execution_count": 65,
     "metadata": {},
     "output_type": "execute_result"
    }
   ],
   "source": [
    "data_cat =data[['Type','Method','Regionname','CouncilArea','Suburb']]\n",
    "data_cat.shape"
   ]
  },
  {
   "cell_type": "code",
   "execution_count": 66,
   "metadata": {},
   "outputs": [],
   "source": [
    "# dummification for categorical variables\n",
    "g_dum=pd.get_dummies(data_cat)"
   ]
  },
  {
   "cell_type": "code",
   "execution_count": 67,
   "metadata": {},
   "outputs": [
    {
     "data": {
      "text/html": [
       "<div>\n",
       "<style scoped>\n",
       "    .dataframe tbody tr th:only-of-type {\n",
       "        vertical-align: middle;\n",
       "    }\n",
       "\n",
       "    .dataframe tbody tr th {\n",
       "        vertical-align: top;\n",
       "    }\n",
       "\n",
       "    .dataframe thead th {\n",
       "        text-align: right;\n",
       "    }\n",
       "</style>\n",
       "<table border=\"1\" class=\"dataframe\">\n",
       "  <thead>\n",
       "    <tr style=\"text-align: right;\">\n",
       "      <th></th>\n",
       "      <th>Type_h</th>\n",
       "      <th>Type_t</th>\n",
       "      <th>Type_u</th>\n",
       "      <th>Method_PI</th>\n",
       "      <th>Method_S</th>\n",
       "      <th>Method_SA</th>\n",
       "      <th>Method_SP</th>\n",
       "      <th>Method_VB</th>\n",
       "      <th>Regionname_Eastern Metropolitan</th>\n",
       "      <th>Regionname_Eastern Victoria</th>\n",
       "      <th>...</th>\n",
       "      <th>Suburb_Williamstown North</th>\n",
       "      <th>Suburb_Windsor</th>\n",
       "      <th>Suburb_Wollert</th>\n",
       "      <th>Suburb_Wonga Park</th>\n",
       "      <th>Suburb_Wyndham Vale</th>\n",
       "      <th>Suburb_Yallambie</th>\n",
       "      <th>Suburb_Yarra Glen</th>\n",
       "      <th>Suburb_Yarraville</th>\n",
       "      <th>Suburb_croydon</th>\n",
       "      <th>Suburb_viewbank</th>\n",
       "    </tr>\n",
       "  </thead>\n",
       "  <tbody>\n",
       "    <tr>\n",
       "      <th>0</th>\n",
       "      <td>1</td>\n",
       "      <td>0</td>\n",
       "      <td>0</td>\n",
       "      <td>0</td>\n",
       "      <td>1</td>\n",
       "      <td>0</td>\n",
       "      <td>0</td>\n",
       "      <td>0</td>\n",
       "      <td>0</td>\n",
       "      <td>0</td>\n",
       "      <td>...</td>\n",
       "      <td>0</td>\n",
       "      <td>0</td>\n",
       "      <td>0</td>\n",
       "      <td>0</td>\n",
       "      <td>0</td>\n",
       "      <td>0</td>\n",
       "      <td>0</td>\n",
       "      <td>0</td>\n",
       "      <td>0</td>\n",
       "      <td>0</td>\n",
       "    </tr>\n",
       "    <tr>\n",
       "      <th>1</th>\n",
       "      <td>1</td>\n",
       "      <td>0</td>\n",
       "      <td>0</td>\n",
       "      <td>0</td>\n",
       "      <td>0</td>\n",
       "      <td>0</td>\n",
       "      <td>1</td>\n",
       "      <td>0</td>\n",
       "      <td>0</td>\n",
       "      <td>0</td>\n",
       "      <td>...</td>\n",
       "      <td>0</td>\n",
       "      <td>0</td>\n",
       "      <td>0</td>\n",
       "      <td>0</td>\n",
       "      <td>0</td>\n",
       "      <td>0</td>\n",
       "      <td>0</td>\n",
       "      <td>0</td>\n",
       "      <td>0</td>\n",
       "      <td>0</td>\n",
       "    </tr>\n",
       "    <tr>\n",
       "      <th>2</th>\n",
       "      <td>0</td>\n",
       "      <td>0</td>\n",
       "      <td>1</td>\n",
       "      <td>0</td>\n",
       "      <td>1</td>\n",
       "      <td>0</td>\n",
       "      <td>0</td>\n",
       "      <td>0</td>\n",
       "      <td>0</td>\n",
       "      <td>0</td>\n",
       "      <td>...</td>\n",
       "      <td>0</td>\n",
       "      <td>0</td>\n",
       "      <td>0</td>\n",
       "      <td>0</td>\n",
       "      <td>0</td>\n",
       "      <td>0</td>\n",
       "      <td>0</td>\n",
       "      <td>0</td>\n",
       "      <td>0</td>\n",
       "      <td>0</td>\n",
       "    </tr>\n",
       "    <tr>\n",
       "      <th>3</th>\n",
       "      <td>1</td>\n",
       "      <td>0</td>\n",
       "      <td>0</td>\n",
       "      <td>0</td>\n",
       "      <td>1</td>\n",
       "      <td>0</td>\n",
       "      <td>0</td>\n",
       "      <td>0</td>\n",
       "      <td>0</td>\n",
       "      <td>0</td>\n",
       "      <td>...</td>\n",
       "      <td>0</td>\n",
       "      <td>0</td>\n",
       "      <td>0</td>\n",
       "      <td>0</td>\n",
       "      <td>0</td>\n",
       "      <td>0</td>\n",
       "      <td>0</td>\n",
       "      <td>0</td>\n",
       "      <td>0</td>\n",
       "      <td>0</td>\n",
       "    </tr>\n",
       "    <tr>\n",
       "      <th>4</th>\n",
       "      <td>1</td>\n",
       "      <td>0</td>\n",
       "      <td>0</td>\n",
       "      <td>0</td>\n",
       "      <td>1</td>\n",
       "      <td>0</td>\n",
       "      <td>0</td>\n",
       "      <td>0</td>\n",
       "      <td>0</td>\n",
       "      <td>0</td>\n",
       "      <td>...</td>\n",
       "      <td>0</td>\n",
       "      <td>0</td>\n",
       "      <td>0</td>\n",
       "      <td>0</td>\n",
       "      <td>0</td>\n",
       "      <td>0</td>\n",
       "      <td>0</td>\n",
       "      <td>0</td>\n",
       "      <td>0</td>\n",
       "      <td>0</td>\n",
       "    </tr>\n",
       "    <tr>\n",
       "      <th>...</th>\n",
       "      <td>...</td>\n",
       "      <td>...</td>\n",
       "      <td>...</td>\n",
       "      <td>...</td>\n",
       "      <td>...</td>\n",
       "      <td>...</td>\n",
       "      <td>...</td>\n",
       "      <td>...</td>\n",
       "      <td>...</td>\n",
       "      <td>...</td>\n",
       "      <td>...</td>\n",
       "      <td>...</td>\n",
       "      <td>...</td>\n",
       "      <td>...</td>\n",
       "      <td>...</td>\n",
       "      <td>...</td>\n",
       "      <td>...</td>\n",
       "      <td>...</td>\n",
       "      <td>...</td>\n",
       "      <td>...</td>\n",
       "      <td>...</td>\n",
       "    </tr>\n",
       "    <tr>\n",
       "      <th>16449</th>\n",
       "      <td>1</td>\n",
       "      <td>0</td>\n",
       "      <td>0</td>\n",
       "      <td>1</td>\n",
       "      <td>0</td>\n",
       "      <td>0</td>\n",
       "      <td>0</td>\n",
       "      <td>0</td>\n",
       "      <td>0</td>\n",
       "      <td>0</td>\n",
       "      <td>...</td>\n",
       "      <td>0</td>\n",
       "      <td>0</td>\n",
       "      <td>0</td>\n",
       "      <td>0</td>\n",
       "      <td>0</td>\n",
       "      <td>0</td>\n",
       "      <td>0</td>\n",
       "      <td>0</td>\n",
       "      <td>0</td>\n",
       "      <td>0</td>\n",
       "    </tr>\n",
       "    <tr>\n",
       "      <th>16450</th>\n",
       "      <td>0</td>\n",
       "      <td>0</td>\n",
       "      <td>1</td>\n",
       "      <td>0</td>\n",
       "      <td>0</td>\n",
       "      <td>0</td>\n",
       "      <td>1</td>\n",
       "      <td>0</td>\n",
       "      <td>0</td>\n",
       "      <td>0</td>\n",
       "      <td>...</td>\n",
       "      <td>0</td>\n",
       "      <td>0</td>\n",
       "      <td>0</td>\n",
       "      <td>0</td>\n",
       "      <td>0</td>\n",
       "      <td>0</td>\n",
       "      <td>0</td>\n",
       "      <td>0</td>\n",
       "      <td>0</td>\n",
       "      <td>0</td>\n",
       "    </tr>\n",
       "    <tr>\n",
       "      <th>16451</th>\n",
       "      <td>1</td>\n",
       "      <td>0</td>\n",
       "      <td>0</td>\n",
       "      <td>0</td>\n",
       "      <td>1</td>\n",
       "      <td>0</td>\n",
       "      <td>0</td>\n",
       "      <td>0</td>\n",
       "      <td>0</td>\n",
       "      <td>0</td>\n",
       "      <td>...</td>\n",
       "      <td>0</td>\n",
       "      <td>0</td>\n",
       "      <td>0</td>\n",
       "      <td>0</td>\n",
       "      <td>0</td>\n",
       "      <td>0</td>\n",
       "      <td>0</td>\n",
       "      <td>0</td>\n",
       "      <td>0</td>\n",
       "      <td>0</td>\n",
       "    </tr>\n",
       "    <tr>\n",
       "      <th>16452</th>\n",
       "      <td>1</td>\n",
       "      <td>0</td>\n",
       "      <td>0</td>\n",
       "      <td>0</td>\n",
       "      <td>1</td>\n",
       "      <td>0</td>\n",
       "      <td>0</td>\n",
       "      <td>0</td>\n",
       "      <td>0</td>\n",
       "      <td>0</td>\n",
       "      <td>...</td>\n",
       "      <td>0</td>\n",
       "      <td>0</td>\n",
       "      <td>0</td>\n",
       "      <td>0</td>\n",
       "      <td>0</td>\n",
       "      <td>0</td>\n",
       "      <td>0</td>\n",
       "      <td>0</td>\n",
       "      <td>0</td>\n",
       "      <td>0</td>\n",
       "    </tr>\n",
       "    <tr>\n",
       "      <th>16453</th>\n",
       "      <td>1</td>\n",
       "      <td>0</td>\n",
       "      <td>0</td>\n",
       "      <td>0</td>\n",
       "      <td>1</td>\n",
       "      <td>0</td>\n",
       "      <td>0</td>\n",
       "      <td>0</td>\n",
       "      <td>0</td>\n",
       "      <td>0</td>\n",
       "      <td>...</td>\n",
       "      <td>0</td>\n",
       "      <td>0</td>\n",
       "      <td>0</td>\n",
       "      <td>0</td>\n",
       "      <td>0</td>\n",
       "      <td>0</td>\n",
       "      <td>0</td>\n",
       "      <td>0</td>\n",
       "      <td>0</td>\n",
       "      <td>0</td>\n",
       "    </tr>\n",
       "  </tbody>\n",
       "</table>\n",
       "<p>16454 rows × 393 columns</p>\n",
       "</div>"
      ],
      "text/plain": [
       "       Type_h  Type_t  Type_u  Method_PI  Method_S  Method_SA  Method_SP  \\\n",
       "0           1       0       0          0         1          0          0   \n",
       "1           1       0       0          0         0          0          1   \n",
       "2           0       0       1          0         1          0          0   \n",
       "3           1       0       0          0         1          0          0   \n",
       "4           1       0       0          0         1          0          0   \n",
       "...       ...     ...     ...        ...       ...        ...        ...   \n",
       "16449       1       0       0          1         0          0          0   \n",
       "16450       0       0       1          0         0          0          1   \n",
       "16451       1       0       0          0         1          0          0   \n",
       "16452       1       0       0          0         1          0          0   \n",
       "16453       1       0       0          0         1          0          0   \n",
       "\n",
       "       Method_VB  Regionname_Eastern Metropolitan  \\\n",
       "0              0                                0   \n",
       "1              0                                0   \n",
       "2              0                                0   \n",
       "3              0                                0   \n",
       "4              0                                0   \n",
       "...          ...                              ...   \n",
       "16449          0                                0   \n",
       "16450          0                                0   \n",
       "16451          0                                0   \n",
       "16452          0                                0   \n",
       "16453          0                                0   \n",
       "\n",
       "       Regionname_Eastern Victoria  ...  Suburb_Williamstown North  \\\n",
       "0                                0  ...                          0   \n",
       "1                                0  ...                          0   \n",
       "2                                0  ...                          0   \n",
       "3                                0  ...                          0   \n",
       "4                                0  ...                          0   \n",
       "...                            ...  ...                        ...   \n",
       "16449                            0  ...                          0   \n",
       "16450                            0  ...                          0   \n",
       "16451                            0  ...                          0   \n",
       "16452                            0  ...                          0   \n",
       "16453                            0  ...                          0   \n",
       "\n",
       "       Suburb_Windsor  Suburb_Wollert  Suburb_Wonga Park  Suburb_Wyndham Vale  \\\n",
       "0                   0               0                  0                    0   \n",
       "1                   0               0                  0                    0   \n",
       "2                   0               0                  0                    0   \n",
       "3                   0               0                  0                    0   \n",
       "4                   0               0                  0                    0   \n",
       "...               ...             ...                ...                  ...   \n",
       "16449               0               0                  0                    0   \n",
       "16450               0               0                  0                    0   \n",
       "16451               0               0                  0                    0   \n",
       "16452               0               0                  0                    0   \n",
       "16453               0               0                  0                    0   \n",
       "\n",
       "       Suburb_Yallambie  Suburb_Yarra Glen  Suburb_Yarraville  Suburb_croydon  \\\n",
       "0                     0                  0                  0               0   \n",
       "1                     0                  0                  0               0   \n",
       "2                     0                  0                  0               0   \n",
       "3                     0                  0                  0               0   \n",
       "4                     0                  0                  0               0   \n",
       "...                 ...                ...                ...             ...   \n",
       "16449                 0                  0                  0               0   \n",
       "16450                 0                  0                  0               0   \n",
       "16451                 0                  0                  0               0   \n",
       "16452                 0                  0                  0               0   \n",
       "16453                 0                  0                  0               0   \n",
       "\n",
       "       Suburb_viewbank  \n",
       "0                    0  \n",
       "1                    0  \n",
       "2                    0  \n",
       "3                    0  \n",
       "4                    0  \n",
       "...                ...  \n",
       "16449                0  \n",
       "16450                0  \n",
       "16451                0  \n",
       "16452                0  \n",
       "16453                0  \n",
       "\n",
       "[16454 rows x 393 columns]"
      ]
     },
     "execution_count": 67,
     "metadata": {},
     "output_type": "execute_result"
    }
   ],
   "source": [
    "g_dum"
   ]
  },
  {
   "cell_type": "code",
   "execution_count": 68,
   "metadata": {},
   "outputs": [
    {
     "data": {
      "text/plain": [
       "Index(['Rooms', 'Price', 'Postcode', 'Propertycount', 'Distance', 'Bedroom2',\n",
       "       'Bathroom', 'Car', 'Landsize', 'Lattitude', 'Longtitude'],\n",
       "      dtype='object')"
      ]
     },
     "execution_count": 68,
     "metadata": {},
     "output_type": "execute_result"
    }
   ],
   "source": [
    "data_num.columns"
   ]
  },
  {
   "cell_type": "code",
   "execution_count": 69,
   "metadata": {},
   "outputs": [
    {
     "data": {
      "text/html": [
       "<div>\n",
       "<style scoped>\n",
       "    .dataframe tbody tr th:only-of-type {\n",
       "        vertical-align: middle;\n",
       "    }\n",
       "\n",
       "    .dataframe tbody tr th {\n",
       "        vertical-align: top;\n",
       "    }\n",
       "\n",
       "    .dataframe thead th {\n",
       "        text-align: right;\n",
       "    }\n",
       "</style>\n",
       "<table border=\"1\" class=\"dataframe\">\n",
       "  <thead>\n",
       "    <tr style=\"text-align: right;\">\n",
       "      <th></th>\n",
       "      <th>Type_h</th>\n",
       "      <th>Type_t</th>\n",
       "      <th>Type_u</th>\n",
       "      <th>Method_PI</th>\n",
       "      <th>Method_S</th>\n",
       "      <th>Method_SA</th>\n",
       "      <th>Method_SP</th>\n",
       "      <th>Method_VB</th>\n",
       "      <th>Regionname_Eastern Metropolitan</th>\n",
       "      <th>Regionname_Eastern Victoria</th>\n",
       "      <th>...</th>\n",
       "      <th>Price</th>\n",
       "      <th>Postcode</th>\n",
       "      <th>Propertycount</th>\n",
       "      <th>Distance</th>\n",
       "      <th>Bedroom2</th>\n",
       "      <th>Bathroom</th>\n",
       "      <th>Car</th>\n",
       "      <th>Landsize</th>\n",
       "      <th>Lattitude</th>\n",
       "      <th>Longtitude</th>\n",
       "    </tr>\n",
       "  </thead>\n",
       "  <tbody>\n",
       "    <tr>\n",
       "      <th>0</th>\n",
       "      <td>1</td>\n",
       "      <td>0</td>\n",
       "      <td>0</td>\n",
       "      <td>0</td>\n",
       "      <td>1</td>\n",
       "      <td>0</td>\n",
       "      <td>0</td>\n",
       "      <td>0</td>\n",
       "      <td>0</td>\n",
       "      <td>0</td>\n",
       "      <td>...</td>\n",
       "      <td>0.111652</td>\n",
       "      <td>0.068507</td>\n",
       "      <td>0.182501</td>\n",
       "      <td>0.062370</td>\n",
       "      <td>0.1875</td>\n",
       "      <td>0.222222</td>\n",
       "      <td>0.111111</td>\n",
       "      <td>0.001203</td>\n",
       "      <td>0.482987</td>\n",
       "      <td>0.529685</td>\n",
       "    </tr>\n",
       "    <tr>\n",
       "      <th>1</th>\n",
       "      <td>1</td>\n",
       "      <td>0</td>\n",
       "      <td>0</td>\n",
       "      <td>0</td>\n",
       "      <td>0</td>\n",
       "      <td>0</td>\n",
       "      <td>1</td>\n",
       "      <td>0</td>\n",
       "      <td>0</td>\n",
       "      <td>0</td>\n",
       "      <td>...</td>\n",
       "      <td>0.067280</td>\n",
       "      <td>0.042945</td>\n",
       "      <td>0.156767</td>\n",
       "      <td>0.216216</td>\n",
       "      <td>0.1875</td>\n",
       "      <td>0.222222</td>\n",
       "      <td>0.111111</td>\n",
       "      <td>0.001203</td>\n",
       "      <td>0.482987</td>\n",
       "      <td>0.529685</td>\n",
       "    </tr>\n",
       "    <tr>\n",
       "      <th>2</th>\n",
       "      <td>0</td>\n",
       "      <td>0</td>\n",
       "      <td>1</td>\n",
       "      <td>0</td>\n",
       "      <td>1</td>\n",
       "      <td>0</td>\n",
       "      <td>0</td>\n",
       "      <td>0</td>\n",
       "      <td>0</td>\n",
       "      <td>0</td>\n",
       "      <td>...</td>\n",
       "      <td>0.043380</td>\n",
       "      <td>0.042945</td>\n",
       "      <td>0.156767</td>\n",
       "      <td>0.216216</td>\n",
       "      <td>0.1875</td>\n",
       "      <td>0.222222</td>\n",
       "      <td>0.111111</td>\n",
       "      <td>0.001203</td>\n",
       "      <td>0.482987</td>\n",
       "      <td>0.529685</td>\n",
       "    </tr>\n",
       "    <tr>\n",
       "      <th>3</th>\n",
       "      <td>1</td>\n",
       "      <td>0</td>\n",
       "      <td>0</td>\n",
       "      <td>0</td>\n",
       "      <td>1</td>\n",
       "      <td>0</td>\n",
       "      <td>0</td>\n",
       "      <td>0</td>\n",
       "      <td>0</td>\n",
       "      <td>0</td>\n",
       "      <td>...</td>\n",
       "      <td>0.047619</td>\n",
       "      <td>0.042945</td>\n",
       "      <td>0.156767</td>\n",
       "      <td>0.216216</td>\n",
       "      <td>0.1875</td>\n",
       "      <td>0.111111</td>\n",
       "      <td>0.111111</td>\n",
       "      <td>0.000506</td>\n",
       "      <td>0.597858</td>\n",
       "      <td>0.415179</td>\n",
       "    </tr>\n",
       "    <tr>\n",
       "      <th>4</th>\n",
       "      <td>1</td>\n",
       "      <td>0</td>\n",
       "      <td>0</td>\n",
       "      <td>0</td>\n",
       "      <td>1</td>\n",
       "      <td>0</td>\n",
       "      <td>0</td>\n",
       "      <td>0</td>\n",
       "      <td>0</td>\n",
       "      <td>0</td>\n",
       "      <td>...</td>\n",
       "      <td>0.076569</td>\n",
       "      <td>0.042945</td>\n",
       "      <td>0.156767</td>\n",
       "      <td>0.216216</td>\n",
       "      <td>0.1875</td>\n",
       "      <td>0.111111</td>\n",
       "      <td>0.111111</td>\n",
       "      <td>0.001656</td>\n",
       "      <td>0.590048</td>\n",
       "      <td>0.413792</td>\n",
       "    </tr>\n",
       "  </tbody>\n",
       "</table>\n",
       "<p>5 rows × 404 columns</p>\n",
       "</div>"
      ],
      "text/plain": [
       "   Type_h  Type_t  Type_u  Method_PI  Method_S  Method_SA  Method_SP  \\\n",
       "0       1       0       0          0         1          0          0   \n",
       "1       1       0       0          0         0          0          1   \n",
       "2       0       0       1          0         1          0          0   \n",
       "3       1       0       0          0         1          0          0   \n",
       "4       1       0       0          0         1          0          0   \n",
       "\n",
       "   Method_VB  Regionname_Eastern Metropolitan  Regionname_Eastern Victoria  \\\n",
       "0          0                                0                            0   \n",
       "1          0                                0                            0   \n",
       "2          0                                0                            0   \n",
       "3          0                                0                            0   \n",
       "4          0                                0                            0   \n",
       "\n",
       "   ...     Price  Postcode  Propertycount  Distance  Bedroom2  Bathroom  \\\n",
       "0  ...  0.111652  0.068507       0.182501  0.062370    0.1875  0.222222   \n",
       "1  ...  0.067280  0.042945       0.156767  0.216216    0.1875  0.222222   \n",
       "2  ...  0.043380  0.042945       0.156767  0.216216    0.1875  0.222222   \n",
       "3  ...  0.047619  0.042945       0.156767  0.216216    0.1875  0.111111   \n",
       "4  ...  0.076569  0.042945       0.156767  0.216216    0.1875  0.111111   \n",
       "\n",
       "        Car  Landsize  Lattitude  Longtitude  \n",
       "0  0.111111  0.001203   0.482987    0.529685  \n",
       "1  0.111111  0.001203   0.482987    0.529685  \n",
       "2  0.111111  0.001203   0.482987    0.529685  \n",
       "3  0.111111  0.000506   0.597858    0.415179  \n",
       "4  0.111111  0.001656   0.590048    0.413792  \n",
       "\n",
       "[5 rows x 404 columns]"
      ]
     },
     "execution_count": 69,
     "metadata": {},
     "output_type": "execute_result"
    }
   ],
   "source": [
    "# concating the numerical column and updated categorical column \n",
    "data_final=pd.concat([g_dum,data_num],axis=1)\n",
    "data_final.head()"
   ]
  },
  {
   "cell_type": "code",
   "execution_count": 70,
   "metadata": {},
   "outputs": [
    {
     "data": {
      "text/plain": [
       "(16454, 404)"
      ]
     },
     "execution_count": 70,
     "metadata": {},
     "output_type": "execute_result"
    }
   ],
   "source": [
    "data_final.shape"
   ]
  },
  {
   "cell_type": "code",
   "execution_count": 71,
   "metadata": {},
   "outputs": [
    {
     "data": {
      "text/plain": [
       "0        0.111652\n",
       "1        0.067280\n",
       "2        0.043380\n",
       "3        0.047619\n",
       "4        0.076569\n",
       "           ...   \n",
       "16449    0.046492\n",
       "16450    0.032738\n",
       "16451    0.043200\n",
       "16452    0.060290\n",
       "16453    0.061237\n",
       "Name: Price, Length: 16454, dtype: float64"
      ]
     },
     "execution_count": 71,
     "metadata": {},
     "output_type": "execute_result"
    }
   ],
   "source": [
    "data_final['Price']"
   ]
  },
  {
   "cell_type": "raw",
   "metadata": {},
   "source": [
    "Train and test split"
   ]
  },
  {
   "cell_type": "code",
   "execution_count": 72,
   "metadata": {},
   "outputs": [],
   "source": [
    "# importing neccessary libraries\n",
    "from sklearn.model_selection import train_test_split\n",
    "\n",
    "# splitting of data\n",
    "X = data_final.drop(['Price'],axis=1)\n",
    "y = data_final['Price']"
   ]
  },
  {
   "cell_type": "code",
   "execution_count": 73,
   "metadata": {},
   "outputs": [],
   "source": [
    "# Split data into training and testing sets\n",
    "X_train, X_test, y_train, y_test = train_test_split(X,y, test_size=0.3, random_state=42)"
   ]
  },
  {
   "cell_type": "markdown",
   "metadata": {},
   "source": [
    "MODEL BUILDING FROM SK-LEARN"
   ]
  },
  {
   "cell_type": "code",
   "execution_count": 74,
   "metadata": {},
   "outputs": [
    {
     "data": {
      "text/plain": [
       "RandomForestRegressor(max_depth=5.5, random_state=42)"
      ]
     },
     "execution_count": 74,
     "metadata": {},
     "output_type": "execute_result"
    }
   ],
   "source": [
    "from sklearn.ensemble import RandomForestRegressor\n",
    "rf = RandomForestRegressor(n_estimators=100, max_depth = 5.5,random_state=42)\n",
    "rf.fit(X_train, y_train)"
   ]
  },
  {
   "cell_type": "code",
   "execution_count": 75,
   "metadata": {},
   "outputs": [],
   "source": [
    "y_pred = rf.predict(X_train)"
   ]
  },
  {
   "cell_type": "code",
   "execution_count": 76,
   "metadata": {},
   "outputs": [
    {
     "name": "stdout",
     "output_type": "stream",
     "text": [
      "Mean Absolute Error: 0.020301805212448124\n",
      "Mean Squared Error: 0.001045939093660896\n",
      "Root Mean Squared Error: 0.032340981643433395\n",
      "R-squared: 0.6728068686243895\n"
     ]
    }
   ],
   "source": [
    "# Error Metrics\n",
    "from sklearn.metrics import mean_squared_error,mean_absolute_error,r2_score\n",
    "mae = mean_absolute_error(y_train, y_pred)\n",
    "mse = mean_squared_error(y_train, y_pred)\n",
    "rmse = np.sqrt(mse)\n",
    "r2 = r2_score(y_train, y_pred)\n",
    "print(\"Mean Absolute Error:\",mae)\n",
    "print(\"Mean Squared Error:\", mse)\n",
    "print(\"Root Mean Squared Error:\", rmse)\n",
    "print(\"R-squared:\", r2)"
   ]
  },
  {
   "cell_type": "code",
   "execution_count": 77,
   "metadata": {},
   "outputs": [],
   "source": [
    "rf.fit(X_test, y_test)\n",
    "y_preds =rf.predict(X_test)"
   ]
  },
  {
   "cell_type": "code",
   "execution_count": 78,
   "metadata": {},
   "outputs": [
    {
     "name": "stdout",
     "output_type": "stream",
     "text": [
      "Mean Absolute Error: 0.01921053780826693\n",
      "Mean Squared Error: 0.0008878815928816559\n",
      "Root Mean Squared Error: 0.029797342043908142\n",
      "R-squared: 0.7284774552407531\n"
     ]
    }
   ],
   "source": [
    "# Error Metrics\n",
    "from sklearn.metrics import mean_squared_error,mean_absolute_error,r2_score\n",
    "mae = mean_absolute_error(y_test, y_preds)\n",
    "mse = mean_squared_error(y_test, y_preds)\n",
    "rmse = np.sqrt(mse)\n",
    "r2 = r2_score(y_test, y_preds)\n",
    "print(\"Mean Absolute Error:\",mae)\n",
    "print(\"Mean Squared Error:\", mse)\n",
    "print(\"Root Mean Squared Error:\", rmse)\n",
    "print(\"R-squared:\", r2)"
   ]
  },
  {
   "cell_type": "markdown",
   "metadata": {},
   "source": [
    "MODEL BUILDING FROM SCRATCH"
   ]
  },
  {
   "cell_type": "code",
   "execution_count": 79,
   "metadata": {},
   "outputs": [],
   "source": [
    "import numpy as np\n",
    "import pandas as pd\n",
    "\n",
    "class DecisionTreeRegressor: #which implements a decision tree regression algorithm\n",
    "    def __init__(self, max_depth=2): # initialize the object's attributes\n",
    "        self.max_depth = max_depth\n",
    "    \n",
    "    def fit(self, X, y): #X and y, which represent the input features and target values\n",
    "        self.tree = self.build_tree(X, y, depth=0) # build_tree method to construct the decision tree using the input data and the specified max_depth\n",
    "        \n",
    "    def build_tree(self, X, y, depth):\n",
    "        n_samples, n_features = X.shape # assigns samples and features to rows and columns \n",
    "        \n",
    "        if depth == self.max_depth or n_samples == 5: #whether the maximum depth of the tree has been reached \n",
    "            return np.mean(y) #the method returns the mean of the target values, which will be used as the prediction for the leaf node.\n",
    "        \n",
    "        feature_idxs = np.random.choice(n_features, size=2, replace=False) #selects two random features from the input data without replacement and calls\n",
    "        best_feature, best_threshold = self.find_best_split(X, y, feature_idxs) #find_best_split method to determine the best feature and threshold to split the data on\n",
    "        \n",
    "        if best_threshold is None: #it means that if no good split was found then return mean of target column\n",
    "            return np.mean(y)\n",
    "        \n",
    "        left_idxs = X[:, best_feature] < best_threshold #indicate which samples in the input data should go to the left or right child node\n",
    "        right_idxs = X[:, best_feature] >= best_threshold #based on whether their values for the best feature are less than or greater than or equal to the best threshold.\n",
    "        \n",
    "        left_tree = self.build_tree(X[left_idxs], y[left_idxs], depth+1) # recursively calls the build_tree method on the left and right subsets of the input data\n",
    "        right_tree = self.build_tree(X[right_idxs], y[right_idxs], depth+1) #passing in the corresponding input and target values and increasing the depth by 1.\n",
    "        \n",
    "        return (best_feature, best_threshold, left_tree, right_tree)\n",
    "        # the method returns a tuple containing the best feature, best threshold, and the left and right child nodes as subtrees\n",
    "    \n",
    "    def find_best_split(self, X, y, feature_idxs):\n",
    "        best_score = float('inf') #creates a floating-point value that represents positive infinity\n",
    "        best_feature = None #because it is used to keep track of the best found so far to split the data on\n",
    "        best_threshold = None\n",
    "        \n",
    "        for feature in feature_idxs: # code loops over each feature in feature_idxs\n",
    "            thresholds = np.unique(X[:, feature]) # loops over each unique threshold value for that feature\n",
    "            \n",
    "            for threshold in thresholds: # boolean index arrays are created to indicate which samples in the input data should go to which side\n",
    "                left_idxs = X[:, feature] < threshold\n",
    "                right_idxs = X[:, feature] >= threshold\n",
    "                \n",
    "                if np.sum(left_idxs) == 0 or np.sum(right_idxs) == 0: #checks whether there are any samples in either the left or right child node\n",
    "                    continue\n",
    "                \n",
    "                score = self.split_score(y, y[left_idxs], y[right_idxs])\n",
    "                \n",
    "                if score < best_score: # if split_score is better than best score,feature,.. found, then it is updated otherwise previous best is kept\n",
    "                    best_score = score\n",
    "                    best_feature = feature\n",
    "                    best_threshold = threshold\n",
    "                    \n",
    "        return best_feature, best_threshold # returns best values\n",
    "    \n",
    "    def split_score(self, y, y_left, y_right): # calculates the score for splitting the y target variable into two subgroups y_left and y_right\n",
    "        p_left = len(y_left) / len(y) # calculates the proportion of instances in y_left compared to the total number of instances in y\n",
    "        p_right = len(y_right) / len(y)\n",
    "        \n",
    "        score = p_left * np.var(y_left) + p_right * np.var(y_right) # calculates the score for splitting y into y_left and y_right\n",
    "        # np.var() function calculates the variance of an array\n",
    "        return score\n",
    "    \n",
    "    def predict(self, X):\n",
    "        return np.array([self.traverse_tree(x, self.tree) for x in X])\n",
    "    \n",
    "    def traverse_tree(self, x, node):\n",
    "        if isinstance(node, float):\n",
    "            return node\n",
    "        \n",
    "        feature, threshold, left_tree, right_tree = node\n",
    "        \n",
    "        if x[feature] < threshold:\n",
    "            if isinstance(left_tree,float):\n",
    "                return left_tree\n",
    "            else:\n",
    "                return self.traverse_tree(x, right_tree)\n",
    "        else:\n",
    "            if isinstance(right_tree,float):\n",
    "                return right_tree\n",
    "            else:\n",
    "                return self.traverse_tree(x,right_tree)\n",
    "        \n",
    "class RandomForestRegressor:\n",
    "    def __init__(self, n_trees=15, max_depth=2, subsample_size=0.5):\n",
    "        self.n_trees = n_trees\n",
    "        self.max_depth = max_depth\n",
    "        self.subsample_size = subsample_size\n",
    "        self.trees = []\n",
    "        \n",
    "    def fit(self, X, y):\n",
    "        for i in range(self.n_trees):\n",
    "            tree = DecisionTreeRegressor(max_depth=self.max_depth)\n",
    "            n_samples = len(X)\n",
    "            subsample_size = int(self.subsample_size * n_samples)\n",
    "            subsample_idxs = np.random.choice(range(n_samples), size=subsample_size, replace=True)\n",
    "            X_sub = X.iloc[subsample_idxs]\n",
    "            y_sub = y.iloc[subsample_idxs]\n",
    "            tree.fit(X_sub.values, y_sub.values)\n",
    "            #tree.fit(X[subsample_idxs], y[subsample_idxs])\n",
    "            self.trees.append(tree)\n",
    "            \n",
    "    def predict(self, X):\n",
    "        if isinstance(X, (int, float)):\n",
    "            X = np.array([[X]])\n",
    "        elif isinstance(X, pd.Series):\n",
    "            X = X.values.reshape(1, n_features)\n",
    "        else:\n",
    "            X = X.values\n",
    "        predictions = np.array([tree.predict(X) for tree in self.trees])\n",
    "        return np.mean(predictions, axis=0)"
   ]
  },
  {
   "cell_type": "code",
   "execution_count": 80,
   "metadata": {},
   "outputs": [],
   "source": [
    "rf = RandomForestRegressor(n_trees=15, max_depth=2, subsample_size=0.5)\n",
    "rf.fit(X_train, y_train)\n",
    "# Use the KNeighborsRegressor to make predictions on the train data\n",
    "y_predic = rf.predict(X_train)"
   ]
  },
  {
   "cell_type": "code",
   "execution_count": 81,
   "metadata": {},
   "outputs": [
    {
     "name": "stdout",
     "output_type": "stream",
     "text": [
      "Mean Absolute Error: 0.03811730069174005\n",
      "Mean Squared Error: 0.0038070000965000116\n",
      "Root Mean Squared Error: 0.06170089218560791\n",
      "R-squared: -0.19091473898473343\n"
     ]
    }
   ],
   "source": [
    "import numpy as np\n",
    "\n",
    "def mean_absolute_error(y_train, y_predic):\n",
    "    return np.mean(np.abs(y_train - y_predic))\n",
    "\n",
    "def mean_squared_error(y_train, y_predic):\n",
    "    return np.mean((y_train - y_predic)**2)\n",
    "\n",
    "def root_mean_squared_error(y_train, y_predic):\n",
    "    return np.sqrt(mean_squared_error(y_train, y_predic))\n",
    "\n",
    "def r2_score(y_train, y_predic):\n",
    "    ssr = np.sum((y_train - y_predic)**2)\n",
    "    sst = np.sum((y_train - np.mean(y_train))**2)\n",
    "    return 1 - (ssr / sst)\n",
    "\n",
    "# Assuming y_true and y_pred are NumPy arrays or Pandas Series\n",
    "mae = mean_absolute_error(y_train, y_predic)\n",
    "mse = mean_squared_error(y_train, y_predic)\n",
    "rmse = root_mean_squared_error(y_train, y_predic)\n",
    "r2 = r2_score(y_train, y_predic)\n",
    "\n",
    "print(\"Mean Absolute Error:\",mae)\n",
    "print(\"Mean Squared Error:\", mse)\n",
    "print(\"Root Mean Squared Error:\", rmse)\n",
    "print(\"R-squared:\", r2)"
   ]
  },
  {
   "cell_type": "code",
   "execution_count": 82,
   "metadata": {},
   "outputs": [],
   "source": [
    "rf = RandomForestRegressor(n_trees=15, max_depth=2, subsample_size=0.5)\n",
    "rf.fit(X_test, y_test)\n",
    "y_prediction= rf.predict(X_test)"
   ]
  },
  {
   "cell_type": "code",
   "execution_count": 83,
   "metadata": {},
   "outputs": [
    {
     "name": "stdout",
     "output_type": "stream",
     "text": [
      "Mean Absolute Error: 0.03767629106671156\n",
      "Mean Squared Error: 0.0032759932112842566\n",
      "Root Mean Squared Error: 0.05723629278075456\n",
      "R-squared: -0.0018295462742781154\n"
     ]
    }
   ],
   "source": [
    "import numpy as np\n",
    "\n",
    "def mean_absolute_error(y_test, y_prediction):\n",
    "    return np.mean(np.abs(y_test - y_prediction))\n",
    "\n",
    "def mean_squared_error(y_test, y_prediction):\n",
    "    return np.mean((y_test - y_prediction)**2)\n",
    "\n",
    "def root_mean_squared_error(y_test, y_prediction):\n",
    "    return np.sqrt(mean_squared_error(y_test, y_prediction))\n",
    "\n",
    "def r2_score(y_test, y_prediction):\n",
    "    ssr = np.sum((y_test - y_prediction)**2)\n",
    "    sst = np.sum((y_test - np.mean(y_test))**2)\n",
    "    return 1 - (ssr / sst)\n",
    "\n",
    "\n",
    "# Assuming y_true and y_pred are NumPy arrays or Pandas Series\n",
    "mae = mean_absolute_error(y_test, y_prediction)\n",
    "mse = mean_squared_error(y_test, y_prediction)\n",
    "rmse = root_mean_squared_error(y_test, y_prediction)\n",
    "r2 = r2_score(y_test, y_prediction)\n",
    "\n",
    "print(\"Mean Absolute Error:\",mae)\n",
    "print(\"Mean Squared Error:\", mse)\n",
    "print(\"Root Mean Squared Error:\", rmse)\n",
    "print(\"R-squared:\", r2)"
   ]
  },
  {
   "cell_type": "code",
   "execution_count": null,
   "metadata": {},
   "outputs": [],
   "source": []
  },
  {
   "cell_type": "code",
   "execution_count": null,
   "metadata": {},
   "outputs": [],
   "source": []
  }
 ],
 "metadata": {
  "colab": {
   "provenance": []
  },
  "kernelspec": {
   "display_name": "Python 3",
   "language": "python",
   "name": "python3"
  },
  "language_info": {
   "codemirror_mode": {
    "name": "ipython",
    "version": 3
   },
   "file_extension": ".py",
   "mimetype": "text/x-python",
   "name": "python",
   "nbconvert_exporter": "python",
   "pygments_lexer": "ipython3",
   "version": "3.7.6"
  }
 },
 "nbformat": 4,
 "nbformat_minor": 4
}
