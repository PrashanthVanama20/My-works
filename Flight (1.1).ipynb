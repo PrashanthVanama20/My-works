{
 "cells": [
  {
   "cell_type": "code",
   "execution_count": 1,
   "metadata": {
    "id": "lLUIUawpcyWS"
   },
   "outputs": [],
   "source": [
    "import pandas as pd\n",
    "import numpy as np\n",
    "import warnings\n",
    "warnings.filterwarnings(\"ignore\")\n",
    "import matplotlib.pyplot as plt\n",
    "import seaborn as sns"
   ]
  },
  {
   "cell_type": "code",
   "execution_count": 2,
   "metadata": {
    "id": "sD1nMHzWerSx"
   },
   "outputs": [],
   "source": [
    "df = pd.read_csv('business.csv')"
   ]
  },
  {
   "cell_type": "code",
   "execution_count": 3,
   "metadata": {
    "id": "kRgO8uu-e0DE"
   },
   "outputs": [],
   "source": [
    "df1 = pd.read_csv('economy.csv')"
   ]
  },
  {
   "cell_type": "code",
   "execution_count": 4,
   "metadata": {
    "colab": {
     "base_uri": "https://localhost:8080/"
    },
    "id": "NTRzn5Tbe-IU",
    "outputId": "10ec332b-9f2b-455f-b99e-2d249d2dfb0c"
   },
   "outputs": [
    {
     "data": {
      "text/plain": [
       "(93487, 11)"
      ]
     },
     "execution_count": 4,
     "metadata": {},
     "output_type": "execute_result"
    }
   ],
   "source": [
    "df.shape"
   ]
  },
  {
   "cell_type": "code",
   "execution_count": 5,
   "metadata": {
    "colab": {
     "base_uri": "https://localhost:8080/"
    },
    "id": "mqjukjpGfBWn",
    "outputId": "d7d5e857-d74d-4e41-88c2-e071875773aa"
   },
   "outputs": [
    {
     "data": {
      "text/plain": [
       "(206774, 11)"
      ]
     },
     "execution_count": 5,
     "metadata": {},
     "output_type": "execute_result"
    }
   ],
   "source": [
    "df1.shape"
   ]
  },
  {
   "cell_type": "code",
   "execution_count": 6,
   "metadata": {
    "colab": {
     "base_uri": "https://localhost:8080/"
    },
    "id": "tLTSIvwSfCnH",
    "outputId": "8fa038a8-1a90-43c8-86e8-75f9cf8365ea"
   },
   "outputs": [
    {
     "data": {
      "text/plain": [
       "Index(['date', 'airline', 'ch_code', 'num_code', 'dep_time', 'from',\n",
       "       'time_taken', 'stop', 'arr_time', 'to', 'price'],\n",
       "      dtype='object')"
      ]
     },
     "execution_count": 6,
     "metadata": {},
     "output_type": "execute_result"
    }
   ],
   "source": [
    "df.columns"
   ]
  },
  {
   "cell_type": "code",
   "execution_count": 7,
   "metadata": {
    "colab": {
     "base_uri": "https://localhost:8080/"
    },
    "id": "81t5cO61fOGK",
    "outputId": "43eb33fe-aca5-47fc-a32b-5b1cee1b10dc"
   },
   "outputs": [
    {
     "data": {
      "text/plain": [
       "Index(['date', 'airline', 'ch_code', 'num_code', 'dep_time', 'from',\n",
       "       'time_taken', 'stop', 'arr_time', 'to', 'price'],\n",
       "      dtype='object')"
      ]
     },
     "execution_count": 7,
     "metadata": {},
     "output_type": "execute_result"
    }
   ],
   "source": [
    "df1.columns"
   ]
  },
  {
   "cell_type": "code",
   "execution_count": 8,
   "metadata": {
    "id": "_aiuldHwfPIh"
   },
   "outputs": [
    {
     "data": {
      "text/plain": [
       "(300261, 11)"
      ]
     },
     "execution_count": 8,
     "metadata": {},
     "output_type": "execute_result"
    }
   ],
   "source": [
    "merged_df = pd.merge(df, df1, how='outer')\n",
    "merged_df.shape"
   ]
  },
  {
   "cell_type": "code",
   "execution_count": 9,
   "metadata": {
    "colab": {
     "base_uri": "https://localhost:8080/",
     "height": 337
    },
    "id": "PkNMRzFSgbmI",
    "outputId": "bfd26d06-5e5f-4cdb-d298-324452c460d2"
   },
   "outputs": [
    {
     "data": {
      "text/html": [
       "<div>\n",
       "<style scoped>\n",
       "    .dataframe tbody tr th:only-of-type {\n",
       "        vertical-align: middle;\n",
       "    }\n",
       "\n",
       "    .dataframe tbody tr th {\n",
       "        vertical-align: top;\n",
       "    }\n",
       "\n",
       "    .dataframe thead th {\n",
       "        text-align: right;\n",
       "    }\n",
       "</style>\n",
       "<table border=\"1\" class=\"dataframe\">\n",
       "  <thead>\n",
       "    <tr style=\"text-align: right;\">\n",
       "      <th></th>\n",
       "      <th>date</th>\n",
       "      <th>airline</th>\n",
       "      <th>ch_code</th>\n",
       "      <th>num_code</th>\n",
       "      <th>dep_time</th>\n",
       "      <th>from</th>\n",
       "      <th>time_taken</th>\n",
       "      <th>stop</th>\n",
       "      <th>arr_time</th>\n",
       "      <th>to</th>\n",
       "      <th>price</th>\n",
       "    </tr>\n",
       "  </thead>\n",
       "  <tbody>\n",
       "    <tr>\n",
       "      <th>0</th>\n",
       "      <td>11-02-2022</td>\n",
       "      <td>Air India</td>\n",
       "      <td>AI</td>\n",
       "      <td>868</td>\n",
       "      <td>18:00</td>\n",
       "      <td>Delhi</td>\n",
       "      <td>02h 00m</td>\n",
       "      <td>non-stop</td>\n",
       "      <td>20:00</td>\n",
       "      <td>Mumbai</td>\n",
       "      <td>25,612</td>\n",
       "    </tr>\n",
       "    <tr>\n",
       "      <th>1</th>\n",
       "      <td>11-02-2022</td>\n",
       "      <td>Air India</td>\n",
       "      <td>AI</td>\n",
       "      <td>624</td>\n",
       "      <td>19:00</td>\n",
       "      <td>Delhi</td>\n",
       "      <td>02h 15m</td>\n",
       "      <td>non-stop</td>\n",
       "      <td>21:15</td>\n",
       "      <td>Mumbai</td>\n",
       "      <td>25,612</td>\n",
       "    </tr>\n",
       "    <tr>\n",
       "      <th>2</th>\n",
       "      <td>11-02-2022</td>\n",
       "      <td>Air India</td>\n",
       "      <td>AI</td>\n",
       "      <td>531</td>\n",
       "      <td>20:00</td>\n",
       "      <td>Delhi</td>\n",
       "      <td>24h 45m</td>\n",
       "      <td>1-stop\\n\\t\\t\\t\\t\\t\\t\\t\\t\\t\\t\\t\\t\\n\\t\\t\\t\\t\\t\\t...</td>\n",
       "      <td>20:45</td>\n",
       "      <td>Mumbai</td>\n",
       "      <td>42,220</td>\n",
       "    </tr>\n",
       "    <tr>\n",
       "      <th>3</th>\n",
       "      <td>11-02-2022</td>\n",
       "      <td>Air India</td>\n",
       "      <td>AI</td>\n",
       "      <td>839</td>\n",
       "      <td>21:25</td>\n",
       "      <td>Delhi</td>\n",
       "      <td>26h 30m</td>\n",
       "      <td>1-stop\\n\\t\\t\\t\\t\\t\\t\\t\\t\\t\\t\\t\\t\\n\\t\\t\\t\\t\\t\\t...</td>\n",
       "      <td>23:55</td>\n",
       "      <td>Mumbai</td>\n",
       "      <td>44,450</td>\n",
       "    </tr>\n",
       "    <tr>\n",
       "      <th>4</th>\n",
       "      <td>11-02-2022</td>\n",
       "      <td>Air India</td>\n",
       "      <td>AI</td>\n",
       "      <td>544</td>\n",
       "      <td>17:15</td>\n",
       "      <td>Delhi</td>\n",
       "      <td>06h 40m</td>\n",
       "      <td>1-stop\\n\\t\\t\\t\\t\\t\\t\\t\\t\\t\\t\\t\\t\\n\\t\\t\\t\\t\\t\\t...</td>\n",
       "      <td>23:55</td>\n",
       "      <td>Mumbai</td>\n",
       "      <td>46,690</td>\n",
       "    </tr>\n",
       "  </tbody>\n",
       "</table>\n",
       "</div>"
      ],
      "text/plain": [
       "         date    airline ch_code  num_code dep_time   from time_taken  \\\n",
       "0  11-02-2022  Air India      AI       868    18:00  Delhi    02h 00m   \n",
       "1  11-02-2022  Air India      AI       624    19:00  Delhi    02h 15m   \n",
       "2  11-02-2022  Air India      AI       531    20:00  Delhi    24h 45m   \n",
       "3  11-02-2022  Air India      AI       839    21:25  Delhi    26h 30m   \n",
       "4  11-02-2022  Air India      AI       544    17:15  Delhi    06h 40m   \n",
       "\n",
       "                                                stop arr_time      to   price  \n",
       "0                                          non-stop     20:00  Mumbai  25,612  \n",
       "1                                          non-stop     21:15  Mumbai  25,612  \n",
       "2  1-stop\\n\\t\\t\\t\\t\\t\\t\\t\\t\\t\\t\\t\\t\\n\\t\\t\\t\\t\\t\\t...    20:45  Mumbai  42,220  \n",
       "3  1-stop\\n\\t\\t\\t\\t\\t\\t\\t\\t\\t\\t\\t\\t\\n\\t\\t\\t\\t\\t\\t...    23:55  Mumbai  44,450  \n",
       "4  1-stop\\n\\t\\t\\t\\t\\t\\t\\t\\t\\t\\t\\t\\t\\n\\t\\t\\t\\t\\t\\t...    23:55  Mumbai  46,690  "
      ]
     },
     "execution_count": 9,
     "metadata": {},
     "output_type": "execute_result"
    }
   ],
   "source": [
    "merged_df.head()"
   ]
  },
  {
   "cell_type": "code",
   "execution_count": 10,
   "metadata": {},
   "outputs": [
    {
     "data": {
      "text/plain": [
       "251"
      ]
     },
     "execution_count": 10,
     "metadata": {},
     "output_type": "execute_result"
    }
   ],
   "source": [
    "merged_df['dep_time'].nunique()"
   ]
  },
  {
   "cell_type": "code",
   "execution_count": 11,
   "metadata": {
    "colab": {
     "base_uri": "https://localhost:8080/",
     "height": 357
    },
    "id": "U-G7ajiNnQsR",
    "outputId": "6f879d0e-3833-4a42-870e-e4f4cabb140d"
   },
   "outputs": [
    {
     "data": {
      "text/html": [
       "<div>\n",
       "<style scoped>\n",
       "    .dataframe tbody tr th:only-of-type {\n",
       "        vertical-align: middle;\n",
       "    }\n",
       "\n",
       "    .dataframe tbody tr th {\n",
       "        vertical-align: top;\n",
       "    }\n",
       "\n",
       "    .dataframe thead th {\n",
       "        text-align: right;\n",
       "    }\n",
       "</style>\n",
       "<table border=\"1\" class=\"dataframe\">\n",
       "  <thead>\n",
       "    <tr style=\"text-align: right;\">\n",
       "      <th></th>\n",
       "      <th>date</th>\n",
       "      <th>airline</th>\n",
       "      <th>ch_code</th>\n",
       "      <th>num_code</th>\n",
       "      <th>dep_time</th>\n",
       "      <th>from</th>\n",
       "      <th>time_taken</th>\n",
       "      <th>stop</th>\n",
       "      <th>arr_time</th>\n",
       "      <th>to</th>\n",
       "      <th>price</th>\n",
       "    </tr>\n",
       "  </thead>\n",
       "  <tbody>\n",
       "    <tr>\n",
       "      <th>300256</th>\n",
       "      <td>31-03-2022</td>\n",
       "      <td>Vistara</td>\n",
       "      <td>UK</td>\n",
       "      <td>832</td>\n",
       "      <td>07:05</td>\n",
       "      <td>Chennai</td>\n",
       "      <td>13h 50m</td>\n",
       "      <td>1-stop\\n\\t\\t\\t\\t\\t\\t\\t\\t\\t\\t\\t\\t\\n\\t\\t\\t\\t\\t\\t...</td>\n",
       "      <td>20:55</td>\n",
       "      <td>Hyderabad</td>\n",
       "      <td>7,697</td>\n",
       "    </tr>\n",
       "    <tr>\n",
       "      <th>300257</th>\n",
       "      <td>31-03-2022</td>\n",
       "      <td>Vistara</td>\n",
       "      <td>UK</td>\n",
       "      <td>832</td>\n",
       "      <td>07:05</td>\n",
       "      <td>Chennai</td>\n",
       "      <td>13h 50m</td>\n",
       "      <td>1-stop\\n\\t\\t\\t\\t\\t\\t\\t\\t\\t\\t\\t\\t\\n\\t\\t\\t\\t\\t\\t...</td>\n",
       "      <td>20:55</td>\n",
       "      <td>Hyderabad</td>\n",
       "      <td>7,709</td>\n",
       "    </tr>\n",
       "    <tr>\n",
       "      <th>300258</th>\n",
       "      <td>31-03-2022</td>\n",
       "      <td>Vistara</td>\n",
       "      <td>UK</td>\n",
       "      <td>826</td>\n",
       "      <td>12:30</td>\n",
       "      <td>Chennai</td>\n",
       "      <td>20h 35m</td>\n",
       "      <td>1-stop\\n\\t\\t\\t\\t\\t\\t\\t\\t\\t\\t\\t\\t\\n\\t\\t\\t\\t\\t\\t...</td>\n",
       "      <td>09:05</td>\n",
       "      <td>Hyderabad</td>\n",
       "      <td>8,640</td>\n",
       "    </tr>\n",
       "    <tr>\n",
       "      <th>300259</th>\n",
       "      <td>31-03-2022</td>\n",
       "      <td>Vistara</td>\n",
       "      <td>UK</td>\n",
       "      <td>822</td>\n",
       "      <td>09:45</td>\n",
       "      <td>Chennai</td>\n",
       "      <td>23h 20m</td>\n",
       "      <td>1-stop\\n\\t\\t\\t\\t\\t\\t\\t\\t\\t\\t\\t\\t\\n\\t\\t\\t\\t\\t\\t...</td>\n",
       "      <td>09:05</td>\n",
       "      <td>Hyderabad</td>\n",
       "      <td>8,640</td>\n",
       "    </tr>\n",
       "    <tr>\n",
       "      <th>300260</th>\n",
       "      <td>31-03-2022</td>\n",
       "      <td>Vistara</td>\n",
       "      <td>UK</td>\n",
       "      <td>824</td>\n",
       "      <td>20:30</td>\n",
       "      <td>Chennai</td>\n",
       "      <td>24h 25m</td>\n",
       "      <td>1-stop\\n\\t\\t\\t\\t\\t\\t\\t\\t\\t\\t\\t\\t\\n\\t\\t\\t\\t\\t\\t...</td>\n",
       "      <td>20:55</td>\n",
       "      <td>Hyderabad</td>\n",
       "      <td>8,640</td>\n",
       "    </tr>\n",
       "  </tbody>\n",
       "</table>\n",
       "</div>"
      ],
      "text/plain": [
       "              date  airline ch_code  num_code dep_time     from time_taken  \\\n",
       "300256  31-03-2022  Vistara      UK       832    07:05  Chennai    13h 50m   \n",
       "300257  31-03-2022  Vistara      UK       832    07:05  Chennai    13h 50m   \n",
       "300258  31-03-2022  Vistara      UK       826    12:30  Chennai    20h 35m   \n",
       "300259  31-03-2022  Vistara      UK       822    09:45  Chennai    23h 20m   \n",
       "300260  31-03-2022  Vistara      UK       824    20:30  Chennai    24h 25m   \n",
       "\n",
       "                                                     stop arr_time         to  \\\n",
       "300256  1-stop\\n\\t\\t\\t\\t\\t\\t\\t\\t\\t\\t\\t\\t\\n\\t\\t\\t\\t\\t\\t...    20:55  Hyderabad   \n",
       "300257  1-stop\\n\\t\\t\\t\\t\\t\\t\\t\\t\\t\\t\\t\\t\\n\\t\\t\\t\\t\\t\\t...    20:55  Hyderabad   \n",
       "300258  1-stop\\n\\t\\t\\t\\t\\t\\t\\t\\t\\t\\t\\t\\t\\n\\t\\t\\t\\t\\t\\t...    09:05  Hyderabad   \n",
       "300259  1-stop\\n\\t\\t\\t\\t\\t\\t\\t\\t\\t\\t\\t\\t\\n\\t\\t\\t\\t\\t\\t...    09:05  Hyderabad   \n",
       "300260  1-stop\\n\\t\\t\\t\\t\\t\\t\\t\\t\\t\\t\\t\\t\\n\\t\\t\\t\\t\\t\\t...    20:55  Hyderabad   \n",
       "\n",
       "        price  \n",
       "300256  7,697  \n",
       "300257  7,709  \n",
       "300258  8,640  \n",
       "300259  8,640  \n",
       "300260  8,640  "
      ]
     },
     "execution_count": 11,
     "metadata": {},
     "output_type": "execute_result"
    }
   ],
   "source": [
    "merged_df.tail()"
   ]
  },
  {
   "cell_type": "code",
   "execution_count": 12,
   "metadata": {
    "colab": {
     "base_uri": "https://localhost:8080/"
    },
    "id": "1xR70doMlZ8U",
    "outputId": "4331d5c1-d0b0-405b-e467-b4bab57b8d45"
   },
   "outputs": [
    {
     "data": {
      "text/plain": [
       "(300261, 11)"
      ]
     },
     "execution_count": 12,
     "metadata": {},
     "output_type": "execute_result"
    }
   ],
   "source": [
    "merged_df.shape"
   ]
  },
  {
   "cell_type": "code",
   "execution_count": 13,
   "metadata": {
    "colab": {
     "base_uri": "https://localhost:8080/"
    },
    "id": "mWk7YwIinrQW",
    "outputId": "6649842a-d97a-494d-aa86-6b47b69d198d"
   },
   "outputs": [
    {
     "data": {
      "text/plain": [
       "date             49\n",
       "airline           8\n",
       "ch_code           8\n",
       "num_code       1255\n",
       "dep_time        251\n",
       "from              6\n",
       "time_taken      483\n",
       "stop             40\n",
       "arr_time        266\n",
       "to                6\n",
       "price         12165\n",
       "dtype: int64"
      ]
     },
     "execution_count": 13,
     "metadata": {},
     "output_type": "execute_result"
    }
   ],
   "source": [
    "merged_df.nunique()"
   ]
  },
  {
   "cell_type": "code",
   "execution_count": 14,
   "metadata": {
    "colab": {
     "base_uri": "https://localhost:8080/"
    },
    "id": "WX0Q8qkyl_pY",
    "outputId": "a970d0b0-2709-4558-a533-095d112d5626"
   },
   "outputs": [
    {
     "data": {
      "text/plain": [
       "date          0\n",
       "airline       0\n",
       "ch_code       0\n",
       "num_code      0\n",
       "dep_time      0\n",
       "from          0\n",
       "time_taken    0\n",
       "stop          0\n",
       "arr_time      0\n",
       "to            0\n",
       "price         0\n",
       "dtype: int64"
      ]
     },
     "execution_count": 14,
     "metadata": {},
     "output_type": "execute_result"
    }
   ],
   "source": [
    "merged_df.isnull().sum()"
   ]
  },
  {
   "cell_type": "code",
   "execution_count": 15,
   "metadata": {
    "id": "8XZ-jczrl_vc"
   },
   "outputs": [],
   "source": [
    "merged_df['date'] = pd.to_datetime(merged_df['date'])"
   ]
  },
  {
   "cell_type": "code",
   "execution_count": 16,
   "metadata": {
    "colab": {
     "base_uri": "https://localhost:8080/"
    },
    "id": "Sg48HoDAmSWh",
    "outputId": "63e8e840-2929-4ac8-cdc4-5a90793a0e55"
   },
   "outputs": [
    {
     "data": {
      "text/plain": [
       "date          datetime64[ns]\n",
       "airline               object\n",
       "ch_code               object\n",
       "num_code               int64\n",
       "dep_time              object\n",
       "from                  object\n",
       "time_taken            object\n",
       "stop                  object\n",
       "arr_time              object\n",
       "to                    object\n",
       "price                 object\n",
       "dtype: object"
      ]
     },
     "execution_count": 16,
     "metadata": {},
     "output_type": "execute_result"
    }
   ],
   "source": [
    "merged_df.dtypes"
   ]
  },
  {
   "cell_type": "code",
   "execution_count": 17,
   "metadata": {},
   "outputs": [],
   "source": [
    "# convert dep_time to datetime format\n",
    "merged_df['dep_time'] = pd.to_datetime(merged_df['dep_time'], format='%H:%M')\n",
    "\n",
    "# format dep_time to include seconds\n",
    "merged_df['dep_time'] = merged_df['dep_time'].dt.strftime('%H:%M:%S')"
   ]
  },
  {
   "cell_type": "code",
   "execution_count": 18,
   "metadata": {},
   "outputs": [
    {
     "data": {
      "text/plain": [
       "date          datetime64[ns]\n",
       "airline               object\n",
       "ch_code               object\n",
       "num_code               int64\n",
       "dep_time              object\n",
       "from                  object\n",
       "time_taken            object\n",
       "stop                  object\n",
       "arr_time              object\n",
       "to                    object\n",
       "price                 object\n",
       "dtype: object"
      ]
     },
     "execution_count": 18,
     "metadata": {},
     "output_type": "execute_result"
    }
   ],
   "source": [
    "merged_df.dtypes"
   ]
  },
  {
   "cell_type": "code",
   "execution_count": 19,
   "metadata": {},
   "outputs": [],
   "source": [
    "merged_df['dep_time'] = merged_df['dep_time'].str.replace('::',':0', regex=True)\n",
    "merged_df['dep_time'] = pd.to_timedelta(merged_df['dep_time']).dt.total_seconds()\n",
    "merged_df['dep_time'] = pd.to_numeric(merged_df['dep_time'])/ 3600"
   ]
  },
  {
   "cell_type": "code",
   "execution_count": 20,
   "metadata": {},
   "outputs": [
    {
     "data": {
      "text/plain": [
       "date          datetime64[ns]\n",
       "airline               object\n",
       "ch_code               object\n",
       "num_code               int64\n",
       "dep_time             float64\n",
       "from                  object\n",
       "time_taken            object\n",
       "stop                  object\n",
       "arr_time              object\n",
       "to                    object\n",
       "price                 object\n",
       "dtype: object"
      ]
     },
     "execution_count": 20,
     "metadata": {},
     "output_type": "execute_result"
    }
   ],
   "source": [
    "merged_df.dtypes"
   ]
  },
  {
   "cell_type": "code",
   "execution_count": 21,
   "metadata": {},
   "outputs": [],
   "source": [
    "merged_df = merged_df.drop(('time_taken'),axis = 1)"
   ]
  },
  {
   "cell_type": "code",
   "execution_count": 22,
   "metadata": {},
   "outputs": [],
   "source": [
    "# convert dep_time to datetime format\n",
    "merged_df['arr_time'] = pd.to_datetime(merged_df['arr_time'], format='%H:%M')\n",
    "\n",
    "# format dep_time to include seconds\n",
    "merged_df['arr_time'] = merged_df['arr_time'].dt.strftime('%H:%M:%S')"
   ]
  },
  {
   "cell_type": "code",
   "execution_count": 23,
   "metadata": {},
   "outputs": [],
   "source": [
    "merged_df['arr_time'] = merged_df['arr_time'].str.replace('::',':0', regex=True)\n",
    "merged_df['arr_time'] = pd.to_timedelta(merged_df['arr_time']).dt.total_seconds()\n",
    "merged_df['arr_time'] = pd.to_numeric(merged_df['arr_time'])/ 3600"
   ]
  },
  {
   "cell_type": "code",
   "execution_count": 24,
   "metadata": {},
   "outputs": [
    {
     "data": {
      "text/plain": [
       "date        datetime64[ns]\n",
       "airline             object\n",
       "ch_code             object\n",
       "num_code             int64\n",
       "dep_time           float64\n",
       "from                object\n",
       "stop                object\n",
       "arr_time           float64\n",
       "to                  object\n",
       "price               object\n",
       "dtype: object"
      ]
     },
     "execution_count": 24,
     "metadata": {},
     "output_type": "execute_result"
    }
   ],
   "source": [
    "merged_df.dtypes"
   ]
  },
  {
   "cell_type": "code",
   "execution_count": 25,
   "metadata": {},
   "outputs": [
    {
     "name": "stdout",
     "output_type": "stream",
     "text": [
      "float64\n"
     ]
    }
   ],
   "source": [
    "merged_df['price'] = merged_df['price'].str.replace(',', '')\n",
    "\n",
    "# convert the price column to a float data type\n",
    "merged_df['price'] = merged_df['price'].astype('float64')\n",
    "\n",
    "# check the data type of the price column after conversion\n",
    "print(merged_df['price'].dtype)"
   ]
  },
  {
   "cell_type": "code",
   "execution_count": 26,
   "metadata": {},
   "outputs": [],
   "source": [
    "merged_df = merged_df.set_index('date')"
   ]
  },
  {
   "cell_type": "code",
   "execution_count": 27,
   "metadata": {},
   "outputs": [],
   "source": [
    "merged_df = merged_df.reset_index(drop=True)"
   ]
  },
  {
   "cell_type": "code",
   "execution_count": 28,
   "metadata": {},
   "outputs": [
    {
     "data": {
      "text/html": [
       "<div>\n",
       "<style scoped>\n",
       "    .dataframe tbody tr th:only-of-type {\n",
       "        vertical-align: middle;\n",
       "    }\n",
       "\n",
       "    .dataframe tbody tr th {\n",
       "        vertical-align: top;\n",
       "    }\n",
       "\n",
       "    .dataframe thead th {\n",
       "        text-align: right;\n",
       "    }\n",
       "</style>\n",
       "<table border=\"1\" class=\"dataframe\">\n",
       "  <thead>\n",
       "    <tr style=\"text-align: right;\">\n",
       "      <th></th>\n",
       "      <th>num_code</th>\n",
       "      <th>dep_time</th>\n",
       "      <th>arr_time</th>\n",
       "      <th>price</th>\n",
       "    </tr>\n",
       "  </thead>\n",
       "  <tbody>\n",
       "    <tr>\n",
       "      <th>count</th>\n",
       "      <td>300261.000000</td>\n",
       "      <td>300261.000000</td>\n",
       "      <td>300261.000000</td>\n",
       "      <td>300261.000000</td>\n",
       "    </tr>\n",
       "    <tr>\n",
       "      <th>mean</th>\n",
       "      <td>1417.771709</td>\n",
       "      <td>13.433869</td>\n",
       "      <td>15.730360</td>\n",
       "      <td>20883.717666</td>\n",
       "    </tr>\n",
       "    <tr>\n",
       "      <th>std</th>\n",
       "      <td>1974.514439</td>\n",
       "      <td>5.389313</td>\n",
       "      <td>6.051549</td>\n",
       "      <td>22695.911266</td>\n",
       "    </tr>\n",
       "    <tr>\n",
       "      <th>min</th>\n",
       "      <td>101.000000</td>\n",
       "      <td>0.166667</td>\n",
       "      <td>0.083333</td>\n",
       "      <td>1105.000000</td>\n",
       "    </tr>\n",
       "    <tr>\n",
       "      <th>25%</th>\n",
       "      <td>637.000000</td>\n",
       "      <td>8.500000</td>\n",
       "      <td>10.583333</td>\n",
       "      <td>4783.000000</td>\n",
       "    </tr>\n",
       "    <tr>\n",
       "      <th>50%</th>\n",
       "      <td>818.000000</td>\n",
       "      <td>12.916667</td>\n",
       "      <td>17.083333</td>\n",
       "      <td>7425.000000</td>\n",
       "    </tr>\n",
       "    <tr>\n",
       "      <th>75%</th>\n",
       "      <td>927.000000</td>\n",
       "      <td>18.500000</td>\n",
       "      <td>20.750000</td>\n",
       "      <td>42521.000000</td>\n",
       "    </tr>\n",
       "    <tr>\n",
       "      <th>max</th>\n",
       "      <td>9991.000000</td>\n",
       "      <td>23.916667</td>\n",
       "      <td>23.983333</td>\n",
       "      <td>123071.000000</td>\n",
       "    </tr>\n",
       "  </tbody>\n",
       "</table>\n",
       "</div>"
      ],
      "text/plain": [
       "            num_code       dep_time       arr_time          price\n",
       "count  300261.000000  300261.000000  300261.000000  300261.000000\n",
       "mean     1417.771709      13.433869      15.730360   20883.717666\n",
       "std      1974.514439       5.389313       6.051549   22695.911266\n",
       "min       101.000000       0.166667       0.083333    1105.000000\n",
       "25%       637.000000       8.500000      10.583333    4783.000000\n",
       "50%       818.000000      12.916667      17.083333    7425.000000\n",
       "75%       927.000000      18.500000      20.750000   42521.000000\n",
       "max      9991.000000      23.916667      23.983333  123071.000000"
      ]
     },
     "execution_count": 28,
     "metadata": {},
     "output_type": "execute_result"
    }
   ],
   "source": [
    "merged_df.describe()"
   ]
  },
  {
   "cell_type": "code",
   "execution_count": 29,
   "metadata": {},
   "outputs": [
    {
     "data": {
      "text/plain": [
       "Delhi        61345\n",
       "Mumbai       60903\n",
       "Bangalore    52106\n",
       "Kolkata      46347\n",
       "Hyderabad    40860\n",
       "Chennai      38700\n",
       "Name: from, dtype: int64"
      ]
     },
     "execution_count": 29,
     "metadata": {},
     "output_type": "execute_result"
    }
   ],
   "source": [
    "merged_df['from'].value_counts()"
   ]
  },
  {
   "cell_type": "code",
   "execution_count": 30,
   "metadata": {},
   "outputs": [
    {
     "data": {
      "image/png": "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\n",
      "text/plain": [
       "<Figure size 432x288 with 1 Axes>"
      ]
     },
     "metadata": {},
     "output_type": "display_data"
    }
   ],
   "source": [
    "# Count the frequency of each value in the 'from' column\n",
    "value_counts = merged_df['from'].value_counts()\n",
    "\n",
    "# Create a pie chart\n",
    "plt.pie(value_counts.values, labels=value_counts.index, autopct='%1.1f%%')\n",
    "plt.title('Distribution of FROM feature')\n",
    "plt.show()"
   ]
  },
  {
   "cell_type": "code",
   "execution_count": 31,
   "metadata": {},
   "outputs": [
    {
     "data": {
      "text/plain": [
       "Mumbai       59109\n",
       "Delhi        57361\n",
       "Bangalore    51112\n",
       "Kolkata      49535\n",
       "Hyderabad    42776\n",
       "Chennai      40368\n",
       "Name: to, dtype: int64"
      ]
     },
     "execution_count": 31,
     "metadata": {},
     "output_type": "execute_result"
    }
   ],
   "source": [
    "merged_df['to'].value_counts()"
   ]
  },
  {
   "cell_type": "code",
   "execution_count": 32,
   "metadata": {},
   "outputs": [
    {
     "data": {
      "image/png": "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\n",
      "text/plain": [
       "<Figure size 432x288 with 1 Axes>"
      ]
     },
     "metadata": {},
     "output_type": "display_data"
    }
   ],
   "source": [
    "# Count the frequency of each value in the 'to' column\n",
    "value_counts = merged_df['to'].value_counts()\n",
    "\n",
    "# Create a pie chart\n",
    "plt.pie(value_counts.values, labels=value_counts.index, autopct='%1.1f%%')\n",
    "plt.title('Distribution of TO feature')\n",
    "plt.show()"
   ]
  },
  {
   "cell_type": "code",
   "execution_count": 33,
   "metadata": {},
   "outputs": [
    {
     "data": {
      "text/plain": [
       "Vistara      127859\n",
       "Air India     80894\n",
       "Indigo        43120\n",
       "GO FIRST      23177\n",
       "AirAsia       16098\n",
       "SpiceJet       9011\n",
       "StarAir          61\n",
       "Trujet           41\n",
       "Name: airline, dtype: int64"
      ]
     },
     "execution_count": 33,
     "metadata": {},
     "output_type": "execute_result"
    }
   ],
   "source": [
    "merged_df['airline'].value_counts()"
   ]
  },
  {
   "cell_type": "code",
   "execution_count": 34,
   "metadata": {},
   "outputs": [
    {
     "data": {
      "image/png": "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\n",
      "text/plain": [
       "<Figure size 432x288 with 1 Axes>"
      ]
     },
     "metadata": {},
     "output_type": "display_data"
    }
   ],
   "source": [
    "# Count the frequency of each value in the 'airline' column\n",
    "value_counts = merged_df['airline'].value_counts()\n",
    "\n",
    "# Create a pie chart\n",
    "plt.pie(value_counts.values, labels=value_counts.index, autopct='%1.1f%%')\n",
    "plt.title('Distribution of AIRLINE feature')\n",
    "plt.show()"
   ]
  },
  {
   "cell_type": "code",
   "execution_count": 35,
   "metadata": {},
   "outputs": [
    {
     "data": {
      "image/png": "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\n",
      "text/plain": [
       "<Figure size 432x288 with 1 Axes>"
      ]
     },
     "metadata": {
      "needs_background": "light"
     },
     "output_type": "display_data"
    }
   ],
   "source": [
    "#Visualizing the Airline Data\n",
    "merged_df[\"airline\"].value_counts().plot(kind=\"bar\")\n",
    "plt.title(\"Distribution of airline feature\")\n",
    "plt.xlabel(\"airline types\")\n",
    "plt.ylabel(\"Count\")\n",
    "plt.show()"
   ]
  },
  {
   "cell_type": "code",
   "execution_count": 36,
   "metadata": {},
   "outputs": [
    {
     "data": {
      "image/png": "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\n",
      "text/plain": [
       "<Figure size 1728x288 with 4 Axes>"
      ]
     },
     "metadata": {
      "needs_background": "light"
     },
     "output_type": "display_data"
    }
   ],
   "source": [
    "plt.figure(figsize = (24,4))\n",
    "plt.subplot(1,4,1)\n",
    "sns.boxplot(merged_df['num_code'])\n",
    "plt.subplot(1,4,2)\n",
    "sns.boxplot(merged_df['dep_time'])\n",
    "plt.subplot(1,4,3)\n",
    "sns.boxplot(merged_df['arr_time'])\n",
    "plt.subplot(1,4,4)\n",
    "sns.boxplot(merged_df['price'])\n",
    "plt.show()"
   ]
  },
  {
   "cell_type": "code",
   "execution_count": 37,
   "metadata": {
    "colab": {
     "base_uri": "https://localhost:8080/",
     "height": 237
    },
    "id": "cOrVJA5YpPAi",
    "outputId": "eb8f40e7-3efe-442d-d945-c27f8739259a"
   },
   "outputs": [
    {
     "data": {
      "text/html": [
       "<div>\n",
       "<style scoped>\n",
       "    .dataframe tbody tr th:only-of-type {\n",
       "        vertical-align: middle;\n",
       "    }\n",
       "\n",
       "    .dataframe tbody tr th {\n",
       "        vertical-align: top;\n",
       "    }\n",
       "\n",
       "    .dataframe thead th {\n",
       "        text-align: right;\n",
       "    }\n",
       "</style>\n",
       "<table border=\"1\" class=\"dataframe\">\n",
       "  <thead>\n",
       "    <tr style=\"text-align: right;\">\n",
       "      <th></th>\n",
       "      <th>num_code</th>\n",
       "      <th>dep_time</th>\n",
       "      <th>arr_time</th>\n",
       "      <th>price</th>\n",
       "    </tr>\n",
       "  </thead>\n",
       "  <tbody>\n",
       "    <tr>\n",
       "      <th>0</th>\n",
       "      <td>868</td>\n",
       "      <td>18.000000</td>\n",
       "      <td>20.000000</td>\n",
       "      <td>25612.0</td>\n",
       "    </tr>\n",
       "    <tr>\n",
       "      <th>1</th>\n",
       "      <td>624</td>\n",
       "      <td>19.000000</td>\n",
       "      <td>21.250000</td>\n",
       "      <td>25612.0</td>\n",
       "    </tr>\n",
       "    <tr>\n",
       "      <th>2</th>\n",
       "      <td>531</td>\n",
       "      <td>20.000000</td>\n",
       "      <td>20.750000</td>\n",
       "      <td>42220.0</td>\n",
       "    </tr>\n",
       "    <tr>\n",
       "      <th>3</th>\n",
       "      <td>839</td>\n",
       "      <td>21.416667</td>\n",
       "      <td>23.916667</td>\n",
       "      <td>44450.0</td>\n",
       "    </tr>\n",
       "    <tr>\n",
       "      <th>4</th>\n",
       "      <td>544</td>\n",
       "      <td>17.250000</td>\n",
       "      <td>23.916667</td>\n",
       "      <td>46690.0</td>\n",
       "    </tr>\n",
       "  </tbody>\n",
       "</table>\n",
       "</div>"
      ],
      "text/plain": [
       "   num_code   dep_time   arr_time    price\n",
       "0       868  18.000000  20.000000  25612.0\n",
       "1       624  19.000000  21.250000  25612.0\n",
       "2       531  20.000000  20.750000  42220.0\n",
       "3       839  21.416667  23.916667  44450.0\n",
       "4       544  17.250000  23.916667  46690.0"
      ]
     },
     "execution_count": 37,
     "metadata": {},
     "output_type": "execute_result"
    }
   ],
   "source": [
    "num = merged_df._get_numeric_data()\n",
    "num.head()"
   ]
  },
  {
   "cell_type": "code",
   "execution_count": 38,
   "metadata": {},
   "outputs": [
    {
     "data": {
      "text/plain": [
       "num_code    0\n",
       "dep_time    0\n",
       "arr_time    0\n",
       "price       0\n",
       "dtype: int64"
      ]
     },
     "execution_count": 38,
     "metadata": {},
     "output_type": "execute_result"
    }
   ],
   "source": [
    "num.isnull().sum()"
   ]
  },
  {
   "cell_type": "code",
   "execution_count": 39,
   "metadata": {
    "colab": {
     "base_uri": "https://localhost:8080/",
     "height": 455
    },
    "id": "rRmfp1JHp6df",
    "outputId": "39356bc5-8ac7-4649-dd67-4618d3d738da"
   },
   "outputs": [
    {
     "data": {
      "text/html": [
       "<div>\n",
       "<style scoped>\n",
       "    .dataframe tbody tr th:only-of-type {\n",
       "        vertical-align: middle;\n",
       "    }\n",
       "\n",
       "    .dataframe tbody tr th {\n",
       "        vertical-align: top;\n",
       "    }\n",
       "\n",
       "    .dataframe thead th {\n",
       "        text-align: right;\n",
       "    }\n",
       "</style>\n",
       "<table border=\"1\" class=\"dataframe\">\n",
       "  <thead>\n",
       "    <tr style=\"text-align: right;\">\n",
       "      <th></th>\n",
       "      <th>num_code</th>\n",
       "      <th>dep_time</th>\n",
       "      <th>arr_time</th>\n",
       "      <th>price</th>\n",
       "    </tr>\n",
       "  </thead>\n",
       "  <tbody>\n",
       "    <tr>\n",
       "      <th>0</th>\n",
       "      <td>0.077553</td>\n",
       "      <td>0.750877</td>\n",
       "      <td>0.833333</td>\n",
       "      <td>0.200933</td>\n",
       "    </tr>\n",
       "    <tr>\n",
       "      <th>1</th>\n",
       "      <td>0.052882</td>\n",
       "      <td>0.792982</td>\n",
       "      <td>0.885635</td>\n",
       "      <td>0.200933</td>\n",
       "    </tr>\n",
       "    <tr>\n",
       "      <th>2</th>\n",
       "      <td>0.043478</td>\n",
       "      <td>0.835088</td>\n",
       "      <td>0.864714</td>\n",
       "      <td>0.337102</td>\n",
       "    </tr>\n",
       "    <tr>\n",
       "      <th>3</th>\n",
       "      <td>0.074621</td>\n",
       "      <td>0.894737</td>\n",
       "      <td>0.997211</td>\n",
       "      <td>0.355386</td>\n",
       "    </tr>\n",
       "    <tr>\n",
       "      <th>4</th>\n",
       "      <td>0.044793</td>\n",
       "      <td>0.719298</td>\n",
       "      <td>0.997211</td>\n",
       "      <td>0.373752</td>\n",
       "    </tr>\n",
       "    <tr>\n",
       "      <th>...</th>\n",
       "      <td>...</td>\n",
       "      <td>...</td>\n",
       "      <td>...</td>\n",
       "      <td>...</td>\n",
       "    </tr>\n",
       "    <tr>\n",
       "      <th>300256</th>\n",
       "      <td>0.073913</td>\n",
       "      <td>0.291228</td>\n",
       "      <td>0.871688</td>\n",
       "      <td>0.054048</td>\n",
       "    </tr>\n",
       "    <tr>\n",
       "      <th>300257</th>\n",
       "      <td>0.073913</td>\n",
       "      <td>0.291228</td>\n",
       "      <td>0.871688</td>\n",
       "      <td>0.054146</td>\n",
       "    </tr>\n",
       "    <tr>\n",
       "      <th>300258</th>\n",
       "      <td>0.073306</td>\n",
       "      <td>0.519298</td>\n",
       "      <td>0.376569</td>\n",
       "      <td>0.061780</td>\n",
       "    </tr>\n",
       "    <tr>\n",
       "      <th>300259</th>\n",
       "      <td>0.072902</td>\n",
       "      <td>0.403509</td>\n",
       "      <td>0.376569</td>\n",
       "      <td>0.061780</td>\n",
       "    </tr>\n",
       "    <tr>\n",
       "      <th>300260</th>\n",
       "      <td>0.073104</td>\n",
       "      <td>0.856140</td>\n",
       "      <td>0.871688</td>\n",
       "      <td>0.061780</td>\n",
       "    </tr>\n",
       "  </tbody>\n",
       "</table>\n",
       "<p>300261 rows × 4 columns</p>\n",
       "</div>"
      ],
      "text/plain": [
       "        num_code  dep_time  arr_time     price\n",
       "0       0.077553  0.750877  0.833333  0.200933\n",
       "1       0.052882  0.792982  0.885635  0.200933\n",
       "2       0.043478  0.835088  0.864714  0.337102\n",
       "3       0.074621  0.894737  0.997211  0.355386\n",
       "4       0.044793  0.719298  0.997211  0.373752\n",
       "...          ...       ...       ...       ...\n",
       "300256  0.073913  0.291228  0.871688  0.054048\n",
       "300257  0.073913  0.291228  0.871688  0.054146\n",
       "300258  0.073306  0.519298  0.376569  0.061780\n",
       "300259  0.072902  0.403509  0.376569  0.061780\n",
       "300260  0.073104  0.856140  0.871688  0.061780\n",
       "\n",
       "[300261 rows x 4 columns]"
      ]
     },
     "execution_count": 39,
     "metadata": {},
     "output_type": "execute_result"
    }
   ],
   "source": [
    "num = (num - num.min()) / (num.max() - num.min())\n",
    "num"
   ]
  },
  {
   "cell_type": "code",
   "execution_count": 40,
   "metadata": {
    "colab": {
     "base_uri": "https://localhost:8080/",
     "height": 237
    },
    "id": "dXfX75BCqElf",
    "outputId": "5721c109-c547-4b83-c1df-e88bbfdb2b9e"
   },
   "outputs": [
    {
     "data": {
      "text/html": [
       "<div>\n",
       "<style scoped>\n",
       "    .dataframe tbody tr th:only-of-type {\n",
       "        vertical-align: middle;\n",
       "    }\n",
       "\n",
       "    .dataframe tbody tr th {\n",
       "        vertical-align: top;\n",
       "    }\n",
       "\n",
       "    .dataframe thead th {\n",
       "        text-align: right;\n",
       "    }\n",
       "</style>\n",
       "<table border=\"1\" class=\"dataframe\">\n",
       "  <thead>\n",
       "    <tr style=\"text-align: right;\">\n",
       "      <th></th>\n",
       "      <th>airline</th>\n",
       "      <th>ch_code</th>\n",
       "      <th>from</th>\n",
       "      <th>stop</th>\n",
       "      <th>to</th>\n",
       "    </tr>\n",
       "  </thead>\n",
       "  <tbody>\n",
       "    <tr>\n",
       "      <th>0</th>\n",
       "      <td>Air India</td>\n",
       "      <td>AI</td>\n",
       "      <td>Delhi</td>\n",
       "      <td>non-stop</td>\n",
       "      <td>Mumbai</td>\n",
       "    </tr>\n",
       "    <tr>\n",
       "      <th>1</th>\n",
       "      <td>Air India</td>\n",
       "      <td>AI</td>\n",
       "      <td>Delhi</td>\n",
       "      <td>non-stop</td>\n",
       "      <td>Mumbai</td>\n",
       "    </tr>\n",
       "    <tr>\n",
       "      <th>2</th>\n",
       "      <td>Air India</td>\n",
       "      <td>AI</td>\n",
       "      <td>Delhi</td>\n",
       "      <td>1-stop\\n\\t\\t\\t\\t\\t\\t\\t\\t\\t\\t\\t\\t\\n\\t\\t\\t\\t\\t\\t...</td>\n",
       "      <td>Mumbai</td>\n",
       "    </tr>\n",
       "    <tr>\n",
       "      <th>3</th>\n",
       "      <td>Air India</td>\n",
       "      <td>AI</td>\n",
       "      <td>Delhi</td>\n",
       "      <td>1-stop\\n\\t\\t\\t\\t\\t\\t\\t\\t\\t\\t\\t\\t\\n\\t\\t\\t\\t\\t\\t...</td>\n",
       "      <td>Mumbai</td>\n",
       "    </tr>\n",
       "    <tr>\n",
       "      <th>4</th>\n",
       "      <td>Air India</td>\n",
       "      <td>AI</td>\n",
       "      <td>Delhi</td>\n",
       "      <td>1-stop\\n\\t\\t\\t\\t\\t\\t\\t\\t\\t\\t\\t\\t\\n\\t\\t\\t\\t\\t\\t...</td>\n",
       "      <td>Mumbai</td>\n",
       "    </tr>\n",
       "  </tbody>\n",
       "</table>\n",
       "</div>"
      ],
      "text/plain": [
       "     airline ch_code   from  \\\n",
       "0  Air India      AI  Delhi   \n",
       "1  Air India      AI  Delhi   \n",
       "2  Air India      AI  Delhi   \n",
       "3  Air India      AI  Delhi   \n",
       "4  Air India      AI  Delhi   \n",
       "\n",
       "                                                stop      to  \n",
       "0                                          non-stop   Mumbai  \n",
       "1                                          non-stop   Mumbai  \n",
       "2  1-stop\\n\\t\\t\\t\\t\\t\\t\\t\\t\\t\\t\\t\\t\\n\\t\\t\\t\\t\\t\\t...  Mumbai  \n",
       "3  1-stop\\n\\t\\t\\t\\t\\t\\t\\t\\t\\t\\t\\t\\t\\n\\t\\t\\t\\t\\t\\t...  Mumbai  \n",
       "4  1-stop\\n\\t\\t\\t\\t\\t\\t\\t\\t\\t\\t\\t\\t\\n\\t\\t\\t\\t\\t\\t...  Mumbai  "
      ]
     },
     "execution_count": 40,
     "metadata": {},
     "output_type": "execute_result"
    }
   ],
   "source": [
    "cat=merged_df.drop(num,axis=1)\n",
    "cat=cat.astype('category')\n",
    "cat.head() # Taking categorical columns"
   ]
  },
  {
   "cell_type": "code",
   "execution_count": 41,
   "metadata": {},
   "outputs": [],
   "source": [
    "cat = cat.reset_index(drop=True)"
   ]
  },
  {
   "cell_type": "code",
   "execution_count": 42,
   "metadata": {
    "colab": {
     "base_uri": "https://localhost:8080/",
     "height": 218
    },
    "id": "RWm411RSqM-T",
    "outputId": "52c86440-ce0d-4a91-da0e-6f6a850e3fd6"
   },
   "outputs": [],
   "source": [
    "cat1 = pd.get_dummies(cat)"
   ]
  },
  {
   "cell_type": "code",
   "execution_count": 43,
   "metadata": {
    "id": "4rVR9rDdq6tJ"
   },
   "outputs": [
    {
     "data": {
      "text/html": [
       "<div>\n",
       "<style scoped>\n",
       "    .dataframe tbody tr th:only-of-type {\n",
       "        vertical-align: middle;\n",
       "    }\n",
       "\n",
       "    .dataframe tbody tr th {\n",
       "        vertical-align: top;\n",
       "    }\n",
       "\n",
       "    .dataframe thead th {\n",
       "        text-align: right;\n",
       "    }\n",
       "</style>\n",
       "<table border=\"1\" class=\"dataframe\">\n",
       "  <thead>\n",
       "    <tr style=\"text-align: right;\">\n",
       "      <th></th>\n",
       "      <th>airline_Air India</th>\n",
       "      <th>airline_AirAsia</th>\n",
       "      <th>airline_GO FIRST</th>\n",
       "      <th>airline_Indigo</th>\n",
       "      <th>airline_SpiceJet</th>\n",
       "      <th>airline_StarAir</th>\n",
       "      <th>airline_Trujet</th>\n",
       "      <th>airline_Vistara</th>\n",
       "      <th>ch_code_2T</th>\n",
       "      <th>ch_code_6E</th>\n",
       "      <th>...</th>\n",
       "      <th>stop_1-stop\\n\\t\\t\\t\\t\\t\\t\\t\\t\\t\\t\\t\\tVia VTZ\\n\\t\\t\\t\\t\\t\\t\\t\\t\\t\\t\\t\\t</th>\n",
       "      <th>stop_1-stop\\n\\t\\t\\t\\t\\t\\t\\t\\t\\t\\t\\t\\tVia Vishakhapatnam\\n\\t\\t\\t\\t\\t\\t\\t\\t\\t\\t\\t\\t</th>\n",
       "      <th>stop_2+-stop</th>\n",
       "      <th>stop_non-stop</th>\n",
       "      <th>to_Bangalore</th>\n",
       "      <th>to_Chennai</th>\n",
       "      <th>to_Delhi</th>\n",
       "      <th>to_Hyderabad</th>\n",
       "      <th>to_Kolkata</th>\n",
       "      <th>to_Mumbai</th>\n",
       "    </tr>\n",
       "  </thead>\n",
       "  <tbody>\n",
       "    <tr>\n",
       "      <th>0</th>\n",
       "      <td>1</td>\n",
       "      <td>0</td>\n",
       "      <td>0</td>\n",
       "      <td>0</td>\n",
       "      <td>0</td>\n",
       "      <td>0</td>\n",
       "      <td>0</td>\n",
       "      <td>0</td>\n",
       "      <td>0</td>\n",
       "      <td>0</td>\n",
       "      <td>...</td>\n",
       "      <td>0</td>\n",
       "      <td>0</td>\n",
       "      <td>0</td>\n",
       "      <td>1</td>\n",
       "      <td>0</td>\n",
       "      <td>0</td>\n",
       "      <td>0</td>\n",
       "      <td>0</td>\n",
       "      <td>0</td>\n",
       "      <td>1</td>\n",
       "    </tr>\n",
       "    <tr>\n",
       "      <th>1</th>\n",
       "      <td>1</td>\n",
       "      <td>0</td>\n",
       "      <td>0</td>\n",
       "      <td>0</td>\n",
       "      <td>0</td>\n",
       "      <td>0</td>\n",
       "      <td>0</td>\n",
       "      <td>0</td>\n",
       "      <td>0</td>\n",
       "      <td>0</td>\n",
       "      <td>...</td>\n",
       "      <td>0</td>\n",
       "      <td>0</td>\n",
       "      <td>0</td>\n",
       "      <td>1</td>\n",
       "      <td>0</td>\n",
       "      <td>0</td>\n",
       "      <td>0</td>\n",
       "      <td>0</td>\n",
       "      <td>0</td>\n",
       "      <td>1</td>\n",
       "    </tr>\n",
       "    <tr>\n",
       "      <th>2</th>\n",
       "      <td>1</td>\n",
       "      <td>0</td>\n",
       "      <td>0</td>\n",
       "      <td>0</td>\n",
       "      <td>0</td>\n",
       "      <td>0</td>\n",
       "      <td>0</td>\n",
       "      <td>0</td>\n",
       "      <td>0</td>\n",
       "      <td>0</td>\n",
       "      <td>...</td>\n",
       "      <td>0</td>\n",
       "      <td>0</td>\n",
       "      <td>0</td>\n",
       "      <td>0</td>\n",
       "      <td>0</td>\n",
       "      <td>0</td>\n",
       "      <td>0</td>\n",
       "      <td>0</td>\n",
       "      <td>0</td>\n",
       "      <td>1</td>\n",
       "    </tr>\n",
       "    <tr>\n",
       "      <th>3</th>\n",
       "      <td>1</td>\n",
       "      <td>0</td>\n",
       "      <td>0</td>\n",
       "      <td>0</td>\n",
       "      <td>0</td>\n",
       "      <td>0</td>\n",
       "      <td>0</td>\n",
       "      <td>0</td>\n",
       "      <td>0</td>\n",
       "      <td>0</td>\n",
       "      <td>...</td>\n",
       "      <td>0</td>\n",
       "      <td>0</td>\n",
       "      <td>0</td>\n",
       "      <td>0</td>\n",
       "      <td>0</td>\n",
       "      <td>0</td>\n",
       "      <td>0</td>\n",
       "      <td>0</td>\n",
       "      <td>0</td>\n",
       "      <td>1</td>\n",
       "    </tr>\n",
       "    <tr>\n",
       "      <th>4</th>\n",
       "      <td>1</td>\n",
       "      <td>0</td>\n",
       "      <td>0</td>\n",
       "      <td>0</td>\n",
       "      <td>0</td>\n",
       "      <td>0</td>\n",
       "      <td>0</td>\n",
       "      <td>0</td>\n",
       "      <td>0</td>\n",
       "      <td>0</td>\n",
       "      <td>...</td>\n",
       "      <td>0</td>\n",
       "      <td>0</td>\n",
       "      <td>0</td>\n",
       "      <td>0</td>\n",
       "      <td>0</td>\n",
       "      <td>0</td>\n",
       "      <td>0</td>\n",
       "      <td>0</td>\n",
       "      <td>0</td>\n",
       "      <td>1</td>\n",
       "    </tr>\n",
       "  </tbody>\n",
       "</table>\n",
       "<p>5 rows × 68 columns</p>\n",
       "</div>"
      ],
      "text/plain": [
       "   airline_Air India  airline_AirAsia  airline_GO FIRST  airline_Indigo  \\\n",
       "0                  1                0                 0               0   \n",
       "1                  1                0                 0               0   \n",
       "2                  1                0                 0               0   \n",
       "3                  1                0                 0               0   \n",
       "4                  1                0                 0               0   \n",
       "\n",
       "   airline_SpiceJet  airline_StarAir  airline_Trujet  airline_Vistara  \\\n",
       "0                 0                0               0                0   \n",
       "1                 0                0               0                0   \n",
       "2                 0                0               0                0   \n",
       "3                 0                0               0                0   \n",
       "4                 0                0               0                0   \n",
       "\n",
       "   ch_code_2T  ch_code_6E  ...  \\\n",
       "0           0           0  ...   \n",
       "1           0           0  ...   \n",
       "2           0           0  ...   \n",
       "3           0           0  ...   \n",
       "4           0           0  ...   \n",
       "\n",
       "   stop_1-stop\\n\\t\\t\\t\\t\\t\\t\\t\\t\\t\\t\\t\\tVia VTZ\\n\\t\\t\\t\\t\\t\\t\\t\\t\\t\\t\\t\\t  \\\n",
       "0                                                  0                        \n",
       "1                                                  0                        \n",
       "2                                                  0                        \n",
       "3                                                  0                        \n",
       "4                                                  0                        \n",
       "\n",
       "   stop_1-stop\\n\\t\\t\\t\\t\\t\\t\\t\\t\\t\\t\\t\\tVia Vishakhapatnam\\n\\t\\t\\t\\t\\t\\t\\t\\t\\t\\t\\t\\t  \\\n",
       "0                                                  0                                   \n",
       "1                                                  0                                   \n",
       "2                                                  0                                   \n",
       "3                                                  0                                   \n",
       "4                                                  0                                   \n",
       "\n",
       "   stop_2+-stop  stop_non-stop   to_Bangalore  to_Chennai  to_Delhi  \\\n",
       "0             0               1             0           0         0   \n",
       "1             0               1             0           0         0   \n",
       "2             0               0             0           0         0   \n",
       "3             0               0             0           0         0   \n",
       "4             0               0             0           0         0   \n",
       "\n",
       "   to_Hyderabad  to_Kolkata  to_Mumbai  \n",
       "0             0           0          1  \n",
       "1             0           0          1  \n",
       "2             0           0          1  \n",
       "3             0           0          1  \n",
       "4             0           0          1  \n",
       "\n",
       "[5 rows x 68 columns]"
      ]
     },
     "execution_count": 43,
     "metadata": {},
     "output_type": "execute_result"
    }
   ],
   "source": [
    "cat1.head()"
   ]
  },
  {
   "cell_type": "code",
   "execution_count": 44,
   "metadata": {},
   "outputs": [],
   "source": [
    "final_df = pd.merge(num, cat1, how='outer', left_index=True, right_index=True)"
   ]
  },
  {
   "cell_type": "code",
   "execution_count": 45,
   "metadata": {},
   "outputs": [
    {
     "data": {
      "text/html": [
       "<div>\n",
       "<style scoped>\n",
       "    .dataframe tbody tr th:only-of-type {\n",
       "        vertical-align: middle;\n",
       "    }\n",
       "\n",
       "    .dataframe tbody tr th {\n",
       "        vertical-align: top;\n",
       "    }\n",
       "\n",
       "    .dataframe thead th {\n",
       "        text-align: right;\n",
       "    }\n",
       "</style>\n",
       "<table border=\"1\" class=\"dataframe\">\n",
       "  <thead>\n",
       "    <tr style=\"text-align: right;\">\n",
       "      <th></th>\n",
       "      <th>num_code</th>\n",
       "      <th>dep_time</th>\n",
       "      <th>arr_time</th>\n",
       "      <th>price</th>\n",
       "      <th>airline_Air India</th>\n",
       "      <th>airline_AirAsia</th>\n",
       "      <th>airline_GO FIRST</th>\n",
       "      <th>airline_Indigo</th>\n",
       "      <th>airline_SpiceJet</th>\n",
       "      <th>airline_StarAir</th>\n",
       "      <th>...</th>\n",
       "      <th>stop_1-stop\\n\\t\\t\\t\\t\\t\\t\\t\\t\\t\\t\\t\\tVia VTZ\\n\\t\\t\\t\\t\\t\\t\\t\\t\\t\\t\\t\\t</th>\n",
       "      <th>stop_1-stop\\n\\t\\t\\t\\t\\t\\t\\t\\t\\t\\t\\t\\tVia Vishakhapatnam\\n\\t\\t\\t\\t\\t\\t\\t\\t\\t\\t\\t\\t</th>\n",
       "      <th>stop_2+-stop</th>\n",
       "      <th>stop_non-stop</th>\n",
       "      <th>to_Bangalore</th>\n",
       "      <th>to_Chennai</th>\n",
       "      <th>to_Delhi</th>\n",
       "      <th>to_Hyderabad</th>\n",
       "      <th>to_Kolkata</th>\n",
       "      <th>to_Mumbai</th>\n",
       "    </tr>\n",
       "  </thead>\n",
       "  <tbody>\n",
       "    <tr>\n",
       "      <th>0</th>\n",
       "      <td>0.077553</td>\n",
       "      <td>0.750877</td>\n",
       "      <td>0.833333</td>\n",
       "      <td>0.200933</td>\n",
       "      <td>1</td>\n",
       "      <td>0</td>\n",
       "      <td>0</td>\n",
       "      <td>0</td>\n",
       "      <td>0</td>\n",
       "      <td>0</td>\n",
       "      <td>...</td>\n",
       "      <td>0</td>\n",
       "      <td>0</td>\n",
       "      <td>0</td>\n",
       "      <td>1</td>\n",
       "      <td>0</td>\n",
       "      <td>0</td>\n",
       "      <td>0</td>\n",
       "      <td>0</td>\n",
       "      <td>0</td>\n",
       "      <td>1</td>\n",
       "    </tr>\n",
       "    <tr>\n",
       "      <th>1</th>\n",
       "      <td>0.052882</td>\n",
       "      <td>0.792982</td>\n",
       "      <td>0.885635</td>\n",
       "      <td>0.200933</td>\n",
       "      <td>1</td>\n",
       "      <td>0</td>\n",
       "      <td>0</td>\n",
       "      <td>0</td>\n",
       "      <td>0</td>\n",
       "      <td>0</td>\n",
       "      <td>...</td>\n",
       "      <td>0</td>\n",
       "      <td>0</td>\n",
       "      <td>0</td>\n",
       "      <td>1</td>\n",
       "      <td>0</td>\n",
       "      <td>0</td>\n",
       "      <td>0</td>\n",
       "      <td>0</td>\n",
       "      <td>0</td>\n",
       "      <td>1</td>\n",
       "    </tr>\n",
       "    <tr>\n",
       "      <th>2</th>\n",
       "      <td>0.043478</td>\n",
       "      <td>0.835088</td>\n",
       "      <td>0.864714</td>\n",
       "      <td>0.337102</td>\n",
       "      <td>1</td>\n",
       "      <td>0</td>\n",
       "      <td>0</td>\n",
       "      <td>0</td>\n",
       "      <td>0</td>\n",
       "      <td>0</td>\n",
       "      <td>...</td>\n",
       "      <td>0</td>\n",
       "      <td>0</td>\n",
       "      <td>0</td>\n",
       "      <td>0</td>\n",
       "      <td>0</td>\n",
       "      <td>0</td>\n",
       "      <td>0</td>\n",
       "      <td>0</td>\n",
       "      <td>0</td>\n",
       "      <td>1</td>\n",
       "    </tr>\n",
       "    <tr>\n",
       "      <th>3</th>\n",
       "      <td>0.074621</td>\n",
       "      <td>0.894737</td>\n",
       "      <td>0.997211</td>\n",
       "      <td>0.355386</td>\n",
       "      <td>1</td>\n",
       "      <td>0</td>\n",
       "      <td>0</td>\n",
       "      <td>0</td>\n",
       "      <td>0</td>\n",
       "      <td>0</td>\n",
       "      <td>...</td>\n",
       "      <td>0</td>\n",
       "      <td>0</td>\n",
       "      <td>0</td>\n",
       "      <td>0</td>\n",
       "      <td>0</td>\n",
       "      <td>0</td>\n",
       "      <td>0</td>\n",
       "      <td>0</td>\n",
       "      <td>0</td>\n",
       "      <td>1</td>\n",
       "    </tr>\n",
       "    <tr>\n",
       "      <th>4</th>\n",
       "      <td>0.044793</td>\n",
       "      <td>0.719298</td>\n",
       "      <td>0.997211</td>\n",
       "      <td>0.373752</td>\n",
       "      <td>1</td>\n",
       "      <td>0</td>\n",
       "      <td>0</td>\n",
       "      <td>0</td>\n",
       "      <td>0</td>\n",
       "      <td>0</td>\n",
       "      <td>...</td>\n",
       "      <td>0</td>\n",
       "      <td>0</td>\n",
       "      <td>0</td>\n",
       "      <td>0</td>\n",
       "      <td>0</td>\n",
       "      <td>0</td>\n",
       "      <td>0</td>\n",
       "      <td>0</td>\n",
       "      <td>0</td>\n",
       "      <td>1</td>\n",
       "    </tr>\n",
       "  </tbody>\n",
       "</table>\n",
       "<p>5 rows × 72 columns</p>\n",
       "</div>"
      ],
      "text/plain": [
       "   num_code  dep_time  arr_time     price  airline_Air India  airline_AirAsia  \\\n",
       "0  0.077553  0.750877  0.833333  0.200933                  1                0   \n",
       "1  0.052882  0.792982  0.885635  0.200933                  1                0   \n",
       "2  0.043478  0.835088  0.864714  0.337102                  1                0   \n",
       "3  0.074621  0.894737  0.997211  0.355386                  1                0   \n",
       "4  0.044793  0.719298  0.997211  0.373752                  1                0   \n",
       "\n",
       "   airline_GO FIRST  airline_Indigo  airline_SpiceJet  airline_StarAir  ...  \\\n",
       "0                 0               0                 0                0  ...   \n",
       "1                 0               0                 0                0  ...   \n",
       "2                 0               0                 0                0  ...   \n",
       "3                 0               0                 0                0  ...   \n",
       "4                 0               0                 0                0  ...   \n",
       "\n",
       "   stop_1-stop\\n\\t\\t\\t\\t\\t\\t\\t\\t\\t\\t\\t\\tVia VTZ\\n\\t\\t\\t\\t\\t\\t\\t\\t\\t\\t\\t\\t  \\\n",
       "0                                                  0                        \n",
       "1                                                  0                        \n",
       "2                                                  0                        \n",
       "3                                                  0                        \n",
       "4                                                  0                        \n",
       "\n",
       "   stop_1-stop\\n\\t\\t\\t\\t\\t\\t\\t\\t\\t\\t\\t\\tVia Vishakhapatnam\\n\\t\\t\\t\\t\\t\\t\\t\\t\\t\\t\\t\\t  \\\n",
       "0                                                  0                                   \n",
       "1                                                  0                                   \n",
       "2                                                  0                                   \n",
       "3                                                  0                                   \n",
       "4                                                  0                                   \n",
       "\n",
       "   stop_2+-stop  stop_non-stop   to_Bangalore  to_Chennai  to_Delhi  \\\n",
       "0             0               1             0           0         0   \n",
       "1             0               1             0           0         0   \n",
       "2             0               0             0           0         0   \n",
       "3             0               0             0           0         0   \n",
       "4             0               0             0           0         0   \n",
       "\n",
       "   to_Hyderabad  to_Kolkata  to_Mumbai  \n",
       "0             0           0          1  \n",
       "1             0           0          1  \n",
       "2             0           0          1  \n",
       "3             0           0          1  \n",
       "4             0           0          1  \n",
       "\n",
       "[5 rows x 72 columns]"
      ]
     },
     "execution_count": 45,
     "metadata": {},
     "output_type": "execute_result"
    }
   ],
   "source": [
    "final_df.head()"
   ]
  },
  {
   "cell_type": "code",
   "execution_count": 46,
   "metadata": {},
   "outputs": [
    {
     "data": {
      "text/plain": [
       "0"
      ]
     },
     "execution_count": 46,
     "metadata": {},
     "output_type": "execute_result"
    }
   ],
   "source": [
    "final_df.isnull().sum().sum()"
   ]
  },
  {
   "cell_type": "code",
   "execution_count": 47,
   "metadata": {},
   "outputs": [],
   "source": [
    "X = final_df.drop(\"price\", axis=1)\n",
    "y = final_df[\"price\"]"
   ]
  },
  {
   "cell_type": "code",
   "execution_count": 48,
   "metadata": {},
   "outputs": [],
   "source": [
    "from sklearn.model_selection import train_test_split\n",
    "from sklearn.preprocessing import StandardScaler\n",
    "from sklearn.metrics import r2_score, mean_absolute_error, mean_squared_error"
   ]
  },
  {
   "cell_type": "code",
   "execution_count": 49,
   "metadata": {},
   "outputs": [],
   "source": [
    "X_train, X_test, y_train, y_test = train_test_split(X, y, test_size=0.3, random_state=42)"
   ]
  },
  {
   "cell_type": "code",
   "execution_count": 50,
   "metadata": {},
   "outputs": [
    {
     "data": {
      "text/plain": [
       "RandomForestRegressor(random_state=42)"
      ]
     },
     "execution_count": 50,
     "metadata": {},
     "output_type": "execute_result"
    }
   ],
   "source": [
    "from sklearn.ensemble import RandomForestRegressor\n",
    "rf = RandomForestRegressor(n_estimators=100, random_state=42)\n",
    "rf.fit(X_train, y_train)"
   ]
  },
  {
   "cell_type": "code",
   "execution_count": 51,
   "metadata": {},
   "outputs": [],
   "source": [
    "y_pred = rf.predict(X_train)"
   ]
  },
  {
   "cell_type": "code",
   "execution_count": 52,
   "metadata": {},
   "outputs": [
    {
     "data": {
      "text/plain": [
       "RandomForestRegressor(random_state=42)"
      ]
     },
     "execution_count": 52,
     "metadata": {},
     "output_type": "execute_result"
    }
   ],
   "source": [
    "rf.fit(X_test, y_test)"
   ]
  },
  {
   "cell_type": "code",
   "execution_count": 53,
   "metadata": {},
   "outputs": [],
   "source": [
    "y_preds =rf.predict(X_test)"
   ]
  },
  {
   "cell_type": "code",
   "execution_count": 54,
   "metadata": {},
   "outputs": [
    {
     "name": "stdout",
     "output_type": "stream",
     "text": [
      "Mean Absolute Error: 0.10521915347459845\n",
      "Mean Squared Error: 0.020161393166812206\n",
      "Root Mean Squared Error: 0.14199082071321445\n",
      "R-squared: 0.4172898499651436\n"
     ]
    }
   ],
   "source": [
    "mae = mean_absolute_error(y_test, y_preds)\n",
    "mse = mean_squared_error(y_test, y_preds)\n",
    "rmse = np.sqrt(mse)\n",
    "r2 = r2_score(y_test, y_preds)\n",
    "print(\"Mean Absolute Error:\",mae)\n",
    "print(\"Mean Squared Error:\", mse)\n",
    "print(\"Root Mean Squared Error:\", rmse)\n",
    "print(\"R-squared:\", r2)"
   ]
  },
  {
   "cell_type": "code",
   "execution_count": 55,
   "metadata": {},
   "outputs": [
    {
     "name": "stdout",
     "output_type": "stream",
     "text": [
      "Mean Absolute Error: 0.10908874980708284\n",
      "Mean Squared Error: 0.02094179283763391\n",
      "Root Mean Squared Error: 0.14471279431216133\n",
      "R-squared: 0.39542602728401366\n"
     ]
    }
   ],
   "source": [
    "mae = mean_absolute_error(y_train, y_pred)\n",
    "mse = mean_squared_error(y_train, y_pred)\n",
    "rmse = np.sqrt(mse)\n",
    "r2 = r2_score(y_train, y_pred)\n",
    "print(\"Mean Absolute Error:\",mae)\n",
    "print(\"Mean Squared Error:\", mse)\n",
    "print(\"Root Mean Squared Error:\", rmse)\n",
    "print(\"R-squared:\", r2)"
   ]
  },
  {
   "cell_type": "code",
   "execution_count": 56,
   "metadata": {},
   "outputs": [],
   "source": [
    
  },
  {
   "cell_type": "code",
   "execution_count": 57,
   "metadata": {},
   "outputs": [],
   "source": [
    "rfr = RandomForestRegressor(n_trees=15, max_depth=2, subsample_size=0.5)"
   ]
  },
  {
   "cell_type": "code",
   "execution_count": 58,
   "metadata": {},
   "outputs": [],
   "source": [
    "rfr.fit(X_train, y_train)\n",
    "y_pred = rfr.predict(X_train)"
   ]
  },
  {
   "cell_type": "code",
   "execution_count": 59,
   "metadata": {},
   "outputs": [
    {
     "name": "stdout",
     "output_type": "stream",
     "text": [
      "Mean Absolute Error: 0.1505147015664001\n",
      "Mean Squared Error: 0.03562106346365458\n",
      "Root Mean Squared Error: 0.18873543245414884\n",
      "R-squared: -0.028353590237490067\n"
     ]
    }
   ],
   "source": [
    "import numpy as np\n",
    "\n",
    "def mean_absolute_error(y_train, y_pred):\n",
    "    return np.mean(np.abs(y_train - y_pred))\n",
    "\n",
    "def mean_squared_error(y_train, y_pred):\n",
    "    return np.mean((y_train - y_pred)**2)\n",
    "\n",
    "def root_mean_squared_error(y_train, y_pred):\n",
    "    return np.sqrt(mean_squared_error(y_train, y_pred))\n",
    "\n",
    "def r2_score(y_train, y_pred):\n",
    "    ssr = np.sum((y_train - y_pred)**2)\n",
    "    sst = np.sum((y_train - np.mean(y_train))**2)\n",
    "    return 1 - (ssr / sst)\n",
    "\n",
    "# Assuming y_true and y_pred are NumPy arrays or Pandas Series\n",
    "mae = mean_absolute_error(y_train, y_pred)\n",
    "mse = mean_squared_error(y_train, y_pred)\n",
    "rmse = root_mean_squared_error(y_train, y_pred)\n",
    "r2 = r2_score(y_train, y_pred)\n",
    "\n",
    "print(\"Mean Absolute Error:\",mae)\n",
    "print(\"Mean Squared Error:\", mse)\n",
    "print(\"Root Mean Squared Error:\", rmse)\n",
    "print(\"R-squared:\", r2)"
   ]
  }
 ],
 "metadata": {
  "colab": {
   "provenance": []
  },
  "kernelspec": {
   "display_name": "Python 3",
   "language": "python",
   "name": "python3"
  },
  "language_info": {
   "codemirror_mode": {
    "name": "ipython",
    "version": 3
   },
   "file_extension": ".py",
   "mimetype": "text/x-python",
   "name": "python",
   "nbconvert_exporter": "python",
   "pygments_lexer": "ipython3",
   "version": "3.7.6"
  }
 },
 "nbformat": 4,
 "nbformat_minor": 4
}
