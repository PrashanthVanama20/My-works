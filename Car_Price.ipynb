{
 "cells": [
  {
   "cell_type": "raw",
   "metadata": {
    "id": "_D98GKel5ill"
   },
   "source": [
    "PROBLEM STATEMENT:\n",
    "\n",
    "This dataset contains information about used cars.\n",
    "\n",
    "AIM:\n",
    "\n",
    "To predict the vehicle prices based on Engine, Max_Power, Max_Torque, Drivetrain etc.,"
   ]
  },
  {
   "cell_type": "code",
   "execution_count": 1,
   "metadata": {
    "id": "7QTmptuW4y8Y"
   },
   "outputs": [],
   "source": [
    "# importing the neccessary libraries\n",
    "import os\n",
    "import pandas as pd\n",
    "import numpy as np\n",
    "import seaborn as sns \n",
    "import matplotlib.pyplot as plt\n",
    "from scipy import stats\n",
    "from scipy.stats import skew,norm\n",
    "\n",
    "import warnings\n",
    "warnings.filterwarnings(\"ignore\")"
   ]
  },
  {
   "cell_type": "code",
   "execution_count": 2,
   "metadata": {
    "id": "m5jdjB9E49pQ"
   },
   "outputs": [],
   "source": [
    "# reading the  data\n",
    "df1=pd.read_excel(\"D2_file1.xlsx\")\n",
    "df2=pd.read_excel(\"D2_file2.xlsx\")\n",
    "df3=pd.read_excel(\"D2_file3.xlsx\")\n",
    "target=pd.read_excel(\"D2_target.xlsx\")"
   ]
  },
  {
   "cell_type": "code",
   "execution_count": 3,
   "metadata": {
    "colab": {
     "base_uri": "https://localhost:8080/"
    },
    "id": "cIDFIgcB7PtJ",
    "outputId": "189cb1d0-6e8e-49e2-8932-a5c6bff102f2"
   },
   "outputs": [
    {
     "data": {
      "text/plain": [
       "Index(['id', 'Engine', 'Max Power', 'Max Torque', 'Drivetrain', 'Length',\n",
       "       'Width', 'Height', 'Seating Capacity', 'Fuel Tank Capacity'],\n",
       "      dtype='object')"
      ]
     },
     "execution_count": 3,
     "metadata": {},
     "output_type": "execute_result"
    }
   ],
   "source": [
    "df1.columns"
   ]
  },
  {
   "cell_type": "code",
   "execution_count": 4,
   "metadata": {
    "colab": {
     "base_uri": "https://localhost:8080/"
    },
    "id": "rgFlwtRfB2B9",
    "outputId": "a4291eb9-dc4d-4630-ac47-407c967928e2"
   },
   "outputs": [
    {
     "data": {
      "text/plain": [
       "Index(['id', 'Make', 'Model', 'Year'], dtype='object')"
      ]
     },
     "execution_count": 4,
     "metadata": {},
     "output_type": "execute_result"
    }
   ],
   "source": [
    "df2.columns"
   ]
  },
  {
   "cell_type": "code",
   "execution_count": 5,
   "metadata": {
    "colab": {
     "base_uri": "https://localhost:8080/"
    },
    "id": "Wh_oTkmDB3DC",
    "outputId": "9db71672-4cba-4655-e65e-af69d20828cc"
   },
   "outputs": [
    {
     "data": {
      "text/plain": [
       "Index(['id', 'Kilometer', 'Fuel Type', 'Transmission', 'Location', 'Color',\n",
       "       'Owner', 'Seller Type'],\n",
       "      dtype='object')"
      ]
     },
     "execution_count": 5,
     "metadata": {},
     "output_type": "execute_result"
    }
   ],
   "source": [
    "df3.columns"
   ]
  },
  {
   "cell_type": "code",
   "execution_count": 6,
   "metadata": {
    "colab": {
     "base_uri": "https://localhost:8080/"
    },
    "id": "BLWuoIO4B4Xn",
    "outputId": "a495ec38-4e19-4eb5-ae33-3a0018ba42e9"
   },
   "outputs": [
    {
     "data": {
      "text/plain": [
       "Index(['id', 'Price'], dtype='object')"
      ]
     },
     "execution_count": 6,
     "metadata": {},
     "output_type": "execute_result"
    }
   ],
   "source": [
    "target.columns"
   ]
  },
  {
   "cell_type": "markdown",
   "metadata": {
    "id": "fzTyrT_lhZTc"
   },
   "source": [
    "EXPLORATORY DATA ANALYSIS"
   ]
  },
  {
   "cell_type": "code",
   "execution_count": 7,
   "metadata": {
    "colab": {
     "base_uri": "https://localhost:8080/"
    },
    "id": "pneOdDtPB60D",
    "outputId": "f4f73419-bfa7-468e-b624-45ddbec616b2"
   },
   "outputs": [
    {
     "data": {
      "text/plain": [
       "(2059, 10)"
      ]
     },
     "execution_count": 7,
     "metadata": {},
     "output_type": "execute_result"
    }
   ],
   "source": [
    "df1.shape"
   ]
  },
  {
   "cell_type": "code",
   "execution_count": 8,
   "metadata": {
    "colab": {
     "base_uri": "https://localhost:8080/"
    },
    "id": "Xo64uAeLhsPY",
    "outputId": "1ec58129-836a-4ccf-99a5-114e6f7559d2"
   },
   "outputs": [
    {
     "data": {
      "text/plain": [
       "(2059, 4)"
      ]
     },
     "execution_count": 8,
     "metadata": {},
     "output_type": "execute_result"
    }
   ],
   "source": [
    "df2.shape"
   ]
  },
  {
   "cell_type": "code",
   "execution_count": 9,
   "metadata": {
    "colab": {
     "base_uri": "https://localhost:8080/"
    },
    "id": "tvd1Vv61htdg",
    "outputId": "861349c5-4a6d-42c9-bb29-1106f370cc3a"
   },
   "outputs": [
    {
     "data": {
      "text/plain": [
       "(2059, 8)"
      ]
     },
     "execution_count": 9,
     "metadata": {},
     "output_type": "execute_result"
    }
   ],
   "source": [
    "df3.shape"
   ]
  },
  {
   "cell_type": "code",
   "execution_count": 10,
   "metadata": {
    "colab": {
     "base_uri": "https://localhost:8080/"
    },
    "id": "yiFEV0z3hvFC",
    "outputId": "334ff2e2-3504-49c8-f293-a2a82d714812"
   },
   "outputs": [
    {
     "data": {
      "text/plain": [
       "(2059, 2)"
      ]
     },
     "execution_count": 10,
     "metadata": {},
     "output_type": "execute_result"
    }
   ],
   "source": [
    "target.shape"
   ]
  },
  {
   "cell_type": "code",
   "execution_count": 11,
   "metadata": {
    "colab": {
     "base_uri": "https://localhost:8080/"
    },
    "id": "Bx2DkU98hwQe",
    "outputId": "3ede3327-4cbd-4c7b-996c-3beb229ab32a"
   },
   "outputs": [
    {
     "data": {
      "text/plain": [
       "id                    2059\n",
       "Engine                 108\n",
       "Max Power              335\n",
       "Max Torque             290\n",
       "Drivetrain               3\n",
       "Length                 248\n",
       "Width                  170\n",
       "Height                 196\n",
       "Seating Capacity         6\n",
       "Fuel Tank Capacity      55\n",
       "dtype: int64"
      ]
     },
     "execution_count": 11,
     "metadata": {},
     "output_type": "execute_result"
    }
   ],
   "source": [
    "df1.nunique()"
   ]
  },
  {
   "cell_type": "code",
   "execution_count": 12,
   "metadata": {
    "colab": {
     "base_uri": "https://localhost:8080/"
    },
    "id": "4LzmYWufvj0-",
    "outputId": "3a0a24e4-9a96-4088-fa37-6fccc11e3176"
   },
   "outputs": [
    {
     "data": {
      "text/plain": [
       "id       2059\n",
       "Make       33\n",
       "Model    1050\n",
       "Year       22\n",
       "dtype: int64"
      ]
     },
     "execution_count": 12,
     "metadata": {},
     "output_type": "execute_result"
    }
   ],
   "source": [
    "df2.nunique()"
   ]
  },
  {
   "cell_type": "code",
   "execution_count": 13,
   "metadata": {
    "colab": {
     "base_uri": "https://localhost:8080/"
    },
    "id": "ph9fSLVA55lw",
    "outputId": "48c3809b-1f44-48bb-fbee-d25c7260d9e5"
   },
   "outputs": [
    {
     "data": {
      "text/plain": [
       "id              2059\n",
       "Kilometer        847\n",
       "Fuel Type          9\n",
       "Transmission       2\n",
       "Location          77\n",
       "Color             17\n",
       "Owner              6\n",
       "Seller Type        3\n",
       "dtype: int64"
      ]
     },
     "execution_count": 13,
     "metadata": {},
     "output_type": "execute_result"
    }
   ],
   "source": [
    "df3.nunique()"
   ]
  },
  {
   "cell_type": "code",
   "execution_count": 14,
   "metadata": {
    "colab": {
     "base_uri": "https://localhost:8080/"
    },
    "id": "9vbrG_8J55iH",
    "outputId": "c5ce52df-5d21-4ef2-b73f-262ac9ae5602"
   },
   "outputs": [
    {
     "data": {
      "text/plain": [
       "id       2059\n",
       "Price     619\n",
       "dtype: int64"
      ]
     },
     "execution_count": 14,
     "metadata": {},
     "output_type": "execute_result"
    }
   ],
   "source": [
    "target.nunique()"
   ]
  },
  {
   "cell_type": "code",
   "execution_count": 15,
   "metadata": {
    "colab": {
     "base_uri": "https://localhost:8080/"
    },
    "id": "xn9KRtd255e1",
    "outputId": "585aa902-8e37-4ff7-c1fe-d9be1cf73f6a"
   },
   "outputs": [
    {
     "name": "stdout",
     "output_type": "stream",
     "text": [
      "<class 'pandas.core.frame.DataFrame'>\n",
      "RangeIndex: 2059 entries, 0 to 2058\n",
      "Data columns (total 10 columns):\n",
      " #   Column              Non-Null Count  Dtype  \n",
      "---  ------              --------------  -----  \n",
      " 0   id                  2059 non-null   int64  \n",
      " 1   Engine              1979 non-null   object \n",
      " 2   Max Power           1979 non-null   object \n",
      " 3   Max Torque          1979 non-null   object \n",
      " 4   Drivetrain          1923 non-null   object \n",
      " 5   Length              1995 non-null   float64\n",
      " 6   Width               1995 non-null   float64\n",
      " 7   Height              1995 non-null   float64\n",
      " 8   Seating Capacity    1995 non-null   float64\n",
      " 9   Fuel Tank Capacity  1946 non-null   float64\n",
      "dtypes: float64(5), int64(1), object(4)\n",
      "memory usage: 161.0+ KB\n"
     ]
    }
   ],
   "source": [
    "df1.info()"
   ]
  },
  {
   "cell_type": "code",
   "execution_count": 16,
   "metadata": {
    "colab": {
     "base_uri": "https://localhost:8080/"
    },
    "id": "XiEe3zoY-udY",
    "outputId": "ce6a25a8-5807-4563-c35a-5272fa6f2f1c"
   },
   "outputs": [
    {
     "name": "stdout",
     "output_type": "stream",
     "text": [
      "<class 'pandas.core.frame.DataFrame'>\n",
      "RangeIndex: 2059 entries, 0 to 2058\n",
      "Data columns (total 4 columns):\n",
      " #   Column  Non-Null Count  Dtype \n",
      "---  ------  --------------  ----- \n",
      " 0   id      2059 non-null   int64 \n",
      " 1   Make    2059 non-null   object\n",
      " 2   Model   2059 non-null   object\n",
      " 3   Year    2059 non-null   int64 \n",
      "dtypes: int64(2), object(2)\n",
      "memory usage: 64.5+ KB\n"
     ]
    }
   ],
   "source": [
    "df2.info()"
   ]
  },
  {
   "cell_type": "code",
   "execution_count": 17,
   "metadata": {
    "colab": {
     "base_uri": "https://localhost:8080/"
    },
    "id": "zmfVtcwi-1EG",
    "outputId": "fef6cdec-89ae-45f5-d8a1-3dc1b35101aa"
   },
   "outputs": [
    {
     "name": "stdout",
     "output_type": "stream",
     "text": [
      "<class 'pandas.core.frame.DataFrame'>\n",
      "RangeIndex: 2059 entries, 0 to 2058\n",
      "Data columns (total 8 columns):\n",
      " #   Column        Non-Null Count  Dtype \n",
      "---  ------        --------------  ----- \n",
      " 0   id            2059 non-null   int64 \n",
      " 1   Kilometer     2059 non-null   int64 \n",
      " 2   Fuel Type     2059 non-null   object\n",
      " 3   Transmission  2059 non-null   object\n",
      " 4   Location      2059 non-null   object\n",
      " 5   Color         2059 non-null   object\n",
      " 6   Owner         2059 non-null   object\n",
      " 7   Seller Type   2059 non-null   object\n",
      "dtypes: int64(2), object(6)\n",
      "memory usage: 128.8+ KB\n"
     ]
    }
   ],
   "source": [
    "df3.info()"
   ]
  },
  {
   "cell_type": "code",
   "execution_count": 18,
   "metadata": {
    "colab": {
     "base_uri": "https://localhost:8080/"
    },
    "id": "tJwc5JmC-2sl",
    "outputId": "c1819cfe-069e-429e-e709-9c1fb4274878"
   },
   "outputs": [
    {
     "name": "stdout",
     "output_type": "stream",
     "text": [
      "<class 'pandas.core.frame.DataFrame'>\n",
      "RangeIndex: 2059 entries, 0 to 2058\n",
      "Data columns (total 2 columns):\n",
      " #   Column  Non-Null Count  Dtype\n",
      "---  ------  --------------  -----\n",
      " 0   id      2059 non-null   int64\n",
      " 1   Price   2059 non-null   int64\n",
      "dtypes: int64(2)\n",
      "memory usage: 32.3 KB\n"
     ]
    }
   ],
   "source": [
    "target.info()"
   ]
  },
  {
   "cell_type": "code",
   "execution_count": 19,
   "metadata": {
    "colab": {
     "base_uri": "https://localhost:8080/"
    },
    "id": "mXGByB2g-5ZD",
    "outputId": "7f2299d6-e2d5-4fed-f35f-933b7356b09e"
   },
   "outputs": [
    {
     "data": {
      "text/plain": [
       "id                      0\n",
       "Engine                 80\n",
       "Max Power              80\n",
       "Max Torque             80\n",
       "Drivetrain            136\n",
       "Length                 64\n",
       "Width                  64\n",
       "Height                 64\n",
       "Seating Capacity       64\n",
       "Fuel Tank Capacity    113\n",
       "dtype: int64"
      ]
     },
     "execution_count": 19,
     "metadata": {},
     "output_type": "execute_result"
    }
   ],
   "source": [
    "df1.isnull().sum()"
   ]
  },
  {
   "cell_type": "code",
   "execution_count": 20,
   "metadata": {
    "colab": {
     "base_uri": "https://localhost:8080/",
     "height": 300
    },
    "id": "5srvnFs5_UG1",
    "outputId": "13c2bc70-3b26-4ef5-b36f-43d820f508a9"
   },
   "outputs": [
    {
     "data": {
      "text/html": [
       "<div>\n",
       "<style scoped>\n",
       "    .dataframe tbody tr th:only-of-type {\n",
       "        vertical-align: middle;\n",
       "    }\n",
       "\n",
       "    .dataframe tbody tr th {\n",
       "        vertical-align: top;\n",
       "    }\n",
       "\n",
       "    .dataframe thead th {\n",
       "        text-align: right;\n",
       "    }\n",
       "</style>\n",
       "<table border=\"1\" class=\"dataframe\">\n",
       "  <thead>\n",
       "    <tr style=\"text-align: right;\">\n",
       "      <th></th>\n",
       "      <th>id</th>\n",
       "      <th>Length</th>\n",
       "      <th>Width</th>\n",
       "      <th>Height</th>\n",
       "      <th>Seating Capacity</th>\n",
       "      <th>Fuel Tank Capacity</th>\n",
       "    </tr>\n",
       "  </thead>\n",
       "  <tbody>\n",
       "    <tr>\n",
       "      <th>count</th>\n",
       "      <td>2059.000000</td>\n",
       "      <td>1995.000000</td>\n",
       "      <td>1995.000000</td>\n",
       "      <td>1995.000000</td>\n",
       "      <td>1995.000000</td>\n",
       "      <td>1946.000000</td>\n",
       "    </tr>\n",
       "    <tr>\n",
       "      <th>mean</th>\n",
       "      <td>1030.000000</td>\n",
       "      <td>4280.860652</td>\n",
       "      <td>1767.991980</td>\n",
       "      <td>1591.735338</td>\n",
       "      <td>5.306266</td>\n",
       "      <td>52.002210</td>\n",
       "    </tr>\n",
       "    <tr>\n",
       "      <th>std</th>\n",
       "      <td>594.526422</td>\n",
       "      <td>442.458507</td>\n",
       "      <td>135.265825</td>\n",
       "      <td>136.073956</td>\n",
       "      <td>0.822170</td>\n",
       "      <td>15.110198</td>\n",
       "    </tr>\n",
       "    <tr>\n",
       "      <th>min</th>\n",
       "      <td>1.000000</td>\n",
       "      <td>3099.000000</td>\n",
       "      <td>1475.000000</td>\n",
       "      <td>1165.000000</td>\n",
       "      <td>2.000000</td>\n",
       "      <td>15.000000</td>\n",
       "    </tr>\n",
       "    <tr>\n",
       "      <th>25%</th>\n",
       "      <td>515.500000</td>\n",
       "      <td>3985.000000</td>\n",
       "      <td>1695.000000</td>\n",
       "      <td>1485.000000</td>\n",
       "      <td>5.000000</td>\n",
       "      <td>41.250000</td>\n",
       "    </tr>\n",
       "    <tr>\n",
       "      <th>50%</th>\n",
       "      <td>1030.000000</td>\n",
       "      <td>4370.000000</td>\n",
       "      <td>1770.000000</td>\n",
       "      <td>1545.000000</td>\n",
       "      <td>5.000000</td>\n",
       "      <td>50.000000</td>\n",
       "    </tr>\n",
       "    <tr>\n",
       "      <th>75%</th>\n",
       "      <td>1544.500000</td>\n",
       "      <td>4629.000000</td>\n",
       "      <td>1831.500000</td>\n",
       "      <td>1675.000000</td>\n",
       "      <td>5.000000</td>\n",
       "      <td>60.000000</td>\n",
       "    </tr>\n",
       "    <tr>\n",
       "      <th>max</th>\n",
       "      <td>2059.000000</td>\n",
       "      <td>5569.000000</td>\n",
       "      <td>2220.000000</td>\n",
       "      <td>1995.000000</td>\n",
       "      <td>8.000000</td>\n",
       "      <td>105.000000</td>\n",
       "    </tr>\n",
       "  </tbody>\n",
       "</table>\n",
       "</div>"
      ],
      "text/plain": [
       "                id       Length        Width       Height  Seating Capacity  \\\n",
       "count  2059.000000  1995.000000  1995.000000  1995.000000       1995.000000   \n",
       "mean   1030.000000  4280.860652  1767.991980  1591.735338          5.306266   \n",
       "std     594.526422   442.458507   135.265825   136.073956          0.822170   \n",
       "min       1.000000  3099.000000  1475.000000  1165.000000          2.000000   \n",
       "25%     515.500000  3985.000000  1695.000000  1485.000000          5.000000   \n",
       "50%    1030.000000  4370.000000  1770.000000  1545.000000          5.000000   \n",
       "75%    1544.500000  4629.000000  1831.500000  1675.000000          5.000000   \n",
       "max    2059.000000  5569.000000  2220.000000  1995.000000          8.000000   \n",
       "\n",
       "       Fuel Tank Capacity  \n",
       "count         1946.000000  \n",
       "mean            52.002210  \n",
       "std             15.110198  \n",
       "min             15.000000  \n",
       "25%             41.250000  \n",
       "50%             50.000000  \n",
       "75%             60.000000  \n",
       "max            105.000000  "
      ]
     },
     "execution_count": 20,
     "metadata": {},
     "output_type": "execute_result"
    }
   ],
   "source": [
    "df1.describe()"
   ]
  },
  {
   "cell_type": "code",
   "execution_count": 21,
   "metadata": {
    "colab": {
     "base_uri": "https://localhost:8080/"
    },
    "id": "-H1Vg6am_ol0",
    "outputId": "afc3addd-a3d4-4103-c609-42d6f76e217a"
   },
   "outputs": [
    {
     "data": {
      "text/plain": [
       "0"
      ]
     },
     "execution_count": 21,
     "metadata": {},
     "output_type": "execute_result"
    }
   ],
   "source": [
    "# fill missing values using forward filling\n",
    "df1.ffill(inplace=True)\n",
    "df1.isnull().sum().sum()"
   ]
  },
  {
   "cell_type": "code",
   "execution_count": 22,
   "metadata": {
    "colab": {
     "base_uri": "https://localhost:8080/"
    },
    "id": "aCqNX6aDDsxZ",
    "outputId": "fe213702-d9c4-4217-db92-3f57b9f6bd17"
   },
   "outputs": [
    {
     "data": {
      "text/plain": [
       "id       0\n",
       "Make     0\n",
       "Model    0\n",
       "Year     0\n",
       "dtype: int64"
      ]
     },
     "execution_count": 22,
     "metadata": {},
     "output_type": "execute_result"
    }
   ],
   "source": [
    "df2.isnull().sum()"
   ]
  },
  {
   "cell_type": "code",
   "execution_count": 23,
   "metadata": {
    "colab": {
     "base_uri": "https://localhost:8080/"
    },
    "id": "z_7ANHguEAeF",
    "outputId": "78a7a227-74d9-4306-b4a3-53b823bd8065"
   },
   "outputs": [
    {
     "data": {
      "text/plain": [
       "id              0\n",
       "Kilometer       0\n",
       "Fuel Type       0\n",
       "Transmission    0\n",
       "Location        0\n",
       "Color           0\n",
       "Owner           0\n",
       "Seller Type     0\n",
       "dtype: int64"
      ]
     },
     "execution_count": 23,
     "metadata": {},
     "output_type": "execute_result"
    }
   ],
   "source": [
    "df3.isnull().sum()"
   ]
  },
  {
   "cell_type": "code",
   "execution_count": 24,
   "metadata": {
    "colab": {
     "base_uri": "https://localhost:8080/"
    },
    "id": "5hiA80rlEG-i",
    "outputId": "fa5576f0-15db-49ce-a6ed-82ba5ac52254"
   },
   "outputs": [
    {
     "data": {
      "text/plain": [
       "id       0\n",
       "Price    0\n",
       "dtype: int64"
      ]
     },
     "execution_count": 24,
     "metadata": {},
     "output_type": "execute_result"
    }
   ],
   "source": [
    "target.isnull().sum()"
   ]
  },
  {
   "cell_type": "code",
   "execution_count": 25,
   "metadata": {
    "colab": {
     "base_uri": "https://localhost:8080/",
     "height": 658
    },
    "id": "NuPIRn5mEL7S",
    "outputId": "7cc13d0c-b52e-4b3b-8826-bf7cd950b60d"
   },
   "outputs": [
    {
     "data": {
      "text/html": [
       "<div>\n",
       "<style scoped>\n",
       "    .dataframe tbody tr th:only-of-type {\n",
       "        vertical-align: middle;\n",
       "    }\n",
       "\n",
       "    .dataframe tbody tr th {\n",
       "        vertical-align: top;\n",
       "    }\n",
       "\n",
       "    .dataframe thead th {\n",
       "        text-align: right;\n",
       "    }\n",
       "</style>\n",
       "<table border=\"1\" class=\"dataframe\">\n",
       "  <thead>\n",
       "    <tr style=\"text-align: right;\">\n",
       "      <th></th>\n",
       "      <th>id</th>\n",
       "      <th>Engine</th>\n",
       "      <th>Max Power</th>\n",
       "      <th>Max Torque</th>\n",
       "      <th>Drivetrain</th>\n",
       "      <th>Length</th>\n",
       "      <th>Width</th>\n",
       "      <th>Height</th>\n",
       "      <th>Seating Capacity</th>\n",
       "      <th>Fuel Tank Capacity</th>\n",
       "    </tr>\n",
       "  </thead>\n",
       "  <tbody>\n",
       "    <tr>\n",
       "      <th>0</th>\n",
       "      <td>1</td>\n",
       "      <td>1198 cc</td>\n",
       "      <td>87 bhp @ 6000 rpm</td>\n",
       "      <td>109 Nm @ 4500 rpm</td>\n",
       "      <td>FWD</td>\n",
       "      <td>3990.0</td>\n",
       "      <td>1680.0</td>\n",
       "      <td>1505.0</td>\n",
       "      <td>5.0</td>\n",
       "      <td>35.0</td>\n",
       "    </tr>\n",
       "    <tr>\n",
       "      <th>1</th>\n",
       "      <td>2</td>\n",
       "      <td>1248 cc</td>\n",
       "      <td>74 bhp @ 4000 rpm</td>\n",
       "      <td>190 Nm @ 2000 rpm</td>\n",
       "      <td>FWD</td>\n",
       "      <td>3995.0</td>\n",
       "      <td>1695.0</td>\n",
       "      <td>1555.0</td>\n",
       "      <td>5.0</td>\n",
       "      <td>42.0</td>\n",
       "    </tr>\n",
       "    <tr>\n",
       "      <th>2</th>\n",
       "      <td>3</td>\n",
       "      <td>1197 cc</td>\n",
       "      <td>79 bhp @ 6000 rpm</td>\n",
       "      <td>112.7619 Nm @ 4000 rpm</td>\n",
       "      <td>FWD</td>\n",
       "      <td>3585.0</td>\n",
       "      <td>1595.0</td>\n",
       "      <td>1550.0</td>\n",
       "      <td>5.0</td>\n",
       "      <td>35.0</td>\n",
       "    </tr>\n",
       "    <tr>\n",
       "      <th>3</th>\n",
       "      <td>4</td>\n",
       "      <td>1197 cc</td>\n",
       "      <td>82 bhp @ 6000 rpm</td>\n",
       "      <td>113 Nm @ 4200 rpm</td>\n",
       "      <td>FWD</td>\n",
       "      <td>3995.0</td>\n",
       "      <td>1745.0</td>\n",
       "      <td>1510.0</td>\n",
       "      <td>5.0</td>\n",
       "      <td>37.0</td>\n",
       "    </tr>\n",
       "    <tr>\n",
       "      <th>4</th>\n",
       "      <td>5</td>\n",
       "      <td>2393 cc</td>\n",
       "      <td>148 bhp @ 3400 rpm</td>\n",
       "      <td>343 Nm @ 1400 rpm</td>\n",
       "      <td>RWD</td>\n",
       "      <td>4735.0</td>\n",
       "      <td>1830.0</td>\n",
       "      <td>1795.0</td>\n",
       "      <td>7.0</td>\n",
       "      <td>55.0</td>\n",
       "    </tr>\n",
       "    <tr>\n",
       "      <th>...</th>\n",
       "      <td>...</td>\n",
       "      <td>...</td>\n",
       "      <td>...</td>\n",
       "      <td>...</td>\n",
       "      <td>...</td>\n",
       "      <td>...</td>\n",
       "      <td>...</td>\n",
       "      <td>...</td>\n",
       "      <td>...</td>\n",
       "      <td>...</td>\n",
       "    </tr>\n",
       "    <tr>\n",
       "      <th>2054</th>\n",
       "      <td>2055</td>\n",
       "      <td>2179 cc</td>\n",
       "      <td>138 bhp @ 3750 rpm</td>\n",
       "      <td>330 Nm @ 1600 rpm</td>\n",
       "      <td>FWD</td>\n",
       "      <td>4585.0</td>\n",
       "      <td>1890.0</td>\n",
       "      <td>1785.0</td>\n",
       "      <td>7.0</td>\n",
       "      <td>70.0</td>\n",
       "    </tr>\n",
       "    <tr>\n",
       "      <th>2055</th>\n",
       "      <td>2056</td>\n",
       "      <td>814 cc</td>\n",
       "      <td>55 bhp @ 5500 rpm</td>\n",
       "      <td>75 Nm @ 4000 rpm</td>\n",
       "      <td>FWD</td>\n",
       "      <td>3495.0</td>\n",
       "      <td>1550.0</td>\n",
       "      <td>1500.0</td>\n",
       "      <td>5.0</td>\n",
       "      <td>32.0</td>\n",
       "    </tr>\n",
       "    <tr>\n",
       "      <th>2056</th>\n",
       "      <td>2057</td>\n",
       "      <td>1196 cc</td>\n",
       "      <td>70 bhp @ 6250 rpm</td>\n",
       "      <td>102 Nm @ 4000 rpm</td>\n",
       "      <td>FWD</td>\n",
       "      <td>3795.0</td>\n",
       "      <td>1680.0</td>\n",
       "      <td>1427.0</td>\n",
       "      <td>5.0</td>\n",
       "      <td>45.0</td>\n",
       "    </tr>\n",
       "    <tr>\n",
       "      <th>2057</th>\n",
       "      <td>2058</td>\n",
       "      <td>1995 cc</td>\n",
       "      <td>188 bhp @ 4000 rpm</td>\n",
       "      <td>400 Nm @ 1750 rpm</td>\n",
       "      <td>RWD</td>\n",
       "      <td>4936.0</td>\n",
       "      <td>1868.0</td>\n",
       "      <td>1479.0</td>\n",
       "      <td>5.0</td>\n",
       "      <td>65.0</td>\n",
       "    </tr>\n",
       "    <tr>\n",
       "      <th>2058</th>\n",
       "      <td>2059</td>\n",
       "      <td>1493 cc</td>\n",
       "      <td>70 bhp @ 3600 rpm</td>\n",
       "      <td>195 Nm @ 1400 rpm</td>\n",
       "      <td>RWD</td>\n",
       "      <td>3995.0</td>\n",
       "      <td>1745.0</td>\n",
       "      <td>1880.0</td>\n",
       "      <td>7.0</td>\n",
       "      <td>65.0</td>\n",
       "    </tr>\n",
       "  </tbody>\n",
       "</table>\n",
       "<p>2059 rows × 10 columns</p>\n",
       "</div>"
      ],
      "text/plain": [
       "        id   Engine           Max Power              Max Torque Drivetrain  \\\n",
       "0        1  1198 cc   87 bhp @ 6000 rpm       109 Nm @ 4500 rpm        FWD   \n",
       "1        2  1248 cc   74 bhp @ 4000 rpm       190 Nm @ 2000 rpm        FWD   \n",
       "2        3  1197 cc   79 bhp @ 6000 rpm  112.7619 Nm @ 4000 rpm        FWD   \n",
       "3        4  1197 cc   82 bhp @ 6000 rpm       113 Nm @ 4200 rpm        FWD   \n",
       "4        5  2393 cc  148 bhp @ 3400 rpm       343 Nm @ 1400 rpm        RWD   \n",
       "...    ...      ...                 ...                     ...        ...   \n",
       "2054  2055  2179 cc  138 bhp @ 3750 rpm       330 Nm @ 1600 rpm        FWD   \n",
       "2055  2056   814 cc   55 bhp @ 5500 rpm        75 Nm @ 4000 rpm        FWD   \n",
       "2056  2057  1196 cc   70 bhp @ 6250 rpm       102 Nm @ 4000 rpm        FWD   \n",
       "2057  2058  1995 cc  188 bhp @ 4000 rpm       400 Nm @ 1750 rpm        RWD   \n",
       "2058  2059  1493 cc   70 bhp @ 3600 rpm       195 Nm @ 1400 rpm        RWD   \n",
       "\n",
       "      Length   Width  Height  Seating Capacity  Fuel Tank Capacity  \n",
       "0     3990.0  1680.0  1505.0               5.0                35.0  \n",
       "1     3995.0  1695.0  1555.0               5.0                42.0  \n",
       "2     3585.0  1595.0  1550.0               5.0                35.0  \n",
       "3     3995.0  1745.0  1510.0               5.0                37.0  \n",
       "4     4735.0  1830.0  1795.0               7.0                55.0  \n",
       "...      ...     ...     ...               ...                 ...  \n",
       "2054  4585.0  1890.0  1785.0               7.0                70.0  \n",
       "2055  3495.0  1550.0  1500.0               5.0                32.0  \n",
       "2056  3795.0  1680.0  1427.0               5.0                45.0  \n",
       "2057  4936.0  1868.0  1479.0               5.0                65.0  \n",
       "2058  3995.0  1745.0  1880.0               7.0                65.0  \n",
       "\n",
       "[2059 rows x 10 columns]"
      ]
     },
     "execution_count": 25,
     "metadata": {},
     "output_type": "execute_result"
    }
   ],
   "source": [
    "# Checking and removing any duplicates from the data\n",
    "df1[df1.duplicated()]\n",
    "df1.drop_duplicates(inplace=True)\n",
    "df1"
   ]
  },
  {
   "cell_type": "code",
   "execution_count": 26,
   "metadata": {
    "colab": {
     "base_uri": "https://localhost:8080/",
     "height": 423
    },
    "id": "OrsnZ85qHO76",
    "outputId": "562bf646-345e-4ac2-f9bb-65dfe72fe710"
   },
   "outputs": [
    {
     "data": {
      "text/html": [
       "<div>\n",
       "<style scoped>\n",
       "    .dataframe tbody tr th:only-of-type {\n",
       "        vertical-align: middle;\n",
       "    }\n",
       "\n",
       "    .dataframe tbody tr th {\n",
       "        vertical-align: top;\n",
       "    }\n",
       "\n",
       "    .dataframe thead th {\n",
       "        text-align: right;\n",
       "    }\n",
       "</style>\n",
       "<table border=\"1\" class=\"dataframe\">\n",
       "  <thead>\n",
       "    <tr style=\"text-align: right;\">\n",
       "      <th></th>\n",
       "      <th>id</th>\n",
       "      <th>Make</th>\n",
       "      <th>Model</th>\n",
       "      <th>Year</th>\n",
       "    </tr>\n",
       "  </thead>\n",
       "  <tbody>\n",
       "    <tr>\n",
       "      <th>0</th>\n",
       "      <td>1</td>\n",
       "      <td>Honda</td>\n",
       "      <td>Amaze 1.2 VX i-VTEC</td>\n",
       "      <td>2017</td>\n",
       "    </tr>\n",
       "    <tr>\n",
       "      <th>1</th>\n",
       "      <td>2</td>\n",
       "      <td>Maruti Suzuki</td>\n",
       "      <td>Swift DZire VDI</td>\n",
       "      <td>2014</td>\n",
       "    </tr>\n",
       "    <tr>\n",
       "      <th>2</th>\n",
       "      <td>3</td>\n",
       "      <td>Hyundai</td>\n",
       "      <td>i10 Magna 1.2 Kappa2</td>\n",
       "      <td>2011</td>\n",
       "    </tr>\n",
       "    <tr>\n",
       "      <th>3</th>\n",
       "      <td>4</td>\n",
       "      <td>Toyota</td>\n",
       "      <td>Glanza G</td>\n",
       "      <td>2019</td>\n",
       "    </tr>\n",
       "    <tr>\n",
       "      <th>4</th>\n",
       "      <td>5</td>\n",
       "      <td>Toyota</td>\n",
       "      <td>Innova 2.4 VX 7 STR [2016-2020]</td>\n",
       "      <td>2018</td>\n",
       "    </tr>\n",
       "    <tr>\n",
       "      <th>...</th>\n",
       "      <td>...</td>\n",
       "      <td>...</td>\n",
       "      <td>...</td>\n",
       "      <td>...</td>\n",
       "    </tr>\n",
       "    <tr>\n",
       "      <th>2054</th>\n",
       "      <td>2055</td>\n",
       "      <td>Mahindra</td>\n",
       "      <td>XUV500 W8 [2015-2017]</td>\n",
       "      <td>2016</td>\n",
       "    </tr>\n",
       "    <tr>\n",
       "      <th>2055</th>\n",
       "      <td>2056</td>\n",
       "      <td>Hyundai</td>\n",
       "      <td>Eon D-Lite +</td>\n",
       "      <td>2014</td>\n",
       "    </tr>\n",
       "    <tr>\n",
       "      <th>2056</th>\n",
       "      <td>2057</td>\n",
       "      <td>Ford</td>\n",
       "      <td>Figo Duratec Petrol ZXI 1.2</td>\n",
       "      <td>2013</td>\n",
       "    </tr>\n",
       "    <tr>\n",
       "      <th>2057</th>\n",
       "      <td>2058</td>\n",
       "      <td>BMW</td>\n",
       "      <td>5-Series 520d Luxury Line [2017-2019]</td>\n",
       "      <td>2018</td>\n",
       "    </tr>\n",
       "    <tr>\n",
       "      <th>2058</th>\n",
       "      <td>2059</td>\n",
       "      <td>Mahindra</td>\n",
       "      <td>Bolero Power Plus ZLX [2016-2019]</td>\n",
       "      <td>2017</td>\n",
       "    </tr>\n",
       "  </tbody>\n",
       "</table>\n",
       "<p>2059 rows × 4 columns</p>\n",
       "</div>"
      ],
      "text/plain": [
       "        id           Make                                  Model  Year\n",
       "0        1          Honda                    Amaze 1.2 VX i-VTEC  2017\n",
       "1        2  Maruti Suzuki                        Swift DZire VDI  2014\n",
       "2        3        Hyundai                   i10 Magna 1.2 Kappa2  2011\n",
       "3        4         Toyota                               Glanza G  2019\n",
       "4        5         Toyota        Innova 2.4 VX 7 STR [2016-2020]  2018\n",
       "...    ...            ...                                    ...   ...\n",
       "2054  2055       Mahindra                  XUV500 W8 [2015-2017]  2016\n",
       "2055  2056        Hyundai                           Eon D-Lite +  2014\n",
       "2056  2057           Ford            Figo Duratec Petrol ZXI 1.2  2013\n",
       "2057  2058            BMW  5-Series 520d Luxury Line [2017-2019]  2018\n",
       "2058  2059       Mahindra      Bolero Power Plus ZLX [2016-2019]  2017\n",
       "\n",
       "[2059 rows x 4 columns]"
      ]
     },
     "execution_count": 26,
     "metadata": {},
     "output_type": "execute_result"
    }
   ],
   "source": [
    "df2[df2.duplicated()]\n",
    "df2.drop_duplicates(inplace=True)\n",
    "df2"
   ]
  },
  {
   "cell_type": "code",
   "execution_count": 27,
   "metadata": {
    "colab": {
     "base_uri": "https://localhost:8080/",
     "height": 423
    },
    "id": "V6ijIkVmHgNA",
    "outputId": "f3535902-8649-412d-ab8c-a1ef1cc786a1"
   },
   "outputs": [
    {
     "data": {
      "text/html": [
       "<div>\n",
       "<style scoped>\n",
       "    .dataframe tbody tr th:only-of-type {\n",
       "        vertical-align: middle;\n",
       "    }\n",
       "\n",
       "    .dataframe tbody tr th {\n",
       "        vertical-align: top;\n",
       "    }\n",
       "\n",
       "    .dataframe thead th {\n",
       "        text-align: right;\n",
       "    }\n",
       "</style>\n",
       "<table border=\"1\" class=\"dataframe\">\n",
       "  <thead>\n",
       "    <tr style=\"text-align: right;\">\n",
       "      <th></th>\n",
       "      <th>id</th>\n",
       "      <th>Kilometer</th>\n",
       "      <th>Fuel Type</th>\n",
       "      <th>Transmission</th>\n",
       "      <th>Location</th>\n",
       "      <th>Color</th>\n",
       "      <th>Owner</th>\n",
       "      <th>Seller Type</th>\n",
       "    </tr>\n",
       "  </thead>\n",
       "  <tbody>\n",
       "    <tr>\n",
       "      <th>0</th>\n",
       "      <td>1</td>\n",
       "      <td>87150</td>\n",
       "      <td>Petrol</td>\n",
       "      <td>Manual</td>\n",
       "      <td>Pune</td>\n",
       "      <td>Grey</td>\n",
       "      <td>First</td>\n",
       "      <td>Corporate</td>\n",
       "    </tr>\n",
       "    <tr>\n",
       "      <th>1</th>\n",
       "      <td>2</td>\n",
       "      <td>75000</td>\n",
       "      <td>Diesel</td>\n",
       "      <td>Manual</td>\n",
       "      <td>Ludhiana</td>\n",
       "      <td>White</td>\n",
       "      <td>Second</td>\n",
       "      <td>Individual</td>\n",
       "    </tr>\n",
       "    <tr>\n",
       "      <th>2</th>\n",
       "      <td>3</td>\n",
       "      <td>67000</td>\n",
       "      <td>Petrol</td>\n",
       "      <td>Manual</td>\n",
       "      <td>Lucknow</td>\n",
       "      <td>Maroon</td>\n",
       "      <td>First</td>\n",
       "      <td>Individual</td>\n",
       "    </tr>\n",
       "    <tr>\n",
       "      <th>3</th>\n",
       "      <td>4</td>\n",
       "      <td>37500</td>\n",
       "      <td>Petrol</td>\n",
       "      <td>Manual</td>\n",
       "      <td>Mangalore</td>\n",
       "      <td>Red</td>\n",
       "      <td>First</td>\n",
       "      <td>Individual</td>\n",
       "    </tr>\n",
       "    <tr>\n",
       "      <th>4</th>\n",
       "      <td>5</td>\n",
       "      <td>69000</td>\n",
       "      <td>Diesel</td>\n",
       "      <td>Manual</td>\n",
       "      <td>Mumbai</td>\n",
       "      <td>Grey</td>\n",
       "      <td>First</td>\n",
       "      <td>Individual</td>\n",
       "    </tr>\n",
       "    <tr>\n",
       "      <th>...</th>\n",
       "      <td>...</td>\n",
       "      <td>...</td>\n",
       "      <td>...</td>\n",
       "      <td>...</td>\n",
       "      <td>...</td>\n",
       "      <td>...</td>\n",
       "      <td>...</td>\n",
       "      <td>...</td>\n",
       "    </tr>\n",
       "    <tr>\n",
       "      <th>2054</th>\n",
       "      <td>2055</td>\n",
       "      <td>90300</td>\n",
       "      <td>Diesel</td>\n",
       "      <td>Manual</td>\n",
       "      <td>Surat</td>\n",
       "      <td>White</td>\n",
       "      <td>First</td>\n",
       "      <td>Individual</td>\n",
       "    </tr>\n",
       "    <tr>\n",
       "      <th>2055</th>\n",
       "      <td>2056</td>\n",
       "      <td>83000</td>\n",
       "      <td>Petrol</td>\n",
       "      <td>Manual</td>\n",
       "      <td>Ahmedabad</td>\n",
       "      <td>White</td>\n",
       "      <td>Second</td>\n",
       "      <td>Individual</td>\n",
       "    </tr>\n",
       "    <tr>\n",
       "      <th>2056</th>\n",
       "      <td>2057</td>\n",
       "      <td>73000</td>\n",
       "      <td>Petrol</td>\n",
       "      <td>Manual</td>\n",
       "      <td>Thane</td>\n",
       "      <td>Silver</td>\n",
       "      <td>First</td>\n",
       "      <td>Individual</td>\n",
       "    </tr>\n",
       "    <tr>\n",
       "      <th>2057</th>\n",
       "      <td>2058</td>\n",
       "      <td>60474</td>\n",
       "      <td>Diesel</td>\n",
       "      <td>Automatic</td>\n",
       "      <td>Coimbatore</td>\n",
       "      <td>White</td>\n",
       "      <td>First</td>\n",
       "      <td>Individual</td>\n",
       "    </tr>\n",
       "    <tr>\n",
       "      <th>2058</th>\n",
       "      <td>2059</td>\n",
       "      <td>72000</td>\n",
       "      <td>Diesel</td>\n",
       "      <td>Manual</td>\n",
       "      <td>Guwahati</td>\n",
       "      <td>White</td>\n",
       "      <td>First</td>\n",
       "      <td>Individual</td>\n",
       "    </tr>\n",
       "  </tbody>\n",
       "</table>\n",
       "<p>2059 rows × 8 columns</p>\n",
       "</div>"
      ],
      "text/plain": [
       "        id  Kilometer Fuel Type Transmission    Location   Color   Owner  \\\n",
       "0        1      87150    Petrol       Manual        Pune    Grey   First   \n",
       "1        2      75000    Diesel       Manual    Ludhiana   White  Second   \n",
       "2        3      67000    Petrol       Manual     Lucknow  Maroon   First   \n",
       "3        4      37500    Petrol       Manual   Mangalore     Red   First   \n",
       "4        5      69000    Diesel       Manual      Mumbai    Grey   First   \n",
       "...    ...        ...       ...          ...         ...     ...     ...   \n",
       "2054  2055      90300    Diesel       Manual       Surat   White   First   \n",
       "2055  2056      83000    Petrol       Manual   Ahmedabad   White  Second   \n",
       "2056  2057      73000    Petrol       Manual       Thane  Silver   First   \n",
       "2057  2058      60474    Diesel    Automatic  Coimbatore   White   First   \n",
       "2058  2059      72000    Diesel       Manual    Guwahati   White   First   \n",
       "\n",
       "     Seller Type  \n",
       "0      Corporate  \n",
       "1     Individual  \n",
       "2     Individual  \n",
       "3     Individual  \n",
       "4     Individual  \n",
       "...          ...  \n",
       "2054  Individual  \n",
       "2055  Individual  \n",
       "2056  Individual  \n",
       "2057  Individual  \n",
       "2058  Individual  \n",
       "\n",
       "[2059 rows x 8 columns]"
      ]
     },
     "execution_count": 27,
     "metadata": {},
     "output_type": "execute_result"
    }
   ],
   "source": [
    "df3[df3.duplicated()]\n",
    "df3.drop_duplicates(inplace=True)\n",
    "df3"
   ]
  },
  {
   "cell_type": "code",
   "execution_count": 28,
   "metadata": {
    "colab": {
     "base_uri": "https://localhost:8080/",
     "height": 423
    },
    "id": "Slo3MqQsHm6q",
    "outputId": "2c91ed32-b4c2-469d-c88d-e5175566dbdb"
   },
   "outputs": [
    {
     "data": {
      "text/html": [
       "<div>\n",
       "<style scoped>\n",
       "    .dataframe tbody tr th:only-of-type {\n",
       "        vertical-align: middle;\n",
       "    }\n",
       "\n",
       "    .dataframe tbody tr th {\n",
       "        vertical-align: top;\n",
       "    }\n",
       "\n",
       "    .dataframe thead th {\n",
       "        text-align: right;\n",
       "    }\n",
       "</style>\n",
       "<table border=\"1\" class=\"dataframe\">\n",
       "  <thead>\n",
       "    <tr style=\"text-align: right;\">\n",
       "      <th></th>\n",
       "      <th>id</th>\n",
       "      <th>Price</th>\n",
       "    </tr>\n",
       "  </thead>\n",
       "  <tbody>\n",
       "    <tr>\n",
       "      <th>0</th>\n",
       "      <td>1</td>\n",
       "      <td>505000</td>\n",
       "    </tr>\n",
       "    <tr>\n",
       "      <th>1</th>\n",
       "      <td>2</td>\n",
       "      <td>450000</td>\n",
       "    </tr>\n",
       "    <tr>\n",
       "      <th>2</th>\n",
       "      <td>3</td>\n",
       "      <td>220000</td>\n",
       "    </tr>\n",
       "    <tr>\n",
       "      <th>3</th>\n",
       "      <td>4</td>\n",
       "      <td>799000</td>\n",
       "    </tr>\n",
       "    <tr>\n",
       "      <th>4</th>\n",
       "      <td>5</td>\n",
       "      <td>1950000</td>\n",
       "    </tr>\n",
       "    <tr>\n",
       "      <th>...</th>\n",
       "      <td>...</td>\n",
       "      <td>...</td>\n",
       "    </tr>\n",
       "    <tr>\n",
       "      <th>2054</th>\n",
       "      <td>2055</td>\n",
       "      <td>850000</td>\n",
       "    </tr>\n",
       "    <tr>\n",
       "      <th>2055</th>\n",
       "      <td>2056</td>\n",
       "      <td>275000</td>\n",
       "    </tr>\n",
       "    <tr>\n",
       "      <th>2056</th>\n",
       "      <td>2057</td>\n",
       "      <td>240000</td>\n",
       "    </tr>\n",
       "    <tr>\n",
       "      <th>2057</th>\n",
       "      <td>2058</td>\n",
       "      <td>4290000</td>\n",
       "    </tr>\n",
       "    <tr>\n",
       "      <th>2058</th>\n",
       "      <td>2059</td>\n",
       "      <td>670000</td>\n",
       "    </tr>\n",
       "  </tbody>\n",
       "</table>\n",
       "<p>2059 rows × 2 columns</p>\n",
       "</div>"
      ],
      "text/plain": [
       "        id    Price\n",
       "0        1   505000\n",
       "1        2   450000\n",
       "2        3   220000\n",
       "3        4   799000\n",
       "4        5  1950000\n",
       "...    ...      ...\n",
       "2054  2055   850000\n",
       "2055  2056   275000\n",
       "2056  2057   240000\n",
       "2057  2058  4290000\n",
       "2058  2059   670000\n",
       "\n",
       "[2059 rows x 2 columns]"
      ]
     },
     "execution_count": 28,
     "metadata": {},
     "output_type": "execute_result"
    }
   ],
   "source": [
    "target[target.duplicated()]\n",
    "target.drop_duplicates(inplace=True)\n",
    "target"
   ]
  },
  {
   "cell_type": "raw",
   "metadata": {},
   "source": [
    "MERGING DATASETS"
   ]
  },
  {
   "cell_type": "code",
   "execution_count": 29,
   "metadata": {
    "id": "fqCvReGMH2fh"
   },
   "outputs": [],
   "source": [
    "data_merge= pd.merge(df1,df2,on=['id'])"
   ]
  },
  {
   "cell_type": "code",
   "execution_count": 30,
   "metadata": {
    "colab": {
     "base_uri": "https://localhost:8080/"
    },
    "id": "CU5oRMeLIPeF",
    "outputId": "41c03889-7ea8-4c67-e384-008c1658fdce"
   },
   "outputs": [
    {
     "data": {
      "text/plain": [
       "(2059, 13)"
      ]
     },
     "execution_count": 30,
     "metadata": {},
     "output_type": "execute_result"
    }
   ],
   "source": [
    "data_merge.shape"
   ]
  },
  {
   "cell_type": "code",
   "execution_count": 31,
   "metadata": {
    "id": "nu1O_B7vJZDY"
   },
   "outputs": [],
   "source": [
    "data_merge1 = pd.merge(data_merge,df3,on=['id'])"
   ]
  },
  {
   "cell_type": "code",
   "execution_count": 32,
   "metadata": {
    "colab": {
     "base_uri": "https://localhost:8080/"
    },
    "id": "r_mnK1vqJl1P",
    "outputId": "818df62a-b112-45f6-efd9-ac482a9d3545"
   },
   "outputs": [
    {
     "data": {
      "text/plain": [
       "(2059, 20)"
      ]
     },
     "execution_count": 32,
     "metadata": {},
     "output_type": "execute_result"
    }
   ],
   "source": [
    "data_merge1.shape"
   ]
  },
  {
   "cell_type": "code",
   "execution_count": 33,
   "metadata": {
    "id": "w3hhZUPIJogk"
   },
   "outputs": [],
   "source": [
    "data =  pd.merge(data_merge1,target,on=['id'])"
   ]
  },
  {
   "cell_type": "code",
   "execution_count": 34,
   "metadata": {
    "colab": {
     "base_uri": "https://localhost:8080/"
    },
    "id": "nnAZstZIJvFZ",
    "outputId": "721b7918-50b0-417a-cc21-da18665fa5d6"
   },
   "outputs": [
    {
     "data": {
      "text/plain": [
       "(2059, 21)"
      ]
     },
     "execution_count": 34,
     "metadata": {},
     "output_type": "execute_result"
    }
   ],
   "source": [
    "data.shape"
   ]
  },
  {
   "cell_type": "code",
   "execution_count": 35,
   "metadata": {
    "colab": {
     "base_uri": "https://localhost:8080/",
     "height": 681
    },
    "id": "IQIbBTjFJwPr",
    "outputId": "4dea796b-4d83-47b1-a964-221c81245693"
   },
   "outputs": [
    {
     "data": {
      "text/html": [
       "<div>\n",
       "<style scoped>\n",
       "    .dataframe tbody tr th:only-of-type {\n",
       "        vertical-align: middle;\n",
       "    }\n",
       "\n",
       "    .dataframe tbody tr th {\n",
       "        vertical-align: top;\n",
       "    }\n",
       "\n",
       "    .dataframe thead th {\n",
       "        text-align: right;\n",
       "    }\n",
       "</style>\n",
       "<table border=\"1\" class=\"dataframe\">\n",
       "  <thead>\n",
       "    <tr style=\"text-align: right;\">\n",
       "      <th></th>\n",
       "      <th>id</th>\n",
       "      <th>Engine</th>\n",
       "      <th>Max Power</th>\n",
       "      <th>Max Torque</th>\n",
       "      <th>Drivetrain</th>\n",
       "      <th>Length</th>\n",
       "      <th>Width</th>\n",
       "      <th>Height</th>\n",
       "      <th>Seating Capacity</th>\n",
       "      <th>Fuel Tank Capacity</th>\n",
       "      <th>...</th>\n",
       "      <th>Model</th>\n",
       "      <th>Year</th>\n",
       "      <th>Kilometer</th>\n",
       "      <th>Fuel Type</th>\n",
       "      <th>Transmission</th>\n",
       "      <th>Location</th>\n",
       "      <th>Color</th>\n",
       "      <th>Owner</th>\n",
       "      <th>Seller Type</th>\n",
       "      <th>Price</th>\n",
       "    </tr>\n",
       "  </thead>\n",
       "  <tbody>\n",
       "    <tr>\n",
       "      <th>0</th>\n",
       "      <td>1</td>\n",
       "      <td>1198 cc</td>\n",
       "      <td>87 bhp @ 6000 rpm</td>\n",
       "      <td>109 Nm @ 4500 rpm</td>\n",
       "      <td>FWD</td>\n",
       "      <td>3990.0</td>\n",
       "      <td>1680.0</td>\n",
       "      <td>1505.0</td>\n",
       "      <td>5.0</td>\n",
       "      <td>35.0</td>\n",
       "      <td>...</td>\n",
       "      <td>Amaze 1.2 VX i-VTEC</td>\n",
       "      <td>2017</td>\n",
       "      <td>87150</td>\n",
       "      <td>Petrol</td>\n",
       "      <td>Manual</td>\n",
       "      <td>Pune</td>\n",
       "      <td>Grey</td>\n",
       "      <td>First</td>\n",
       "      <td>Corporate</td>\n",
       "      <td>505000</td>\n",
       "    </tr>\n",
       "    <tr>\n",
       "      <th>1</th>\n",
       "      <td>2</td>\n",
       "      <td>1248 cc</td>\n",
       "      <td>74 bhp @ 4000 rpm</td>\n",
       "      <td>190 Nm @ 2000 rpm</td>\n",
       "      <td>FWD</td>\n",
       "      <td>3995.0</td>\n",
       "      <td>1695.0</td>\n",
       "      <td>1555.0</td>\n",
       "      <td>5.0</td>\n",
       "      <td>42.0</td>\n",
       "      <td>...</td>\n",
       "      <td>Swift DZire VDI</td>\n",
       "      <td>2014</td>\n",
       "      <td>75000</td>\n",
       "      <td>Diesel</td>\n",
       "      <td>Manual</td>\n",
       "      <td>Ludhiana</td>\n",
       "      <td>White</td>\n",
       "      <td>Second</td>\n",
       "      <td>Individual</td>\n",
       "      <td>450000</td>\n",
       "    </tr>\n",
       "    <tr>\n",
       "      <th>2</th>\n",
       "      <td>3</td>\n",
       "      <td>1197 cc</td>\n",
       "      <td>79 bhp @ 6000 rpm</td>\n",
       "      <td>112.7619 Nm @ 4000 rpm</td>\n",
       "      <td>FWD</td>\n",
       "      <td>3585.0</td>\n",
       "      <td>1595.0</td>\n",
       "      <td>1550.0</td>\n",
       "      <td>5.0</td>\n",
       "      <td>35.0</td>\n",
       "      <td>...</td>\n",
       "      <td>i10 Magna 1.2 Kappa2</td>\n",
       "      <td>2011</td>\n",
       "      <td>67000</td>\n",
       "      <td>Petrol</td>\n",
       "      <td>Manual</td>\n",
       "      <td>Lucknow</td>\n",
       "      <td>Maroon</td>\n",
       "      <td>First</td>\n",
       "      <td>Individual</td>\n",
       "      <td>220000</td>\n",
       "    </tr>\n",
       "    <tr>\n",
       "      <th>3</th>\n",
       "      <td>4</td>\n",
       "      <td>1197 cc</td>\n",
       "      <td>82 bhp @ 6000 rpm</td>\n",
       "      <td>113 Nm @ 4200 rpm</td>\n",
       "      <td>FWD</td>\n",
       "      <td>3995.0</td>\n",
       "      <td>1745.0</td>\n",
       "      <td>1510.0</td>\n",
       "      <td>5.0</td>\n",
       "      <td>37.0</td>\n",
       "      <td>...</td>\n",
       "      <td>Glanza G</td>\n",
       "      <td>2019</td>\n",
       "      <td>37500</td>\n",
       "      <td>Petrol</td>\n",
       "      <td>Manual</td>\n",
       "      <td>Mangalore</td>\n",
       "      <td>Red</td>\n",
       "      <td>First</td>\n",
       "      <td>Individual</td>\n",
       "      <td>799000</td>\n",
       "    </tr>\n",
       "    <tr>\n",
       "      <th>4</th>\n",
       "      <td>5</td>\n",
       "      <td>2393 cc</td>\n",
       "      <td>148 bhp @ 3400 rpm</td>\n",
       "      <td>343 Nm @ 1400 rpm</td>\n",
       "      <td>RWD</td>\n",
       "      <td>4735.0</td>\n",
       "      <td>1830.0</td>\n",
       "      <td>1795.0</td>\n",
       "      <td>7.0</td>\n",
       "      <td>55.0</td>\n",
       "      <td>...</td>\n",
       "      <td>Innova 2.4 VX 7 STR [2016-2020]</td>\n",
       "      <td>2018</td>\n",
       "      <td>69000</td>\n",
       "      <td>Diesel</td>\n",
       "      <td>Manual</td>\n",
       "      <td>Mumbai</td>\n",
       "      <td>Grey</td>\n",
       "      <td>First</td>\n",
       "      <td>Individual</td>\n",
       "      <td>1950000</td>\n",
       "    </tr>\n",
       "  </tbody>\n",
       "</table>\n",
       "<p>5 rows × 21 columns</p>\n",
       "</div>"
      ],
      "text/plain": [
       "   id   Engine           Max Power              Max Torque Drivetrain  Length  \\\n",
       "0   1  1198 cc   87 bhp @ 6000 rpm       109 Nm @ 4500 rpm        FWD  3990.0   \n",
       "1   2  1248 cc   74 bhp @ 4000 rpm       190 Nm @ 2000 rpm        FWD  3995.0   \n",
       "2   3  1197 cc   79 bhp @ 6000 rpm  112.7619 Nm @ 4000 rpm        FWD  3585.0   \n",
       "3   4  1197 cc   82 bhp @ 6000 rpm       113 Nm @ 4200 rpm        FWD  3995.0   \n",
       "4   5  2393 cc  148 bhp @ 3400 rpm       343 Nm @ 1400 rpm        RWD  4735.0   \n",
       "\n",
       "    Width  Height  Seating Capacity  Fuel Tank Capacity  ...  \\\n",
       "0  1680.0  1505.0               5.0                35.0  ...   \n",
       "1  1695.0  1555.0               5.0                42.0  ...   \n",
       "2  1595.0  1550.0               5.0                35.0  ...   \n",
       "3  1745.0  1510.0               5.0                37.0  ...   \n",
       "4  1830.0  1795.0               7.0                55.0  ...   \n",
       "\n",
       "                             Model  Year  Kilometer  Fuel Type Transmission  \\\n",
       "0              Amaze 1.2 VX i-VTEC  2017      87150     Petrol       Manual   \n",
       "1                  Swift DZire VDI  2014      75000     Diesel       Manual   \n",
       "2             i10 Magna 1.2 Kappa2  2011      67000     Petrol       Manual   \n",
       "3                         Glanza G  2019      37500     Petrol       Manual   \n",
       "4  Innova 2.4 VX 7 STR [2016-2020]  2018      69000     Diesel       Manual   \n",
       "\n",
       "    Location   Color   Owner Seller Type    Price  \n",
       "0       Pune    Grey   First   Corporate   505000  \n",
       "1   Ludhiana   White  Second  Individual   450000  \n",
       "2    Lucknow  Maroon   First  Individual   220000  \n",
       "3  Mangalore     Red   First  Individual   799000  \n",
       "4     Mumbai    Grey   First  Individual  1950000  \n",
       "\n",
       "[5 rows x 21 columns]"
      ]
     },
     "execution_count": 35,
     "metadata": {},
     "output_type": "execute_result"
    }
   ],
   "source": [
    "data.head()"
   ]
  },
  {
   "cell_type": "code",
   "execution_count": 36,
   "metadata": {
    "colab": {
     "base_uri": "https://localhost:8080/"
    },
    "id": "_y2dJNApJ_g7",
    "outputId": "e4cf5e48-d6e7-493f-922f-ca9514a20785"
   },
   "outputs": [
    {
     "data": {
      "text/plain": [
       "id                    2059\n",
       "Engine                 108\n",
       "Max Power              335\n",
       "Max Torque             290\n",
       "Drivetrain               3\n",
       "Length                 248\n",
       "Width                  170\n",
       "Height                 196\n",
       "Seating Capacity         6\n",
       "Fuel Tank Capacity      55\n",
       "Make                    33\n",
       "Model                 1050\n",
       "Year                    22\n",
       "Kilometer              847\n",
       "Fuel Type                9\n",
       "Transmission             2\n",
       "Location                77\n",
       "Color                   17\n",
       "Owner                    6\n",
       "Seller Type              3\n",
       "Price                  619\n",
       "dtype: int64"
      ]
     },
     "execution_count": 36,
     "metadata": {},
     "output_type": "execute_result"
    }
   ],
   "source": [
    "data.nunique()"
   ]
  },
  {
   "cell_type": "code",
   "execution_count": 37,
   "metadata": {
    "colab": {
     "base_uri": "https://localhost:8080/"
    },
    "id": "5tpAscGvKEwd",
    "outputId": "9eea4d15-ca0d-4c43-af2f-226749afd506"
   },
   "outputs": [
    {
     "name": "stdout",
     "output_type": "stream",
     "text": [
      "<class 'pandas.core.frame.DataFrame'>\n",
      "Int64Index: 2059 entries, 0 to 2058\n",
      "Data columns (total 21 columns):\n",
      " #   Column              Non-Null Count  Dtype  \n",
      "---  ------              --------------  -----  \n",
      " 0   id                  2059 non-null   int64  \n",
      " 1   Engine              2059 non-null   object \n",
      " 2   Max Power           2059 non-null   object \n",
      " 3   Max Torque          2059 non-null   object \n",
      " 4   Drivetrain          2059 non-null   object \n",
      " 5   Length              2059 non-null   float64\n",
      " 6   Width               2059 non-null   float64\n",
      " 7   Height              2059 non-null   float64\n",
      " 8   Seating Capacity    2059 non-null   float64\n",
      " 9   Fuel Tank Capacity  2059 non-null   float64\n",
      " 10  Make                2059 non-null   object \n",
      " 11  Model               2059 non-null   object \n",
      " 12  Year                2059 non-null   int64  \n",
      " 13  Kilometer           2059 non-null   int64  \n",
      " 14  Fuel Type           2059 non-null   object \n",
      " 15  Transmission        2059 non-null   object \n",
      " 16  Location            2059 non-null   object \n",
      " 17  Color               2059 non-null   object \n",
      " 18  Owner               2059 non-null   object \n",
      " 19  Seller Type         2059 non-null   object \n",
      " 20  Price               2059 non-null   int64  \n",
      "dtypes: float64(5), int64(4), object(12)\n",
      "memory usage: 353.9+ KB\n"
     ]
    }
   ],
   "source": [
    "data.info()"
   ]
  },
  {
   "cell_type": "code",
   "execution_count": 38,
   "metadata": {
    "colab": {
     "base_uri": "https://localhost:8080/"
    },
    "id": "l2vUCpSkKGTH",
    "outputId": "0835bf1a-d6f7-4f4c-a86a-9befebfabb26"
   },
   "outputs": [
    {
     "data": {
      "text/plain": [
       "id                    0\n",
       "Engine                0\n",
       "Max Power             0\n",
       "Max Torque            0\n",
       "Drivetrain            0\n",
       "Length                0\n",
       "Width                 0\n",
       "Height                0\n",
       "Seating Capacity      0\n",
       "Fuel Tank Capacity    0\n",
       "Make                  0\n",
       "Model                 0\n",
       "Year                  0\n",
       "Kilometer             0\n",
       "Fuel Type             0\n",
       "Transmission          0\n",
       "Location              0\n",
       "Color                 0\n",
       "Owner                 0\n",
       "Seller Type           0\n",
       "Price                 0\n",
       "dtype: int64"
      ]
     },
     "execution_count": 38,
     "metadata": {},
     "output_type": "execute_result"
    }
   ],
   "source": [
    "data.isnull().sum()"
   ]
  },
  {
   "cell_type": "code",
   "execution_count": 39,
   "metadata": {
    "colab": {
     "base_uri": "https://localhost:8080/",
     "height": 375
    },
    "id": "4e792SXuKJ0_",
    "outputId": "bf00b822-c2fd-4613-d746-b02ec5beaadc"
   },
   "outputs": [
    {
     "data": {
      "text/html": [
       "<div>\n",
       "<style scoped>\n",
       "    .dataframe tbody tr th:only-of-type {\n",
       "        vertical-align: middle;\n",
       "    }\n",
       "\n",
       "    .dataframe tbody tr th {\n",
       "        vertical-align: top;\n",
       "    }\n",
       "\n",
       "    .dataframe thead th {\n",
       "        text-align: right;\n",
       "    }\n",
       "</style>\n",
       "<table border=\"1\" class=\"dataframe\">\n",
       "  <thead>\n",
       "    <tr style=\"text-align: right;\">\n",
       "      <th></th>\n",
       "      <th>count</th>\n",
       "      <th>mean</th>\n",
       "      <th>std</th>\n",
       "      <th>min</th>\n",
       "      <th>25%</th>\n",
       "      <th>50%</th>\n",
       "      <th>75%</th>\n",
       "      <th>max</th>\n",
       "    </tr>\n",
       "  </thead>\n",
       "  <tbody>\n",
       "    <tr>\n",
       "      <th>id</th>\n",
       "      <td>2059.0</td>\n",
       "      <td>1.030000e+03</td>\n",
       "      <td>5.945264e+02</td>\n",
       "      <td>1.0</td>\n",
       "      <td>515.5</td>\n",
       "      <td>1030.0</td>\n",
       "      <td>1544.5</td>\n",
       "      <td>2059.0</td>\n",
       "    </tr>\n",
       "    <tr>\n",
       "      <th>Length</th>\n",
       "      <td>2059.0</td>\n",
       "      <td>4.276709e+03</td>\n",
       "      <td>4.438944e+02</td>\n",
       "      <td>3099.0</td>\n",
       "      <td>3985.0</td>\n",
       "      <td>4360.0</td>\n",
       "      <td>4624.0</td>\n",
       "      <td>5569.0</td>\n",
       "    </tr>\n",
       "    <tr>\n",
       "      <th>Width</th>\n",
       "      <td>2059.0</td>\n",
       "      <td>1.767073e+03</td>\n",
       "      <td>1.358033e+02</td>\n",
       "      <td>1475.0</td>\n",
       "      <td>1695.0</td>\n",
       "      <td>1770.0</td>\n",
       "      <td>1831.0</td>\n",
       "      <td>2220.0</td>\n",
       "    </tr>\n",
       "    <tr>\n",
       "      <th>Height</th>\n",
       "      <td>2059.0</td>\n",
       "      <td>1.591423e+03</td>\n",
       "      <td>1.361862e+02</td>\n",
       "      <td>1165.0</td>\n",
       "      <td>1485.0</td>\n",
       "      <td>1545.0</td>\n",
       "      <td>1675.0</td>\n",
       "      <td>1995.0</td>\n",
       "    </tr>\n",
       "    <tr>\n",
       "      <th>Seating Capacity</th>\n",
       "      <td>2059.0</td>\n",
       "      <td>5.301117e+00</td>\n",
       "      <td>8.174801e-01</td>\n",
       "      <td>2.0</td>\n",
       "      <td>5.0</td>\n",
       "      <td>5.0</td>\n",
       "      <td>5.0</td>\n",
       "      <td>8.0</td>\n",
       "    </tr>\n",
       "    <tr>\n",
       "      <th>Fuel Tank Capacity</th>\n",
       "      <td>2059.0</td>\n",
       "      <td>5.192535e+01</td>\n",
       "      <td>1.509322e+01</td>\n",
       "      <td>15.0</td>\n",
       "      <td>41.0</td>\n",
       "      <td>50.0</td>\n",
       "      <td>60.0</td>\n",
       "      <td>105.0</td>\n",
       "    </tr>\n",
       "    <tr>\n",
       "      <th>Year</th>\n",
       "      <td>2059.0</td>\n",
       "      <td>2.016425e+03</td>\n",
       "      <td>3.363564e+00</td>\n",
       "      <td>1988.0</td>\n",
       "      <td>2014.0</td>\n",
       "      <td>2017.0</td>\n",
       "      <td>2019.0</td>\n",
       "      <td>2022.0</td>\n",
       "    </tr>\n",
       "    <tr>\n",
       "      <th>Kilometer</th>\n",
       "      <td>2059.0</td>\n",
       "      <td>5.422471e+04</td>\n",
       "      <td>5.736172e+04</td>\n",
       "      <td>0.0</td>\n",
       "      <td>29000.0</td>\n",
       "      <td>50000.0</td>\n",
       "      <td>72000.0</td>\n",
       "      <td>2000000.0</td>\n",
       "    </tr>\n",
       "    <tr>\n",
       "      <th>Price</th>\n",
       "      <td>2059.0</td>\n",
       "      <td>1.702992e+06</td>\n",
       "      <td>2.419881e+06</td>\n",
       "      <td>49000.0</td>\n",
       "      <td>484999.0</td>\n",
       "      <td>825000.0</td>\n",
       "      <td>1925000.0</td>\n",
       "      <td>35000000.0</td>\n",
       "    </tr>\n",
       "  </tbody>\n",
       "</table>\n",
       "</div>"
      ],
      "text/plain": [
       "                     count          mean           std      min       25%  \\\n",
       "id                  2059.0  1.030000e+03  5.945264e+02      1.0     515.5   \n",
       "Length              2059.0  4.276709e+03  4.438944e+02   3099.0    3985.0   \n",
       "Width               2059.0  1.767073e+03  1.358033e+02   1475.0    1695.0   \n",
       "Height              2059.0  1.591423e+03  1.361862e+02   1165.0    1485.0   \n",
       "Seating Capacity    2059.0  5.301117e+00  8.174801e-01      2.0       5.0   \n",
       "Fuel Tank Capacity  2059.0  5.192535e+01  1.509322e+01     15.0      41.0   \n",
       "Year                2059.0  2.016425e+03  3.363564e+00   1988.0    2014.0   \n",
       "Kilometer           2059.0  5.422471e+04  5.736172e+04      0.0   29000.0   \n",
       "Price               2059.0  1.702992e+06  2.419881e+06  49000.0  484999.0   \n",
       "\n",
       "                         50%        75%         max  \n",
       "id                    1030.0     1544.5      2059.0  \n",
       "Length                4360.0     4624.0      5569.0  \n",
       "Width                 1770.0     1831.0      2220.0  \n",
       "Height                1545.0     1675.0      1995.0  \n",
       "Seating Capacity         5.0        5.0         8.0  \n",
       "Fuel Tank Capacity      50.0       60.0       105.0  \n",
       "Year                  2017.0     2019.0      2022.0  \n",
       "Kilometer            50000.0    72000.0   2000000.0  \n",
       "Price               825000.0  1925000.0  35000000.0  "
      ]
     },
     "execution_count": 39,
     "metadata": {},
     "output_type": "execute_result"
    }
   ],
   "source": [
    "data.describe().T"
   ]
  },
  {
   "cell_type": "markdown",
   "metadata": {
    "id": "uqO59uV6LXEs"
   },
   "source": [
    "the data is slightly right skewed"
   ]
  },
  {
   "cell_type": "code",
   "execution_count": 40,
   "metadata": {
    "colab": {
     "base_uri": "https://localhost:8080/",
     "height": 521
    },
    "id": "RmSOiGs3PZvP",
    "outputId": "d8e3a7d6-9ccf-4d99-9c4d-53da13f973a3"
   },
   "outputs": [
    {
     "data": {
      "image/png": "[encoded data removed]",
      "text/plain": [
       "<Figure size 1296x720 with 2 Axes>"
      ]
     },
     "metadata": {
      "needs_background": "light"
     },
     "output_type": "display_data"
    }
   ],
   "source": [
    "#correlation matrix\n",
    "plt.figure(figsize=(18,10))\n",
    "sns.heatmap(data.corr(),annot=True, cmap=\"RdBu\")\n",
    "plt.title(\"Correlations Between Variables\")\n",
    "plt.show() #'RdBu' says take red to blue and having white in the middle , Red is negatively correlated and Blue is positively correlated"
   ]
  },
  {
   "cell_type": "markdown",
   "metadata": {},
   "source": [
    "DATA VISUALIZATION"
   ]
  },
  {
   "cell_type": "code",
   "execution_count": 41,
   "metadata": {
    "id": "AxMHAzjQKTz5"
   },
   "outputs": [],
   "source": [
    "def scatter(data, column):\n",
    "    plt.figure()\n",
    "    plt.scatter(data[column], data['Price'])\n",
    "    plt.ylabel('Price')\n",
    "    plt.xlabel(column)\n",
    "    plt.grid(True)\n"
   ]
  },
  {
   "cell_type": "code",
   "execution_count": 42,
   "metadata": {
    "colab": {
     "base_uri": "https://localhost:8080/",
     "height": 1000
    },
    "id": "XGY0gs9UMLAi",
    "outputId": "7657b100-76b7-4ed5-e04d-f7056c28342f"
   },
   "outputs": [
    {
     "data": {
      "image/png": "[encoded data removed]",
      "text/plain": [
       "<Figure size 432x288 with 1 Axes>"
      ]
     },
     "metadata": {
      "needs_background": "light"
     },
     "output_type": "display_data"
    },
    {
     "data": {
      "image/png": "[encoded data removed]",
      "text/plain": [
       "<Figure size 432x288 with 1 Axes>"
      ]
     },
     "metadata": {
      "needs_background": "light"
     },
     "output_type": "display_data"
    },
    {
     "data": {
      "image/png": "[encoded data removed]",
      "text/plain": [
       "<Figure size 432x288 with 1 Axes>"
      ]
     },
     "metadata": {
      "needs_background": "light"
     },
     "output_type": "display_data"
    },
    {
     "data": {
      "image/png": "[encoded data removed]",
      "text/plain": [
       "<Figure size 432x288 with 1 Axes>"
      ]
     },
     "metadata": {
      "needs_background": "light"
     },
     "output_type": "display_data"
    },
    {
     "data": {
      "image/png": "[encoded data removed]",
      "text/plain": [
       "<Figure size 432x288 with 1 Axes>"
      ]
     },
     "metadata": {
      "needs_background": "light"
     },
     "output_type": "display_data"
    },
    {
     "data": {
      "image/png": "[encoded data removed]",
      "text/plain": [
       "<Figure size 432x288 with 1 Axes>"
      ]
     },
     "metadata": {
      "needs_background": "light"
     },
     "output_type": "display_data"
    },
    {
     "data": {
      "image/png": "[encoded data removed]",
      "text/plain": [
       "<Figure size 432x288 with 1 Axes>"
      ]
     },
     "metadata": {
      "needs_background": "light"
     },
     "output_type": "display_data"
    },
    {
     "data": {
      "image/png": "[encoded data removed]",
      "text/plain": [
       "<Figure size 432x288 with 1 Axes>"
      ]
     },
     "metadata": {
      "needs_background": "light"
     },
     "output_type": "display_data"
    }
   ],
   "source": [
    "scatter(data, 'id')\n",
    "scatter(data, 'Length')\n",
    "scatter(data, 'Width')\n",
    "scatter(data, 'Height')\n",
    "scatter(data, 'Seating Capacity')\n",
    "scatter(data, 'Fuel Tank Capacity')\n",
    "scatter(data, 'Year')\n",
    "scatter(data, 'Kilometer')"
   ]
  },
  {
   "cell_type": "code",
   "execution_count": 43,
   "metadata": {
    "colab": {
     "base_uri": "https://localhost:8080/",
     "height": 319
    },
    "id": "XMPfMA_xMuEv",
    "outputId": "f3315c2c-d409-4a35-e854-53922c246957"
   },
   "outputs": [
    {
     "data": {
      "image/png": "[encoded data removed]",
      "text/plain": [
       "<Figure size 1728x288 with 4 Axes>"
      ]
     },
     "metadata": {
      "needs_background": "light"
     },
     "output_type": "display_data"
    },
    {
     "data": {
      "image/png": "[encoded data removed]",
      "text/plain": [
       "<Figure size 1728x288 with 4 Axes>"
      ]
     },
     "metadata": {
      "needs_background": "light"
     },
     "output_type": "display_data"
    }
   ],
   "source": [
    "plt.figure(figsize = (24,4))\n",
    "plt.subplot(1,4,1)\n",
    "sns.boxplot(data['id'])\n",
    "plt.subplot(1,4,2)\n",
    "sns.boxplot(data['Length'])\n",
    "plt.subplot(1,4,3)\n",
    "sns.boxplot(data['Width'])\n",
    "plt.subplot(1,4,4)\n",
    "sns.boxplot(data['Height'])\n",
    "plt.show()\n",
    "plt.figure(figsize = (24,4))\n",
    "plt.subplot(1,4,1)\n",
    "sns.boxplot(data['Seating Capacity'])\n",
    "plt.subplot(1,4,2)\n",
    "sns.boxplot(data['Fuel Tank Capacity'])\n",
    "plt.subplot(1,4,3)\n",
    "sns.boxplot(data['Year'])\n",
    "plt.subplot(1,4,4)\n",
    "sns.boxplot(data['Kilometer'])\n",
    "plt.show()"
   ]
  },
  {
   "cell_type": "code",
   "execution_count": 44,
   "metadata": {
    "colab": {
     "base_uri": "https://localhost:8080/",
     "height": 294
    },
    "id": "wBtDUq07PNkQ",
    "outputId": "e6afe9bd-be7d-4034-a914-3c2ce6822ab7"
   },
   "outputs": [
    {
     "data": {
      "text/plain": [
       "<matplotlib.axes._subplots.AxesSubplot at 0x7fed640ff1d0>"
      ]
     },
     "execution_count": 44,
     "metadata": {},
     "output_type": "execute_result"
    },
    {
     "data": {
      "image/png": "[encoded data removed]",
      "text/plain": [
       "<Figure size 432x288 with 1 Axes>"
      ]
     },
     "metadata": {
      "needs_background": "light"
     },
     "output_type": "display_data"
    }
   ],
   "source": [
    "sns.boxplot(data['Price'])"
   ]
  },
  {
   "cell_type": "code",
   "execution_count": 45,
   "metadata": {
    "colab": {
     "base_uri": "https://localhost:8080/"
    },
    "id": "ywyYRudtR70O",
    "outputId": "e527f92b-6337-4f15-b7be-2727642dce87"
   },
   "outputs": [
    {
     "data": {
      "text/plain": [
       "Index(['id', 'Engine', 'Max Power', 'Max Torque', 'Drivetrain', 'Length',\n",
       "       'Width', 'Height', 'Seating Capacity', 'Fuel Tank Capacity', 'Make',\n",
       "       'Model', 'Year', 'Kilometer', 'Fuel Type', 'Transmission', 'Location',\n",
       "       'Color', 'Owner', 'Seller Type', 'Price'],\n",
       "      dtype='object')"
      ]
     },
     "execution_count": 45,
     "metadata": {},
     "output_type": "execute_result"
    }
   ],
   "source": [
    "data.columns"
   ]
  },
  {
   "cell_type": "code",
   "execution_count": 46,
   "metadata": {
    "colab": {
     "base_uri": "https://localhost:8080/"
    },
    "id": "5VKhpChhSWYh",
    "outputId": "3408c244-98a1-49ce-9514-ab66f1692036"
   },
   "outputs": [
    {
     "data": {
      "text/plain": [
       "id                    2059\n",
       "Engine                 108\n",
       "Max Power              335\n",
       "Max Torque             290\n",
       "Drivetrain               3\n",
       "Length                 248\n",
       "Width                  170\n",
       "Height                 196\n",
       "Seating Capacity         6\n",
       "Fuel Tank Capacity      55\n",
       "Make                    33\n",
       "Model                 1050\n",
       "Year                    22\n",
       "Kilometer              847\n",
       "Fuel Type                9\n",
       "Transmission             2\n",
       "Location                77\n",
       "Color                   17\n",
       "Owner                    6\n",
       "Seller Type              3\n",
       "Price                  619\n",
       "dtype: int64"
      ]
     },
     "execution_count": 46,
     "metadata": {},
     "output_type": "execute_result"
    }
   ],
   "source": [
    "data.nunique()"
   ]
  },
  {
   "cell_type": "code",
   "execution_count": 47,
   "metadata": {
    "colab": {
     "base_uri": "https://localhost:8080/"
    },
    "id": "wKn7gNi4XYJD",
    "outputId": "8d803671-5b4b-42b4-fecf-aaacfefbcb0d"
   },
   "outputs": [
    {
     "data": {
      "text/plain": [
       "1197 cc    246\n",
       "1248 cc    128\n",
       "998 cc     127\n",
       "1995 cc     85\n",
       "1968 cc     84\n",
       "          ... \n",
       "3902 cc      1\n",
       "2835 cc      1\n",
       "793 cc       1\n",
       "5461 cc      1\n",
       "1948 cc      1\n",
       "Name: Engine, Length: 108, dtype: int64"
      ]
     },
     "execution_count": 47,
     "metadata": {},
     "output_type": "execute_result"
    }
   ],
   "source": [
    "data[\"Engine\"].value_counts()"
   ]
  },
  {
   "cell_type": "code",
   "execution_count": 48,
   "metadata": {
    "id": "VwjZitkxfvOk"
   },
   "outputs": [],
   "source": [
    "# extract numerical values from 'Engine' column\n",
    "data['Engine'] = data['Engine'].str.extract('(\\d+)').astype(int)"
   ]
  },
  {
   "cell_type": "code",
   "execution_count": 49,
   "metadata": {
    "colab": {
     "base_uri": "https://localhost:8080/"
    },
    "id": "n4n3KqZkYX6r",
    "outputId": "8706fc94-c941-41af-f437-c759e4e0c8ae"
   },
   "outputs": [
    {
     "data": {
      "text/plain": [
       "89 bhp @ 4000 rpm     93\n",
       "82 bhp @ 6000 rpm     65\n",
       "83 bhp @ 6000 rpm     59\n",
       "126 bhp @ 4000 rpm    57\n",
       "74 bhp @ 4000 rpm     54\n",
       "                      ..\n",
       "165 bhp @ 3500 rpm     1\n",
       "105 bhp @ 5250 rpm     1\n",
       "100@5500               1\n",
       "275 bhp @ 4000 rpm     1\n",
       "137 bhp @ 3750 rpm     1\n",
       "Name: Max Power, Length: 335, dtype: int64"
      ]
     },
     "execution_count": 49,
     "metadata": {},
     "output_type": "execute_result"
    }
   ],
   "source": [
    "data[\"Max Power\"].value_counts()"
   ]
  },
  {
   "cell_type": "code",
   "execution_count": 50,
   "metadata": {
    "id": "2Xsi6drYeWup"
   },
   "outputs": [],
   "source": [
    "# extract the numeric value from 'Max Power' column\n",
    "data['Max Power Numeric'] = data['Max Power'].str.extract('(\\d+\\.?\\d*)', expand=False).astype(float)"
   ]
  },
  {
   "cell_type": "code",
   "execution_count": 51,
   "metadata": {
    "colab": {
     "base_uri": "https://localhost:8080/"
    },
    "id": "nSuHWZwQYX1Q",
    "outputId": "6bd68276-ba7a-4c02-95ca-9063aeaedc6f"
   },
   "outputs": [
    {
     "data": {
      "text/plain": [
       "200 Nm @ 1750 rpm    92\n",
       "115 Nm @ 4000 rpm    83\n",
       "114 Nm @ 4000 rpm    69\n",
       "90 Nm @ 3500 rpm     67\n",
       "400 Nm @ 1750 rpm    64\n",
       "                     ..\n",
       "205 Nm @ 1800 rpm     1\n",
       "490 Nm @ 1800 rpm     1\n",
       "380 Nm @ 2000 rpm     1\n",
       "400 Nm @ 2000 rpm     1\n",
       "319 Nm @ 1500 rpm     1\n",
       "Name: Max Torque, Length: 290, dtype: int64"
      ]
     },
     "execution_count": 51,
     "metadata": {},
     "output_type": "execute_result"
    }
   ],
   "source": [
    "data[\"Max Torque\"].value_counts()"
   ]
  },
  {
   "cell_type": "code",
   "execution_count": 52,
   "metadata": {
    "id": "kQaspLwdh1t2"
   },
   "outputs": [],
   "source": [
    "# extract the numeric value from 'Max Torque' column\n",
    "data['Max Torque Numeric'] = data['Max Torque'].str.extract('(\\d+\\.?\\d*)', expand=False).astype(float)"
   ]
  },
  {
   "cell_type": "code",
   "execution_count": 53,
   "metadata": {
    "colab": {
     "base_uri": "https://localhost:8080/",
     "height": 285
    },
    "id": "F2RBnTiUSKsm",
    "outputId": "39564cb1-78ca-4ac9-ad54-c770249d20bb"
   },
   "outputs": [
    {
     "data": {
      "text/html": [
       "<div>\n",
       "<style scoped>\n",
       "    .dataframe tbody tr th:only-of-type {\n",
       "        vertical-align: middle;\n",
       "    }\n",
       "\n",
       "    .dataframe tbody tr th {\n",
       "        vertical-align: top;\n",
       "    }\n",
       "\n",
       "    .dataframe thead th {\n",
       "        text-align: right;\n",
       "    }\n",
       "</style>\n",
       "<table border=\"1\" class=\"dataframe\">\n",
       "  <thead>\n",
       "    <tr style=\"text-align: right;\">\n",
       "      <th></th>\n",
       "      <th>id</th>\n",
       "      <th>Engine</th>\n",
       "      <th>Length</th>\n",
       "      <th>Width</th>\n",
       "      <th>Height</th>\n",
       "      <th>Seating Capacity</th>\n",
       "      <th>Fuel Tank Capacity</th>\n",
       "      <th>Year</th>\n",
       "      <th>Kilometer</th>\n",
       "      <th>Price</th>\n",
       "      <th>Max Power Numeric</th>\n",
       "      <th>Max Torque Numeric</th>\n",
       "    </tr>\n",
       "  </thead>\n",
       "  <tbody>\n",
       "    <tr>\n",
       "      <th>0</th>\n",
       "      <td>1</td>\n",
       "      <td>1198</td>\n",
       "      <td>3990.0</td>\n",
       "      <td>1680.0</td>\n",
       "      <td>1505.0</td>\n",
       "      <td>5.0</td>\n",
       "      <td>35.0</td>\n",
       "      <td>2017</td>\n",
       "      <td>87150</td>\n",
       "      <td>505000</td>\n",
       "      <td>87.0</td>\n",
       "      <td>109.0000</td>\n",
       "    </tr>\n",
       "    <tr>\n",
       "      <th>1</th>\n",
       "      <td>2</td>\n",
       "      <td>1248</td>\n",
       "      <td>3995.0</td>\n",
       "      <td>1695.0</td>\n",
       "      <td>1555.0</td>\n",
       "      <td>5.0</td>\n",
       "      <td>42.0</td>\n",
       "      <td>2014</td>\n",
       "      <td>75000</td>\n",
       "      <td>450000</td>\n",
       "      <td>74.0</td>\n",
       "      <td>190.0000</td>\n",
       "    </tr>\n",
       "    <tr>\n",
       "      <th>2</th>\n",
       "      <td>3</td>\n",
       "      <td>1197</td>\n",
       "      <td>3585.0</td>\n",
       "      <td>1595.0</td>\n",
       "      <td>1550.0</td>\n",
       "      <td>5.0</td>\n",
       "      <td>35.0</td>\n",
       "      <td>2011</td>\n",
       "      <td>67000</td>\n",
       "      <td>220000</td>\n",
       "      <td>79.0</td>\n",
       "      <td>112.7619</td>\n",
       "    </tr>\n",
       "    <tr>\n",
       "      <th>3</th>\n",
       "      <td>4</td>\n",
       "      <td>1197</td>\n",
       "      <td>3995.0</td>\n",
       "      <td>1745.0</td>\n",
       "      <td>1510.0</td>\n",
       "      <td>5.0</td>\n",
       "      <td>37.0</td>\n",
       "      <td>2019</td>\n",
       "      <td>37500</td>\n",
       "      <td>799000</td>\n",
       "      <td>82.0</td>\n",
       "      <td>113.0000</td>\n",
       "    </tr>\n",
       "    <tr>\n",
       "      <th>4</th>\n",
       "      <td>5</td>\n",
       "      <td>2393</td>\n",
       "      <td>4735.0</td>\n",
       "      <td>1830.0</td>\n",
       "      <td>1795.0</td>\n",
       "      <td>7.0</td>\n",
       "      <td>55.0</td>\n",
       "      <td>2018</td>\n",
       "      <td>69000</td>\n",
       "      <td>1950000</td>\n",
       "      <td>148.0</td>\n",
       "      <td>343.0000</td>\n",
       "    </tr>\n",
       "  </tbody>\n",
       "</table>\n",
       "</div>"
      ],
      "text/plain": [
       "   id  Engine  Length   Width  Height  Seating Capacity  Fuel Tank Capacity  \\\n",
       "0   1    1198  3990.0  1680.0  1505.0               5.0                35.0   \n",
       "1   2    1248  3995.0  1695.0  1555.0               5.0                42.0   \n",
       "2   3    1197  3585.0  1595.0  1550.0               5.0                35.0   \n",
       "3   4    1197  3995.0  1745.0  1510.0               5.0                37.0   \n",
       "4   5    2393  4735.0  1830.0  1795.0               7.0                55.0   \n",
       "\n",
       "   Year  Kilometer    Price  Max Power Numeric  Max Torque Numeric  \n",
       "0  2017      87150   505000               87.0            109.0000  \n",
       "1  2014      75000   450000               74.0            190.0000  \n",
       "2  2011      67000   220000               79.0            112.7619  \n",
       "3  2019      37500   799000               82.0            113.0000  \n",
       "4  2018      69000  1950000              148.0            343.0000  "
      ]
     },
     "execution_count": 53,
     "metadata": {},
     "output_type": "execute_result"
    }
   ],
   "source": [
    "data_num=data._get_numeric_data()\n",
    "data_num.head()"
   ]
  },
  {
   "cell_type": "code",
   "execution_count": 54,
   "metadata": {
    "colab": {
     "base_uri": "https://localhost:8080/",
     "height": 522
    },
    "id": "8DZs-lh2SZhQ",
    "outputId": "5400618f-d1b1-462f-d35a-ab6af49e9ed2"
   },
   "outputs": [
    {
     "data": {
      "text/html": [
       "<div>\n",
       "<style scoped>\n",
       "    .dataframe tbody tr th:only-of-type {\n",
       "        vertical-align: middle;\n",
       "    }\n",
       "\n",
       "    .dataframe tbody tr th {\n",
       "        vertical-align: top;\n",
       "    }\n",
       "\n",
       "    .dataframe thead th {\n",
       "        text-align: right;\n",
       "    }\n",
       "</style>\n",
       "<table border=\"1\" class=\"dataframe\">\n",
       "  <thead>\n",
       "    <tr style=\"text-align: right;\">\n",
       "      <th></th>\n",
       "      <th>id</th>\n",
       "      <th>Engine</th>\n",
       "      <th>Length</th>\n",
       "      <th>Width</th>\n",
       "      <th>Height</th>\n",
       "      <th>Seating Capacity</th>\n",
       "      <th>Fuel Tank Capacity</th>\n",
       "      <th>Year</th>\n",
       "      <th>Kilometer</th>\n",
       "      <th>Price</th>\n",
       "      <th>Max Power Numeric</th>\n",
       "      <th>Max Torque Numeric</th>\n",
       "    </tr>\n",
       "  </thead>\n",
       "  <tbody>\n",
       "    <tr>\n",
       "      <th>0</th>\n",
       "      <td>0.000000</td>\n",
       "      <td>0.096180</td>\n",
       "      <td>0.360729</td>\n",
       "      <td>0.275168</td>\n",
       "      <td>0.409639</td>\n",
       "      <td>0.500000</td>\n",
       "      <td>0.222222</td>\n",
       "      <td>0.852941</td>\n",
       "      <td>0.043575</td>\n",
       "      <td>0.013047</td>\n",
       "      <td>0.0832</td>\n",
       "      <td>0.083333</td>\n",
       "    </tr>\n",
       "    <tr>\n",
       "      <th>1</th>\n",
       "      <td>0.000486</td>\n",
       "      <td>0.104558</td>\n",
       "      <td>0.362753</td>\n",
       "      <td>0.295302</td>\n",
       "      <td>0.469880</td>\n",
       "      <td>0.500000</td>\n",
       "      <td>0.300000</td>\n",
       "      <td>0.764706</td>\n",
       "      <td>0.037500</td>\n",
       "      <td>0.011473</td>\n",
       "      <td>0.0624</td>\n",
       "      <td>0.193989</td>\n",
       "    </tr>\n",
       "    <tr>\n",
       "      <th>2</th>\n",
       "      <td>0.000972</td>\n",
       "      <td>0.096012</td>\n",
       "      <td>0.196761</td>\n",
       "      <td>0.161074</td>\n",
       "      <td>0.463855</td>\n",
       "      <td>0.500000</td>\n",
       "      <td>0.222222</td>\n",
       "      <td>0.676471</td>\n",
       "      <td>0.033500</td>\n",
       "      <td>0.004893</td>\n",
       "      <td>0.0704</td>\n",
       "      <td>0.088473</td>\n",
       "    </tr>\n",
       "    <tr>\n",
       "      <th>3</th>\n",
       "      <td>0.001458</td>\n",
       "      <td>0.096012</td>\n",
       "      <td>0.362753</td>\n",
       "      <td>0.362416</td>\n",
       "      <td>0.415663</td>\n",
       "      <td>0.500000</td>\n",
       "      <td>0.244444</td>\n",
       "      <td>0.911765</td>\n",
       "      <td>0.018750</td>\n",
       "      <td>0.021459</td>\n",
       "      <td>0.0752</td>\n",
       "      <td>0.088798</td>\n",
       "    </tr>\n",
       "    <tr>\n",
       "      <th>4</th>\n",
       "      <td>0.001944</td>\n",
       "      <td>0.296414</td>\n",
       "      <td>0.662348</td>\n",
       "      <td>0.476510</td>\n",
       "      <td>0.759036</td>\n",
       "      <td>0.833333</td>\n",
       "      <td>0.444444</td>\n",
       "      <td>0.882353</td>\n",
       "      <td>0.034500</td>\n",
       "      <td>0.054390</td>\n",
       "      <td>0.1808</td>\n",
       "      <td>0.403005</td>\n",
       "    </tr>\n",
       "    <tr>\n",
       "      <th>...</th>\n",
       "      <td>...</td>\n",
       "      <td>...</td>\n",
       "      <td>...</td>\n",
       "      <td>...</td>\n",
       "      <td>...</td>\n",
       "      <td>...</td>\n",
       "      <td>...</td>\n",
       "      <td>...</td>\n",
       "      <td>...</td>\n",
       "      <td>...</td>\n",
       "      <td>...</td>\n",
       "      <td>...</td>\n",
       "    </tr>\n",
       "    <tr>\n",
       "      <th>2054</th>\n",
       "      <td>0.998056</td>\n",
       "      <td>0.260556</td>\n",
       "      <td>0.601619</td>\n",
       "      <td>0.557047</td>\n",
       "      <td>0.746988</td>\n",
       "      <td>0.833333</td>\n",
       "      <td>0.611111</td>\n",
       "      <td>0.823529</td>\n",
       "      <td>0.045150</td>\n",
       "      <td>0.022918</td>\n",
       "      <td>0.1648</td>\n",
       "      <td>0.385246</td>\n",
       "    </tr>\n",
       "    <tr>\n",
       "      <th>2055</th>\n",
       "      <td>0.998542</td>\n",
       "      <td>0.031836</td>\n",
       "      <td>0.160324</td>\n",
       "      <td>0.100671</td>\n",
       "      <td>0.403614</td>\n",
       "      <td>0.500000</td>\n",
       "      <td>0.188889</td>\n",
       "      <td>0.764706</td>\n",
       "      <td>0.041500</td>\n",
       "      <td>0.006466</td>\n",
       "      <td>0.0320</td>\n",
       "      <td>0.036885</td>\n",
       "    </tr>\n",
       "    <tr>\n",
       "      <th>2056</th>\n",
       "      <td>0.999028</td>\n",
       "      <td>0.095845</td>\n",
       "      <td>0.281781</td>\n",
       "      <td>0.275168</td>\n",
       "      <td>0.315663</td>\n",
       "      <td>0.500000</td>\n",
       "      <td>0.333333</td>\n",
       "      <td>0.735294</td>\n",
       "      <td>0.036500</td>\n",
       "      <td>0.005465</td>\n",
       "      <td>0.0560</td>\n",
       "      <td>0.073770</td>\n",
       "    </tr>\n",
       "    <tr>\n",
       "      <th>2057</th>\n",
       "      <td>0.999514</td>\n",
       "      <td>0.229725</td>\n",
       "      <td>0.743725</td>\n",
       "      <td>0.527517</td>\n",
       "      <td>0.378313</td>\n",
       "      <td>0.500000</td>\n",
       "      <td>0.555556</td>\n",
       "      <td>0.882353</td>\n",
       "      <td>0.030237</td>\n",
       "      <td>0.121341</td>\n",
       "      <td>0.2448</td>\n",
       "      <td>0.480874</td>\n",
       "    </tr>\n",
       "    <tr>\n",
       "      <th>2058</th>\n",
       "      <td>1.000000</td>\n",
       "      <td>0.145610</td>\n",
       "      <td>0.362753</td>\n",
       "      <td>0.362416</td>\n",
       "      <td>0.861446</td>\n",
       "      <td>0.833333</td>\n",
       "      <td>0.555556</td>\n",
       "      <td>0.852941</td>\n",
       "      <td>0.036000</td>\n",
       "      <td>0.017768</td>\n",
       "      <td>0.0560</td>\n",
       "      <td>0.200820</td>\n",
       "    </tr>\n",
       "  </tbody>\n",
       "</table>\n",
       "<p>2059 rows × 12 columns</p>\n",
       "</div>"
      ],
      "text/plain": [
       "            id    Engine    Length     Width    Height  Seating Capacity  \\\n",
       "0     0.000000  0.096180  0.360729  0.275168  0.409639          0.500000   \n",
       "1     0.000486  0.104558  0.362753  0.295302  0.469880          0.500000   \n",
       "2     0.000972  0.096012  0.196761  0.161074  0.463855          0.500000   \n",
       "3     0.001458  0.096012  0.362753  0.362416  0.415663          0.500000   \n",
       "4     0.001944  0.296414  0.662348  0.476510  0.759036          0.833333   \n",
       "...        ...       ...       ...       ...       ...               ...   \n",
       "2054  0.998056  0.260556  0.601619  0.557047  0.746988          0.833333   \n",
       "2055  0.998542  0.031836  0.160324  0.100671  0.403614          0.500000   \n",
       "2056  0.999028  0.095845  0.281781  0.275168  0.315663          0.500000   \n",
       "2057  0.999514  0.229725  0.743725  0.527517  0.378313          0.500000   \n",
       "2058  1.000000  0.145610  0.362753  0.362416  0.861446          0.833333   \n",
       "\n",
       "      Fuel Tank Capacity      Year  Kilometer     Price  Max Power Numeric  \\\n",
       "0               0.222222  0.852941   0.043575  0.013047             0.0832   \n",
       "1               0.300000  0.764706   0.037500  0.011473             0.0624   \n",
       "2               0.222222  0.676471   0.033500  0.004893             0.0704   \n",
       "3               0.244444  0.911765   0.018750  0.021459             0.0752   \n",
       "4               0.444444  0.882353   0.034500  0.054390             0.1808   \n",
       "...                  ...       ...        ...       ...                ...   \n",
       "2054            0.611111  0.823529   0.045150  0.022918             0.1648   \n",
       "2055            0.188889  0.764706   0.041500  0.006466             0.0320   \n",
       "2056            0.333333  0.735294   0.036500  0.005465             0.0560   \n",
       "2057            0.555556  0.882353   0.030237  0.121341             0.2448   \n",
       "2058            0.555556  0.852941   0.036000  0.017768             0.0560   \n",
       "\n",
       "      Max Torque Numeric  \n",
       "0               0.083333  \n",
       "1               0.193989  \n",
       "2               0.088473  \n",
       "3               0.088798  \n",
       "4               0.403005  \n",
       "...                  ...  \n",
       "2054            0.385246  \n",
       "2055            0.036885  \n",
       "2056            0.073770  \n",
       "2057            0.480874  \n",
       "2058            0.200820  \n",
       "\n",
       "[2059 rows x 12 columns]"
      ]
     },
     "execution_count": 54,
     "metadata": {},
     "output_type": "execute_result"
    }
   ],
   "source": [
    "# normalizing the numerical columns\n",
    "data_num = (data_num - data_num.min()) / (data_num.max() - data_num.min())\n",
    "data_num"
   ]
  },
  {
   "cell_type": "code",
   "execution_count": 55,
   "metadata": {
    "colab": {
     "base_uri": "https://localhost:8080/"
    },
    "id": "R7l7j8WQXptr",
    "outputId": "3b26c763-f76f-4095-b377-fe074e3566de"
   },
   "outputs": [
    {
     "data": {
      "text/plain": [
       "FWD    1425\n",
       "RWD     341\n",
       "AWD     293\n",
       "Name: Drivetrain, dtype: int64"
      ]
     },
     "execution_count": 55,
     "metadata": {},
     "output_type": "execute_result"
    }
   ],
   "source": [
    "data[\"Drivetrain\"].value_counts()"
   ]
  },
  {
   "cell_type": "code",
   "execution_count": 56,
   "metadata": {
    "colab": {
     "base_uri": "https://localhost:8080/"
    },
    "id": "uP-z-hXRXyqA",
    "outputId": "afeef4d3-7189-47f3-a93c-437126840a6a"
   },
   "outputs": [
    {
     "data": {
      "text/plain": [
       "Maruti Suzuki    440\n",
       "Hyundai          349\n",
       "Mercedes-Benz    171\n",
       "Honda            158\n",
       "Toyota           132\n",
       "Audi             127\n",
       "BMW              121\n",
       "Mahindra         119\n",
       "Tata              57\n",
       "Volkswagen        50\n",
       "Ford              48\n",
       "Renault           43\n",
       "Skoda             40\n",
       "Land Rover        33\n",
       "Kia               23\n",
       "Jeep              18\n",
       "Jaguar            17\n",
       "MG                17\n",
       "Nissan            16\n",
       "Volvo             16\n",
       "Porsche           15\n",
       "MINI              11\n",
       "Datsun             8\n",
       "Chevrolet          7\n",
       "Lexus              6\n",
       "Mitsubishi         4\n",
       "Rolls-Royce        3\n",
       "Ssangyong          3\n",
       "Isuzu              2\n",
       "Fiat               2\n",
       "Lamborghini        1\n",
       "Ferrari            1\n",
       "Maserati           1\n",
       "Name: Make, dtype: int64"
      ]
     },
     "execution_count": 56,
     "metadata": {},
     "output_type": "execute_result"
    }
   ],
   "source": [
    "data[\"Make\"].value_counts()"
   ]
  },
  {
   "cell_type": "code",
   "execution_count": 57,
   "metadata": {
    "colab": {
     "base_uri": "https://localhost:8080/"
    },
    "id": "8-ZbEXrAX7QD",
    "outputId": "a11506df-83f2-4fbc-d360-2a52c8c9c9dc"
   },
   "outputs": [
    {
     "data": {
      "text/plain": [
       "Diesel          1049\n",
       "Petrol           942\n",
       "CNG               50\n",
       "Electric           7\n",
       "LPG                5\n",
       "Hybrid             3\n",
       "Petrol + CNG       1\n",
       "CNG + CNG          1\n",
       "Petrol + LPG       1\n",
       "Name: Fuel Type, dtype: int64"
      ]
     },
     "execution_count": 57,
     "metadata": {},
     "output_type": "execute_result"
    }
   ],
   "source": [
    "data[\"Fuel Type\"].value_counts()"
   ]
  },
  {
   "cell_type": "code",
   "execution_count": 58,
   "metadata": {
    "colab": {
     "base_uri": "https://localhost:8080/"
    },
    "id": "UeQ6e7qOX-0l",
    "outputId": "0c2f158d-f716-468e-fef5-8837c3310672"
   },
   "outputs": [
    {
     "data": {
      "text/plain": [
       "Manual       1133\n",
       "Automatic     926\n",
       "Name: Transmission, dtype: int64"
      ]
     },
     "execution_count": 58,
     "metadata": {},
     "output_type": "execute_result"
    }
   ],
   "source": [
    "data[\"Transmission\"].value_counts()"
   ]
  },
  {
   "cell_type": "code",
   "execution_count": 59,
   "metadata": {
    "colab": {
     "base_uri": "https://localhost:8080/"
    },
    "id": "oBy9b5h5YAg2",
    "outputId": "5367ac4c-40e3-4028-e5da-ba7d5934882f"
   },
   "outputs": [
    {
     "data": {
      "text/plain": [
       "Mumbai              342\n",
       "Delhi               307\n",
       "Pune                144\n",
       "Bangalore           132\n",
       "Hyderabad           116\n",
       "                   ... \n",
       "Faizabad              1\n",
       "Pimpri-Chinchwad      1\n",
       "Rohtak                1\n",
       "Siliguri              1\n",
       "Valsad                1\n",
       "Name: Location, Length: 77, dtype: int64"
      ]
     },
     "execution_count": 59,
     "metadata": {},
     "output_type": "execute_result"
    }
   ],
   "source": [
    "data[\"Location\"].value_counts()"
   ]
  },
  {
   "cell_type": "code",
   "execution_count": 60,
   "metadata": {
    "colab": {
     "base_uri": "https://localhost:8080/"
    },
    "id": "QvMStmvRYAdF",
    "outputId": "f35c71ad-5a8b-4a3e-f93d-42fedefe8fd6"
   },
   "outputs": [
    {
     "data": {
      "text/plain": [
       "White     802\n",
       "Silver    285\n",
       "Grey      220\n",
       "Blue      190\n",
       "Black     163\n",
       "Red       154\n",
       "Brown      82\n",
       "Maroon     37\n",
       "Gold       30\n",
       "Bronze     28\n",
       "Green      17\n",
       "Orange     16\n",
       "Others     12\n",
       "Yellow      9\n",
       "Beige       8\n",
       "Purple      5\n",
       "Pink        1\n",
       "Name: Color, dtype: int64"
      ]
     },
     "execution_count": 60,
     "metadata": {},
     "output_type": "execute_result"
    }
   ],
   "source": [
    "data[\"Color\"].value_counts()"
   ]
  },
  {
   "cell_type": "code",
   "execution_count": 61,
   "metadata": {
    "colab": {
     "base_uri": "https://localhost:8080/"
    },
    "id": "9GM20RkqYAaU",
    "outputId": "43b9d005-b350-4a05-f7ef-88c6f921d149"
   },
   "outputs": [
    {
     "data": {
      "text/plain": [
       "First               1619\n",
       "Second               373\n",
       "Third                 42\n",
       "UnRegistered Car      21\n",
       "Fourth                 3\n",
       "4 or More              1\n",
       "Name: Owner, dtype: int64"
      ]
     },
     "execution_count": 61,
     "metadata": {},
     "output_type": "execute_result"
    }
   ],
   "source": [
    "data[\"Owner\"].value_counts()"
   ]
  },
  {
   "cell_type": "code",
   "execution_count": 62,
   "metadata": {
    "colab": {
     "base_uri": "https://localhost:8080/"
    },
    "id": "3tNIQQDOYAXu",
    "outputId": "9969f8d3-50d0-4598-d6ee-e879bacdcebb"
   },
   "outputs": [
    {
     "data": {
      "text/plain": [
       "Individual                 1997\n",
       "Corporate                    57\n",
       "Commercial Registration       5\n",
       "Name: Seller Type, dtype: int64"
      ]
     },
     "execution_count": 62,
     "metadata": {},
     "output_type": "execute_result"
    }
   ],
   "source": [
    "data[\"Seller Type\"].value_counts()"
   ]
  },
  {
   "cell_type": "code",
   "execution_count": 63,
   "metadata": {
    "colab": {
     "base_uri": "https://localhost:8080/"
    },
    "id": "CQKxjYoNSi-U",
    "outputId": "8860c003-3d15-4ca3-ff1c-7daecbbfd44d"
   },
   "outputs": [
    {
     "data": {
      "text/plain": [
       "(2059, 9)"
      ]
     },
     "execution_count": 63,
     "metadata": {},
     "output_type": "execute_result"
    }
   ],
   "source": [
    "data_cat =data[['Drivetrain','Make','Model','Fuel Type','Transmission','Location','Color','Owner','Seller Type']]\n",
    "data_cat.shape"
   ]
  },
  {
   "cell_type": "code",
   "execution_count": 64,
   "metadata": {
    "colab": {
     "base_uri": "https://localhost:8080/"
    },
    "id": "gl0tsca0inPC",
    "outputId": "847dadcd-f4f4-46e2-d7d7-30e017e52a8a"
   },
   "outputs": [
    {
     "data": {
      "text/plain": [
       "Index(['Drivetrain', 'Make', 'Model', 'Fuel Type', 'Transmission', 'Location',\n",
       "       'Color', 'Owner', 'Seller Type'],\n",
       "      dtype='object')"
      ]
     },
     "execution_count": 64,
     "metadata": {},
     "output_type": "execute_result"
    }
   ],
   "source": [
    "data_cat.columns"
   ]
  },
  {
   "cell_type": "code",
   "execution_count": 65,
   "metadata": {
    "colab": {
     "base_uri": "https://localhost:8080/",
     "height": 319
    },
    "id": "XBwDG9tGSu2P",
    "outputId": "58757151-217b-4c7e-ed55-e77735542a24"
   },
   "outputs": [
    {
     "data": {
      "text/html": [
       "<div>\n",
       "<style scoped>\n",
       "    .dataframe tbody tr th:only-of-type {\n",
       "        vertical-align: middle;\n",
       "    }\n",
       "\n",
       "    .dataframe tbody tr th {\n",
       "        vertical-align: top;\n",
       "    }\n",
       "\n",
       "    .dataframe thead th {\n",
       "        text-align: right;\n",
       "    }\n",
       "</style>\n",
       "<table border=\"1\" class=\"dataframe\">\n",
       "  <thead>\n",
       "    <tr style=\"text-align: right;\">\n",
       "      <th></th>\n",
       "      <th>Drivetrain</th>\n",
       "      <th>Make</th>\n",
       "      <th>Model</th>\n",
       "      <th>Fuel Type</th>\n",
       "      <th>Transmission</th>\n",
       "      <th>Location</th>\n",
       "      <th>Color</th>\n",
       "      <th>Owner</th>\n",
       "      <th>Seller Type</th>\n",
       "    </tr>\n",
       "  </thead>\n",
       "  <tbody>\n",
       "    <tr>\n",
       "      <th>0</th>\n",
       "      <td>FWD</td>\n",
       "      <td>Honda</td>\n",
       "      <td>Amaze 1.2 VX i-VTEC</td>\n",
       "      <td>Petrol</td>\n",
       "      <td>Manual</td>\n",
       "      <td>Pune</td>\n",
       "      <td>Grey</td>\n",
       "      <td>First</td>\n",
       "      <td>Corporate</td>\n",
       "    </tr>\n",
       "    <tr>\n",
       "      <th>1</th>\n",
       "      <td>FWD</td>\n",
       "      <td>Maruti Suzuki</td>\n",
       "      <td>Swift DZire VDI</td>\n",
       "      <td>Diesel</td>\n",
       "      <td>Manual</td>\n",
       "      <td>Ludhiana</td>\n",
       "      <td>White</td>\n",
       "      <td>Second</td>\n",
       "      <td>Individual</td>\n",
       "    </tr>\n",
       "    <tr>\n",
       "      <th>2</th>\n",
       "      <td>FWD</td>\n",
       "      <td>Hyundai</td>\n",
       "      <td>i10 Magna 1.2 Kappa2</td>\n",
       "      <td>Petrol</td>\n",
       "      <td>Manual</td>\n",
       "      <td>Lucknow</td>\n",
       "      <td>Maroon</td>\n",
       "      <td>First</td>\n",
       "      <td>Individual</td>\n",
       "    </tr>\n",
       "    <tr>\n",
       "      <th>3</th>\n",
       "      <td>FWD</td>\n",
       "      <td>Toyota</td>\n",
       "      <td>Glanza G</td>\n",
       "      <td>Petrol</td>\n",
       "      <td>Manual</td>\n",
       "      <td>Mangalore</td>\n",
       "      <td>Red</td>\n",
       "      <td>First</td>\n",
       "      <td>Individual</td>\n",
       "    </tr>\n",
       "    <tr>\n",
       "      <th>4</th>\n",
       "      <td>RWD</td>\n",
       "      <td>Toyota</td>\n",
       "      <td>Innova 2.4 VX 7 STR [2016-2020]</td>\n",
       "      <td>Diesel</td>\n",
       "      <td>Manual</td>\n",
       "      <td>Mumbai</td>\n",
       "      <td>Grey</td>\n",
       "      <td>First</td>\n",
       "      <td>Individual</td>\n",
       "    </tr>\n",
       "  </tbody>\n",
       "</table>\n",
       "</div>"
      ],
      "text/plain": [
       "  Drivetrain           Make                            Model Fuel Type  \\\n",
       "0        FWD          Honda              Amaze 1.2 VX i-VTEC    Petrol   \n",
       "1        FWD  Maruti Suzuki                  Swift DZire VDI    Diesel   \n",
       "2        FWD        Hyundai             i10 Magna 1.2 Kappa2    Petrol   \n",
       "3        FWD         Toyota                         Glanza G    Petrol   \n",
       "4        RWD         Toyota  Innova 2.4 VX 7 STR [2016-2020]    Diesel   \n",
       "\n",
       "  Transmission   Location   Color   Owner Seller Type  \n",
       "0       Manual       Pune    Grey   First   Corporate  \n",
       "1       Manual   Ludhiana   White  Second  Individual  \n",
       "2       Manual    Lucknow  Maroon   First  Individual  \n",
       "3       Manual  Mangalore     Red   First  Individual  \n",
       "4       Manual     Mumbai    Grey   First  Individual  "
      ]
     },
     "execution_count": 65,
     "metadata": {},
     "output_type": "execute_result"
    }
   ],
   "source": [
    "data_cat.head()"
   ]
  },
  {
   "cell_type": "code",
   "execution_count": 66,
   "metadata": {
    "colab": {
     "base_uri": "https://localhost:8080/"
    },
    "id": "zH2WSoDtS9ob",
    "outputId": "6f83298b-c13f-437d-98f1-a1edb274c3a5"
   },
   "outputs": [
    {
     "data": {
      "text/plain": [
       "Drivetrain      0\n",
       "Make            0\n",
       "Model           0\n",
       "Fuel Type       0\n",
       "Transmission    0\n",
       "Location        0\n",
       "Color           0\n",
       "Owner           0\n",
       "Seller Type     0\n",
       "dtype: int64"
      ]
     },
     "execution_count": 66,
     "metadata": {},
     "output_type": "execute_result"
    }
   ],
   "source": [
    "data_cat.isnull().sum()"
   ]
  },
  {
   "cell_type": "code",
   "execution_count": 67,
   "metadata": {
    "id": "I3DrUlBjTJ3i"
   },
   "outputs": [],
   "source": [
    "#dummification for categorical columns\n",
    "g_d=pd.get_dummies(data_cat)"
   ]
  },
  {
   "cell_type": "code",
   "execution_count": 68,
   "metadata": {
    "colab": {
     "base_uri": "https://localhost:8080/",
     "height": 334
    },
    "id": "6zk00F0cTP6l",
    "outputId": "a0ec1c24-4054-4bdb-d695-8231b7ec433e"
   },
   "outputs": [
    {
     "data": {
      "text/html": [
       "<div>\n",
       "<style scoped>\n",
       "    .dataframe tbody tr th:only-of-type {\n",
       "        vertical-align: middle;\n",
       "    }\n",
       "\n",
       "    .dataframe tbody tr th {\n",
       "        vertical-align: top;\n",
       "    }\n",
       "\n",
       "    .dataframe thead th {\n",
       "        text-align: right;\n",
       "    }\n",
       "</style>\n",
       "<table border=\"1\" class=\"dataframe\">\n",
       "  <thead>\n",
       "    <tr style=\"text-align: right;\">\n",
       "      <th></th>\n",
       "      <th>Drivetrain_AWD</th>\n",
       "      <th>Drivetrain_FWD</th>\n",
       "      <th>Drivetrain_RWD</th>\n",
       "      <th>Make_Audi</th>\n",
       "      <th>Make_BMW</th>\n",
       "      <th>Make_Chevrolet</th>\n",
       "      <th>Make_Datsun</th>\n",
       "      <th>Make_Ferrari</th>\n",
       "      <th>Make_Fiat</th>\n",
       "      <th>Make_Ford</th>\n",
       "      <th>...</th>\n",
       "      <th>Color_Yellow</th>\n",
       "      <th>Owner_4 or More</th>\n",
       "      <th>Owner_First</th>\n",
       "      <th>Owner_Fourth</th>\n",
       "      <th>Owner_Second</th>\n",
       "      <th>Owner_Third</th>\n",
       "      <th>Owner_UnRegistered Car</th>\n",
       "      <th>Seller Type_Commercial Registration</th>\n",
       "      <th>Seller Type_Corporate</th>\n",
       "      <th>Seller Type_Individual</th>\n",
       "    </tr>\n",
       "  </thead>\n",
       "  <tbody>\n",
       "    <tr>\n",
       "      <th>0</th>\n",
       "      <td>0</td>\n",
       "      <td>1</td>\n",
       "      <td>0</td>\n",
       "      <td>0</td>\n",
       "      <td>0</td>\n",
       "      <td>0</td>\n",
       "      <td>0</td>\n",
       "      <td>0</td>\n",
       "      <td>0</td>\n",
       "      <td>0</td>\n",
       "      <td>...</td>\n",
       "      <td>0</td>\n",
       "      <td>0</td>\n",
       "      <td>1</td>\n",
       "      <td>0</td>\n",
       "      <td>0</td>\n",
       "      <td>0</td>\n",
       "      <td>0</td>\n",
       "      <td>0</td>\n",
       "      <td>1</td>\n",
       "      <td>0</td>\n",
       "    </tr>\n",
       "    <tr>\n",
       "      <th>1</th>\n",
       "      <td>0</td>\n",
       "      <td>1</td>\n",
       "      <td>0</td>\n",
       "      <td>0</td>\n",
       "      <td>0</td>\n",
       "      <td>0</td>\n",
       "      <td>0</td>\n",
       "      <td>0</td>\n",
       "      <td>0</td>\n",
       "      <td>0</td>\n",
       "      <td>...</td>\n",
       "      <td>0</td>\n",
       "      <td>0</td>\n",
       "      <td>0</td>\n",
       "      <td>0</td>\n",
       "      <td>1</td>\n",
       "      <td>0</td>\n",
       "      <td>0</td>\n",
       "      <td>0</td>\n",
       "      <td>0</td>\n",
       "      <td>1</td>\n",
       "    </tr>\n",
       "    <tr>\n",
       "      <th>2</th>\n",
       "      <td>0</td>\n",
       "      <td>1</td>\n",
       "      <td>0</td>\n",
       "      <td>0</td>\n",
       "      <td>0</td>\n",
       "      <td>0</td>\n",
       "      <td>0</td>\n",
       "      <td>0</td>\n",
       "      <td>0</td>\n",
       "      <td>0</td>\n",
       "      <td>...</td>\n",
       "      <td>0</td>\n",
       "      <td>0</td>\n",
       "      <td>1</td>\n",
       "      <td>0</td>\n",
       "      <td>0</td>\n",
       "      <td>0</td>\n",
       "      <td>0</td>\n",
       "      <td>0</td>\n",
       "      <td>0</td>\n",
       "      <td>1</td>\n",
       "    </tr>\n",
       "    <tr>\n",
       "      <th>3</th>\n",
       "      <td>0</td>\n",
       "      <td>1</td>\n",
       "      <td>0</td>\n",
       "      <td>0</td>\n",
       "      <td>0</td>\n",
       "      <td>0</td>\n",
       "      <td>0</td>\n",
       "      <td>0</td>\n",
       "      <td>0</td>\n",
       "      <td>0</td>\n",
       "      <td>...</td>\n",
       "      <td>0</td>\n",
       "      <td>0</td>\n",
       "      <td>1</td>\n",
       "      <td>0</td>\n",
       "      <td>0</td>\n",
       "      <td>0</td>\n",
       "      <td>0</td>\n",
       "      <td>0</td>\n",
       "      <td>0</td>\n",
       "      <td>1</td>\n",
       "    </tr>\n",
       "    <tr>\n",
       "      <th>4</th>\n",
       "      <td>0</td>\n",
       "      <td>0</td>\n",
       "      <td>1</td>\n",
       "      <td>0</td>\n",
       "      <td>0</td>\n",
       "      <td>0</td>\n",
       "      <td>0</td>\n",
       "      <td>0</td>\n",
       "      <td>0</td>\n",
       "      <td>0</td>\n",
       "      <td>...</td>\n",
       "      <td>0</td>\n",
       "      <td>0</td>\n",
       "      <td>1</td>\n",
       "      <td>0</td>\n",
       "      <td>0</td>\n",
       "      <td>0</td>\n",
       "      <td>0</td>\n",
       "      <td>0</td>\n",
       "      <td>0</td>\n",
       "      <td>1</td>\n",
       "    </tr>\n",
       "  </tbody>\n",
       "</table>\n",
       "<p>5 rows × 1200 columns</p>\n",
       "</div>"
      ],
      "text/plain": [
       "   Drivetrain_AWD  Drivetrain_FWD  Drivetrain_RWD  Make_Audi  Make_BMW  \\\n",
       "0               0               1               0          0         0   \n",
       "1               0               1               0          0         0   \n",
       "2               0               1               0          0         0   \n",
       "3               0               1               0          0         0   \n",
       "4               0               0               1          0         0   \n",
       "\n",
       "   Make_Chevrolet  Make_Datsun  Make_Ferrari  Make_Fiat  Make_Ford  ...  \\\n",
       "0               0            0             0          0          0  ...   \n",
       "1               0            0             0          0          0  ...   \n",
       "2               0            0             0          0          0  ...   \n",
       "3               0            0             0          0          0  ...   \n",
       "4               0            0             0          0          0  ...   \n",
       "\n",
       "   Color_Yellow  Owner_4 or More  Owner_First  Owner_Fourth  Owner_Second  \\\n",
       "0             0                0            1             0             0   \n",
       "1             0                0            0             0             1   \n",
       "2             0                0            1             0             0   \n",
       "3             0                0            1             0             0   \n",
       "4             0                0            1             0             0   \n",
       "\n",
       "   Owner_Third  Owner_UnRegistered Car  Seller Type_Commercial Registration  \\\n",
       "0            0                       0                                    0   \n",
       "1            0                       0                                    0   \n",
       "2            0                       0                                    0   \n",
       "3            0                       0                                    0   \n",
       "4            0                       0                                    0   \n",
       "\n",
       "   Seller Type_Corporate  Seller Type_Individual  \n",
       "0                      1                       0  \n",
       "1                      0                       1  \n",
       "2                      0                       1  \n",
       "3                      0                       1  \n",
       "4                      0                       1  \n",
       "\n",
       "[5 rows x 1200 columns]"
      ]
     },
     "execution_count": 68,
     "metadata": {},
     "output_type": "execute_result"
    }
   ],
   "source": [
    "g_d.head()"
   ]
  },
  {
   "cell_type": "code",
   "execution_count": 69,
   "metadata": {
    "colab": {
     "base_uri": "https://localhost:8080/"
    },
    "id": "bDpFf4KQTSWG",
    "outputId": "ff577eb8-2d54-4316-9815-e429269a6e71"
   },
   "outputs": [
    {
     "data": {
      "text/plain": [
       "Index(['id', 'Engine', 'Length', 'Width', 'Height', 'Seating Capacity',\n",
       "       'Fuel Tank Capacity', 'Year', 'Kilometer', 'Price', 'Max Power Numeric',\n",
       "       'Max Torque Numeric'],\n",
       "      dtype='object')"
      ]
     },
     "execution_count": 69,
     "metadata": {},
     "output_type": "execute_result"
    }
   ],
   "source": [
    "data_num.columns"
   ]
  },
  {
   "cell_type": "code",
   "execution_count": 70,
   "metadata": {
    "colab": {
     "base_uri": "https://localhost:8080/",
     "height": 334
    },
    "id": "QwjeNWmmTfLE",
    "outputId": "99640f2f-d187-44da-e7ae-783aa2c464b2"
   },
   "outputs": [
    {
     "data": {
      "text/html": [
       "<div>\n",
       "<style scoped>\n",
       "    .dataframe tbody tr th:only-of-type {\n",
       "        vertical-align: middle;\n",
       "    }\n",
       "\n",
       "    .dataframe tbody tr th {\n",
       "        vertical-align: top;\n",
       "    }\n",
       "\n",
       "    .dataframe thead th {\n",
       "        text-align: right;\n",
       "    }\n",
       "</style>\n",
       "<table border=\"1\" class=\"dataframe\">\n",
       "  <thead>\n",
       "    <tr style=\"text-align: right;\">\n",
       "      <th></th>\n",
       "      <th>Drivetrain_AWD</th>\n",
       "      <th>Drivetrain_FWD</th>\n",
       "      <th>Drivetrain_RWD</th>\n",
       "      <th>Make_Audi</th>\n",
       "      <th>Make_BMW</th>\n",
       "      <th>Make_Chevrolet</th>\n",
       "      <th>Make_Datsun</th>\n",
       "      <th>Make_Ferrari</th>\n",
       "      <th>Make_Fiat</th>\n",
       "      <th>Make_Ford</th>\n",
       "      <th>...</th>\n",
       "      <th>Length</th>\n",
       "      <th>Width</th>\n",
       "      <th>Height</th>\n",
       "      <th>Seating Capacity</th>\n",
       "      <th>Fuel Tank Capacity</th>\n",
       "      <th>Year</th>\n",
       "      <th>Kilometer</th>\n",
       "      <th>Price</th>\n",
       "      <th>Max Power Numeric</th>\n",
       "      <th>Max Torque Numeric</th>\n",
       "    </tr>\n",
       "  </thead>\n",
       "  <tbody>\n",
       "    <tr>\n",
       "      <th>0</th>\n",
       "      <td>0</td>\n",
       "      <td>1</td>\n",
       "      <td>0</td>\n",
       "      <td>0</td>\n",
       "      <td>0</td>\n",
       "      <td>0</td>\n",
       "      <td>0</td>\n",
       "      <td>0</td>\n",
       "      <td>0</td>\n",
       "      <td>0</td>\n",
       "      <td>...</td>\n",
       "      <td>0.360729</td>\n",
       "      <td>0.275168</td>\n",
       "      <td>0.409639</td>\n",
       "      <td>0.500000</td>\n",
       "      <td>0.222222</td>\n",
       "      <td>0.852941</td>\n",
       "      <td>0.043575</td>\n",
       "      <td>0.013047</td>\n",
       "      <td>0.0832</td>\n",
       "      <td>0.083333</td>\n",
       "    </tr>\n",
       "    <tr>\n",
       "      <th>1</th>\n",
       "      <td>0</td>\n",
       "      <td>1</td>\n",
       "      <td>0</td>\n",
       "      <td>0</td>\n",
       "      <td>0</td>\n",
       "      <td>0</td>\n",
       "      <td>0</td>\n",
       "      <td>0</td>\n",
       "      <td>0</td>\n",
       "      <td>0</td>\n",
       "      <td>...</td>\n",
       "      <td>0.362753</td>\n",
       "      <td>0.295302</td>\n",
       "      <td>0.469880</td>\n",
       "      <td>0.500000</td>\n",
       "      <td>0.300000</td>\n",
       "      <td>0.764706</td>\n",
       "      <td>0.037500</td>\n",
       "      <td>0.011473</td>\n",
       "      <td>0.0624</td>\n",
       "      <td>0.193989</td>\n",
       "    </tr>\n",
       "    <tr>\n",
       "      <th>2</th>\n",
       "      <td>0</td>\n",
       "      <td>1</td>\n",
       "      <td>0</td>\n",
       "      <td>0</td>\n",
       "      <td>0</td>\n",
       "      <td>0</td>\n",
       "      <td>0</td>\n",
       "      <td>0</td>\n",
       "      <td>0</td>\n",
       "      <td>0</td>\n",
       "      <td>...</td>\n",
       "      <td>0.196761</td>\n",
       "      <td>0.161074</td>\n",
       "      <td>0.463855</td>\n",
       "      <td>0.500000</td>\n",
       "      <td>0.222222</td>\n",
       "      <td>0.676471</td>\n",
       "      <td>0.033500</td>\n",
       "      <td>0.004893</td>\n",
       "      <td>0.0704</td>\n",
       "      <td>0.088473</td>\n",
       "    </tr>\n",
       "    <tr>\n",
       "      <th>3</th>\n",
       "      <td>0</td>\n",
       "      <td>1</td>\n",
       "      <td>0</td>\n",
       "      <td>0</td>\n",
       "      <td>0</td>\n",
       "      <td>0</td>\n",
       "      <td>0</td>\n",
       "      <td>0</td>\n",
       "      <td>0</td>\n",
       "      <td>0</td>\n",
       "      <td>...</td>\n",
       "      <td>0.362753</td>\n",
       "      <td>0.362416</td>\n",
       "      <td>0.415663</td>\n",
       "      <td>0.500000</td>\n",
       "      <td>0.244444</td>\n",
       "      <td>0.911765</td>\n",
       "      <td>0.018750</td>\n",
       "      <td>0.021459</td>\n",
       "      <td>0.0752</td>\n",
       "      <td>0.088798</td>\n",
       "    </tr>\n",
       "    <tr>\n",
       "      <th>4</th>\n",
       "      <td>0</td>\n",
       "      <td>0</td>\n",
       "      <td>1</td>\n",
       "      <td>0</td>\n",
       "      <td>0</td>\n",
       "      <td>0</td>\n",
       "      <td>0</td>\n",
       "      <td>0</td>\n",
       "      <td>0</td>\n",
       "      <td>0</td>\n",
       "      <td>...</td>\n",
       "      <td>0.662348</td>\n",
       "      <td>0.476510</td>\n",
       "      <td>0.759036</td>\n",
       "      <td>0.833333</td>\n",
       "      <td>0.444444</td>\n",
       "      <td>0.882353</td>\n",
       "      <td>0.034500</td>\n",
       "      <td>0.054390</td>\n",
       "      <td>0.1808</td>\n",
       "      <td>0.403005</td>\n",
       "    </tr>\n",
       "  </tbody>\n",
       "</table>\n",
       "<p>5 rows × 1212 columns</p>\n",
       "</div>"
      ],
      "text/plain": [
       "   Drivetrain_AWD  Drivetrain_FWD  Drivetrain_RWD  Make_Audi  Make_BMW  \\\n",
       "0               0               1               0          0         0   \n",
       "1               0               1               0          0         0   \n",
       "2               0               1               0          0         0   \n",
       "3               0               1               0          0         0   \n",
       "4               0               0               1          0         0   \n",
       "\n",
       "   Make_Chevrolet  Make_Datsun  Make_Ferrari  Make_Fiat  Make_Ford  ...  \\\n",
       "0               0            0             0          0          0  ...   \n",
       "1               0            0             0          0          0  ...   \n",
       "2               0            0             0          0          0  ...   \n",
       "3               0            0             0          0          0  ...   \n",
       "4               0            0             0          0          0  ...   \n",
       "\n",
       "     Length     Width    Height  Seating Capacity  Fuel Tank Capacity  \\\n",
       "0  0.360729  0.275168  0.409639          0.500000            0.222222   \n",
       "1  0.362753  0.295302  0.469880          0.500000            0.300000   \n",
       "2  0.196761  0.161074  0.463855          0.500000            0.222222   \n",
       "3  0.362753  0.362416  0.415663          0.500000            0.244444   \n",
       "4  0.662348  0.476510  0.759036          0.833333            0.444444   \n",
       "\n",
       "       Year  Kilometer     Price  Max Power Numeric  Max Torque Numeric  \n",
       "0  0.852941   0.043575  0.013047             0.0832            0.083333  \n",
       "1  0.764706   0.037500  0.011473             0.0624            0.193989  \n",
       "2  0.676471   0.033500  0.004893             0.0704            0.088473  \n",
       "3  0.911765   0.018750  0.021459             0.0752            0.088798  \n",
       "4  0.882353   0.034500  0.054390             0.1808            0.403005  \n",
       "\n",
       "[5 rows x 1212 columns]"
      ]
     },
     "execution_count": 70,
     "metadata": {},
     "output_type": "execute_result"
    }
   ],
   "source": [
    "# concating the numerical column and updated categorical column \n",
    "data_final=pd.concat([g_d,data_num],axis=1)\n",
    "data_final.head()"
   ]
  },
  {
   "cell_type": "code",
   "execution_count": 71,
   "metadata": {
    "colab": {
     "base_uri": "https://localhost:8080/"
    },
    "id": "NX7dM1YoTpb0",
    "outputId": "ccf3cf4e-2734-4fb9-c556-f6fd6455aead"
   },
   "outputs": [
    {
     "data": {
      "text/plain": [
       "(2059, 1212)"
      ]
     },
     "execution_count": 71,
     "metadata": {},
     "output_type": "execute_result"
    }
   ],
   "source": [
    "data_final.shape"
   ]
  },
  {
   "cell_type": "code",
   "execution_count": 72,
   "metadata": {
    "colab": {
     "base_uri": "https://localhost:8080/"
    },
    "id": "DCNFi7jvVQQp",
    "outputId": "05db9e29-efd3-43e5-df5a-e47c0bfaa7bc"
   },
   "outputs": [
    {
     "data": {
      "text/plain": [
       "0       0.013047\n",
       "1       0.011473\n",
       "2       0.004893\n",
       "3       0.021459\n",
       "4       0.054390\n",
       "          ...   \n",
       "2054    0.022918\n",
       "2055    0.006466\n",
       "2056    0.005465\n",
       "2057    0.121341\n",
       "2058    0.017768\n",
       "Name: Price, Length: 2059, dtype: float64"
      ]
     },
     "execution_count": 72,
     "metadata": {},
     "output_type": "execute_result"
    }
   ],
   "source": [
    "data_final['Price']"
   ]
  },
  {
   "cell_type": "markdown",
   "metadata": {
    "id": "ziLm_EEQjeIA"
   },
   "source": [
    "Train and Test split"
   ]
  },
  {
   "cell_type": "code",
   "execution_count": 73,
   "metadata": {
    "id": "ysiC9llVTwCo"
   },
   "outputs": [],
   "source": [
    "# importing neccessary libraries\n",
    "from sklearn.model_selection import train_test_split\n",
    "\n",
    "# splitting of data\n",
    "X = data_final.drop(['Price'],axis=1)\n",
    "y = data_final['Price']"
   ]
  },
  {
   "cell_type": "code",
   "execution_count": 74,
   "metadata": {
    "id": "b9V_yXTfUAtK"
   },
   "outputs": [],
   "source": [
    "# Split data into training and testing sets\n",
    "X_train, X_test, y_train, y_test = train_test_split(X,y, test_size=0.3, random_state=42)"
   ]
  },
  {
   "cell_type": "markdown",
   "metadata": {},
   "source": [
    "MODEL BUILDING FROM SK-LEARN"
   ]
  },
  {
   "cell_type": "code",
   "execution_count": 75,
   "metadata": {
    "colab": {
     "base_uri": "https://localhost:8080/",
     "height": 74
    },
    "id": "qCoB7KXGUHra",
    "outputId": "de647b1f-1ea7-4752-e9a5-4a8c6fb68438"
   },
   "outputs": [
    {
     "data": {
      "text/plain": [
       "RandomForestRegressor(max_depth=5.5, random_state=42)"
      ]
     },
     "execution_count": 75,
     "metadata": {},
     "output_type": "execute_result"
    }
   ],
   "source": [
    "from sklearn.ensemble import RandomForestRegressor\n",
    "rf = RandomForestRegressor(n_estimators=100, max_depth = 5.5,random_state=42)\n",
    "rf.fit(X_train, y_train)"
   ]
  },
  {
   "cell_type": "code",
   "execution_count": 76,
   "metadata": {
    "id": "eIlqI_yfULrd"
   },
   "outputs": [],
   "source": [
    "y_pred = rf.predict(X_train)"
   ]
  },
  {
   "cell_type": "code",
   "execution_count": 77,
   "metadata": {
    "colab": {
     "base_uri": "https://localhost:8080/"
    },
    "id": "5M7zGN8VUO5k",
    "outputId": "f9e1ea6e-f4a9-444e-cae7-7c02f3566d92"
   },
   "outputs": [
    {
     "name": "stdout",
     "output_type": "stream",
     "text": [
      "Mean Absolute Error: 0.011196268733357356\n",
      "Mean Squared Error: 0.0003832365417398513\n",
      "Root Mean Squared Error: 0.01957642821711487\n",
      "R-squared: 0.9115728841610092\n"
     ]
    }
   ],
   "source": [
    "# Error Metrics\n",
    "from sklearn.metrics import mean_squared_error,mean_absolute_error,r2_score\n",
    "mae = mean_absolute_error(y_train, y_pred)\n",
    "mse = mean_squared_error(y_train, y_pred)\n",
    "rmse = np.sqrt(mse)\n",
    "r2 = r2_score(y_train, y_pred)\n",
    "print(\"Mean Absolute Error:\",mae)\n",
    "print(\"Mean Squared Error:\", mse)\n",
    "print(\"Root Mean Squared Error:\", rmse)\n",
    "print(\"R-squared:\", r2)"
   ]
  },
  {
   "cell_type": "code",
   "execution_count": 78,
   "metadata": {
    "id": "K3YF1KGPURjP"
   },
   "outputs": [],
   "source": [
    "rf.fit(X_test, y_test)\n",
    "y_preds =rf.predict(X_test)"
   ]
  },
  {
   "cell_type": "code",
   "execution_count": 79,
   "metadata": {
    "colab": {
     "base_uri": "https://localhost:8080/"
    },
    "id": "1Kn3tb1bUYXX",
    "outputId": "32e26b11-e6af-4bac-eee8-fdf11f180148"
   },
   "outputs": [
    {
     "name": "stdout",
     "output_type": "stream",
     "text": [
      "Mean Absolute Error: 0.009252750712788345\n",
      "Mean Squared Error: 0.00034904865080315477\n",
      "Root Mean Squared Error: 0.018682843755787146\n",
      "R-squared: 0.9403683224749506\n"
     ]
    }
   ],
   "source": [
    "# Error Metrics\n",
    "from sklearn.metrics import mean_squared_error,mean_absolute_error,r2_score\n",
    "mae = mean_absolute_error(y_test, y_preds)\n",
    "mse = mean_squared_error(y_test, y_preds)\n",
    "rmse = np.sqrt(mse)\n",
    "r2 = r2_score(y_test, y_preds)\n",
    "print(\"Mean Absolute Error:\",mae)\n",
    "print(\"Mean Squared Error:\", mse)\n",
    "print(\"Root Mean Squared Error:\", rmse)\n",
    "print(\"R-squared:\", r2)"
   ]
  },
  {
   "cell_type": "markdown",
   "metadata": {
    "id": "Xg85-wuKUapj"
   },
   "source": [
    "MODEL BUILDING FROM SCRATCH"
   ]
  },
  {
   "cell_type": "code",
   "execution_count": 80,
   "metadata": {
    "id": "X7ygNkzqUxFp"
   },
   "outputs": [],
   "source": [
    "import numpy as np\n",
    "import pandas as pd\n",
    "\n",
    "class DecisionTreeRegressor: #which implements a decision tree regression algorithm\n",
    "    def __init__(self, max_depth=2): # initialize the object's attributes\n",
    "        self.max_depth = max_depth\n",
    "    \n",
    "    def fit(self, X, y): #X and y, which represent the input features and target values\n",
    "        self.tree = self.build_tree(X, y, depth=0) # build_tree method to construct the decision tree using the input data and the specified max_depth\n",
    "        \n",
    "    def build_tree(self, X, y, depth):\n",
    "        n_samples, n_features = X.shape # assigns samples and features to rows and columns \n",
    "        \n",
    "        if depth == self.max_depth or n_samples == 5: #whether the maximum depth of the tree has been reached \n",
    "            return np.mean(y) #the method returns the mean of the target values, which will be used as the prediction for the leaf node.\n",
    "        \n",
    "        feature_idxs = np.random.choice(n_features, size=2, replace=False) #selects two random features from the input data without replacement and calls\n",
    "        best_feature, best_threshold = self.find_best_split(X, y, feature_idxs) #find_best_split method to determine the best feature and threshold to split the data on\n",
    "        \n",
    "        if best_threshold is None: #it means that if no good split was found then return mean of target column\n",
    "            return np.mean(y)\n",
    "        \n",
    "        left_idxs = X[:, best_feature] < best_threshold #indicate which samples in the input data should go to the left or right child node\n",
    "        right_idxs = X[:, best_feature] >= best_threshold #based on whether their values for the best feature are less than or greater than or equal to the best threshold.\n",
    "        \n",
    "        left_tree = self.build_tree(X[left_idxs], y[left_idxs], depth+1) # recursively calls the build_tree method on the left and right subsets of the input data\n",
    "        right_tree = self.build_tree(X[right_idxs], y[right_idxs], depth+1) #passing in the corresponding input and target values and increasing the depth by 1.\n",
    "        \n",
    "        return (best_feature, best_threshold, left_tree, right_tree)\n",
    "        # the method returns a tuple containing the best feature, best threshold, and the left and right child nodes as subtrees\n",
    "    \n",
    "    def find_best_split(self, X, y, feature_idxs):\n",
    "        best_score = float('inf') #creates a floating-point value that represents positive infinity\n",
    "        best_feature = None #because it is used to keep track of the best found so far to split the data on\n",
    "        best_threshold = None\n",
    "        \n",
    "        for feature in feature_idxs: # code loops over each feature in feature_idxs\n",
    "            thresholds = np.unique(X[:, feature]) # loops over each unique threshold value for that feature\n",
    "            \n",
    "            for threshold in thresholds: # boolean index arrays are created to indicate which samples in the input data should go to which side\n",
    "                left_idxs = X[:, feature] < threshold\n",
    "                right_idxs = X[:, feature] >= threshold\n",
    "                \n",
    "                if np.sum(left_idxs) == 0 or np.sum(right_idxs) == 0: #checks whether there are any samples in either the left or right child node\n",
    "                    continue\n",
    "                \n",
    "                score = self.split_score(y, y[left_idxs], y[right_idxs])\n",
    "                \n",
    "                if score < best_score: # if split_score is better than best score,feature,.. found, then it is updated otherwise previous best is kept\n",
    "                    best_score = score\n",
    "                    best_feature = feature\n",
    "                    best_threshold = threshold\n",
    "                    \n",
    "        return best_feature, best_threshold # returns best values\n",
    "    \n",
    "    def split_score(self, y, y_left, y_right): # calculates the score for splitting the y target variable into two subgroups y_left and y_right\n",
    "        p_left = len(y_left) / len(y) # calculates the proportion of instances in y_left compared to the total number of instances in y\n",
    "        p_right = len(y_right) / len(y)\n",
    "        \n",
    "        score = p_left * np.var(y_left) + p_right * np.var(y_right) # calculates the score for splitting y into y_left and y_right\n",
    "        # np.var() function calculates the variance of an array\n",
    "        return score\n",
    "    \n",
    "    def predict(self, X):\n",
    "        return np.array([self.traverse_tree(x, self.tree) for x in X])\n",
    "    \n",
    "    def traverse_tree(self, x, node):\n",
    "        if isinstance(node, float):\n",
    "            return node\n",
    "        \n",
    "        feature, threshold, left_tree, right_tree = node\n",
    "        \n",
    "        if x[feature] < threshold:\n",
    "            if isinstance(left_tree,float):\n",
    "                return left_tree\n",
    "            else:\n",
    "                return self.traverse_tree(x, right_tree)\n",
    "        else:\n",
    "            if isinstance(right_tree,float):\n",
    "                return right_tree\n",
    "            else:\n",
    "                return self.traverse_tree(x,right_tree)\n",
    "        \n",
    "class RandomForestRegressor:\n",
    "    def __init__(self, n_trees=15, max_depth=2, subsample_size=0.5):\n",
    "        self.n_trees = n_trees\n",
    "        self.max_depth = max_depth\n",
    "        self.subsample_size = subsample_size\n",
    "        self.trees = []\n",
    "        \n",
    "    def fit(self, X, y):\n",
    "        for i in range(self.n_trees):\n",
    "            tree = DecisionTreeRegressor(max_depth=self.max_depth)\n",
    "            n_samples = len(X)\n",
    "            subsample_size = int(self.subsample_size * n_samples)\n",
    "            subsample_idxs = np.random.choice(range(n_samples), size=subsample_size, replace=True)\n",
    "            X_sub = X.iloc[subsample_idxs]\n",
    "            y_sub = y.iloc[subsample_idxs]\n",
    "            tree.fit(X_sub.values, y_sub.values)\n",
    "            #tree.fit(X[subsample_idxs], y[subsample_idxs])\n",
    "            self.trees.append(tree)\n",
    "            \n",
    "    def predict(self, X):\n",
    "        if isinstance(X, (int, float)):\n",
    "            X = np.array([[X]])\n",
    "        elif isinstance(X, pd.Series):\n",
    "            X = X.values.reshape(1, n_features)\n",
    "        else:\n",
    "            X = X.values\n",
    "        predictions = np.array([tree.predict(X) for tree in self.trees])\n",
    "        return np.mean(predictions, axis=0)"
   ]
  },
  {
   "cell_type": "code",
   "execution_count": 81,
   "metadata": {
    "id": "FIukvXJpUxCI"
   },
   "outputs": [],
   "source": [
    "rf = RandomForestRegressor(n_trees=15, max_depth=2, subsample_size=0.5)\n",
    "rf.fit(X_train, y_train)\n",
    "# Use the KNeighborsRegressor to make predictions on the train data\n",
    "y_predic = rf.predict(X_train)"
   ]
  },
  {
   "cell_type": "code",
   "execution_count": 83,
   "metadata": {},
   "outputs": [
    {
     "name": "stdout",
     "output_type": "stream",
     "text": [
      "Mean Absolute Error: 0.03557499574933376\n",
      "Mean Squared Error: 0.004513894730908464\n",
      "Root Mean Squared Error: 0.06718552471260802\n",
      "R-squared: -0.04152566047839157\n"
     ]
    }
   ],
   "source": [
    "import numpy as np\n",
    "\n",
    "def mean_absolute_error(y_train, y_predic):\n",
    "    return np.mean(np.abs(y_train - y_predic))\n",
    "\n",
    "def mean_squared_error(y_train, y_predic):\n",
    "    return np.mean((y_train - y_predic)**2)\n",
    "\n",
    "def root_mean_squared_error(y_train, y_predic):\n",
    "    return np.sqrt(mean_squared_error(y_train, y_predic))\n",
    "\n",
    "def r2_score(y_train, y_predic):\n",
    "    ssr = np.sum((y_train - y_predic)**2)\n",
    "    sst = np.sum((y_train - np.mean(y_train))**2)\n",
    "    return 1 - (ssr / sst)\n",
    "\n",
    "# Assuming y_true and y_pred are NumPy arrays or Pandas Series\n",
    "mae = mean_absolute_error(y_train, y_predic)\n",
    "mse = mean_squared_error(y_train, y_predic)\n",
    "rmse = root_mean_squared_error(y_train, y_predic)\n",
    "r2 = r2_score(y_train, y_predic)\n",
    "\n",
    "print(\"Mean Absolute Error:\",mae)\n",
    "print(\"Mean Squared Error:\", mse)\n",
    "print(\"Root Mean Squared Error:\", rmse)\n",
    "print(\"R-squared:\", r2)"
   ]
  },
  {
   "cell_type": "code",
   "execution_count": 84,
   "metadata": {
    "id": "Zclz3UctVBx5"
   },
   "outputs": [],
   "source": [
    "rf = RandomForestRegressor(n_trees=15, max_depth=2, subsample_size=0.5)\n",
    "rf.fit(X_test, y_test)\n",
    "y_prediction= rf.predict(X_test)"
   ]
  },
  {
   "cell_type": "code",
   "execution_count": 85,
   "metadata": {},
   "outputs": [
    {
     "name": "stdout",
     "output_type": "stream",
     "text": [
      "Mean Absolute Error: 0.04195785628145614\n",
      "Mean Squared Error: 0.0058395139938545605\n",
      "Root Mean Squared Error: 0.07641671279147356\n",
      "R-squared: 0.0023739825858073438\n"
     ]
    }
   ],
   "source": [
    "import numpy as np\n",
    "\n",
    "def mean_absolute_error(y_test, y_prediction):\n",
    "    return np.mean(np.abs(y_test - y_prediction))\n",
    "\n",
    "def mean_squared_error(y_test, y_prediction):\n",
    "    return np.mean((y_test - y_prediction)**2)\n",
    "\n",
    "def root_mean_squared_error(y_test, y_prediction):\n",
    "    return np.sqrt(mean_squared_error(y_test, y_prediction))\n",
    "\n",
    "def r2_score(y_test, y_prediction):\n",
    "    ssr = np.sum((y_test - y_prediction)**2)\n",
    "    sst = np.sum((y_test - np.mean(y_test))**2)\n",
    "    return 1 - (ssr / sst)\n",
    "\n",
    "\n",
    "# Assuming y_true and y_pred are NumPy arrays or Pandas Series\n",
    "mae = mean_absolute_error(y_test, y_prediction)\n",
    "mse = mean_squared_error(y_test, y_prediction)\n",
    "rmse = root_mean_squared_error(y_test, y_prediction)\n",
    "r2 = r2_score(y_test, y_prediction)\n",
    "\n",
    "print(\"Mean Absolute Error:\",mae)\n",
    "print(\"Mean Squared Error:\", mse)\n",
    "print(\"Root Mean Squared Error:\", rmse)\n",
    "print(\"R-squared:\", r2)"
   ]
  }
 ],
 "metadata": {
  "colab": {
   "provenance": []
  },
  "kernelspec": {
   "display_name": "Python 3",
   "language": "python",
   "name": "python3"
  },
  "language_info": {
   "codemirror_mode": {
    "name": "ipython",
    "version": 3
   },
   "file_extension": ".py",
   "mimetype": "text/x-python",
   "name": "python",
   "nbconvert_exporter": "python",
   "pygments_lexer": "ipython3",
   "version": "3.7.6"
  }
 },
 "nbformat": 4,
 "nbformat_minor": 4
}
